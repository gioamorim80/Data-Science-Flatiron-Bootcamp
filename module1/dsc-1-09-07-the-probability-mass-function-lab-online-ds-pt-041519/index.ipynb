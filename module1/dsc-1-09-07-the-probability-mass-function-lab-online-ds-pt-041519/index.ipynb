{
 "cells": [
  {
   "cell_type": "markdown",
   "metadata": {},
   "source": [
    "# The Probability Mass Function (PMF) - Lab\n",
    "\n",
    "## Introduction\n",
    "The class size paradox describes the apparent contradictory findings where a total allocation of resources is fixed. Differences result in the perception of events based on whether we consider events from the point of view of the typical event or the typical person participating in an event. Such varying distributions can have important consequences for data analysis. pmfs can help resolve some of these situations as we shall see below \n",
    "\n",
    "## Objectives\n",
    "\n",
    "You will be able to:\n",
    "\n",
    "* Understand and explain the class size paradox \n",
    "* Use pmfs to visualize actual and biased observations\n",
    "* Calculate mean from pmfs to identify the expected value\n"
   ]
  },
  {
   "cell_type": "markdown",
   "metadata": {},
   "source": [
    "## The Problem \n",
    "![](https://www.insidehighered.com/sites/default/server_files/styles/large/public/media/iStock_000021583873XSmall.jpg?itok=u_y_yItN)\n",
    "\n",
    "At an educational establishment, the expected student-to-teacher ratio is 10:1. But randomly interviewed students often feel that their average class size is much bigger than 10. There are two main reasons for such observations:\n",
    "\n",
    "1. Students typically engage into 4 – 5 classes at any given time, but teachers only teach 1 or 2 classes.\n",
    "2. An obvious fact, that number of students in a small class is small, and the number of students in a large class is large.\n",
    "\n",
    "Due to the second fact, while randomly taking feedback from students, we would surely come across more students from larger classes."
   ]
  },
  {
   "cell_type": "markdown",
   "metadata": {},
   "source": [
    "Let's work through a set of data to re-create and analyze this paradox. \n",
    "\n",
    "Suppose that a college offers 65 classes in a term. We can start with a following distribution of sizes and counts:\n",
    "\n",
    "```\n",
    " size      count\n",
    " 5- 9          8\n",
    "10-14          8\n",
    "15-19         14\n",
    "20-24          4\n",
    "25-29          6\n",
    "30-34         12\n",
    "35-39          8\n",
    "40-44          3\n",
    "45-49          2\n",
    "```"
   ]
  },
  {
   "cell_type": "markdown",
   "metadata": {},
   "source": [
    "If the campus manager is inquired about the average average class size, he would perform the following tasks:\n",
    "\n",
    "1. Construct a pmf from given data\n",
    "2. Compute the mean from calculated pmf\n",
    "\n",
    "So let's follow the management approach first and see what mean we get from our pmf. Here is a `size_and_count` dictionary to get you started. Calculate the pmf from this data as we have seen before. For keys, we have used the average for each class size i.e. for size 5 - 9, we use 7 as an average."
   ]
  },
  {
   "cell_type": "code",
   "execution_count": 1,
   "metadata": {},
   "outputs": [],
   "source": [
    "size_and_count = { 7: 8, 12: 8, 17: 14, 22: 4, \n",
    "          27: 6, 32: 12, 37: 8, 42: 3, 47: 2 }"
   ]
  },
  {
   "cell_type": "markdown",
   "metadata": {},
   "source": [
    "Following the approach seen in the previous lesson, calculate the pmf by normalizing each size. "
   ]
  },
  {
   "cell_type": "code",
   "execution_count": 2,
   "metadata": {},
   "outputs": [
    {
     "data": {
      "text/plain": [
       "(65,\n",
       " [7, 12, 17, 22, 27, 32, 37, 42, 47],\n",
       " [0.123, 0.123, 0.215, 0.062, 0.092, 0.185, 0.123, 0.046, 0.031])"
      ]
     },
     "execution_count": 2,
     "metadata": {},
     "output_type": "execute_result"
    }
   ],
   "source": [
    "sizes = list(size_and_count.keys())\n",
    "total_classes = sum(size_and_count.values())\n",
    "pmf = []\n",
    "for key,val in size_and_count.items():\n",
    "    pmf.append(round(val/total_classes, 3))\n",
    "\n",
    "total_classes,sizes, pmf\n",
    "\n",
    "# ([7, 12, 17, 22, 27, 32, 37, 42, 47],\n",
    "#  [0.123, 0.123, 0.215, 0.062, 0.092, 0.185, 0.123, 0.046, 0.031])"
   ]
  },
  {
   "cell_type": "markdown",
   "metadata": {},
   "source": [
    "As an additional check, these probability values must sum to 1. Let's check for that"
   ]
  },
  {
   "cell_type": "code",
   "execution_count": 3,
   "metadata": {},
   "outputs": [
    {
     "data": {
      "text/plain": [
       "1.0"
      ]
     },
     "execution_count": 3,
     "metadata": {},
     "output_type": "execute_result"
    }
   ],
   "source": [
    "# Uncomment the line below, the output should be 1\n",
    "import numpy as np\n",
    "np.array(pmf).sum()"
   ]
  },
  {
   "cell_type": "markdown",
   "metadata": {},
   "source": [
    "## Calculate Mean / Expected Value (E)\n",
    "\n",
    "We can now calculate the average of **Expected** value for this distribution.\n",
    "\n",
    ">The mean **μ** ( or expected value E,**E [X]** ) of a random variable X is the sum of the weighted possible values for X; weighted, that is, by their respective probabilities. If S is the set of all possible values for X, then the formula for the mean is:\n",
    "\n",
    "### μ = ∑ x ∈ S  x ⋅ p (x)\n",
    "\n",
    "In simple terms, we must multiply each element in the sizes list to their probability of occurrence. Let's do this in a for loop below:"
   ]
  },
  {
   "cell_type": "code",
   "execution_count": 4,
   "metadata": {},
   "outputs": [
    {
     "data": {
      "text/plain": [
       "23.700000000000003"
      ]
     },
     "execution_count": 4,
     "metadata": {},
     "output_type": "execute_result"
    }
   ],
   "source": [
    "# Calculate the expected value (mu) using formula above\n",
    "mu=[]\n",
    "for x, y in zip(sizes, pmf):\n",
    "    mu.append(x*y)\n",
    "mu = np.sum(mu)\n",
    "mu\n",
    "# 23.7"
   ]
  },
  {
   "cell_type": "markdown",
   "metadata": {},
   "source": [
    "So the campus manager's answer would be 23.7 , as the average class size. And this makes a lot of sense too looking at our calculation above. We can plot a pmf function based on above findings for inspections. "
   ]
  },
  {
   "cell_type": "code",
   "execution_count": null,
   "metadata": {},
   "outputs": [],
   "source": [
    "# Plot the pmf , it should look similar to the one shown below"
   ]
  },
  {
   "cell_type": "code",
   "execution_count": 5,
   "metadata": {
    "scrolled": true
   },
   "outputs": [
    {
     "data": {
      "image/png": "[encoded data removed]",
      "text/plain": [
       "<Figure size 432x288 with 1 Axes>"
      ]
     },
     "metadata": {},
     "output_type": "display_data"
    }
   ],
   "source": [
    "import matplotlib.pyplot as plt\n",
    "%matplotlib inline\n",
    "plt.style.use('ggplot')\n",
    "\n",
    "plt.stem(sizes, pmf);\n",
    "plt.title (\"A Probability Mass Function\");"
   ]
  },
  {
   "cell_type": "markdown",
   "metadata": {},
   "source": [
    "## Random Student Survey"
   ]
  },
  {
   "cell_type": "markdown",
   "metadata": {},
   "source": [
    "Now if we survey a random group of students about size of their classes, and compute the mean, according to the paradox, we would observe that the average class is much bigger than 23.7. Howcome !!! Let's see this in action below:\n",
    "\n",
    "First, let's compute a distribution as a likely observation by students, where the probability associated with each class size is “biased” by the number of students in the class. Perform following tasks to introduce this biasness. \n",
    "\n",
    "* For each class size x, multiply the class probability by x, the number of students who observe that class size. \n",
    "* Get the sum for biased class size sum\n",
    "The result is a new Pmf that represents the biased distribution."
   ]
  },
  {
   "cell_type": "code",
   "execution_count": 9,
   "metadata": {},
   "outputs": [
    {
     "data": {
      "text/plain": [
       "([0.861, 1.476, 3.655, 1.3639999999999999, 2.484, 5.92, 4.551, 1.932, 1.457],\n",
       " 23.700000000000003)"
      ]
     },
     "execution_count": 9,
     "metadata": {},
     "output_type": "execute_result"
    }
   ],
   "source": [
    "biased = []\n",
    "for x, y in zip(sizes, pmf):\n",
    "    biased.append(x*y)\n",
    "\n",
    "biased_sum = np.sum(biased)\n",
    "\n",
    "biased, biased_sum\n",
    "\n",
    "\n",
    "# ([0.861, 1.476, 3.655, 1.3639999999999999, 2.484, 5.92, 4.551, 1.932, 1.457],\n",
    "#  23.700000000000003)"
   ]
  },
  {
   "cell_type": "markdown",
   "metadata": {},
   "source": [
    "This is great so far, we can now normalize the new biased list with the sum of its values, just like we did before. \n",
    "* Normalize the biased list and calculate the new pmf"
   ]
  },
  {
   "cell_type": "code",
   "execution_count": 14,
   "metadata": {},
   "outputs": [
    {
     "data": {
      "text/plain": [
       "([7, 12, 17, 22, 27, 32, 37, 42, 47],\n",
       " [0.036, 0.062, 0.154, 0.058, 0.105, 0.25, 0.192, 0.082, 0.061])"
      ]
     },
     "execution_count": 14,
     "metadata": {},
     "output_type": "execute_result"
    }
   ],
   "source": [
    "pmf2 = []\n",
    "for x in biased:\n",
    "    pmf2.append(round(x/biased_sum, 3))\n",
    "    \n",
    "sizes, pmf2\n",
    "\n",
    "# ([7, 12, 17, 22, 27, 32, 37, 42, 47],\n",
    "#  [0.036, 0.062, 0.154, 0.058, 0.105, 0.25, 0.192, 0.082, 0.061])"
   ]
  },
  {
   "cell_type": "markdown",
   "metadata": {},
   "source": [
    "Right so we can see that probabilities values in this pmf are different than our original pmf. So just like before, we can calulcate the MU, average or expected value.  "
   ]
  },
  {
   "cell_type": "code",
   "execution_count": 17,
   "metadata": {},
   "outputs": [
    {
     "data": {
      "text/plain": [
       "29.140000000000004"
      ]
     },
     "execution_count": 17,
     "metadata": {},
     "output_type": "execute_result"
    }
   ],
   "source": [
    "mu_biased=[]\n",
    "for x, y in zip(sizes, pmf2):\n",
    "    mu_biased.append(x*y)\n",
    "mu_biased = np.sum(mu_biased)\n",
    "\n",
    "mu_biased\n",
    "# 29.14"
   ]
  },
  {
   "cell_type": "markdown",
   "metadata": {},
   "source": [
    "the biased mean is much higher than our actual mean "
   ]
  },
  {
   "cell_type": "markdown",
   "metadata": {},
   "source": [
    "#### Here comes the paradox \n",
    "\n",
    "![](https://c1.staticflickr.com/8/7009/6650662771_844b9323ba.jpg)\n",
    "\n",
    "Here we see it, the average or expected value of biased results become much higher than the average of actual values. In some situations, such a paradox could be mind boggling. As an extra measure , we can inspect both pmfs side by side in a visual manner to see the differences. \n",
    "\n",
    "* Plot a figure with two axes\n",
    "* Show pmf1 and pmf2 side by side. "
   ]
  },
  {
   "cell_type": "code",
   "execution_count": 30,
   "metadata": {},
   "outputs": [
    {
     "data": {
      "image/png": "[encoded data removed]",
      "text/plain": [
       "<Figure size 720x288 with 2 Axes>"
      ]
     },
     "metadata": {
      "needs_background": "light"
     },
     "output_type": "display_data"
    }
   ],
   "source": [
    "# Plot pmfs side by side\n",
    "fig = plt.figure(figsize = (10,4))\n",
    "plt.subplot(1,2,1)\n",
    "plt.bar(sizes, pmf)\n",
    "plt.xlabel(\"number of students\")\n",
    "plt.title (\"Class Size Average\")\n",
    "\n",
    "plt.subplot(1,2,2)\n",
    "plt.bar(sizes, pmf2, color = \"green\")\n",
    "plt.xlabel(\"number of students\")\n",
    "plt.title (\"Biased Class Size Average\")\n",
    "\n",
    "plt.show()"
   ]
  },
  {
   "cell_type": "markdown",
   "metadata": {},
   "source": [
    "So our results tell us that in the biased distribution there are fewer small classes and more large classes. \n",
    "\n",
    "The mean of the biased distribution is 29.1, almost 25% higher than the actual mean.\n",
    "\n",
    "To to an even more direct comparison, plot these pmfs on top of each other and change the marker style for differentiation. "
   ]
  },
  {
   "cell_type": "code",
   "execution_count": 110,
   "metadata": {
    "scrolled": true
   },
   "outputs": [
    {
     "data": {
      "image/png": "[encoded data removed]",
      "text/plain": [
       "<Figure size 720x288 with 1 Axes>"
      ]
     },
     "metadata": {
      "needs_background": "light"
     },
     "output_type": "display_data"
    }
   ],
   "source": [
    "# Tried to do a 3D plot for 2D bars, almost got there, just stuck on how to select the different values\n",
    "#for the y dimension on the two graphs - example simply generates random numbers on each iteration... think more later!\n",
    "from mpl_toolkits.mplot3d import Axes3D\n",
    "fig = plt.figure(figsize = (10,4))\n",
    "ax = fig.add_subplot(111, projection='3d')\n",
    "colors = ['y', 'g']\n",
    "yticks = [2, 1]\n",
    "for c, k in zip(colors, yticks):\n",
    "    # Generate the random data for the y=k 'layer'.\n",
    "    xs = sizes\n",
    "    ys = pmf #how to make it select from pmf2 for second iteration???\n",
    "    \n",
    "    # You can provide either a single color or an array with the same length as\n",
    "    # xs and ys. To demonstrate this, we color the first bar of each set cyan.\n",
    "    cs = [c] * len(xs)\n",
    "    ax.bar(xs, ys, zs=k, zdir='y', color=cs, alpha=0.8)\n",
    "    \n",
    "ax.set_yticks(yticks)\n",
    "plt.show()"
   ]
  },
  {
   "cell_type": "code",
   "execution_count": 108,
   "metadata": {},
   "outputs": [
    {
     "data": {
      "image/png": "[encoded data removed]",
      "text/plain": [
       "<Figure size 720x288 with 1 Axes>"
      ]
     },
     "metadata": {
      "needs_background": "light"
     },
     "output_type": "display_data"
    }
   ],
   "source": [
    "fig = plt.figure(figsize = (10,4))\n",
    "plt.bar(sizes, pmf2, color=\"b\", alpha=0.8, label = \"Biased\")\n",
    "plt.bar(sizes, pmf, color=\"y\", alpha=0.8, label = \"Observed\")\n",
    "plt.xlabel(\"number of students\")\n",
    "plt.title (\"Class Size Average and Biased Average\")\n",
    "plt.xlabel(\"number of students\")\n",
    "plt.legend()\n",
    "plt.show()"
   ]
  },
  {
   "cell_type": "markdown",
   "metadata": {},
   "source": [
    "Here is the key, We can see for smaller class sizes, the probability of coming across a students is lower than actual probability. Also, in the larger classes, the the probability of coming across a student is much higher than actual probability. And hence this appears to an observer as a Paradox. But its not a paradox for us anymore .. We have nailed it. \n",
    "\n",
    "## Level Up (Optional)\n",
    "\n",
    "It is also possible to reverse this operation. Imagine you want to find the distribution of class sizes at a campus, but you can’t get reliable data from the campus manager. You can choose a random sample of students and ask how many students are in their classes.\n",
    "\n",
    "The result would be biased for the reasons that we have seen in this lesson. You need to write an **un-bias** function that divides each probability by x instead of multiplying.\n",
    "\n",
    "Give it a go ...\n",
    "\n"
   ]
  },
  {
   "cell_type": "markdown",
   "metadata": {},
   "source": [
    "## Summary \n",
    "In this lesson we looked at a common paradox termed as \"Class Size Paradox\" which deals with difference in observation by different people based on their circumstances. This phenomenon is not limited to class sizes, but may also work with other similar scenarios. In the bog data domain, this can become really complicated duw to large number of involved individuals and huge variations in the probabilities of their observations, based on their settings. "
   ]
  }
 ],
 "metadata": {
  "kernelspec": {
   "display_name": "learn-env",
   "language": "python",
   "name": "learn-env"
  },
  "language_info": {
   "codemirror_mode": {
    "name": "ipython",
    "version": 3
   },
   "file_extension": ".py",
   "mimetype": "text/x-python",
   "name": "python",
   "nbconvert_exporter": "python",
   "pygments_lexer": "ipython3",
   "version": "3.6.6"
  }
 },
 "nbformat": 4,
 "nbformat_minor": 2
}
