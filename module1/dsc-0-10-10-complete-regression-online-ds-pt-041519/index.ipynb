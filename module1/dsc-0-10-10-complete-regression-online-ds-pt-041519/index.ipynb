{
 "cells": [
  {
   "cell_type": "markdown",
   "metadata": {},
   "source": [
    "# Regression Lab\n",
    "\n",
    "Now have all the necessary functions to calculate the slope, intercept, best-fit line, prediction and visualizations. In this lab you will put them all together to run a regression experiment and calculate model loss. \n",
    "\n",
    "## SWBAT\n",
    "\n",
    "* Run a complete regression analysis through code only. "
   ]
  },
  {
   "cell_type": "markdown",
   "metadata": {},
   "source": [
    "## Here are all the formulas to put everything in perspective\n",
    "\n",
    "#### Slope\n",
    "<img src=\"m.png\" width = 300>\n",
    "\n",
    "#### Intercept \n",
    "<img src=\"b.png\" width = 200>\n",
    "\n",
    "#### R-squared\n",
    "<img src=\"r2.png\" width = 400>\n",
    "\n",
    "#### Prediction\n",
    "![](pred.jpg)\n",
    "\n",
    "\n",
    "Use the functions created earlier to implement these formulas to run a regression analysis using X and Y as input variables. "
   ]
  },
  {
   "cell_type": "code",
   "execution_count": 1,
   "metadata": {},
   "outputs": [],
   "source": [
    "\n",
    "# Combine all the functions created so far to run a complete regression experiment. \n",
    "# Produce an output similar to the one shown below. \n",
    "import numpy as np\n",
    "import matplotlib.pyplot as plt\n",
    "\n",
    "X = np.array([1,2,3,4,5,6,7,8,9,10], dtype=np.float64)\n",
    "Y = np.array([7,7,8,9,9,10,10,11,11,12], dtype=np.float64)\n"
   ]
  },
  {
   "cell_type": "code",
   "execution_count": 2,
   "metadata": {},
   "outputs": [
    {
     "data": {
      "text/plain": [
       "0.5575757575757568"
      ]
     },
     "execution_count": 2,
     "metadata": {},
     "output_type": "execute_result"
    }
   ],
   "source": [
    "def calc_slope(xs,ys):\n",
    "    return (((np.mean(xs)*np.mean(ys)) - np.mean(xs*ys)) / ((np.mean(xs)**2) - np.mean(xs*xs)))\n",
    "        \n",
    "    \n",
    "\n",
    "calc_slope(X,Y)"
   ]
  },
  {
   "cell_type": "code",
   "execution_count": 3,
   "metadata": {},
   "outputs": [
    {
     "data": {
      "text/plain": [
       "(0.5575757575757568, 6.3333333333333375)"
      ]
     },
     "execution_count": 3,
     "metadata": {},
     "output_type": "execute_result"
    }
   ],
   "source": [
    "def best_fit(xs,ys):\n",
    "    m = calc_slope(xs,ys)\n",
    "    b = np.mean(ys) - m*(np.mean(xs))\n",
    "    return m, b\n",
    "\n",
    "m,b = best_fit(X,Y)\n",
    "m,b"
   ]
  },
  {
   "cell_type": "code",
   "execution_count": 11,
   "metadata": {},
   "outputs": [
    {
     "data": {
      "text/plain": [
       "[6.890909090909094,\n",
       " 7.448484848484851,\n",
       " 8.006060606060608,\n",
       " 8.563636363636364,\n",
       " 9.121212121212121,\n",
       " 9.67878787878788,\n",
       " 10.236363636363635,\n",
       " 10.793939393939393,\n",
       " 11.351515151515148,\n",
       " 11.909090909090907]"
      ]
     },
     "execution_count": 11,
     "metadata": {},
     "output_type": "execute_result"
    }
   ],
   "source": [
    "def reg_line (m, b, xs):\n",
    "    ys = []\n",
    "    for x in xs:\n",
    "        ys.append((m*x) + b)\n",
    "    return ys\n",
    "\n",
    "y_reg = reg_line (m, b, X)\n",
    "y_reg"
   ]
  },
  {
   "cell_type": "code",
   "execution_count": 15,
   "metadata": {},
   "outputs": [],
   "source": [
    "def sq_err(reg_line, mean_line):\n",
    "    error = []\n",
    "    for a, b in zip(reg_line, mean_line):\n",
    "        error.append((a-b)**2)\n",
    "    return np.sum(error)"
   ]
  },
  {
   "cell_type": "code",
   "execution_count": 16,
   "metadata": {},
   "outputs": [
    {
     "data": {
      "text/plain": [
       "0.9715335169880626"
      ]
     },
     "execution_count": 16,
     "metadata": {},
     "output_type": "execute_result"
    }
   ],
   "source": [
    "def r_squared(y_real, y_predicted):\n",
    "    sse = sq_err(y_real, y_predicted)\n",
    "    sst = 0\n",
    "    for y in y_real:\n",
    "        sst += (y - y_real.mean()) ** 2\n",
    "    return 1-(sse/sst)\n",
    "\n",
    "r_squared(Y,y_reg)"
   ]
  },
  {
   "cell_type": "markdown",
   "metadata": {},
   "source": [
    "Our regression model created a best-fit linear regression for the data above with a:\n",
    "positive slope of approximately 0.56\n",
    "intercept of 6.33\n",
    "r squared value of 0.97\n",
    "\n",
    "our regression line model states that:\n",
    "^y = 0.56x + 6.33\n"
   ]
  },
  {
   "cell_type": "code",
   "execution_count": null,
   "metadata": {},
   "outputs": [],
   "source": [
    "# Basic Regression Diagnostics\n",
    "# ----------------------------\n",
    "# Slope: 0.56\n",
    "# Y-Intercept: 6.33\n",
    "# R-Squared: 0.97\n",
    "# ----------------------------\n",
    "# Model: Y = 0.56 * X + 6.33"
   ]
  },
  {
   "cell_type": "markdown",
   "metadata": {},
   "source": [
    "## Make Predictions\n",
    "\n",
    "Predict and plot the value of y using regression line above for a new value of x = 4.5."
   ]
  },
  {
   "cell_type": "code",
   "execution_count": 17,
   "metadata": {},
   "outputs": [
    {
     "data": {
      "text/plain": [
       "8.850000000000001"
      ]
     },
     "execution_count": 17,
     "metadata": {},
     "output_type": "execute_result"
    }
   ],
   "source": [
    "# Make prediction using given value and visualize on the scatter plot\n",
    "x_new = 4.5\n",
    "y_prediction = 0.56*x_new + 6.33\n",
    "y_prediction"
   ]
  },
  {
   "cell_type": "code",
   "execution_count": 20,
   "metadata": {},
   "outputs": [
    {
     "data": {
      "image/png": "[encoded data removed]",
      "text/plain": [
       "<Figure size 432x288 with 1 Axes>"
      ]
     },
     "metadata": {
      "needs_background": "light"
     },
     "output_type": "display_data"
    }
   ],
   "source": [
    "plt.scatter(X, Y, label=\"Data\")\n",
    "plt.plot(X, y_reg, label=\"Regression Line\")\n",
    "plt.plot(x_new, y_prediction, label=\"Predicted Data Point\", marker=\"o\", color=\"black\")\n",
    "plt.legend()\n",
    "plt.show()"
   ]
  },
  {
   "cell_type": "markdown",
   "metadata": {},
   "source": [
    "## Level up - Optional \n",
    "Load the \"heightWeight.csv\" dataset. Use the height as an independant and weight as a dependant variable and draw a regression line to data using your code above. Calculate your R-square for the model and try to predict new values of Y. "
   ]
  },
  {
   "cell_type": "markdown",
   "metadata": {},
   "source": [
    "## Summary\n",
    "\n",
    "In this lab, we ran a complete simple regression analysis experiment using functions created so far. Next We shall see how we can use python's built in modules to perform such analyses with a much higher level of sophistication. "
   ]
  },
  {
   "cell_type": "code",
   "execution_count": null,
   "metadata": {},
   "outputs": [],
   "source": []
  }
 ],
 "metadata": {
  "kernelspec": {
   "display_name": "learn-env",
   "language": "python",
   "name": "learn-env"
  },
  "language_info": {
   "codemirror_mode": {
    "name": "ipython",
    "version": 3
   },
   "file_extension": ".py",
   "mimetype": "text/x-python",
   "name": "python",
   "nbconvert_exporter": "python",
   "pygments_lexer": "ipython3",
   "version": "3.6.6"
  }
 },
 "nbformat": 4,
 "nbformat_minor": 2
}
