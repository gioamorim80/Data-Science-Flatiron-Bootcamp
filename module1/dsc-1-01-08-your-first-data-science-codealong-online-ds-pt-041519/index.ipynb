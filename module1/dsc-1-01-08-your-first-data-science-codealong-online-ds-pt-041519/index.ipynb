{
 "cells": [
  {
   "cell_type": "markdown",
   "metadata": {},
   "source": [
    "# Your First Data Science Codealong!\n",
    "\n",
    "## Introduction\n",
    "\n",
    "In this codealong, you'll get to do your first taste of a real data science workflow! You'll use Jupyter Notebook to import pre-written libraries, import data into your notebook from a Comma Seperated Values file (a .csv file) and you'll even get to create some plots!\n",
    "\n",
    "Don't worry if it feels like a lot or you get confused on this codealogn. Our goal here is just to give you a taste of what you'll be able to do as a data scientist, and afterwards, we'll go back and re-introduce all of the concepts that we skimmed over this time through, so by the end of the section you should have a much stronger understanding of this - even if you have no previous experience of programming.\n",
    "\n",
    "Don't worry about running tests for this notebook. Just take your time to explore the data and the code."
   ]
  },
  {
   "cell_type": "markdown",
   "metadata": {},
   "source": [
    "## Objectives\n",
    "You will be able to:\n",
    "* Code along (following detailed instructions) to import a csv file and then plot the data"
   ]
  },
  {
   "cell_type": "markdown",
   "metadata": {},
   "source": [
    "## Jupyter Notebook and Running Cells\n",
    "\n",
    "**Welcome to programming!**\n",
    "Juptyer Notebooks (historically called IPythonNotebooks) will be our primary tool when conducting data science. The first thing to know with this is that each cell block [of code] can be run be pressing **shift+enter**. Try running the below code block:"
   ]
  },
  {
   "cell_type": "code",
   "execution_count": 1,
   "metadata": {},
   "outputs": [
    {
     "name": "stdout",
     "output_type": "stream",
     "text": [
      "This is code being run.\n"
     ]
    }
   ],
   "source": [
    "print('This is code being run.')"
   ]
  },
  {
   "cell_type": "markdown",
   "metadata": {},
   "source": [
    "## Importing Packages\n",
    "The next thing we're going to do is load in some python packages that will be part of our toolbox for manipulating and analyzing data. The standard python package for working with data tables is called **pandas**. Below, we import this under the **alias** pd, which is the industry standard. This will give us a shorthand way to access special functions and methods within the package without having to type the longer name pandas. \n",
    "\n",
    "* Again, press **shift+enter** to run the code below"
   ]
  },
  {
   "cell_type": "code",
   "execution_count": 3,
   "metadata": {},
   "outputs": [],
   "source": [
    "import pandas as pd\n",
    "import matplotlib.pyplot as plt\n",
    "%matplotlib inline"
   ]
  },
  {
   "cell_type": "markdown",
   "metadata": {},
   "source": [
    "# Jupyter Notebook Cell Types\n",
    "\n",
    "You might have started to notice that the code blocks have little notes that say **In [ ]:** before you run them, and then are filled with a number after you run them. This is important, as it tells you what order cell blocks were run. (Which can sometimes affect how a program runs.)\n",
    "\n",
    "You may also notice that other cell blocks, such as this one, do not have the **In [ ]:** label as with the code blocks. This is because this cell block is formatted as **Markdown** rather then code. You can see (and change) what type of cell is by clicking the dropdown menu at the top:\n",
    "<img src=\"Jupyter_Notebook_Cell_Type_Dropdown.png\" width=600>"
   ]
  },
  {
   "cell_type": "code",
   "execution_count": null,
   "metadata": {},
   "outputs": [],
   "source": []
  },
  {
   "cell_type": "markdown",
   "metadata": {},
   "source": [
    "# Command Versus Edit Mode\n",
    "\n",
    "You should also start to notice that when you are in a cell writing code (or notes), the cell is highlighted in **green** meaning you are in **edit mode**. \n",
    "\n",
    "Alternatively, if you **press esc**, the cursor will be in **blue** inidicating that you are in **command mode**.\n",
    "\n",
    "### Edit Mode\n",
    "Edit mode is the standard mode for editing cells, whether its writing code or notes.\n",
    "To enter edit mode from command mode simply hit enter, or double click on a cell.\n",
    "\n",
    "### Command Mode\n",
    "In command mode, you can delete cells, add cells, copy cells, paste cells, change cell types, and more. You can also do these tasks in a more cumbersome (and time consuming) manner by using the various headers in the menu bar at top.\n",
    "<img src=\"Jupyter_Menu.png\" width=600>\n",
    "You can also see a full list of shortcuts available in command and edit mode under the help menu.\n",
    "\n",
    "<img src=\"Jupyter_Help_Menu.png\" width=600>"
   ]
  },
  {
   "cell_type": "markdown",
   "metadata": {},
   "source": [
    "# Running Bash Commands\n",
    "\n",
    "We can also run bash commands just as we did before from the terminal directly within iPython notebooks!  \n",
    " (Note: bash commands cannot be mixed with python and must be in their own cell block.)   \n",
    " \n",
    "Try it out!"
   ]
  },
  {
   "cell_type": "code",
   "execution_count": 4,
   "metadata": {},
   "outputs": [
    {
     "data": {
      "text/plain": [
       "'/Users/giovanna/Desktop/datascience/CourseMaterials/section01/dsc-1-01-08-your-first-data-science-codealong-online-ds-pt-041519'"
      ]
     },
     "execution_count": 4,
     "metadata": {},
     "output_type": "execute_result"
    }
   ],
   "source": [
    "pwd"
   ]
  },
  {
   "cell_type": "code",
   "execution_count": 5,
   "metadata": {},
   "outputs": [
    {
     "name": "stdout",
     "output_type": "stream",
     "text": [
      "CONTRIBUTING.md\r\n",
      "Jupyter_Help_Menu.png\r\n",
      "Jupyter_Menu.png\r\n",
      "Jupyter_Notebook_Cell_Type_Dropdown.png\r\n",
      "LICENSE.md\r\n",
      "README.md\r\n",
      "docstring.png\r\n",
      "docstring_preview.png\r\n",
      "index.ipynb\r\n",
      "\u001b[34mindex_files\u001b[m\u001b[m/\r\n",
      "\u001b[31mlego_sets.csv\u001b[m\u001b[m*\r\n",
      "pd_methods.png\r\n",
      "pd_read_methods.png\r\n",
      "python_built_in_functions.png\r\n",
      "string-slicing.png\r\n"
     ]
    }
   ],
   "source": [
    "ls"
   ]
  },
  {
   "cell_type": "markdown",
   "metadata": {},
   "source": [
    "## Loading a DataFrame\n",
    "The primary datatype within the pandas package is called a dataframe and is similar to a spreadsheet in excel. Here's a brief example of loading a csv file from your hard drive:"
   ]
  },
  {
   "cell_type": "code",
   "execution_count": 6,
   "metadata": {},
   "outputs": [
    {
     "name": "stdout",
     "output_type": "stream",
     "text": [
      "12261\n"
     ]
    },
    {
     "data": {
      "text/html": [
       "<div>\n",
       "<style scoped>\n",
       "    .dataframe tbody tr th:only-of-type {\n",
       "        vertical-align: middle;\n",
       "    }\n",
       "\n",
       "    .dataframe tbody tr th {\n",
       "        vertical-align: top;\n",
       "    }\n",
       "\n",
       "    .dataframe thead th {\n",
       "        text-align: right;\n",
       "    }\n",
       "</style>\n",
       "<table border=\"1\" class=\"dataframe\">\n",
       "  <thead>\n",
       "    <tr style=\"text-align: right;\">\n",
       "      <th></th>\n",
       "      <th>ages</th>\n",
       "      <th>list_price</th>\n",
       "      <th>num_reviews</th>\n",
       "      <th>piece_count</th>\n",
       "      <th>play_star_rating</th>\n",
       "      <th>prod_desc</th>\n",
       "      <th>prod_id</th>\n",
       "      <th>prod_long_desc</th>\n",
       "      <th>review_difficulty</th>\n",
       "      <th>set_name</th>\n",
       "      <th>star_rating</th>\n",
       "      <th>theme_name</th>\n",
       "      <th>val_star_rating</th>\n",
       "      <th>country</th>\n",
       "    </tr>\n",
       "  </thead>\n",
       "  <tbody>\n",
       "    <tr>\n",
       "      <th>0</th>\n",
       "      <td>6-12</td>\n",
       "      <td>29.99</td>\n",
       "      <td>2.0</td>\n",
       "      <td>277.0</td>\n",
       "      <td>4.0</td>\n",
       "      <td>Catapult into action and take back the eggs fr...</td>\n",
       "      <td>75823.0</td>\n",
       "      <td>Use the staircase catapult to launch Red into ...</td>\n",
       "      <td>Average</td>\n",
       "      <td>Bird Island Egg Heist</td>\n",
       "      <td>4.5</td>\n",
       "      <td>Angry Birds™</td>\n",
       "      <td>4.0</td>\n",
       "      <td>US</td>\n",
       "    </tr>\n",
       "    <tr>\n",
       "      <th>1</th>\n",
       "      <td>6-12</td>\n",
       "      <td>19.99</td>\n",
       "      <td>2.0</td>\n",
       "      <td>168.0</td>\n",
       "      <td>4.0</td>\n",
       "      <td>Launch a flying attack and rescue the eggs fro...</td>\n",
       "      <td>75822.0</td>\n",
       "      <td>Pilot Pig has taken off from Bird Island with ...</td>\n",
       "      <td>Easy</td>\n",
       "      <td>Piggy Plane Attack</td>\n",
       "      <td>5.0</td>\n",
       "      <td>Angry Birds™</td>\n",
       "      <td>4.0</td>\n",
       "      <td>US</td>\n",
       "    </tr>\n",
       "    <tr>\n",
       "      <th>2</th>\n",
       "      <td>6-12</td>\n",
       "      <td>12.99</td>\n",
       "      <td>11.0</td>\n",
       "      <td>74.0</td>\n",
       "      <td>4.3</td>\n",
       "      <td>Chase the piggy with lightning-fast Chuck and ...</td>\n",
       "      <td>75821.0</td>\n",
       "      <td>Pitch speedy bird Chuck against the Piggy Car....</td>\n",
       "      <td>Easy</td>\n",
       "      <td>Piggy Car Escape</td>\n",
       "      <td>4.3</td>\n",
       "      <td>Angry Birds™</td>\n",
       "      <td>4.1</td>\n",
       "      <td>US</td>\n",
       "    </tr>\n",
       "    <tr>\n",
       "      <th>3</th>\n",
       "      <td>12+</td>\n",
       "      <td>99.99</td>\n",
       "      <td>23.0</td>\n",
       "      <td>1032.0</td>\n",
       "      <td>3.6</td>\n",
       "      <td>Explore the architecture of the United States ...</td>\n",
       "      <td>21030.0</td>\n",
       "      <td>Discover the architectural secrets of the icon...</td>\n",
       "      <td>Average</td>\n",
       "      <td>United States Capitol Building</td>\n",
       "      <td>4.6</td>\n",
       "      <td>Architecture</td>\n",
       "      <td>4.3</td>\n",
       "      <td>US</td>\n",
       "    </tr>\n",
       "    <tr>\n",
       "      <th>4</th>\n",
       "      <td>12+</td>\n",
       "      <td>79.99</td>\n",
       "      <td>14.0</td>\n",
       "      <td>744.0</td>\n",
       "      <td>3.2</td>\n",
       "      <td>Recreate the Solomon R. Guggenheim Museum® wit...</td>\n",
       "      <td>21035.0</td>\n",
       "      <td>Discover the architectural secrets of Frank Ll...</td>\n",
       "      <td>Challenging</td>\n",
       "      <td>Solomon R. Guggenheim Museum®</td>\n",
       "      <td>4.6</td>\n",
       "      <td>Architecture</td>\n",
       "      <td>4.1</td>\n",
       "      <td>US</td>\n",
       "    </tr>\n",
       "  </tbody>\n",
       "</table>\n",
       "</div>"
      ],
      "text/plain": [
       "   ages  list_price  num_reviews  piece_count  play_star_rating  \\\n",
       "0  6-12       29.99          2.0        277.0               4.0   \n",
       "1  6-12       19.99          2.0        168.0               4.0   \n",
       "2  6-12       12.99         11.0         74.0               4.3   \n",
       "3   12+       99.99         23.0       1032.0               3.6   \n",
       "4   12+       79.99         14.0        744.0               3.2   \n",
       "\n",
       "                                           prod_desc  prod_id  \\\n",
       "0  Catapult into action and take back the eggs fr...  75823.0   \n",
       "1  Launch a flying attack and rescue the eggs fro...  75822.0   \n",
       "2  Chase the piggy with lightning-fast Chuck and ...  75821.0   \n",
       "3  Explore the architecture of the United States ...  21030.0   \n",
       "4  Recreate the Solomon R. Guggenheim Museum® wit...  21035.0   \n",
       "\n",
       "                                      prod_long_desc review_difficulty  \\\n",
       "0  Use the staircase catapult to launch Red into ...           Average   \n",
       "1  Pilot Pig has taken off from Bird Island with ...              Easy   \n",
       "2  Pitch speedy bird Chuck against the Piggy Car....              Easy   \n",
       "3  Discover the architectural secrets of the icon...           Average   \n",
       "4  Discover the architectural secrets of Frank Ll...       Challenging   \n",
       "\n",
       "                         set_name  star_rating    theme_name  val_star_rating  \\\n",
       "0           Bird Island Egg Heist          4.5  Angry Birds™              4.0   \n",
       "1              Piggy Plane Attack          5.0  Angry Birds™              4.0   \n",
       "2                Piggy Car Escape          4.3  Angry Birds™              4.1   \n",
       "3  United States Capitol Building          4.6  Architecture              4.3   \n",
       "4   Solomon R. Guggenheim Museum®          4.6  Architecture              4.1   \n",
       "\n",
       "  country  \n",
       "0      US  \n",
       "1      US  \n",
       "2      US  \n",
       "3      US  \n",
       "4      US  "
      ]
     },
     "execution_count": 6,
     "metadata": {},
     "output_type": "execute_result"
    }
   ],
   "source": [
    "df = pd.read_csv('lego_sets.csv') #Loads the dataframe in\n",
    "print(len(df)) #Prints the length of the dataframe\n",
    "df.head() #Uses a built in method common to all Pandas Dataframes"
   ]
  },
  {
   "cell_type": "markdown",
   "metadata": {},
   "source": [
    "# Python Comments\n",
    "\n",
    "Note the green text following the **#**.  \n",
    "Anything following a **#** in python is a comment and will not actually execute.  \n",
    "This is a useful feature for annotating your code with notes for yourself and other later so that your code is easy to read."
   ]
  },
  {
   "cell_type": "markdown",
   "metadata": {},
   "source": [
    "# Accessing Methods from Packages and Objects\n",
    "\n",
    "A little more theory and context:\n",
    "\n",
    "When we loaded in packages on our first cell block (import pandas as pd), we loaded code into memory. That code included functions, variables and other objects. Collectively, all of these items is loaded under the package name or alias.  \n",
    "\n",
    "We demonstrated this when we used the **pd.read_csv()** method above.  \n",
    "\n",
    "This also demonstrates the **dot notation** in python, which is how we access built in methods or attriubtes of a given object. Similar to what we saw with bash in the command line, we can also use **tab completion** to preview methods available in packages or other objects.  \n",
    "\n",
    "### Try this out yourself\n",
    "\n",
    "* In the cell below, navigate your cursor to the right of **pd.**\n",
    "* Press tab to see a list of available methods/attributes\n",
    "\n",
    "<img src=\"pd_methods.png\" width=600>"
   ]
  },
  {
   "cell_type": "code",
   "execution_count": null,
   "metadata": {},
   "outputs": [],
   "source": [
    "pd.re"
   ]
  },
  {
   "cell_type": "markdown",
   "metadata": {},
   "source": [
    "You can also start typing to subset the list of available commands:\n",
    "<img src=\"pd_read_methods.png\" width=600>"
   ]
  },
  {
   "cell_type": "markdown",
   "metadata": {},
   "source": [
    "# Pulling up Docstrings\n",
    "\n",
    "Even better, you can even see how a method works by pulling up its **docstring**!  \n",
    "You can do this by writing **?** after the method and running the cell.\n",
    "\n",
    "<img src=\"docstring.png\" width=500> \n",
    "\n",
    "\n",
    "Try it out!"
   ]
  },
  {
   "cell_type": "code",
   "execution_count": 7,
   "metadata": {},
   "outputs": [],
   "source": [
    "pd.read_csv?"
   ]
  },
  {
   "cell_type": "markdown",
   "metadata": {},
   "source": [
    "Alternatively, you can pull up a preview of the docstring by pressing **shift+tab within the parentheses of a method**\n",
    "<img src=\"docstring_preview.png\" width=500>"
   ]
  },
  {
   "cell_type": "code",
   "execution_count": null,
   "metadata": {},
   "outputs": [],
   "source": [
    "pd.read_csv() #Move your cursor inside the parentheses and press shift+tab"
   ]
  },
  {
   "cell_type": "markdown",
   "metadata": {},
   "source": [
    "# Variables\n",
    "\n",
    "The other thing that happened in our block of code above was that we defined a **variable**.  \n",
    "\n",
    "This happened in the first line of code:  \n",
    "```df = pd.read_csv('lego_sets.csv')```\n",
    "\n",
    "As we saw, we used the built in *read_csv* method from the *pandas* package which we imported under the *alias* *pd*.  \n",
    "\n",
    "The output of this method was then assigned to the variable *df*. This is the standard syntax for declaring any variable. You do not have to specify variable types, as in many other programming languages. Simply:  \n",
    "\n",
    "`variable_name = what_to_stor_in_the_variable`"
   ]
  },
  {
   "cell_type": "markdown",
   "metadata": {},
   "source": [
    "# Built in Python Functions\n",
    "\n",
    "We also used two built in python functions:  \n",
    "    * len() #Returns the lenght of an object\n",
    "    * print() #Prints stuff!\n",
    "In general, **python has reserved keywords** for built in functions like this. \n",
    "**Be sure to not name your variables any of these!**\n",
    "\n",
    "<img src=\"python_built_in_functions.png\" width=600>"
   ]
  },
  {
   "cell_type": "markdown",
   "metadata": {},
   "source": [
    "You can also check what type of object something is using the built in **type()** method. This can be useful when determining how to work with an object that you are unfamiliar with."
   ]
  },
  {
   "cell_type": "code",
   "execution_count": 8,
   "metadata": {},
   "outputs": [
    {
     "data": {
      "text/plain": [
       "pandas.core.frame.DataFrame"
      ]
     },
     "execution_count": 8,
     "metadata": {},
     "output_type": "execute_result"
    }
   ],
   "source": [
    "type(df)"
   ]
  },
  {
   "cell_type": "markdown",
   "metadata": {},
   "source": [
    "# Common DataFrame Methods\n",
    "As you can see, our variable **df** is a DataFrame object (which is part of the Pandas core package). Here's some other common methods you will want to become familiar with when working with Pandas dataframes:  \n",
    "* df.head() \n",
    "    * Preview the first 5 rows of a dataframe. Pass a number for more/less rows\n",
    "* df.tail(10) \n",
    "    * Preview last 10 rows (default 5 if no number given)\n",
    "* df.info() \n",
    "    * Returns column names and details about each column\n",
    "* df.columns \n",
    "    * Return column names. Note that there is no parentheses for this. This is becuase this is an attribute as opposed to a method"
   ]
  },
  {
   "cell_type": "code",
   "execution_count": 14,
   "metadata": {},
   "outputs": [
    {
     "data": {
      "text/plain": [
       "Index(['ages', 'list_price', 'num_reviews', 'piece_count', 'play_star_rating',\n",
       "       'prod_desc', 'prod_id', 'prod_long_desc', 'review_difficulty',\n",
       "       'set_name', 'star_rating', 'theme_name', 'val_star_rating', 'country'],\n",
       "      dtype='object')"
      ]
     },
     "execution_count": 14,
     "metadata": {},
     "output_type": "execute_result"
    }
   ],
   "source": [
    "df.columns"
   ]
  },
  {
   "cell_type": "code",
   "execution_count": 24,
   "metadata": {},
   "outputs": [
    {
     "data": {
      "text/plain": [
       "<bound method DataFrame.drop_duplicates of        ages  list_price  num_reviews  piece_count  play_star_rating  \\\n",
       "0      6-12     29.9900          2.0        277.0               4.0   \n",
       "1      6-12     19.9900          2.0        168.0               4.0   \n",
       "2      6-12     12.9900         11.0         74.0               4.3   \n",
       "3       12+     99.9900         23.0       1032.0               3.6   \n",
       "4       12+     79.9900         14.0        744.0               3.2   \n",
       "5       12+     59.9900          7.0        597.0               3.7   \n",
       "6       12+     59.9900         37.0        598.0               3.7   \n",
       "7       12+     49.9900         24.0        780.0               4.4   \n",
       "8       12+     39.9900         23.0        468.0               3.6   \n",
       "9       12+     39.9900         11.0        444.0               3.6   \n",
       "10      12+     39.9900         14.0        386.0               4.1   \n",
       "11      12+     34.9900         53.0        321.0               3.2   \n",
       "12      12+     29.9900          7.0        361.0               4.2   \n",
       "13     7-12    159.9900         63.0        847.0               3.8   \n",
       "14      10+     29.9900         13.0        708.0               4.7   \n",
       "15      10+     19.9900          1.0        234.0               3.0   \n",
       "16      10+     19.9900          1.0        160.0               5.0   \n",
       "17      10+      9.9900          1.0        149.0               2.0   \n",
       "18      10+      9.9900          1.0        141.0               2.0   \n",
       "19      10+      9.9900          3.0        101.0               4.0   \n",
       "20      10+      9.9900          2.0        105.0               3.0   \n",
       "21      10+      9.9900          1.0        113.0               5.0   \n",
       "22      10+      9.9900          1.0        136.0               NaN   \n",
       "23      10+      9.9900          2.0         91.0               3.0   \n",
       "24      10+      9.9900          7.0        140.0               3.2   \n",
       "25      10+      9.9900          5.0        143.0               4.6   \n",
       "26      10+      9.9900          3.0        122.0               2.7   \n",
       "27      10+      9.9900          5.0        130.0               4.3   \n",
       "28      10+      9.9900          3.0        119.0               4.5   \n",
       "29      10+      9.9900          1.0        135.0               1.0   \n",
       "...     ...         ...          ...          ...               ...   \n",
       "12231  7-14     48.7878          5.0        267.0               3.6   \n",
       "12232  7-14     48.7878         12.0        293.0               4.9   \n",
       "12233  8-14     42.6878         24.0        305.0               4.5   \n",
       "12234  7-14     42.6878         18.0        254.0               4.2   \n",
       "12235  7-14     30.4878          2.0        198.0               4.0   \n",
       "12236  7-14     30.4878          8.0        204.0               4.1   \n",
       "12237  7-14     30.4878         19.0        201.0               4.1   \n",
       "12238  6-12     18.2878          7.0        141.0               4.0   \n",
       "12239  6-12     18.2878         18.0        124.0               4.5   \n",
       "12240    5+      4.8678         13.0          8.0               4.3   \n",
       "12241  8-14    103.6878          9.0        643.0               4.4   \n",
       "12242   16+    365.9878         88.0       4867.0               4.8   \n",
       "12243  9-14    225.6878         52.0       2295.0               4.7   \n",
       "12244  9-14    134.1878         15.0       1403.0               4.5   \n",
       "12245  9-14    103.6878          9.0        830.0               4.6   \n",
       "12246  9-14    103.6878         11.0       1202.0               4.7   \n",
       "12247  9-14     97.5878          6.0        914.0               4.8   \n",
       "12248  9-14     97.5878         19.0        944.0               3.6   \n",
       "12249  9-14     82.9478          8.0        876.0               4.7   \n",
       "12250  8-14     73.1878          8.0        747.0               4.3   \n",
       "12251  8-14     60.9878          7.0        521.0               4.7   \n",
       "12252  8-14     60.9878         29.0        544.0               4.6   \n",
       "12253  8-14     48.7878         21.0        494.0               4.6   \n",
       "12254  7-14     36.5878         10.0        312.0               3.5   \n",
       "12255  8-14     36.5878          8.0        341.0               4.2   \n",
       "12256  7-14     36.5878          6.0        341.0               4.4   \n",
       "12257  7-14     24.3878          8.0        217.0               4.1   \n",
       "12258  7-14     24.3878         18.0        233.0               4.6   \n",
       "12259  6-14     12.1878          1.0         48.0               5.0   \n",
       "12260  6-14     12.1878         11.0        109.0               4.5   \n",
       "\n",
       "                                               prod_desc  prod_id  \\\n",
       "0      Catapult into action and take back the eggs fr...  75823.0   \n",
       "1      Launch a flying attack and rescue the eggs fro...  75822.0   \n",
       "2      Chase the piggy with lightning-fast Chuck and ...  75821.0   \n",
       "3      Explore the architecture of the United States ...  21030.0   \n",
       "4      Recreate the Solomon R. Guggenheim Museum® wit...  21035.0   \n",
       "5      Celebrate Shanghai with this LEGO® Architectur...  21039.0   \n",
       "6      Celebrate New York City with this LEGO® Archit...  21028.0   \n",
       "7      Recreate Buckingham Palace with LEGO® Architec...  21029.0   \n",
       "8      Celebrate London with this LEGO® Architecture ...  21034.0   \n",
       "9      Celebrate Chicago with this LEGO® Architecture...  21033.0   \n",
       "10       Experience the grandeur of the Arc de Triomphe!  21036.0   \n",
       "11     Build your own LEGO® interpretation of the ico...  21019.0   \n",
       "12     Celebrate Sydney with this LEGO® Architecture ...  21032.0   \n",
       "13                   Bring your LEGO® creations to life!  17101.0   \n",
       "14         Build a LEGO® BrickHeadz version of yourself!  41597.0   \n",
       "15     Train a raptor with LEGO® BrickHeadz™ Owen and...  41614.0   \n",
       "16     Join Mr. Incredible and Frozone for LEGO® Bric...  41613.0   \n",
       "17     Growl like a Wookiee with a LEGO® BrickHeadz™ ...  41609.0   \n",
       "18     Be a rogue with a LEGO® BrickHeadz™ constructi...  41608.0   \n",
       "19     Save the universe with LEGO® BrickHeadz Iron M...  41604.0   \n",
       "20     Feel the power of Infinity with LEGO® BrickHea...  41605.0   \n",
       "21     Be a legendary outlaw with LEGO® BrickHeadz St...  41606.0   \n",
       "22     Master the skills of a green-skinned assassin ...  41607.0   \n",
       "23     Join the Resistance with a LEGO® BrickHeadz co...  41485.0   \n",
       "24     Say “I love you” with a LEGO® BrickHeadz™ Vale...  40270.0   \n",
       "25       Stand tall with LEGO® BrickHeadz Wonder Woman™!  41599.0   \n",
       "26     Live life in the fast lane with LEGO® BrickHea...  41598.0   \n",
       "27     Summon the dark side with a LEGO® BrickHeadz c...  41603.0   \n",
       "28     Feel the Force with a LEGO® BrickHeadz constru...  41602.0   \n",
       "29               Dive in with LEGO® BrickHeadz Aquaman™!  41600.0   \n",
       "...                                                  ...      ...   \n",
       "12231               Party on with Superman™ and friends!  70919.0   \n",
       "12232              Join Batman™ in a comical food fight!  70920.0   \n",
       "12233  Put the heat on The Penguin™ Arctic Roller wit...  70911.0   \n",
       "12234  Battle with Batman™ against The Riddler™ and h...  70903.0   \n",
       "12235  Bring down Captain Boomerang™ with Batman’s Ba...  70918.0   \n",
       "12236  Help Batman™ to stop Scarecrow™ delivering a s...  70910.0   \n",
       "12237  Protect the power plant from Mr. Freeze’s ice ...  70901.0   \n",
       "12238  Power into the sky to stop Scarecrow’s fear ga...  70913.0   \n",
       "12239             Help Batman™ stop The Joker™ escaping!  70900.0   \n",
       "12240  Discover new heroes and villains in LEGO® Mini...  71020.0   \n",
       "12241           Launch a space mission from the Batcave!  70923.0   \n",
       "12242         Live the life of a ninja in NINJAGO® City!  70620.0   \n",
       "12243            Join the ninja aboard Wu’s flying ship!  70618.0   \n",
       "12244                 Evade the traps inside the Temple!  70617.0   \n",
       "12245  Defend NINJAGO® City from Garmadon Shark Mech ...  70656.0   \n",
       "12246   Turn sound into a weapon with Cole’s Quake Mech!  70632.0   \n",
       "12247       Take on the shark army with Zane’s Ice Tank!  70616.0   \n",
       "12248  Put the heat on the shark army with Kai’s Fire...  70615.0   \n",
       "12249      Speed to the rescue with Jay’s Lightning Jet!  70614.0   \n",
       "12250      Defend NINJAGO® City against Garma Mecha Man!  70613.0   \n",
       "12251       Get all fired up at Garmadon’s Volcano Lair!  70631.0   \n",
       "12252  Take on Garmadon with the Green Ninja Mech Dra...  70612.0   \n",
       "12253  Smash the shark army out of the water with the...  70611.0   \n",
       "12254  Battle against evil Jungle Garmadon on the jun...  70608.0   \n",
       "12255  Take on the tentacular Flying Jelly Sub with Jay!  70610.0   \n",
       "12256  Protect NINJAGO® City from flying Manta Ray Bo...  70609.0   \n",
       "12257         Stop a Piranha Attack with Kai and Misako!  70629.0   \n",
       "12258   Stop a crime in the NINJAGO® City street market!  70607.0   \n",
       "12259  Achieve Spinjitzu greatness with the Green Ninja!  70628.0   \n",
       "12260  Practice your Spinjitzu skills with Kai and Zane!  70606.0   \n",
       "\n",
       "                                          prod_long_desc review_difficulty  \\\n",
       "0      Use the staircase catapult to launch Red into ...           Average   \n",
       "1      Pilot Pig has taken off from Bird Island with ...              Easy   \n",
       "2      Pitch speedy bird Chuck against the Piggy Car....              Easy   \n",
       "3      Discover the architectural secrets of the icon...           Average   \n",
       "4      Discover the architectural secrets of Frank Ll...       Challenging   \n",
       "5      Recreate Shanghai in China's blend of historic...           Average   \n",
       "6      Celebrate the architectural diversity of New Y...           Average   \n",
       "7      Build a LEGO® brick model of London's official...           Average   \n",
       "8      Celebrate the architectural diversity of Londo...           Average   \n",
       "9      Recreate Chicago’s blend of historical and mod...           Average   \n",
       "10     Capture the architectural elegance of one of t...           Average   \n",
       "11     Presenting the LEGO® Architecture interpretati...           Average   \n",
       "12     Capture the architectural essence and splendor...              Easy   \n",
       "13     Take your LEGO® play to the next level with th...           Average   \n",
       "14     Fuel your creativity by making a LEGO® BrickHe...           Average   \n",
       "15     These LEGO® BrickHeadz™ 41614 Owen & Blue cons...              Easy   \n",
       "16     These LEGO® BrickHeadz™ 41613 Mr. Incredible &...         Very Easy   \n",
       "17     This LEGO® BrickHeadz™ 41609 Chewbacca is fun ...         Very Easy   \n",
       "18     This LEGO® BrickHeadz™ 41608 Han Solo is fun t...         Very Easy   \n",
       "19     This Iron Man MK50 LEGO® BrickHeadz constructi...           Average   \n",
       "20     This Thanos LEGO® BrickHeadz construction char...              Easy   \n",
       "21     This Star-Lord LEGO® BrickHeadz construction c...              Easy   \n",
       "22     This Gamora LEGO® BrickHeadz construction char...               NaN   \n",
       "23     This LEGO® BrickHeadz construction character f...              Easy   \n",
       "24     Build your way to someone’s heart and say “Bee...              Easy   \n",
       "25     This Wonder Woman™ LEGO® BrickHeadz constructi...              Easy   \n",
       "26     The Flash™ LEGO® BrickHeadz construction chara...         Very Easy   \n",
       "27     This LEGO® BrickHeadz construction character f...              Easy   \n",
       "28     This LEGO® BrickHeadz construction character f...              Easy   \n",
       "29     This Aquaman™ LEGO® BrickHeadz construction ch...         Very Easy   \n",
       "...                                                  ...               ...   \n",
       "12231  Recreate the hilarious scene from THE LEGO® BA...              Easy   \n",
       "12232  Help Batman™ fend off Egghead™ and Condiment K...           Average   \n",
       "12233  Join Batman’s pursuit of The Penguin in THE LE...              Easy   \n",
       "12234  Take on four Super-Villains at once in THE LEG...              Easy   \n",
       "12235  Glide over bumps in the Gotham City streets an...               NaN   \n",
       "12236  Save Gotham City Energy Facility from a fear g...           Average   \n",
       "12237  Help Batman™ defend the Gotham City Energy Fac...              Easy   \n",
       "12238  Team up with Batman™ to stop Scarecrow™ spread...              Easy   \n",
       "12239  Stage a face-off between The Joker™ and Batman...              Easy   \n",
       "12240  Bring exciting new play possibilities to exist...         Very Easy   \n",
       "12241  Take off from the Batcave in The Bat-Space Shu...           Average   \n",
       "12242  Enjoy endless role-play fun in NINJAGO® City, ...       Challenging   \n",
       "12243  Construct Wu’s huge ninja training base, Desti...       Challenging   \n",
       "12244  Join a ninja mission to infiltrate THE LEGO® N...           Average   \n",
       "12245  Help Lloyd to save Nomis and Nancy from Garmad...           Average   \n",
       "12246  Fire ‘soundwaves’ from Cole’s Quake Mech to sa...           Average   \n",
       "12247  Help Zane save Patty Keys and Torben from the ...           Average   \n",
       "12248  Get set for sizzling battle action with this h...           Average   \n",
       "12249  Save Ed and Edna from the shark army’s crab wi...           Average   \n",
       "12250  Help Lloyd protect civilian Pat from attack by...           Average   \n",
       "12251  Join Zane’s mission to infiltrate evil Garmado...           Average   \n",
       "12252  Outwit The Green Ninja’s evil father Garmadon ...           Average   \n",
       "12253  Launch into battle against the shark army and ...           Average   \n",
       "12254  Team up with Wu and Kai to take on Jungle Garm...              Easy   \n",
       "12255  Join ninja Jay in battle against the shark arm...           Average   \n",
       "12256  Help Cole save Shen-Li in this cool THE LEGO® ...              Easy   \n",
       "12257  Play out an action-packed Piranha Mech pursuit...              Easy   \n",
       "12258  Team up with Lloyd Garmadon, Nya and Officer T...              Easy   \n",
       "12259  Learn all the skills of Spinjitzu with THE LEG...         Very Easy   \n",
       "12260  Join the ninja heroes at the dojo with this ac...              Easy   \n",
       "\n",
       "                                     set_name  star_rating  \\\n",
       "0                       Bird Island Egg Heist          4.5   \n",
       "1                          Piggy Plane Attack          5.0   \n",
       "2                            Piggy Car Escape          4.3   \n",
       "3              United States Capitol Building          4.6   \n",
       "4               Solomon R. Guggenheim Museum®          4.6   \n",
       "5                                    Shanghai          4.9   \n",
       "6                               New York City          4.2   \n",
       "7                           Buckingham Palace          4.7   \n",
       "8                                      London          4.7   \n",
       "9                                     Chicago          4.8   \n",
       "10                            Arc de Triomphe          4.4   \n",
       "11                           The Eiffel Tower          4.6   \n",
       "12                                     Sydney          4.6   \n",
       "13                     BOOST Creative Toolbox          3.4   \n",
       "14                                Go Brick Me          4.8   \n",
       "15                                Owen & Blue          5.0   \n",
       "16                   Mr. Incredible & Frozone          5.0   \n",
       "17                                 Chewbacca™          3.0   \n",
       "18                                  Han Solo™          4.0   \n",
       "19                              Iron Man MK50          4.7   \n",
       "20                                     Thanos          5.0   \n",
       "21                                  Star-Lord          5.0   \n",
       "22                                     Gamora          5.0   \n",
       "23                                       Finn          4.5   \n",
       "24                            Valentine's Bee          4.9   \n",
       "25                              Wonder Woman™          5.0   \n",
       "26                                 The Flash™          4.0   \n",
       "27                                  Kylo Ren™          5.0   \n",
       "28                                        Rey          5.0   \n",
       "29                                   Aquaman™          4.0   \n",
       "...                                       ...          ...   \n",
       "12231   The Justice League™ Anniversary Party          3.2   \n",
       "12232                Egghead™ Mech Food Fight          4.8   \n",
       "12233              The Penguin™ Arctic Roller          4.8   \n",
       "12234               The Riddler™ Riddle Racer          4.2   \n",
       "12235                      The Bat-Dune Buggy          4.5   \n",
       "12236             Scarecrow™ Special Delivery          4.4   \n",
       "12237                  Mr. Freeze™ Ice Attack          4.6   \n",
       "12238             Scarecrow™ Fearful Face-off          4.1   \n",
       "12239               The Joker™ Balloon Escape          4.7   \n",
       "12240         THE LEGO® BATMAN MOVIE Series 2          4.8   \n",
       "12241                   The Bat-Space Shuttle          4.8   \n",
       "12242                           NINJAGO® City          4.9   \n",
       "12243                        Destiny's Bounty          4.9   \n",
       "12244  Temple of The Ultimate Ultimate Weapon          4.8   \n",
       "12245           garmadon, Garmadon, GARMADON!          4.9   \n",
       "12246                              Quake Mech          4.5   \n",
       "12247                                Ice Tank          4.8   \n",
       "12248                               Fire Mech          4.2   \n",
       "12249                           Lightning Jet          5.0   \n",
       "12250                         Garma Mecha Man          4.5   \n",
       "12251                 Garmadon's Volcano Lair          4.3   \n",
       "12252                 Green Ninja Mech Dragon          4.7   \n",
       "12253                           Water Strider          4.5   \n",
       "12254                            Master Falls          4.0   \n",
       "12255                        Flying Jelly Sub          4.6   \n",
       "12256                        Manta Ray Bomber          4.3   \n",
       "12257                          Piranha Attack          3.6   \n",
       "12258                     NINJAGO® City Chase          4.6   \n",
       "12259                Lloyd - Spinjitzu Master          5.0   \n",
       "12260                      Spinjitzu Training          4.7   \n",
       "\n",
       "                      theme_name  val_star_rating country  \n",
       "0                   Angry Birds™              4.0      US  \n",
       "1                   Angry Birds™              4.0      US  \n",
       "2                   Angry Birds™              4.1      US  \n",
       "3                   Architecture              4.3      US  \n",
       "4                   Architecture              4.1      US  \n",
       "5                   Architecture              4.4      US  \n",
       "6                   Architecture              4.1      US  \n",
       "7                   Architecture              4.3      US  \n",
       "8                   Architecture              4.1      US  \n",
       "9                   Architecture              4.5      US  \n",
       "10                  Architecture              3.6      US  \n",
       "11                  Architecture              4.4      US  \n",
       "12                  Architecture              4.2      US  \n",
       "13                         BOOST              3.5      US  \n",
       "14                    BrickHeadz              4.8      US  \n",
       "15                    BrickHeadz              5.0      US  \n",
       "16                    BrickHeadz              5.0      US  \n",
       "17                    BrickHeadz              4.0      US  \n",
       "18                    BrickHeadz              4.0      US  \n",
       "19                    BrickHeadz              4.5      US  \n",
       "20                    BrickHeadz              5.0      US  \n",
       "21                    BrickHeadz              5.0      US  \n",
       "22                    BrickHeadz              NaN      US  \n",
       "23                    BrickHeadz              4.0      US  \n",
       "24                    BrickHeadz              4.7      US  \n",
       "25                    BrickHeadz              5.0      US  \n",
       "26                    BrickHeadz              3.0      US  \n",
       "27                    BrickHeadz              4.8      US  \n",
       "28                    BrickHeadz              4.5      US  \n",
       "29                    BrickHeadz              3.0      US  \n",
       "...                          ...              ...     ...  \n",
       "12231     THE LEGO® BATMAN MOVIE              3.4      PT  \n",
       "12232     THE LEGO® BATMAN MOVIE              4.6      PT  \n",
       "12233     THE LEGO® BATMAN MOVIE              4.4      PT  \n",
       "12234     THE LEGO® BATMAN MOVIE              4.4      PT  \n",
       "12235     THE LEGO® BATMAN MOVIE              4.0      PT  \n",
       "12236     THE LEGO® BATMAN MOVIE              4.1      PT  \n",
       "12237     THE LEGO® BATMAN MOVIE              4.4      PT  \n",
       "12238     THE LEGO® BATMAN MOVIE              4.4      PT  \n",
       "12239     THE LEGO® BATMAN MOVIE              4.6      PT  \n",
       "12240                Minifigures              4.0      PT  \n",
       "12241     THE LEGO® BATMAN MOVIE              3.5      PT  \n",
       "12242  THE LEGO® NINJAGO® MOVIE™              4.8      PT  \n",
       "12243  THE LEGO® NINJAGO® MOVIE™              4.8      PT  \n",
       "12244  THE LEGO® NINJAGO® MOVIE™              4.8      PT  \n",
       "12245  THE LEGO® NINJAGO® MOVIE™              4.8      PT  \n",
       "12246  THE LEGO® NINJAGO® MOVIE™              4.4      PT  \n",
       "12247  THE LEGO® NINJAGO® MOVIE™              4.7      PT  \n",
       "12248  THE LEGO® NINJAGO® MOVIE™              4.6      PT  \n",
       "12249  THE LEGO® NINJAGO® MOVIE™              4.6      PT  \n",
       "12250  THE LEGO® NINJAGO® MOVIE™              4.5      PT  \n",
       "12251  THE LEGO® NINJAGO® MOVIE™              5.0      PT  \n",
       "12252  THE LEGO® NINJAGO® MOVIE™              4.5      PT  \n",
       "12253  THE LEGO® NINJAGO® MOVIE™              4.8      PT  \n",
       "12254  THE LEGO® NINJAGO® MOVIE™              3.6      PT  \n",
       "12255  THE LEGO® NINJAGO® MOVIE™              4.5      PT  \n",
       "12256  THE LEGO® NINJAGO® MOVIE™              4.2      PT  \n",
       "12257  THE LEGO® NINJAGO® MOVIE™              4.1      PT  \n",
       "12258  THE LEGO® NINJAGO® MOVIE™              4.5      PT  \n",
       "12259  THE LEGO® NINJAGO® MOVIE™              5.0      PT  \n",
       "12260  THE LEGO® NINJAGO® MOVIE™              4.8      PT  \n",
       "\n",
       "[12261 rows x 14 columns]>"
      ]
     },
     "execution_count": 24,
     "metadata": {},
     "output_type": "execute_result"
    }
   ],
   "source": [
    "df.drop_duplicates#Use tab completion to investigate at least 3 other methods under the df object. \n",
    "#Pull up their docstrings and investigate what they do."
   ]
  },
  {
   "cell_type": "markdown",
   "metadata": {},
   "source": [
    "# Pandas Series\n",
    "\n",
    "While the entire spreadsheet is called a **dataframe**, each individual column is known as a **series**. You can access a specific column of a pandas dataframe one of two ways:  \n",
    "\n",
    "`df['col_name']`\n",
    "\n",
    "or  \n",
    "\n",
    "```df.col_name```\n",
    "\n",
    "First note that in `df['col_name']` we need 'quotations' around the column name. The quotations denote the column name is a **string**, python's built in variable type for storing text. This can alternatively be replaced with double quotes `df[\"col_name\"]`. In general, anything in quotations is a string in python code. Occassionally, with very ill formatted column names with quotations in the names themselves, you may even need to wrap a name in triple quotes `df[\"\"\"col_name\"\"\"]` . This will rarely happen in this particular context, but is also the general pattern for dealing with messy strings.   \n",
    "\n",
    "Note that the second method, `df.col_name`, will only work if there are no spaces within the name of the column. Similarly to tab completion with the command line, this is a primary reason why programers use dashes (-) and underscores (_) in lieu of whitespace in their variable and file names. Also note that no quotations are used when using this format. (The column names have been stored as attributes to the DataFrame object!)"
   ]
  },
  {
   "cell_type": "code",
   "execution_count": 26,
   "metadata": {},
   "outputs": [
    {
     "data": {
      "text/plain": [
       "0                     Angry Birds™\n",
       "1                     Angry Birds™\n",
       "2                     Angry Birds™\n",
       "3                     Architecture\n",
       "4                     Architecture\n",
       "5                     Architecture\n",
       "6                     Architecture\n",
       "7                     Architecture\n",
       "8                     Architecture\n",
       "9                     Architecture\n",
       "10                    Architecture\n",
       "11                    Architecture\n",
       "12                    Architecture\n",
       "13                           BOOST\n",
       "14                      BrickHeadz\n",
       "15                      BrickHeadz\n",
       "16                      BrickHeadz\n",
       "17                      BrickHeadz\n",
       "18                      BrickHeadz\n",
       "19                      BrickHeadz\n",
       "20                      BrickHeadz\n",
       "21                      BrickHeadz\n",
       "22                      BrickHeadz\n",
       "23                      BrickHeadz\n",
       "24                      BrickHeadz\n",
       "25                      BrickHeadz\n",
       "26                      BrickHeadz\n",
       "27                      BrickHeadz\n",
       "28                      BrickHeadz\n",
       "29                      BrickHeadz\n",
       "                   ...            \n",
       "12231       THE LEGO® BATMAN MOVIE\n",
       "12232       THE LEGO® BATMAN MOVIE\n",
       "12233       THE LEGO® BATMAN MOVIE\n",
       "12234       THE LEGO® BATMAN MOVIE\n",
       "12235       THE LEGO® BATMAN MOVIE\n",
       "12236       THE LEGO® BATMAN MOVIE\n",
       "12237       THE LEGO® BATMAN MOVIE\n",
       "12238       THE LEGO® BATMAN MOVIE\n",
       "12239       THE LEGO® BATMAN MOVIE\n",
       "12240                  Minifigures\n",
       "12241       THE LEGO® BATMAN MOVIE\n",
       "12242    THE LEGO® NINJAGO® MOVIE™\n",
       "12243    THE LEGO® NINJAGO® MOVIE™\n",
       "12244    THE LEGO® NINJAGO® MOVIE™\n",
       "12245    THE LEGO® NINJAGO® MOVIE™\n",
       "12246    THE LEGO® NINJAGO® MOVIE™\n",
       "12247    THE LEGO® NINJAGO® MOVIE™\n",
       "12248    THE LEGO® NINJAGO® MOVIE™\n",
       "12249    THE LEGO® NINJAGO® MOVIE™\n",
       "12250    THE LEGO® NINJAGO® MOVIE™\n",
       "12251    THE LEGO® NINJAGO® MOVIE™\n",
       "12252    THE LEGO® NINJAGO® MOVIE™\n",
       "12253    THE LEGO® NINJAGO® MOVIE™\n",
       "12254    THE LEGO® NINJAGO® MOVIE™\n",
       "12255    THE LEGO® NINJAGO® MOVIE™\n",
       "12256    THE LEGO® NINJAGO® MOVIE™\n",
       "12257    THE LEGO® NINJAGO® MOVIE™\n",
       "12258    THE LEGO® NINJAGO® MOVIE™\n",
       "12259    THE LEGO® NINJAGO® MOVIE™\n",
       "12260    THE LEGO® NINJAGO® MOVIE™\n",
       "Name: theme_name, Length: 12261, dtype: object"
      ]
     },
     "execution_count": 26,
     "metadata": {},
     "output_type": "execute_result"
    }
   ],
   "source": [
    "df['theme_name']#Previewing Data"
   ]
  },
  {
   "cell_type": "code",
   "execution_count": 27,
   "metadata": {},
   "outputs": [
    {
     "data": {
      "text/html": [
       "<div>\n",
       "<style scoped>\n",
       "    .dataframe tbody tr th:only-of-type {\n",
       "        vertical-align: middle;\n",
       "    }\n",
       "\n",
       "    .dataframe tbody tr th {\n",
       "        vertical-align: top;\n",
       "    }\n",
       "\n",
       "    .dataframe thead th {\n",
       "        text-align: right;\n",
       "    }\n",
       "</style>\n",
       "<table border=\"1\" class=\"dataframe\">\n",
       "  <thead>\n",
       "    <tr style=\"text-align: right;\">\n",
       "      <th></th>\n",
       "      <th>ages</th>\n",
       "      <th>list_price</th>\n",
       "      <th>num_reviews</th>\n",
       "      <th>piece_count</th>\n",
       "      <th>play_star_rating</th>\n",
       "      <th>prod_desc</th>\n",
       "      <th>prod_id</th>\n",
       "      <th>prod_long_desc</th>\n",
       "      <th>review_difficulty</th>\n",
       "      <th>set_name</th>\n",
       "      <th>star_rating</th>\n",
       "      <th>theme_name</th>\n",
       "      <th>val_star_rating</th>\n",
       "      <th>country</th>\n",
       "    </tr>\n",
       "  </thead>\n",
       "  <tbody>\n",
       "    <tr>\n",
       "      <th>0</th>\n",
       "      <td>6-12</td>\n",
       "      <td>29.99</td>\n",
       "      <td>2.0</td>\n",
       "      <td>277.0</td>\n",
       "      <td>4.0</td>\n",
       "      <td>Catapult into action and take back the eggs fr...</td>\n",
       "      <td>75823.0</td>\n",
       "      <td>Use the staircase catapult to launch Red into ...</td>\n",
       "      <td>Average</td>\n",
       "      <td>Bird Island Egg Heist</td>\n",
       "      <td>4.5</td>\n",
       "      <td>Angry Birds™</td>\n",
       "      <td>4.0</td>\n",
       "      <td>US</td>\n",
       "    </tr>\n",
       "    <tr>\n",
       "      <th>1</th>\n",
       "      <td>6-12</td>\n",
       "      <td>19.99</td>\n",
       "      <td>2.0</td>\n",
       "      <td>168.0</td>\n",
       "      <td>4.0</td>\n",
       "      <td>Launch a flying attack and rescue the eggs fro...</td>\n",
       "      <td>75822.0</td>\n",
       "      <td>Pilot Pig has taken off from Bird Island with ...</td>\n",
       "      <td>Easy</td>\n",
       "      <td>Piggy Plane Attack</td>\n",
       "      <td>5.0</td>\n",
       "      <td>Angry Birds™</td>\n",
       "      <td>4.0</td>\n",
       "      <td>US</td>\n",
       "    </tr>\n",
       "  </tbody>\n",
       "</table>\n",
       "</div>"
      ],
      "text/plain": [
       "   ages  list_price  num_reviews  piece_count  play_star_rating  \\\n",
       "0  6-12       29.99          2.0        277.0               4.0   \n",
       "1  6-12       19.99          2.0        168.0               4.0   \n",
       "\n",
       "                                           prod_desc  prod_id  \\\n",
       "0  Catapult into action and take back the eggs fr...  75823.0   \n",
       "1  Launch a flying attack and rescue the eggs fro...  75822.0   \n",
       "\n",
       "                                      prod_long_desc review_difficulty  \\\n",
       "0  Use the staircase catapult to launch Red into ...           Average   \n",
       "1  Pilot Pig has taken off from Bird Island with ...              Easy   \n",
       "\n",
       "                set_name  star_rating    theme_name  val_star_rating country  \n",
       "0  Bird Island Egg Heist          4.5  Angry Birds™              4.0      US  \n",
       "1     Piggy Plane Attack          5.0  Angry Birds™              4.0      US  "
      ]
     },
     "execution_count": 27,
     "metadata": {},
     "output_type": "execute_result"
    }
   ],
   "source": [
    "df.head(2) #preview your spreadsheet again; 2 keeps it a nice small preview"
   ]
  },
  {
   "cell_type": "code",
   "execution_count": 29,
   "metadata": {},
   "outputs": [
    {
     "data": {
      "text/plain": [
       "0    6-12\n",
       "1    6-12\n",
       "2    6-12\n",
       "3     12+\n",
       "4     12+\n",
       "5     12+\n",
       "6     12+\n",
       "7     12+\n",
       "8     12+\n",
       "Name: ages, dtype: object"
      ]
     },
     "execution_count": 29,
     "metadata": {},
     "output_type": "execute_result"
    }
   ],
   "source": [
    "df.ages.head(9)"
   ]
  },
  {
   "cell_type": "code",
   "execution_count": 31,
   "metadata": {},
   "outputs": [
    {
     "data": {
      "text/plain": [
       "4    12+\n",
       "5    12+\n",
       "6    12+\n",
       "7    12+\n",
       "8    12+\n",
       "Name: ages, dtype: object"
      ]
     },
     "execution_count": 31,
     "metadata": {},
     "output_type": "execute_result"
    }
   ],
   "source": [
    "df.ages[4:9] #Here we introduce another new syntax the list slice [:5] this limits us to the first 5 items"
   ]
  },
  {
   "cell_type": "markdown",
   "metadata": {},
   "source": [
    "# List and Series Slices\n",
    "Above, we introduced an entirely new programming pattern called a slice.  \n",
    "The syntax for a slice is `[start:end]`.   \n",
    "\n",
    "You can also pass an additional third parameter `[start:end:count_by]` which will allow you to:  \n",
    "count every other: `[start:end:2]`  \n",
    "count backwards: `start:end:-1]`  \n",
    "or potentially much more cryptic patterns, depending on what you pass.  \n",
    "\n",
    "While we could have also used `df.State.head()`, slicing works for many more datatypes. This includes the previously mentioned *strings* as well as **lists** and other iterable objects. **Series**, the columns of the pandas DataFrame are similar to python's built in *lists*, but also have additional *methods* built in to them that we will continue to investigate."
   ]
  },
  {
   "cell_type": "code",
   "execution_count": 33,
   "metadata": {},
   "outputs": [
    {
     "data": {
      "text/plain": [
       "0         277.0\n",
       "1         168.0\n",
       "2          74.0\n",
       "3        1032.0\n",
       "4         744.0\n",
       "5         597.0\n",
       "6         598.0\n",
       "7         780.0\n",
       "8         468.0\n",
       "9         444.0\n",
       "10        386.0\n",
       "11        321.0\n",
       "12        361.0\n",
       "13        847.0\n",
       "14        708.0\n",
       "15        234.0\n",
       "16        160.0\n",
       "17        149.0\n",
       "18        141.0\n",
       "19        101.0\n",
       "20        105.0\n",
       "21        113.0\n",
       "22        136.0\n",
       "23         91.0\n",
       "24        140.0\n",
       "25        143.0\n",
       "26        122.0\n",
       "27        130.0\n",
       "28        119.0\n",
       "29        135.0\n",
       "          ...  \n",
       "12231     267.0\n",
       "12232     293.0\n",
       "12233     305.0\n",
       "12234     254.0\n",
       "12235     198.0\n",
       "12236     204.0\n",
       "12237     201.0\n",
       "12238     141.0\n",
       "12239     124.0\n",
       "12240       8.0\n",
       "12241     643.0\n",
       "12242    4867.0\n",
       "12243    2295.0\n",
       "12244    1403.0\n",
       "12245     830.0\n",
       "12246    1202.0\n",
       "12247     914.0\n",
       "12248     944.0\n",
       "12249     876.0\n",
       "12250     747.0\n",
       "12251     521.0\n",
       "12252     544.0\n",
       "12253     494.0\n",
       "12254     312.0\n",
       "12255     341.0\n",
       "12256     341.0\n",
       "12257     217.0\n",
       "12258     233.0\n",
       "12259      48.0\n",
       "12260     109.0\n",
       "Name: piece_count, Length: 12261, dtype: float64"
      ]
     },
     "execution_count": 33,
     "metadata": {},
     "output_type": "execute_result"
    }
   ],
   "source": [
    "df.piece_count"
   ]
  },
  {
   "cell_type": "markdown",
   "metadata": {},
   "source": [
    "# Common Series Methods\n",
    "Some very useful series methods include:  \n",
    "* df.col_name.value_counts()\n",
    "* df.col_name.astype()\n",
    "* series.mean()     #Changing notation here: series refers to df.col_name (which is a series)!\n",
    "* series.median()\n",
    "* series.min()\n",
    "* series.max()\n",
    "* series.std()\n",
    "* series.unique()\n",
    "* series.nunique()\n",
    "* series.sample()\n",
    "* series.sort_values()\n",
    "\n",
    "There are also many more but this is a very good starting point.\n",
    "Start pulling up some docstrings and getting acquainted with reading them yourself before we go through a few of these methods together."
   ]
  },
  {
   "cell_type": "code",
   "execution_count": 66,
   "metadata": {},
   "outputs": [
    {
     "data": {
      "text/plain": [
       "7722     1.8\n",
       "6580     1.8\n",
       "3185     1.8\n",
       "9939     1.8\n",
       "12157    1.8\n",
       "8841     1.8\n",
       "11618    1.8\n",
       "10515    1.8\n",
       "6029     1.8\n",
       "4905     1.8\n",
       "9392     1.8\n",
       "5480     1.8\n",
       "659      1.8\n",
       "3806     1.8\n",
       "1282     1.8\n",
       "7146     1.8\n",
       "11083    1.8\n",
       "2424     1.8\n",
       "8289     1.8\n",
       "1857     1.8\n",
       "4356     1.8\n",
       "5782     2.2\n",
       "5228     2.2\n",
       "11381    2.2\n",
       "10263    2.2\n",
       "10838    2.2\n",
       "9688     2.2\n",
       "4110     2.2\n",
       "8044     2.2\n",
       "2839     2.2\n",
       "        ... \n",
       "11992    NaN\n",
       "11995    NaN\n",
       "11998    NaN\n",
       "12006    NaN\n",
       "12010    NaN\n",
       "12013    NaN\n",
       "12014    NaN\n",
       "12016    NaN\n",
       "12017    NaN\n",
       "12019    NaN\n",
       "12040    NaN\n",
       "12045    NaN\n",
       "12046    NaN\n",
       "12049    NaN\n",
       "12052    NaN\n",
       "12057    NaN\n",
       "12058    NaN\n",
       "12065    NaN\n",
       "12071    NaN\n",
       "12078    NaN\n",
       "12080    NaN\n",
       "12082    NaN\n",
       "12096    NaN\n",
       "12106    NaN\n",
       "12108    NaN\n",
       "12111    NaN\n",
       "12113    NaN\n",
       "12136    NaN\n",
       "12137    NaN\n",
       "12196    NaN\n",
       "Name: star_rating, Length: 12261, dtype: float64"
      ]
     },
     "execution_count": 66,
     "metadata": {},
     "output_type": "execute_result"
    }
   ],
   "source": [
    "df.star_rating.sort_values() #Read the docstring and tinker! See how it works."
   ]
  },
  {
   "cell_type": "code",
   "execution_count": 51,
   "metadata": {},
   "outputs": [
    {
     "data": {
      "text/plain": [
       "array([4.5, 5. , 4.3, 4.6, 4.9, 4.2, 4.7, 4.8, 4.4, 3.4, 3. , 4. , nan,\n",
       "       3.7, 3.3, 4.1, 3.9, 2.5, 3.8, 3.5, 3.6, 3.2, 2.6, 2.2, 2.7, 2.8,\n",
       "       1.8, 2.9])"
      ]
     },
     "execution_count": 51,
     "metadata": {},
     "output_type": "execute_result"
    }
   ],
   "source": [
    "df.star_rating.unique()"
   ]
  },
  {
   "cell_type": "markdown",
   "metadata": {},
   "source": [
    "# Graphing\n",
    "\n",
    "Our bread and butter tool for graphing in python will be **matplotlib**. \n",
    "There are a number of other packages you can also check out for visualization later on such as plotly, folium, and bokeh to name a few, but matplotlib is an industry standard used widely. As with the pandas package, we must import  the matplotlib package to use its built in functions and methods. Rather then import the entire package however, we import only the piece we intend to use (hence the dot notation) and again alias this under the shorthand *plt*. Finally, the iPython magic command **% matplotlib inline** makes these graphs appear within our jupyter notebook."
   ]
  },
  {
   "cell_type": "code",
   "execution_count": 54,
   "metadata": {},
   "outputs": [],
   "source": [
    "#import a subset of the matplotlib package under the alias 'plt'\n",
    "import matplotlib.pyplot as plt\n",
    "\n",
    "#ipython magic command for displaying graphs within the notebook\n",
    "%matplotlib inline"
   ]
  },
  {
   "cell_type": "code",
   "execution_count": 55,
   "metadata": {},
   "outputs": [
    {
     "data": {
      "text/plain": [
       "<matplotlib.axes._subplots.AxesSubplot at 0x1195b74e0>"
      ]
     },
     "execution_count": 55,
     "metadata": {},
     "output_type": "execute_result"
    },
    {
     "data": {
      "image/png": "[encoded data removed]",
      "text/plain": [
       "<Figure size 432x288 with 1 Axes>"
      ]
     },
     "metadata": {
      "needs_background": "light"
     },
     "output_type": "display_data"
    }
   ],
   "source": [
    "to_graph = df.theme_name.value_counts()[:5]\n",
    "to_graph.plot(kind='barh')"
   ]
  },
  {
   "cell_type": "markdown",
   "metadata": {},
   "source": [
    "# Adding labels\n",
    "The graph above is a good start, but we should be sure to add some labels! To do this we make successive calls to the `plt` package we imported. Some common methods you should be familiar with include:  \n",
    "* plt.title()\n",
    "* plt.xlabel()\n",
    "* plt.ylabel()\n",
    "* plt.legend()\n",
    "* plt.xticks()\n",
    "* plt.yticks()"
   ]
  },
  {
   "cell_type": "code",
   "execution_count": 72,
   "metadata": {},
   "outputs": [
    {
     "data": {
      "text/plain": [
       "Text(0, 0.5, 'Theme')"
      ]
     },
     "execution_count": 72,
     "metadata": {},
     "output_type": "execute_result"
    },
    {
     "data": {
      "image/png": "[encoded data removed]",
      "text/plain": [
       "<Figure size 432x288 with 1 Axes>"
      ]
     },
     "metadata": {
      "needs_background": "light"
     },
     "output_type": "display_data"
    }
   ],
   "source": [
    "to_graph = df.theme_name.value_counts()[:5]\n",
    "to_graph.plot(kind='barh') #lots of other optional parameters can be passed such as color\n",
    "plt.title('Top 5 Lego Themes', fontsize=16) #fontsize is optional\n",
    "plt.xlabel('Number of Lego Sets') #you could also pass in fontsize if you wanted here\n",
    "plt.ylabel('Theme') #you could also rotate text if you wanted"
   ]
  },
  {
   "cell_type": "markdown",
   "metadata": {},
   "source": [
    "# Practice and Explore\n",
    "\n",
    "Take a minute to try chaining some of these methods together to create a few of your own visuals for practice. Some ideas can include making a scatter plot with `plt.scatter(x , y)` where you pass in two series (one as x and the other as y), plotting histograms with the `series.hist()` method, or creating simple bar graphs as shown above."
   ]
  },
  {
   "cell_type": "code",
   "execution_count": 68,
   "metadata": {},
   "outputs": [
    {
     "data": {
      "text/plain": [
       "<matplotlib.collections.PathCollection at 0x11ad9b240>"
      ]
     },
     "execution_count": 68,
     "metadata": {},
     "output_type": "execute_result"
    },
    {
     "data": {
      "image/png": "[encoded data removed]",
      "text/plain": [
       "<Figure size 432x288 with 1 Axes>"
      ]
     },
     "metadata": {
      "needs_background": "light"
     },
     "output_type": "display_data"
    }
   ],
   "source": [
    "plt.scatter(df.piece_count, df.star_rating)"
   ]
  },
  {
   "cell_type": "code",
   "execution_count": 71,
   "metadata": {},
   "outputs": [
    {
     "data": {
      "text/plain": [
       "<matplotlib.axes._subplots.AxesSubplot at 0x11af1ae80>"
      ]
     },
     "execution_count": 71,
     "metadata": {},
     "output_type": "execute_result"
    },
    {
     "data": {
      "image/png": "[encoded data removed]",
      "text/plain": [
       "<Figure size 432x288 with 1 Axes>"
      ]
     },
     "metadata": {
      "needs_background": "light"
     },
     "output_type": "display_data"
    }
   ],
   "source": [
    "df.piece_count.hist()"
   ]
  },
  {
   "cell_type": "code",
   "execution_count": 81,
   "metadata": {},
   "outputs": [
    {
     "data": {
      "text/plain": [
       "<matplotlib.axes._subplots.AxesSubplot at 0x11c09b400>"
      ]
     },
     "execution_count": 81,
     "metadata": {},
     "output_type": "execute_result"
    },
    {
     "data": {
      "image/png": "[encoded data removed]",
      "text/plain": [
       "<Figure size 432x288 with 1 Axes>"
      ]
     },
     "metadata": {
      "needs_background": "light"
     },
     "output_type": "display_data"
    }
   ],
   "source": [
    "to_graph = df.ages.value_counts()\n",
    "to_graph.plot()"
   ]
  },
  {
   "cell_type": "code",
   "execution_count": 84,
   "metadata": {},
   "outputs": [
    {
     "data": {
      "text/plain": [
       "<matplotlib.axes._subplots.AxesSubplot at 0x11bf1dda0>"
      ]
     },
     "execution_count": 84,
     "metadata": {},
     "output_type": "execute_result"
    },
    {
     "data": {
      "image/png": "[encoded data removed]",
      "text/plain": [
       "<Figure size 432x288 with 1 Axes>"
      ]
     },
     "metadata": {
      "needs_background": "light"
     },
     "output_type": "display_data"
    }
   ],
   "source": [
    "df.star_rating.hist()"
   ]
  },
  {
   "cell_type": "code",
   "execution_count": null,
   "metadata": {},
   "outputs": [],
   "source": []
  }
 ],
 "metadata": {
  "kernelspec": {
   "display_name": "learn-env",
   "language": "python",
   "name": "learn-env"
  },
  "language_info": {
   "codemirror_mode": {
    "name": "ipython",
    "version": 3
   },
   "file_extension": ".py",
   "mimetype": "text/x-python",
   "name": "python",
   "nbconvert_exporter": "python",
   "pygments_lexer": "ipython3",
   "version": "3.6.6"
  }
 },
 "nbformat": 4,
 "nbformat_minor": 2
}
