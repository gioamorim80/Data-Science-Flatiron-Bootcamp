{
 "cells": [
  {
   "cell_type": "markdown",
   "metadata": {},
   "source": [
    "# Implementing Statistics with Functions - Lab\n",
    "\n",
    "## Introduction \n",
    "In this lab you'll dive deep into calculating the measures of central tendency and dispersion introduced in previous lessons. You will implement the code the formulas for these functions in python which will require you to use the programming skills that you have gained in first two sections of the module. So let's get started with this.\n",
    "\n",
    "## Objectives\n",
    "\n",
    "You will be able to:\n",
    "* Create functions to model measures of central tendency and dispersion\n",
    "* Perform basic statistical analysis of given data using measures of central tendency and dispersion. "
   ]
  },
  {
   "cell_type": "markdown",
   "metadata": {},
   "source": [
    "### Dataset\n",
    "\n",
    "For this lab, we'll use the [NHIS dataset](http://people.ucsc.edu/~cdobkin/NHIS%202007%20data.csv) containing weights, heights and some other attributes for a number of surveyed individuals. The context of this survey is outside the scope this lab, so we'll just go ahead and load the heights column as a list for us to run some simple statistical experiments. We'll use the pandas library to import the data into our python environment. This process will be covered in detail in the next section. Let's do this for you to give you a head start.  "
   ]
  },
  {
   "cell_type": "code",
   "execution_count": 2,
   "metadata": {},
   "outputs": [
    {
     "data": {
      "text/html": [
       "<div>\n",
       "<style scoped>\n",
       "    .dataframe tbody tr th:only-of-type {\n",
       "        vertical-align: middle;\n",
       "    }\n",
       "\n",
       "    .dataframe tbody tr th {\n",
       "        vertical-align: top;\n",
       "    }\n",
       "\n",
       "    .dataframe thead th {\n",
       "        text-align: right;\n",
       "    }\n",
       "</style>\n",
       "<table border=\"1\" class=\"dataframe\">\n",
       "  <thead>\n",
       "    <tr style=\"text-align: right;\">\n",
       "      <th></th>\n",
       "      <th>HHX</th>\n",
       "      <th>FMX</th>\n",
       "      <th>FPX</th>\n",
       "      <th>SEX</th>\n",
       "      <th>BMI</th>\n",
       "      <th>SLEEP</th>\n",
       "      <th>educ</th>\n",
       "      <th>height</th>\n",
       "      <th>weight</th>\n",
       "    </tr>\n",
       "  </thead>\n",
       "  <tbody>\n",
       "    <tr>\n",
       "      <th>0</th>\n",
       "      <td>16</td>\n",
       "      <td>1</td>\n",
       "      <td>2</td>\n",
       "      <td>1</td>\n",
       "      <td>33.36</td>\n",
       "      <td>8</td>\n",
       "      <td>16</td>\n",
       "      <td>74</td>\n",
       "      <td>260</td>\n",
       "    </tr>\n",
       "    <tr>\n",
       "      <th>1</th>\n",
       "      <td>20</td>\n",
       "      <td>1</td>\n",
       "      <td>1</td>\n",
       "      <td>1</td>\n",
       "      <td>26.54</td>\n",
       "      <td>7</td>\n",
       "      <td>14</td>\n",
       "      <td>70</td>\n",
       "      <td>185</td>\n",
       "    </tr>\n",
       "    <tr>\n",
       "      <th>2</th>\n",
       "      <td>69</td>\n",
       "      <td>1</td>\n",
       "      <td>2</td>\n",
       "      <td>2</td>\n",
       "      <td>32.13</td>\n",
       "      <td>7</td>\n",
       "      <td>9</td>\n",
       "      <td>61</td>\n",
       "      <td>170</td>\n",
       "    </tr>\n",
       "    <tr>\n",
       "      <th>3</th>\n",
       "      <td>87</td>\n",
       "      <td>1</td>\n",
       "      <td>1</td>\n",
       "      <td>1</td>\n",
       "      <td>26.62</td>\n",
       "      <td>8</td>\n",
       "      <td>14</td>\n",
       "      <td>68</td>\n",
       "      <td>175</td>\n",
       "    </tr>\n",
       "    <tr>\n",
       "      <th>4</th>\n",
       "      <td>88</td>\n",
       "      <td>1</td>\n",
       "      <td>1</td>\n",
       "      <td>2</td>\n",
       "      <td>27.13</td>\n",
       "      <td>8</td>\n",
       "      <td>13</td>\n",
       "      <td>66</td>\n",
       "      <td>168</td>\n",
       "    </tr>\n",
       "  </tbody>\n",
       "</table>\n",
       "</div>"
      ],
      "text/plain": [
       "   HHX  FMX  FPX  SEX    BMI  SLEEP  educ  height  weight\n",
       "0   16    1    2    1  33.36      8    16      74     260\n",
       "1   20    1    1    1  26.54      7    14      70     185\n",
       "2   69    1    2    2  32.13      7     9      61     170\n",
       "3   87    1    1    1  26.62      8    14      68     175\n",
       "4   88    1    1    2  27.13      8    13      66     168"
      ]
     },
     "execution_count": 2,
     "metadata": {},
     "output_type": "execute_result"
    }
   ],
   "source": [
    "import pandas as pd\n",
    "df = pd.read_csv('nhis.csv')\n",
    "df.head()#prints first 5 lines of table "
   ]
  },
  {
   "cell_type": "code",
   "execution_count": 3,
   "metadata": {},
   "outputs": [],
   "source": [
    "# Record your initial observations on the histogram here "
   ]
  },
  {
   "cell_type": "markdown",
   "metadata": {},
   "source": [
    "We are only interested in the heigt column, so we'll save this now as a list."
   ]
  },
  {
   "cell_type": "code",
   "execution_count": 3,
   "metadata": {
    "scrolled": true
   },
   "outputs": [
    {
     "name": "stdout",
     "output_type": "stream",
     "text": [
      "4785\n"
     ]
    }
   ],
   "source": [
    "height = df.height.values.tolist()\n",
    "print (len(height))\n"
   ]
  },
  {
   "cell_type": "markdown",
   "metadata": {},
   "source": [
    "So around 4700 records of height, thats great. How about plotting a histogram for these values. \n",
    "\n",
    "## Plotting Histograms\n",
    "\n",
    "In the cell below, Import matplotlib as we saw earlier and plot a histogram of these values. Use a bin size of 8. Considering the height in inches, record your initial observations in the following cell. "
   ]
  },
  {
   "cell_type": "code",
   "execution_count": 4,
   "metadata": {},
   "outputs": [
    {
     "data": {
      "image/png": "[encoded data removed]",
      "text/plain": [
       "<Figure size 432x288 with 1 Axes>"
      ]
     },
     "metadata": {
      "needs_background": "light"
     },
     "output_type": "display_data"
    }
   ],
   "source": [
    "import matplotlib.pyplot as plt\n",
    "\n",
    "plt.figure(figsize=(6,4))\n",
    "plt.hist(height, color = \"orange\", lw = .3, ec = \"white\", bins = 8)\n",
    "\n",
    "plt.xlabel('inches')\n",
    "plt.title('Heights')\n",
    "plt.show()"
   ]
  },
  {
   "cell_type": "code",
   "execution_count": 10,
   "metadata": {},
   "outputs": [],
   "source": [
    "#most of the population falls into 65-79 inches, with some outliers at over 94 - why is that? maybe theres a gender unbalance in the data?"
   ]
  },
  {
   "cell_type": "markdown",
   "metadata": {},
   "source": [
    "![](index_files/index_22_0.png)"
   ]
  },
  {
   "cell_type": "markdown",
   "metadata": {},
   "source": [
    "Do you spot anything unsual above , some outliers maybe ?"
   ]
  },
  {
   "cell_type": "markdown",
   "metadata": {},
   "source": [
    "## Calculating mean "
   ]
  },
  {
   "cell_type": "markdown",
   "metadata": {},
   "source": [
    "So first let's calculate the mean for the height list. Recall the formula for calculating mean as shown earlier. \n",
    "\n",
    "![](mean.gif)\n",
    "\n",
    "Using the python skills you have learned so far, create a function `get_mean()` to perform following tasks: \n",
    "* Input a list of numbers (like the height list we have above)\n",
    "* calculate the sum of numbers and length of the list \n",
    "* Calculate mean from above, round off to 2 decimals and return it."
   ]
  },
  {
   "cell_type": "code",
   "execution_count": 6,
   "metadata": {},
   "outputs": [
    {
     "name": "stdout",
     "output_type": "stream",
     "text": [
      "3.0\n",
      "2.5\n"
     ]
    }
   ],
   "source": [
    "def get_mean(data):\n",
    "\n",
    "    mean = sum(data)/len(data)\n",
    "    \n",
    "    return round(mean,2)\n",
    "\n",
    "test1 = [5, 4, 1, 3, 2]\n",
    "test2 = [4, 2, 3, 1]\n",
    "\n",
    "print(get_mean(test1)) # 3\n",
    "print(get_mean(test2)) # 2.5"
   ]
  },
  {
   "cell_type": "markdown",
   "metadata": {},
   "source": [
    "Now we'll test the function by passing in the height list."
   ]
  },
  {
   "cell_type": "code",
   "execution_count": 7,
   "metadata": {},
   "outputs": [
    {
     "name": "stdout",
     "output_type": "stream",
     "text": [
      "Sample Mean: 69.58\n"
     ]
    }
   ],
   "source": [
    "# After creating the function, pass the height list to the function \n",
    "mean = get_mean(height)\n",
    "\n",
    "# Uncomment following command after coding the function\n",
    "print(\"Sample Mean:\", mean)\n",
    "\n",
    "# Sample Mean: 69.58"
   ]
  },
  {
   "cell_type": "markdown",
   "metadata": {},
   "source": [
    "So we have our mean length, 69.5, and this confirms our observations from the histogram. But we also some outliers in out data above and we know outliers affect the mean calculation by pulling mean value in their direction.  So let's remove these outliers and create a new list to see if our mean shifts of stays. We'll use a threshold of 80 inches, i.e. filter out any values greater than 80. \n",
    " \n",
    "Perform following tasks:\n",
    "\n",
    "* Create a function `filter_list()` that inputs a list \n",
    "* Perform a for loop to iteratively check and aappend values to a new list if < 80. \n",
    "* Return the new list "
   ]
  },
  {
   "cell_type": "code",
   "execution_count": 8,
   "metadata": {},
   "outputs": [
    {
     "data": {
      "text/plain": [
       "[60, 70]"
      ]
     },
     "execution_count": 8,
     "metadata": {},
     "output_type": "execute_result"
    }
   ],
   "source": [
    "def filter_list(listA):\n",
    "    \n",
    "    listB = []\n",
    "    for i in listA:\n",
    "        if i <80:\n",
    "            listB.append(i)\n",
    "    return listB\n",
    "\n",
    "test = [60, 70,80, 90]\n",
    "filter_list(test) # [60, 70]"
   ]
  },
  {
   "cell_type": "markdown",
   "metadata": {},
   "source": [
    "Great, now we can filter our height list and plot a new histogram for the new list to see if things change considerably.  "
   ]
  },
  {
   "cell_type": "code",
   "execution_count": 9,
   "metadata": {},
   "outputs": [
    {
     "data": {
      "text/plain": [
       "[74,\n",
       " 70,\n",
       " 61,\n",
       " 68,\n",
       " 66,\n",
       " 70,\n",
       " 65,\n",
       " 64,\n",
       " 65,\n",
       " 66,\n",
       " 61,\n",
       " 61,\n",
       " 65,\n",
       " 68,\n",
       " 64,\n",
       " 64,\n",
       " 66,\n",
       " 67,\n",
       " 72,\n",
       " 61,\n",
       " 65,\n",
       " 61,\n",
       " 66,\n",
       " 64,\n",
       " 72,\n",
       " 64,\n",
       " 64,\n",
       " 71,\n",
       " 64,\n",
       " 72,\n",
       " 70,\n",
       " 66,\n",
       " 74,\n",
       " 76,\n",
       " 68,\n",
       " 66,\n",
       " 66,\n",
       " 69,\n",
       " 61,\n",
       " 64,\n",
       " 66,\n",
       " 69,\n",
       " 66,\n",
       " 71,\n",
       " 71,\n",
       " 63,\n",
       " 68,\n",
       " 75,\n",
       " 64,\n",
       " 62,\n",
       " 65,\n",
       " 64,\n",
       " 60,\n",
       " 62,\n",
       " 61,\n",
       " 63,\n",
       " 72,\n",
       " 72,\n",
       " 63,\n",
       " 67,\n",
       " 65,\n",
       " 64,\n",
       " 61,\n",
       " 66,\n",
       " 65,\n",
       " 68,\n",
       " 64,\n",
       " 71,\n",
       " 65,\n",
       " 63,\n",
       " 64,\n",
       " 72,\n",
       " 65,\n",
       " 71,\n",
       " 72,\n",
       " 64,\n",
       " 65,\n",
       " 72,\n",
       " 69,\n",
       " 66,\n",
       " 64,\n",
       " 66,\n",
       " 69,\n",
       " 67,\n",
       " 66,\n",
       " 59,\n",
       " 60,\n",
       " 62,\n",
       " 70,\n",
       " 61,\n",
       " 66,\n",
       " 62,\n",
       " 67,\n",
       " 59,\n",
       " 70,\n",
       " 66,\n",
       " 60,\n",
       " 68,\n",
       " 67,\n",
       " 65,\n",
       " 71,\n",
       " 63,\n",
       " 63,\n",
       " 71,\n",
       " 67,\n",
       " 65,\n",
       " 66,\n",
       " 66,\n",
       " 70,\n",
       " 68,\n",
       " 64,\n",
       " 62,\n",
       " 60,\n",
       " 73,\n",
       " 68,\n",
       " 62,\n",
       " 61,\n",
       " 65,\n",
       " 66,\n",
       " 64,\n",
       " 60,\n",
       " 59,\n",
       " 61,\n",
       " 63,\n",
       " 60,\n",
       " 62,\n",
       " 63,\n",
       " 65,\n",
       " 68,\n",
       " 72,\n",
       " 67,\n",
       " 72,\n",
       " 66,\n",
       " 61,\n",
       " 64,\n",
       " 64,\n",
       " 71,\n",
       " 72,\n",
       " 65,\n",
       " 67,\n",
       " 63,\n",
       " 68,\n",
       " 65,\n",
       " 71,\n",
       " 62,\n",
       " 69,\n",
       " 64,\n",
       " 66,\n",
       " 63,\n",
       " 67,\n",
       " 69,\n",
       " 66,\n",
       " 61,\n",
       " 68,\n",
       " 60,\n",
       " 72,\n",
       " 70,\n",
       " 65,\n",
       " 67,\n",
       " 63,\n",
       " 69,\n",
       " 64,\n",
       " 67,\n",
       " 74,\n",
       " 62,\n",
       " 69,\n",
       " 60,\n",
       " 73,\n",
       " 67,\n",
       " 62,\n",
       " 69,\n",
       " 64,\n",
       " 68,\n",
       " 72,\n",
       " 74,\n",
       " 72,\n",
       " 64,\n",
       " 66,\n",
       " 68,\n",
       " 65,\n",
       " 61,\n",
       " 69,\n",
       " 71,\n",
       " 66,\n",
       " 65,\n",
       " 68,\n",
       " 65,\n",
       " 68,\n",
       " 68,\n",
       " 72,\n",
       " 62,\n",
       " 60,\n",
       " 72,\n",
       " 71,\n",
       " 65,\n",
       " 62,\n",
       " 74,\n",
       " 71,\n",
       " 67,\n",
       " 67,\n",
       " 66,\n",
       " 69,\n",
       " 67,\n",
       " 66,\n",
       " 72,\n",
       " 65,\n",
       " 61,\n",
       " 68,\n",
       " 68,\n",
       " 70,\n",
       " 68,\n",
       " 70,\n",
       " 71,\n",
       " 65,\n",
       " 69,\n",
       " 68,\n",
       " 70,\n",
       " 67,\n",
       " 60,\n",
       " 65,\n",
       " 63,\n",
       " 74,\n",
       " 67,\n",
       " 67,\n",
       " 63,\n",
       " 67,\n",
       " 69,\n",
       " 67,\n",
       " 65,\n",
       " 64,\n",
       " 72,\n",
       " 72,\n",
       " 67,\n",
       " 63,\n",
       " 64,\n",
       " 65,\n",
       " 68,\n",
       " 65,\n",
       " 64,\n",
       " 64,\n",
       " 61,\n",
       " 60,\n",
       " 63,\n",
       " 69,\n",
       " 64,\n",
       " 70,\n",
       " 73,\n",
       " 65,\n",
       " 68,\n",
       " 70,\n",
       " 60,\n",
       " 67,\n",
       " 70,\n",
       " 66,\n",
       " 67,\n",
       " 66,\n",
       " 72,\n",
       " 73,\n",
       " 69,\n",
       " 67,\n",
       " 63,\n",
       " 70,\n",
       " 69,\n",
       " 63,\n",
       " 60,\n",
       " 70,\n",
       " 66,\n",
       " 70,\n",
       " 67,\n",
       " 66,\n",
       " 60,\n",
       " 69,\n",
       " 62,\n",
       " 67,\n",
       " 64,\n",
       " 72,\n",
       " 70,\n",
       " 67,\n",
       " 68,\n",
       " 72,\n",
       " 61,\n",
       " 65,\n",
       " 69,\n",
       " 65,\n",
       " 66,\n",
       " 69,\n",
       " 66,\n",
       " 63,\n",
       " 64,\n",
       " 62,\n",
       " 72,\n",
       " 67,\n",
       " 72,\n",
       " 62,\n",
       " 67,\n",
       " 64,\n",
       " 67,\n",
       " 62,\n",
       " 64,\n",
       " 69,\n",
       " 64,\n",
       " 71,\n",
       " 60,\n",
       " 70,\n",
       " 69,\n",
       " 66,\n",
       " 69,\n",
       " 66,\n",
       " 70,\n",
       " 75,\n",
       " 69,\n",
       " 73,\n",
       " 71,\n",
       " 69,\n",
       " 66,\n",
       " 67,\n",
       " 72,\n",
       " 62,\n",
       " 64,\n",
       " 65,\n",
       " 73,\n",
       " 70,\n",
       " 70,\n",
       " 64,\n",
       " 73,\n",
       " 60,\n",
       " 70,\n",
       " 70,\n",
       " 71,\n",
       " 73,\n",
       " 63,\n",
       " 68,\n",
       " 63,\n",
       " 67,\n",
       " 70,\n",
       " 64,\n",
       " 68,\n",
       " 62,\n",
       " 71,\n",
       " 72,\n",
       " 64,\n",
       " 69,\n",
       " 67,\n",
       " 69,\n",
       " 69,\n",
       " 70,\n",
       " 62,\n",
       " 76,\n",
       " 63,\n",
       " 65,\n",
       " 70,\n",
       " 75,\n",
       " 65,\n",
       " 70,\n",
       " 66,\n",
       " 68,\n",
       " 65,\n",
       " 68,\n",
       " 64,\n",
       " 62,\n",
       " 62,\n",
       " 66,\n",
       " 64,\n",
       " 73,\n",
       " 66,\n",
       " 65,\n",
       " 64,\n",
       " 67,\n",
       " 67,\n",
       " 65,\n",
       " 66,\n",
       " 67,\n",
       " 70,\n",
       " 72,\n",
       " 62,\n",
       " 67,\n",
       " 72,\n",
       " 68,\n",
       " 63,\n",
       " 70,\n",
       " 60,\n",
       " 65,\n",
       " 61,\n",
       " 65,\n",
       " 65,\n",
       " 74,\n",
       " 72,\n",
       " 70,\n",
       " 70,\n",
       " 65,\n",
       " 65,\n",
       " 68,\n",
       " 66,\n",
       " 66,\n",
       " 73,\n",
       " 70,\n",
       " 74,\n",
       " 68,\n",
       " 67,\n",
       " 65,\n",
       " 71,\n",
       " 68,\n",
       " 69,\n",
       " 68,\n",
       " 72,\n",
       " 63,\n",
       " 62,\n",
       " 66,\n",
       " 63,\n",
       " 64,\n",
       " 70,\n",
       " 65,\n",
       " 67,\n",
       " 62,\n",
       " 73,\n",
       " 62,\n",
       " 66,\n",
       " 64,\n",
       " 64,\n",
       " 65,\n",
       " 62,\n",
       " 68,\n",
       " 73,\n",
       " 63,\n",
       " 63,\n",
       " 66,\n",
       " 63,\n",
       " 64,\n",
       " 65,\n",
       " 73,\n",
       " 65,\n",
       " 66,\n",
       " 62,\n",
       " 72,\n",
       " 65,\n",
       " 61,\n",
       " 64,\n",
       " 67,\n",
       " 62,\n",
       " 69,\n",
       " 75,\n",
       " 62,\n",
       " 65,\n",
       " 66,\n",
       " 63,\n",
       " 67,\n",
       " 66,\n",
       " 70,\n",
       " 61,\n",
       " 63,\n",
       " 62,\n",
       " 63,\n",
       " 65,\n",
       " 63,\n",
       " 69,\n",
       " 68,\n",
       " 64,\n",
       " 65,\n",
       " 63,\n",
       " 64,\n",
       " 72,\n",
       " 64,\n",
       " 63,\n",
       " 71,\n",
       " 62,\n",
       " 69,\n",
       " 72,\n",
       " 68,\n",
       " 67,\n",
       " 73,\n",
       " 73,\n",
       " 64,\n",
       " 66,\n",
       " 63,\n",
       " 66,\n",
       " 69,\n",
       " 71,\n",
       " 63,\n",
       " 74,\n",
       " 66,\n",
       " 66,\n",
       " 66,\n",
       " 66,\n",
       " 62,\n",
       " 63,\n",
       " 64,\n",
       " 62,\n",
       " 64,\n",
       " 71,\n",
       " 63,\n",
       " 74,\n",
       " 60,\n",
       " 73,\n",
       " 64,\n",
       " 66,\n",
       " 71,\n",
       " 65,\n",
       " 71,\n",
       " 66,\n",
       " 64,\n",
       " 71,\n",
       " 60,\n",
       " 71,\n",
       " 71,\n",
       " 72,\n",
       " 71,\n",
       " 72,\n",
       " 68,\n",
       " 60,\n",
       " 65,\n",
       " 64,\n",
       " 73,\n",
       " 70,\n",
       " 71,\n",
       " 72,\n",
       " 64,\n",
       " 76,\n",
       " 73,\n",
       " 60,\n",
       " 63,\n",
       " 63,\n",
       " 63,\n",
       " 60,\n",
       " 67,\n",
       " 71,\n",
       " 72,\n",
       " 64,\n",
       " 66,\n",
       " 67,\n",
       " 72,\n",
       " 65,\n",
       " 73,\n",
       " 65,\n",
       " 64,\n",
       " 66,\n",
       " 66,\n",
       " 71,\n",
       " 72,\n",
       " 62,\n",
       " 64,\n",
       " 70,\n",
       " 69,\n",
       " 73,\n",
       " 74,\n",
       " 59,\n",
       " 67,\n",
       " 67,\n",
       " 67,\n",
       " 68,\n",
       " 68,\n",
       " 68,\n",
       " 66,\n",
       " 64,\n",
       " 62,\n",
       " 65,\n",
       " 73,\n",
       " 67,\n",
       " 72,\n",
       " 68,\n",
       " 66,\n",
       " 69,\n",
       " 63,\n",
       " 73,\n",
       " 62,\n",
       " 76,\n",
       " 64,\n",
       " 69,\n",
       " 73,\n",
       " 69,\n",
       " 68,\n",
       " 73,\n",
       " 68,\n",
       " 71,\n",
       " 65,\n",
       " 60,\n",
       " 68,\n",
       " 66,\n",
       " 72,\n",
       " 74,\n",
       " 63,\n",
       " 64,\n",
       " 71,\n",
       " 75,\n",
       " 70,\n",
       " 68,\n",
       " 70,\n",
       " 65,\n",
       " 69,\n",
       " 62,\n",
       " 62,\n",
       " 76,\n",
       " 64,\n",
       " 62,\n",
       " 67,\n",
       " 74,\n",
       " 70,\n",
       " 66,\n",
       " 74,\n",
       " 62,\n",
       " 67,\n",
       " 74,\n",
       " 63,\n",
       " 69,\n",
       " 64,\n",
       " 69,\n",
       " 76,\n",
       " 64,\n",
       " 74,\n",
       " 72,\n",
       " 69,\n",
       " 68,\n",
       " 65,\n",
       " 60,\n",
       " 64,\n",
       " 62,\n",
       " 65,\n",
       " 67,\n",
       " 65,\n",
       " 62,\n",
       " 73,\n",
       " 73,\n",
       " 69,\n",
       " 66,\n",
       " 69,\n",
       " 64,\n",
       " 65,\n",
       " 70,\n",
       " 69,\n",
       " 63,\n",
       " 64,\n",
       " 64,\n",
       " 70,\n",
       " 67,\n",
       " 69,\n",
       " 69,\n",
       " 68,\n",
       " 68,\n",
       " 65,\n",
       " 71,\n",
       " 66,\n",
       " 65,\n",
       " 62,\n",
       " 69,\n",
       " 75,\n",
       " 61,\n",
       " 71,\n",
       " 70,\n",
       " 65,\n",
       " 69,\n",
       " 66,\n",
       " 67,\n",
       " 70,\n",
       " 73,\n",
       " 69,\n",
       " 74,\n",
       " 70,\n",
       " 64,\n",
       " 72,\n",
       " 62,\n",
       " 67,\n",
       " 70,\n",
       " 65,\n",
       " 63,\n",
       " 67,\n",
       " 67,\n",
       " 72,\n",
       " 59,\n",
       " 72,\n",
       " 63,\n",
       " 59,\n",
       " 65,\n",
       " 72,\n",
       " 69,\n",
       " 72,\n",
       " 60,\n",
       " 66,\n",
       " 70,\n",
       " 60,\n",
       " 70,\n",
       " 64,\n",
       " 68,\n",
       " 71,\n",
       " 68,\n",
       " 64,\n",
       " 61,\n",
       " 70,\n",
       " 65,\n",
       " 61,\n",
       " 63,\n",
       " 68,\n",
       " 66,\n",
       " 76,\n",
       " 68,\n",
       " 66,\n",
       " 70,\n",
       " 66,\n",
       " 64,\n",
       " 68,\n",
       " 65,\n",
       " 73,\n",
       " 66,\n",
       " 69,\n",
       " 63,\n",
       " 65,\n",
       " 71,\n",
       " 70,\n",
       " 70,\n",
       " 72,\n",
       " 65,\n",
       " 64,\n",
       " 62,\n",
       " 64,\n",
       " 60,\n",
       " 68,\n",
       " 66,\n",
       " 66,\n",
       " 72,\n",
       " 67,\n",
       " 67,\n",
       " 69,\n",
       " 66,\n",
       " 61,\n",
       " 68,\n",
       " 63,\n",
       " 62,\n",
       " 66,\n",
       " 62,\n",
       " 64,\n",
       " 66,\n",
       " 68,\n",
       " 65,\n",
       " 74,\n",
       " 70,\n",
       " 69,\n",
       " 67,\n",
       " 60,\n",
       " 68,\n",
       " 66,\n",
       " 64,\n",
       " 69,\n",
       " 64,\n",
       " 63,\n",
       " 72,\n",
       " 64,\n",
       " 65,\n",
       " 68,\n",
       " 70,\n",
       " 67,\n",
       " 69,\n",
       " 66,\n",
       " 61,\n",
       " 66,\n",
       " 71,\n",
       " 66,\n",
       " 70,\n",
       " 63,\n",
       " 76,\n",
       " 64,\n",
       " 66,\n",
       " 70,\n",
       " 71,\n",
       " 71,\n",
       " 66,\n",
       " 64,\n",
       " 66,\n",
       " 75,\n",
       " 67,\n",
       " 72,\n",
       " 71,\n",
       " 66,\n",
       " 67,\n",
       " 72,\n",
       " 74,\n",
       " 71,\n",
       " 64,\n",
       " 63,\n",
       " 65,\n",
       " 60,\n",
       " 66,\n",
       " 72,\n",
       " 62,\n",
       " 69,\n",
       " 70,\n",
       " 65,\n",
       " 70,\n",
       " 72,\n",
       " 63,\n",
       " 65,\n",
       " 75,\n",
       " 67,\n",
       " 62,\n",
       " 69,\n",
       " 67,\n",
       " 75,\n",
       " 66,\n",
       " 68,\n",
       " 67,\n",
       " 72,\n",
       " 67,\n",
       " 61,\n",
       " 60,\n",
       " 65,\n",
       " 66,\n",
       " 61,\n",
       " 65,\n",
       " 62,\n",
       " 72,\n",
       " 67,\n",
       " 62,\n",
       " 71,\n",
       " 66,\n",
       " 67,\n",
       " 65,\n",
       " 63,\n",
       " 70,\n",
       " 70,\n",
       " 71,\n",
       " 63,\n",
       " 68,\n",
       " 66,\n",
       " 65,\n",
       " 63,\n",
       " 61,\n",
       " 62,\n",
       " 68,\n",
       " 63,\n",
       " 66,\n",
       " 67,\n",
       " 62,\n",
       " 63,\n",
       " 67,\n",
       " 68,\n",
       " 64,\n",
       " 69,\n",
       " 66,\n",
       " 61,\n",
       " 63,\n",
       " 69,\n",
       " 64,\n",
       " 64,\n",
       " 72,\n",
       " 66,\n",
       " 60,\n",
       " 65,\n",
       " 74,\n",
       " 68,\n",
       " 71,\n",
       " 62,\n",
       " 65,\n",
       " 63,\n",
       " 65,\n",
       " 65,\n",
       " 66,\n",
       " 72,\n",
       " 67,\n",
       " 63,\n",
       " 66,\n",
       " 69,\n",
       " 65,\n",
       " 65,\n",
       " 71,\n",
       " 73,\n",
       " 72,\n",
       " 68,\n",
       " 62,\n",
       " 64,\n",
       " 66,\n",
       " 63,\n",
       " 69,\n",
       " 63,\n",
       " 67,\n",
       " 59,\n",
       " 71,\n",
       " 64,\n",
       " 71,\n",
       " 64,\n",
       " 65,\n",
       " 67,\n",
       " 65,\n",
       " 65,\n",
       " 71,\n",
       " 71,\n",
       " 59,\n",
       " 67,\n",
       " 68,\n",
       " 71,\n",
       " 64,\n",
       " 67,\n",
       " 72,\n",
       " 76,\n",
       " 72,\n",
       " 68,\n",
       " 64,\n",
       " 69,\n",
       " 64,\n",
       " 62,\n",
       " 71,\n",
       " 72,\n",
       " 62,\n",
       " 71,\n",
       " 69,\n",
       " 65,\n",
       " 64,\n",
       " 60,\n",
       " 72,\n",
       " 64,\n",
       " 72,\n",
       " 65,\n",
       " 70,\n",
       " 62,\n",
       " 62,\n",
       " 66,\n",
       " 72,\n",
       " 69,\n",
       " 63,\n",
       " 72,\n",
       " 72,\n",
       " 70,\n",
       " 67,\n",
       " 64,\n",
       " 65,\n",
       " 66,\n",
       " 69,\n",
       " 65,\n",
       " 67,\n",
       " 66,\n",
       " 65,\n",
       " 62,\n",
       " 60,\n",
       " 66,\n",
       " 67,\n",
       " 69,\n",
       " 61,\n",
       " 63,\n",
       " 64,\n",
       " 66,\n",
       " 70,\n",
       " 63,\n",
       " 72,\n",
       " 67,\n",
       " 69,\n",
       " 69,\n",
       " 64,\n",
       " 70,\n",
       " 67,\n",
       " 71,\n",
       " 64,\n",
       " 63,\n",
       " 74,\n",
       " 64,\n",
       " 73,\n",
       " 66,\n",
       " 70,\n",
       " 68,\n",
       " 61,\n",
       " 62,\n",
       " 65,\n",
       " 71,\n",
       " 69,\n",
       " 67,\n",
       " 61,\n",
       " 68,\n",
       " 60,\n",
       " 74,\n",
       " 65,\n",
       " 72,\n",
       " 60,\n",
       " 70,\n",
       " 62,\n",
       " 70,\n",
       " 72,\n",
       " 69,\n",
       " 67,\n",
       " 66,\n",
       " 71,\n",
       " 69,\n",
       " 59,\n",
       " 67,\n",
       " 65,\n",
       " 63,\n",
       " 63,\n",
       " 62,\n",
       " 66,\n",
       " 65,\n",
       " 64,\n",
       " 68,\n",
       " 64,\n",
       " 65,\n",
       " 65,\n",
       " 66,\n",
       " 67,\n",
       " 68,\n",
       " 62,\n",
       " 71,\n",
       " 70,\n",
       " 69,\n",
       " 61,\n",
       " 63,\n",
       " 66,\n",
       " 59,\n",
       " ...]"
      ]
     },
     "execution_count": 9,
     "metadata": {},
     "output_type": "execute_result"
    }
   ],
   "source": [
    "filter_list(height)"
   ]
  },
  {
   "cell_type": "code",
   "execution_count": 10,
   "metadata": {},
   "outputs": [
    {
     "data": {
      "image/png": "[encoded data removed]",
      "text/plain": [
       "<Figure size 432x288 with 1 Axes>"
      ]
     },
     "metadata": {
      "needs_background": "light"
     },
     "output_type": "display_data"
    }
   ],
   "source": [
    "# Plot a histogram for the filtered list - use 8 bins as before\n",
    "import matplotlib.pyplot as plt\n",
    "plt.figure(figsize=(6,4))\n",
    "plt.hist(filter_list(height), color = \"orange\", lw = .3, ec = \"white\", bins = 8)\n",
    "\n",
    "plt.xlabel('inches')\n",
    "plt.title('Heights')\n",
    "plt.show()"
   ]
  },
  {
   "cell_type": "code",
   "execution_count": 23,
   "metadata": {},
   "outputs": [],
   "source": [
    "# Expected output"
   ]
  },
  {
   "cell_type": "code",
   "execution_count": 11,
   "metadata": {},
   "outputs": [
    {
     "data": {
      "text/plain": [
       "66.85"
      ]
     },
     "execution_count": 11,
     "metadata": {},
     "output_type": "execute_result"
    }
   ],
   "source": [
    "# Get the mean of the new list using our get_mean() function\n",
    "get_mean(filter_list(height))\n",
    "\n",
    "# 66.85"
   ]
  },
  {
   "cell_type": "markdown",
   "metadata": {},
   "source": [
    "Now based on your findings before and after the outliers in mean and histogram, record your observations below:"
   ]
  },
  {
   "cell_type": "code",
   "execution_count": 44,
   "metadata": {},
   "outputs": [],
   "source": [
    "# Record your observations here "
   ]
  },
  {
   "cell_type": "markdown",
   "metadata": {},
   "source": [
    "Right, in some analytical situations we may not be able to exclude the outliers in such a naive manner. So let's calculate other measures of central tendency as well. We'll move on to calculating the median value for our original height data. "
   ]
  },
  {
   "cell_type": "markdown",
   "metadata": {},
   "source": [
    "## Calculating Median "
   ]
  },
  {
   "cell_type": "markdown",
   "metadata": {},
   "source": [
    "The median is the value directly in the middle of the a dataset. In statistical terms, this is the median quartile. If the dataset was sorted from lowest value to highest value, the median is the value that would be larger than the first 50% of the data, and smaller than the second 50%.\n",
    "\n",
    "If the dataset has an odd number of values, then the median is the middle number.\n",
    "If the datasaet has an even number of values, then we take the mean of the middle two numbers.\n",
    "\n",
    "In the cell below, write a function that takes in an array of numbers and returns the median value for that dataset. Make sure you first check for even / odd and perform computation accordingly. So its `Sorting > checking even/odd > calculating median`. Let's give it a try. \n",
    "\n",
    "(Hint: you can use modulo operator `%` in python to check if a value is even or odd)"
   ]
  },
  {
   "cell_type": "code",
   "execution_count": 12,
   "metadata": {},
   "outputs": [
    {
     "name": "stdout",
     "output_type": "stream",
     "text": [
      "3\n",
      "2.5\n"
     ]
    }
   ],
   "source": [
    "def get_median(data):\n",
    "\n",
    "    data_sorted = sorted(data)\n",
    "    list_len = len(data)\n",
    "    i = (list_len - 1) // 2\n",
    "    \n",
    "    if (list_len % 2):\n",
    "        return data_sorted[i]\n",
    "    else:\n",
    "        return (data_sorted[i] + data_sorted[i + 1])/2.0\n",
    "   \n",
    "\n",
    "# Check for even/odd and perform calculations accordingly - use if-else \n",
    "   \n",
    "\n",
    "test1 = [5, 4, 1, 3, 2]\n",
    "test2 = [4, 2, 3, 1]\n",
    "\n",
    "print(get_median(test1)) # 3\n",
    "print(get_median(test2)) # 2.5"
   ]
  },
  {
   "cell_type": "markdown",
   "metadata": {},
   "source": [
    "Great, now we can pass in our height list to this function to check the median. "
   ]
  },
  {
   "cell_type": "code",
   "execution_count": 13,
   "metadata": {},
   "outputs": [
    {
     "data": {
      "text/plain": [
       "67"
      ]
     },
     "execution_count": 13,
     "metadata": {},
     "output_type": "execute_result"
    }
   ],
   "source": [
    "get_median(height)\n",
    "# 67"
   ]
  },
  {
   "cell_type": "markdown",
   "metadata": {},
   "source": [
    "So we have 67 , which is much closer to the filtered list mean (66.85) than the mean we calculated with actual list (69.58). So median in this case seems to be a much better indicative of the central tendency found in the dataset. \n",
    "\n",
    "But remember we also have mode ! Maybe this can give us an even better insight into the typical values in the dataset based on how frequent a value is. So let's calculate that. "
   ]
  },
  {
   "cell_type": "markdown",
   "metadata": {},
   "source": [
    "## Calculating Mode"
   ]
  },
  {
   "cell_type": "markdown",
   "metadata": {},
   "source": [
    "The mode is the value that shows up the most in a dataset. A dataset can have 0 or more modes. If no value shows up more than once, the dataset is considered to have no mode value. If two numbers show up the same number of times, that dataset is considered bimodal. Datasets where multiple values all show up the same number of times are considered multimodal.\n",
    "\n",
    "In the cell below, write a function that takes in an list of numbers and returns another list containing the mode value(s). In case of only one mode, the list would have a single element. \n",
    "\n",
    "Hint: Building frequency distribution table using dictionaries is probably the easiest way to approach this problem. Use each unique element from the height list as a key, and frequency of this element as the value and build a dictionary. You can then simply identify the keys (heights) with maximum values. "
   ]
  },
  {
   "cell_type": "code",
   "execution_count": 14,
   "metadata": {},
   "outputs": [
    {
     "name": "stdout",
     "output_type": "stream",
     "text": [
      "[(5, 2), (1, 1), (2, 1)]\n",
      "[(1, 3), (5, 3), (2, 1)]\n"
     ]
    }
   ],
   "source": [
    "from collections import Counter\n",
    "def get_mode(data):\n",
    "\n",
    "    frequency_dict = {i:data.count(i) for i in data}\n",
    "    modes = list(Counter(frequency_dict).most_common(3))\n",
    "    return modes\n",
    "\n",
    "test1 = [1, 2, 3, 5, 5, 4]\n",
    "test2 = [1, 1, 1, 2, 3, 4, 5, 5, 5]\n",
    "\n",
    "print(get_mode(test1)) # [5]\n",
    "print(get_mode(test2)) # [1, 5]"
   ]
  },
  {
   "cell_type": "markdown",
   "metadata": {},
   "source": [
    "Thats done. Now can see calculate mode and compare it with our mean and median values. "
   ]
  },
  {
   "cell_type": "code",
   "execution_count": 15,
   "metadata": {
    "scrolled": true
   },
   "outputs": [
    {
     "data": {
      "text/plain": [
       "[(64, 451), (66, 410), (67, 384)]"
      ]
     },
     "execution_count": 15,
     "metadata": {},
     "output_type": "execute_result"
    }
   ],
   "source": [
    "get_mode(height)"
   ]
  },
  {
   "cell_type": "markdown",
   "metadata": {},
   "source": [
    "So the mode value is much lower than our mean and median calculated earlier. What do you make of this? The answer to that could be subjective and depends on the problem. i.e. If your problem is to identify sizes for garments that would sell the most, you can not disregard mode. However, if you want to get an idea about the general or typical height of individuals, you can probably still do with median and average. \n",
    "\n",
    "To get an even clearer picture, We know we need to see how much the values deviate from the central values we have identified. We have seen variance and standard deviation before as measures of such dispersion. Let's have a go at these to strengthen our understanding around this data. \n"
   ]
  },
  {
   "cell_type": "markdown",
   "metadata": {},
   "source": [
    "## Calculate Variance\n",
    "\n",
    "The formula for variance, has been shown earlier as: \n",
    "![](variance.jpg)"
   ]
  },
  {
   "cell_type": "markdown",
   "metadata": {},
   "source": [
    "You are required to write a function In the cell below, that takes an array of numbers as input and returns the Variance of the sample as output."
   ]
  },
  {
   "cell_type": "code",
   "execution_count": 22,
   "metadata": {},
   "outputs": [
    {
     "name": "stdout",
     "output_type": "stream",
     "text": [
      "2.222222\n",
      "3.33\n",
      "2.888889\n"
     ]
    },
    {
     "data": {
      "text/plain": [
       "2.89"
      ]
     },
     "execution_count": 22,
     "metadata": {},
     "output_type": "execute_result"
    }
   ],
   "source": [
    "def get_variance(sample):\n",
    "    N = len(sample)\n",
    "    total = sum(sample)\n",
    "    sample_mean = total/N\n",
    "    count = 0\n",
    "    for i in sample:\n",
    "        count += (i - sample_mean) **2\n",
    "    variance = count/len(sample)\n",
    "    return round(variance, 2)\n",
    "\n",
    "test1 = [1, 2, 3, 5, 5, 4]\n",
    "test2 = [1, 1, 1, 2, 3, 4, 5, 5, 5]\n",
    "print(get_variance(test1)) # 2.22\n",
    "print(get_mean(test1)) # 3.33\n",
    "print(get_variance(test2)) # 2.89\n",
    "2.22\n",
    "3.33\n",
    "2.89"
   ]
  },
  {
   "cell_type": "markdown",
   "metadata": {},
   "source": [
    "Now we can test the variance of our height list with get_variance() function. "
   ]
  },
  {
   "cell_type": "code",
   "execution_count": 23,
   "metadata": {},
   "outputs": [
    {
     "data": {
      "text/plain": [
       "87.726424"
      ]
     },
     "execution_count": 23,
     "metadata": {},
     "output_type": "execute_result"
    }
   ],
   "source": [
    "get_variance(height)\n",
    "# 87.74"
   ]
  },
  {
   "cell_type": "markdown",
   "metadata": {},
   "source": [
    "So this value, as we learned earlier, tells us a a bit about the deviation but not in the units of underlying data. This is because it squares the values of deviations. Standard deviation, however, can deal with this issue as it takes the square roots of differences. So that would probably be a bit more revealing. "
   ]
  },
  {
   "cell_type": "markdown",
   "metadata": {},
   "source": [
    "## Calculate Standard Deviation"
   ]
  },
  {
   "cell_type": "markdown",
   "metadata": {},
   "source": [
    "In the cell below, write a function that takes an array of numbers as input and returns the standard deviation of that sample as output.\n",
    "\n",
    "Recall that the formula for Standard Deviation is:\n",
    "\n",
    "![](std.gif)\n",
    "\n",
    "you would need `sqrt` method from math library to calculate the square root. "
   ]
  },
  {
   "cell_type": "markdown",
   "metadata": {},
   "source": [
    "**Note:** *Alternatively, another approach to finding the square root of a number would be to raise that number to the power of `0.5`. For example, if we wanted to find the square root of `100`, we could raise `100` to the power of `0.5`, which would give us the number `10.0`. However, **either** approach will work.*\n",
    "\n",
    "```python\n",
    "100**0.5\n",
    "# 10.0\n",
    "\n",
    "from math import sqrt\n",
    "sqrt(100)\n",
    "# 10.0\n",
    "```"
   ]
  },
  {
   "cell_type": "code",
   "execution_count": 27,
   "metadata": {},
   "outputs": [
    {
     "name": "stdout",
     "output_type": "stream",
     "text": [
      "76.7\n"
     ]
    }
   ],
   "source": [
    "from math import sqrt\n",
    "\n",
    "def get_stddev(list):\n",
    "    \n",
    "    sum = 0\n",
    "    \n",
    "    mean = get_mean(list)\n",
    "    \n",
    "    for i in range(len(list)):\n",
    "        sum += pow((list[i]- mean),2)\n",
    "\n",
    "    stddev = (sum/len(list)-1)**.5\n",
    "    \n",
    "    return round(stddev, 2)\n",
    "\n",
    "\n",
    "test = [120,112,131,211,312,90]\n",
    "\n",
    "print (get_stddev(test))\n",
    "# 76.7"
   ]
  },
  {
   "cell_type": "markdown",
   "metadata": {},
   "source": [
    "So now we can finally calculate stndard deviation for our height list and inspect the results. "
   ]
  },
  {
   "cell_type": "code",
   "execution_count": 33,
   "metadata": {},
   "outputs": [
    {
     "data": {
      "text/plain": [
       "9.36623851927763"
      ]
     },
     "execution_count": 33,
     "metadata": {},
     "output_type": "execute_result"
    }
   ],
   "source": [
    "get_stddev(height)\n",
    "# 9.31"
   ]
  },
  {
   "cell_type": "markdown",
   "metadata": {},
   "source": [
    "So 9.3 inches is how the deviation is present in our dataset. As we are still including outlier values, this might still slightly be effected but these results are now much more reliable. \n",
    "\n",
    "We shall finally build a boxplot for height data and see if it agrees with our understanding for this data that we have developed up to this point. USe the matplotlib's boxplot method with height data and comment on the output "
   ]
  },
  {
   "cell_type": "markdown",
   "metadata": {},
   "source": [
    "## Build a BoxPlot"
   ]
  },
  {
   "cell_type": "markdown",
   "metadata": {},
   "source": [
    "Follow the boxplot method shown earier and build a boxplot for height data. See if you can spot the outliers? Are the observations gathered from boxplot inline with our calculations? "
   ]
  },
  {
   "cell_type": "code",
   "execution_count": 34,
   "metadata": {},
   "outputs": [
    {
     "data": {
      "image/png": "[encoded data removed]",
      "text/plain": [
       "<Figure size 432x288 with 1 Axes>"
      ]
     },
     "metadata": {},
     "output_type": "display_data"
    }
   ],
   "source": [
    "import matplotlib.pyplot as plt\n",
    "plt.style.use('ggplot')\n",
    "plt.boxplot(list(height), showfliers=True)\n",
    "plt.title('Height Data')\n",
    "plt.show()\n"
   ]
  },
  {
   "cell_type": "code",
   "execution_count": 35,
   "metadata": {},
   "outputs": [
    {
     "data": {
      "image/png": "[encoded data removed]",
      "text/plain": [
       "<Figure size 432x288 with 1 Axes>"
      ]
     },
     "metadata": {},
     "output_type": "display_data"
    }
   ],
   "source": [
    "import matplotlib.pyplot as plt\n",
    "plt.style.use('ggplot')\n",
    "plt.boxplot(list(height), showfliers=False)\n",
    "plt.title('Height Data')\n",
    "plt.show()"
   ]
  },
  {
   "cell_type": "code",
   "execution_count": 23,
   "metadata": {},
   "outputs": [],
   "source": [
    "# Record your observations here \n"
   ]
  },
  {
   "cell_type": "markdown",
   "metadata": {},
   "source": [
    "### Findings\n",
    "So there we have it. We have done an indepth analysis of individuals' heights using measure of central tendency of the data (67 - 68) inches, and the standard spread of the data to be around 9 inches around the mean. So we can expect half of the individuals to lie between 64 to 71 inches, as the IQR range covers 50% of the samples. These figures have been confirmed by our calculations as well as visual analysis of the data with histograms and boxplots. \n",
    "\n",
    "We shall learn how to further this analysis using more sophisticated statistical methods as models as we progress through the course. We shall also learn how these basic techniques provide you with a strong foundation to develop your intuitions for machine learning and predictive analysis. "
   ]
  },
  {
   "cell_type": "markdown",
   "metadata": {},
   "source": [
    "## Summary \n",
    "\n",
    "In this lab, we performed a basic, yet detailed statistical analysis around measuring the tendencies of center and spread in a given dataset. We looked at building a number of functions for calculate different measures and also used some statistical visualizations to strengthen our intuitions around the dataset. We shall see how we can simplify this process as we study numpy and pandas libraries to ease out the programming load while calculating basic statistics. "
   ]
  }
 ],
 "metadata": {
  "kernelspec": {
   "display_name": "learn-env",
   "language": "python",
   "name": "learn-env"
  },
  "language_info": {
   "codemirror_mode": {
    "name": "ipython",
    "version": 3
   },
   "file_extension": ".py",
   "mimetype": "text/x-python",
   "name": "python",
   "nbconvert_exporter": "python",
   "pygments_lexer": "ipython3",
   "version": "3.6.6"
  }
 },
 "nbformat": 4,
 "nbformat_minor": 2
}
