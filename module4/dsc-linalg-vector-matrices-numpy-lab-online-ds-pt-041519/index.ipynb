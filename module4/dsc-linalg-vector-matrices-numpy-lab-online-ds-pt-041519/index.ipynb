{
 "cells": [
  {
   "cell_type": "markdown",
   "metadata": {},
   "source": [
    "# Vectors and Matrices in Numpy - Lab\n",
    "\n",
    "## Introduction\n",
    "\n",
    "In this lab, you'll solve some simple matrix creation and manipulation exercises based on what you've learned so far in this section. The key takeaway here is to be able to understand how to use indexing with matrices and vectors while applying some basic operations.\n",
    "\n",
    "## Objectives\n",
    "You will be able to:\n",
    "* Define vectors and matrices in NumPy\n",
    "* Check the shape of vectors and matrices\n",
    "* Access and manipulate individual scalar components of a matrix. \n",
    "\n",
    "## 1. Define two arrays $A$  with shape $ (4 \\times 2)$ and $B$ with shape $(2 \\times 3)$ \n",
    "So    $A =    \n",
    "  \\left[ {\\begin{array}{cc}\n",
    "   1402 & 191 \\\\\n",
    "   1371 &  821\\\\\n",
    "   949 &  1437 \\\\\n",
    "   147 & 1448 \\\\\n",
    "  \\end{array} }\\right]\n",
    "$\n",
    "and\n",
    "$\n",
    "B =    \n",
    "  \\left[ {\\begin{array}{ccc}\n",
    "   1 & 2 & 3 \\\\\n",
    "   4 & 5 & 6\\\\\n",
    "  \\end{array} }\\right]\n",
    "$"
   ]
  },
  {
   "cell_type": "code",
   "execution_count": 1,
   "metadata": {},
   "outputs": [
    {
     "name": "stdout",
     "output_type": "stream",
     "text": [
      "[[1402  191]\n",
      " [1371  821]\n",
      " [ 949 1437]\n",
      " [ 147 1448]]\n",
      "[[1 2 3]\n",
      " [4 5 6]]\n"
     ]
    }
   ],
   "source": [
    "# Code Here\n",
    "import numpy as np\n",
    "A = np.array([[1402,191],[1371,821],[949,1437],[147,1448]])\n",
    "B = np.array([[1,2,3],[4,5,6]])\n",
    "print(A)\n",
    "print(B)"
   ]
  },
  {
   "cell_type": "markdown",
   "metadata": {},
   "source": [
    "## 2. Print the dimensions of $A$ and $B$ "
   ]
  },
  {
   "cell_type": "code",
   "execution_count": 2,
   "metadata": {},
   "outputs": [
    {
     "data": {
      "text/plain": [
       "((4, 2), (2, 3))"
      ]
     },
     "execution_count": 2,
     "metadata": {},
     "output_type": "execute_result"
    }
   ],
   "source": [
    "# Code Here\n",
    "A.shape, B.shape"
   ]
  },
  {
   "cell_type": "markdown",
   "metadata": {},
   "source": [
    "## 3. Print some of the elements from $A$: \n",
    "* first row and first column\n",
    "* first row and second column\n",
    "* third row and second column\n",
    "* fourth row and first column"
   ]
  },
  {
   "cell_type": "code",
   "execution_count": 3,
   "metadata": {},
   "outputs": [
    {
     "data": {
      "text/plain": [
       "147"
      ]
     },
     "execution_count": 3,
     "metadata": {},
     "output_type": "execute_result"
    }
   ],
   "source": [
    "# Code Here\n",
    "A[3,0]"
   ]
  },
  {
   "cell_type": "markdown",
   "metadata": {},
   "source": [
    "## 4. Write a routine to populate a matrix with random data\n",
    "* Create an $(3 \\times 3)$ Numpy array with all zeros (use `np.zeros()`)\n",
    "* Access each location $(i,j)$ of this matrix and fill in random values between the range 1 and 10. "
   ]
  },
  {
   "cell_type": "code",
   "execution_count": 4,
   "metadata": {},
   "outputs": [
    {
     "data": {
      "text/plain": [
       "array([[8., 3., 4.],\n",
       "       [2., 3., 3.],\n",
       "       [2., 7., 6.]])"
      ]
     },
     "execution_count": 4,
     "metadata": {},
     "output_type": "execute_result"
    }
   ],
   "source": [
    "# Code Here (due to random data , your output might be different)\n",
    "M = np.zeros((3,3))\n",
    "M\n",
    "for i in range(0, M.shape[0]):\n",
    "    for j in range(0, M.shape[1]):\n",
    "        M[i][j] = np.random.randint(10, dtype='int64')\n",
    "M"
   ]
  },
  {
   "cell_type": "markdown",
   "metadata": {},
   "source": [
    "## 5. Turn the above routine into a function\n",
    "* Create two $(4 \\times 4)$ zero valued matrices and fill with random data using the function\n",
    "* Add the matrices together in numpy \n",
    "* Show the results"
   ]
  },
  {
   "cell_type": "code",
   "execution_count": 5,
   "metadata": {},
   "outputs": [
    {
     "data": {
      "text/plain": [
       "array([[17., 17.,  7., 11.],\n",
       "       [15.,  2.,  7.,  9.],\n",
       "       [ 2., 11.,  6.,  4.],\n",
       "       [ 4.,  8.,  5.,  6.]])"
      ]
     },
     "execution_count": 5,
     "metadata": {},
     "output_type": "execute_result"
    }
   ],
   "source": [
    "# Code Here (due to random data , your output might be different)\n",
    "def matrix_creation_and_addition(rows, columns):\n",
    "    X = np.zeros((rows, columns))\n",
    "    Y = M = np.zeros((rows, columns))\n",
    "    for i in range(0, X.shape[0]):\n",
    "        for j in range(0, X.shape[1]):\n",
    "            X[i][j] = np.random.randint(10, dtype='int64')\n",
    "            \n",
    "    for i in range(0, Y.shape[0]):\n",
    "        for j in range(0, Y.shape[1]):\n",
    "            Y[i][j] = np.random.randint(10, dtype='int64')\n",
    "    Z = X + Y \n",
    "    \n",
    "    return Z\n",
    "\n",
    "matrix_creation_and_addition(4,4)   "
   ]
  },
  {
   "cell_type": "markdown",
   "metadata": {},
   "source": [
    "## Summary \n",
    "\n",
    "In this lab, we saw how to create and manipulate vectors and matrices in numpy. We shall now move forward to learning more complex operations including dot products and inverses. "
   ]
  },
  {
   "cell_type": "code",
   "execution_count": null,
   "metadata": {},
   "outputs": [],
   "source": []
  }
 ],
 "metadata": {
  "kernelspec": {
   "display_name": "learn-env",
   "language": "python",
   "name": "learn-env"
  },
  "language_info": {
   "codemirror_mode": {
    "name": "ipython",
    "version": 3
   },
   "file_extension": ".py",
   "mimetype": "text/x-python",
   "name": "python",
   "nbconvert_exporter": "python",
   "pygments_lexer": "ipython3",
   "version": "3.6.6"
  }
 },
 "nbformat": 4,
 "nbformat_minor": 2
}
