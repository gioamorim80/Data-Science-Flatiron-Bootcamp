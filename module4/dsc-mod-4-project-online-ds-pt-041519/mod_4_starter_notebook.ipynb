{
 "cells": [
  {
   "cell_type": "markdown",
   "metadata": {},
   "source": [
    "# Mod 4 Project - Starter Notebook\n",
    "\n",
    "This notebook has been provided to you so that you can make use of the following starter code to help with the trickier parts of preprocessing the Zillow dataset. \n",
    "\n",
    "The notebook contains a rough outline the general order you'll likely want to take in this project. You'll notice that most of the areas are left blank. This is so that it's more obvious exactly when you should make use of the starter code provided for preprocessing. \n",
    "\n",
    "**_NOTE:_** The number of empty cells are not meant to infer how much or how little code should be involved in any given step--we've just provided a few for your convenience. Add, delete, and change things around in this notebook as needed!\n",
    "\n",
    "# Some Notes Before Starting\n",
    "\n",
    "This project will be one of the more challenging projects you complete in this program. This is because working with Time Series data is a bit different than working with regular datasets. In order to make this a bit less frustrating and help you understand what you need to do (and when you need to do it), we'll quickly review the dataset formats that you'll encounter in this project. \n",
    "\n",
    "## Wide Format vs Long Format\n",
    "\n",
    "If you take a look at the format of the data in `zillow_data.csv`, you'll notice that the actual Time Series values are stored as separate columns. Here's a sample: \n",
    "\n",
    "<img src='~/../images/df_head.png'>\n",
    "\n",
    "You'll notice that the first seven columns look like any other dataset you're used to working with. However, column 8 refers to the median housing sales values for April 1996, column 9 for May 1996, and so on. This This is called **_Wide Format_**, and it makes the dataframe intuitive and easy to read. However, there are problems with this format when it comes to actually learning from the data, because the data only makes sense if you know the name of the column that the data can be found it. Since column names are metadata, our algorithms will miss out on what dates each value is for. This means that before we pass this data to our ARIMA model, we'll need to reshape our dataset to **_Long Format_**. Reshaped into long format, the dataframe above would now look like:\n",
    "\n",
    "<img src='~/../images/melted1.png'>\n",
    "\n",
    "There are now many more rows in this dataset--one for each unique time and zipcode combination in the data! Once our dataset is in this format, we'll be able to train an ARIMA model on it. The method used to convert from Wide to Long is `pd.melt()`, and it is common to refer to our dataset as 'melted' after the transition to denote that it is in long format. \n",
    "\n",
    "# Helper Functions Provided\n",
    "\n",
    "Melting a dataset can be tricky if you've never done it before, so you'll see that we have provided a sample function, `melt_data()`, to help you with this step below. Also provided is:\n",
    "\n",
    "* `get_datetimes()`, a function to deal with converting the column values for datetimes as a pandas series of datetime objects\n",
    "* Some good parameters for matplotlib to help make your visualizations more readable. \n",
    "\n",
    "Good luck!\n",
    "\n",
    "\n",
    "# Step 1: Load the Data/Filtering for Chosen Zipcodes"
   ]
  },
  {
   "cell_type": "code",
   "execution_count": 1,
   "metadata": {},
   "outputs": [],
   "source": [
    "# importing relevant libraries\n",
    "import pandas as pd\n",
    "import numpy as np\n",
    "import matplotlib\n",
    "import matplotlib.pyplot as plt"
   ]
  },
  {
   "cell_type": "code",
   "execution_count": 2,
   "metadata": {},
   "outputs": [
    {
     "data": {
      "text/html": [
       "<div>\n",
       "<style scoped>\n",
       "    .dataframe tbody tr th:only-of-type {\n",
       "        vertical-align: middle;\n",
       "    }\n",
       "\n",
       "    .dataframe tbody tr th {\n",
       "        vertical-align: top;\n",
       "    }\n",
       "\n",
       "    .dataframe thead th {\n",
       "        text-align: right;\n",
       "    }\n",
       "</style>\n",
       "<table border=\"1\" class=\"dataframe\">\n",
       "  <thead>\n",
       "    <tr style=\"text-align: right;\">\n",
       "      <th></th>\n",
       "      <th>RegionID</th>\n",
       "      <th>RegionName</th>\n",
       "      <th>City</th>\n",
       "      <th>State</th>\n",
       "      <th>Metro</th>\n",
       "      <th>CountyName</th>\n",
       "      <th>SizeRank</th>\n",
       "      <th>1996-04</th>\n",
       "      <th>1996-05</th>\n",
       "      <th>1996-06</th>\n",
       "      <th>...</th>\n",
       "      <th>2017-07</th>\n",
       "      <th>2017-08</th>\n",
       "      <th>2017-09</th>\n",
       "      <th>2017-10</th>\n",
       "      <th>2017-11</th>\n",
       "      <th>2017-12</th>\n",
       "      <th>2018-01</th>\n",
       "      <th>2018-02</th>\n",
       "      <th>2018-03</th>\n",
       "      <th>2018-04</th>\n",
       "    </tr>\n",
       "  </thead>\n",
       "  <tbody>\n",
       "    <tr>\n",
       "      <th>0</th>\n",
       "      <td>84654</td>\n",
       "      <td>60657</td>\n",
       "      <td>Chicago</td>\n",
       "      <td>IL</td>\n",
       "      <td>Chicago</td>\n",
       "      <td>Cook</td>\n",
       "      <td>1</td>\n",
       "      <td>334200.0</td>\n",
       "      <td>335400.0</td>\n",
       "      <td>336500.0</td>\n",
       "      <td>...</td>\n",
       "      <td>1005500</td>\n",
       "      <td>1007500</td>\n",
       "      <td>1007800</td>\n",
       "      <td>1009600</td>\n",
       "      <td>1013300</td>\n",
       "      <td>1018700</td>\n",
       "      <td>1024400</td>\n",
       "      <td>1030700</td>\n",
       "      <td>1033800</td>\n",
       "      <td>1030600</td>\n",
       "    </tr>\n",
       "    <tr>\n",
       "      <th>1</th>\n",
       "      <td>90668</td>\n",
       "      <td>75070</td>\n",
       "      <td>McKinney</td>\n",
       "      <td>TX</td>\n",
       "      <td>Dallas-Fort Worth</td>\n",
       "      <td>Collin</td>\n",
       "      <td>2</td>\n",
       "      <td>235700.0</td>\n",
       "      <td>236900.0</td>\n",
       "      <td>236700.0</td>\n",
       "      <td>...</td>\n",
       "      <td>308000</td>\n",
       "      <td>310000</td>\n",
       "      <td>312500</td>\n",
       "      <td>314100</td>\n",
       "      <td>315000</td>\n",
       "      <td>316600</td>\n",
       "      <td>318100</td>\n",
       "      <td>319600</td>\n",
       "      <td>321100</td>\n",
       "      <td>321800</td>\n",
       "    </tr>\n",
       "    <tr>\n",
       "      <th>2</th>\n",
       "      <td>91982</td>\n",
       "      <td>77494</td>\n",
       "      <td>Katy</td>\n",
       "      <td>TX</td>\n",
       "      <td>Houston</td>\n",
       "      <td>Harris</td>\n",
       "      <td>3</td>\n",
       "      <td>210400.0</td>\n",
       "      <td>212200.0</td>\n",
       "      <td>212200.0</td>\n",
       "      <td>...</td>\n",
       "      <td>321000</td>\n",
       "      <td>320600</td>\n",
       "      <td>320200</td>\n",
       "      <td>320400</td>\n",
       "      <td>320800</td>\n",
       "      <td>321200</td>\n",
       "      <td>321200</td>\n",
       "      <td>323000</td>\n",
       "      <td>326900</td>\n",
       "      <td>329900</td>\n",
       "    </tr>\n",
       "    <tr>\n",
       "      <th>3</th>\n",
       "      <td>84616</td>\n",
       "      <td>60614</td>\n",
       "      <td>Chicago</td>\n",
       "      <td>IL</td>\n",
       "      <td>Chicago</td>\n",
       "      <td>Cook</td>\n",
       "      <td>4</td>\n",
       "      <td>498100.0</td>\n",
       "      <td>500900.0</td>\n",
       "      <td>503100.0</td>\n",
       "      <td>...</td>\n",
       "      <td>1289800</td>\n",
       "      <td>1287700</td>\n",
       "      <td>1287400</td>\n",
       "      <td>1291500</td>\n",
       "      <td>1296600</td>\n",
       "      <td>1299000</td>\n",
       "      <td>1302700</td>\n",
       "      <td>1306400</td>\n",
       "      <td>1308500</td>\n",
       "      <td>1307000</td>\n",
       "    </tr>\n",
       "    <tr>\n",
       "      <th>4</th>\n",
       "      <td>93144</td>\n",
       "      <td>79936</td>\n",
       "      <td>El Paso</td>\n",
       "      <td>TX</td>\n",
       "      <td>El Paso</td>\n",
       "      <td>El Paso</td>\n",
       "      <td>5</td>\n",
       "      <td>77300.0</td>\n",
       "      <td>77300.0</td>\n",
       "      <td>77300.0</td>\n",
       "      <td>...</td>\n",
       "      <td>119100</td>\n",
       "      <td>119400</td>\n",
       "      <td>120000</td>\n",
       "      <td>120300</td>\n",
       "      <td>120300</td>\n",
       "      <td>120300</td>\n",
       "      <td>120300</td>\n",
       "      <td>120500</td>\n",
       "      <td>121000</td>\n",
       "      <td>121500</td>\n",
       "    </tr>\n",
       "  </tbody>\n",
       "</table>\n",
       "<p>5 rows × 272 columns</p>\n",
       "</div>"
      ],
      "text/plain": [
       "   RegionID  RegionName      City State              Metro CountyName  \\\n",
       "0     84654       60657   Chicago    IL            Chicago       Cook   \n",
       "1     90668       75070  McKinney    TX  Dallas-Fort Worth     Collin   \n",
       "2     91982       77494      Katy    TX            Houston     Harris   \n",
       "3     84616       60614   Chicago    IL            Chicago       Cook   \n",
       "4     93144       79936   El Paso    TX            El Paso    El Paso   \n",
       "\n",
       "   SizeRank   1996-04   1996-05   1996-06   ...     2017-07  2017-08  2017-09  \\\n",
       "0         1  334200.0  335400.0  336500.0   ...     1005500  1007500  1007800   \n",
       "1         2  235700.0  236900.0  236700.0   ...      308000   310000   312500   \n",
       "2         3  210400.0  212200.0  212200.0   ...      321000   320600   320200   \n",
       "3         4  498100.0  500900.0  503100.0   ...     1289800  1287700  1287400   \n",
       "4         5   77300.0   77300.0   77300.0   ...      119100   119400   120000   \n",
       "\n",
       "   2017-10  2017-11  2017-12  2018-01  2018-02  2018-03  2018-04  \n",
       "0  1009600  1013300  1018700  1024400  1030700  1033800  1030600  \n",
       "1   314100   315000   316600   318100   319600   321100   321800  \n",
       "2   320400   320800   321200   321200   323000   326900   329900  \n",
       "3  1291500  1296600  1299000  1302700  1306400  1308500  1307000  \n",
       "4   120300   120300   120300   120300   120500   121000   121500  \n",
       "\n",
       "[5 rows x 272 columns]"
      ]
     },
     "execution_count": 2,
     "metadata": {},
     "output_type": "execute_result"
    }
   ],
   "source": [
    "# loading dataset\n",
    "df = pd.read_csv('zillow_data.csv')\n",
    "df.head()"
   ]
  },
  {
   "cell_type": "code",
   "execution_count": 3,
   "metadata": {
    "scrolled": true
   },
   "outputs": [
    {
     "data": {
      "text/html": [
       "<div>\n",
       "<style scoped>\n",
       "    .dataframe tbody tr th:only-of-type {\n",
       "        vertical-align: middle;\n",
       "    }\n",
       "\n",
       "    .dataframe tbody tr th {\n",
       "        vertical-align: top;\n",
       "    }\n",
       "\n",
       "    .dataframe thead th {\n",
       "        text-align: right;\n",
       "    }\n",
       "</style>\n",
       "<table border=\"1\" class=\"dataframe\">\n",
       "  <thead>\n",
       "    <tr style=\"text-align: right;\">\n",
       "      <th></th>\n",
       "      <th>RegionID</th>\n",
       "      <th>Zipcode</th>\n",
       "      <th>City</th>\n",
       "      <th>State</th>\n",
       "      <th>Metro</th>\n",
       "      <th>CountyName</th>\n",
       "      <th>SizeRank</th>\n",
       "      <th>1996-04</th>\n",
       "      <th>1996-05</th>\n",
       "      <th>1996-06</th>\n",
       "      <th>...</th>\n",
       "      <th>2017-07</th>\n",
       "      <th>2017-08</th>\n",
       "      <th>2017-09</th>\n",
       "      <th>2017-10</th>\n",
       "      <th>2017-11</th>\n",
       "      <th>2017-12</th>\n",
       "      <th>2018-01</th>\n",
       "      <th>2018-02</th>\n",
       "      <th>2018-03</th>\n",
       "      <th>2018-04</th>\n",
       "    </tr>\n",
       "  </thead>\n",
       "  <tbody>\n",
       "    <tr>\n",
       "      <th>0</th>\n",
       "      <td>84654</td>\n",
       "      <td>60657</td>\n",
       "      <td>Chicago</td>\n",
       "      <td>IL</td>\n",
       "      <td>Chicago</td>\n",
       "      <td>Cook</td>\n",
       "      <td>1</td>\n",
       "      <td>334200.0</td>\n",
       "      <td>335400.0</td>\n",
       "      <td>336500.0</td>\n",
       "      <td>...</td>\n",
       "      <td>1005500</td>\n",
       "      <td>1007500</td>\n",
       "      <td>1007800</td>\n",
       "      <td>1009600</td>\n",
       "      <td>1013300</td>\n",
       "      <td>1018700</td>\n",
       "      <td>1024400</td>\n",
       "      <td>1030700</td>\n",
       "      <td>1033800</td>\n",
       "      <td>1030600</td>\n",
       "    </tr>\n",
       "    <tr>\n",
       "      <th>1</th>\n",
       "      <td>90668</td>\n",
       "      <td>75070</td>\n",
       "      <td>McKinney</td>\n",
       "      <td>TX</td>\n",
       "      <td>Dallas-Fort Worth</td>\n",
       "      <td>Collin</td>\n",
       "      <td>2</td>\n",
       "      <td>235700.0</td>\n",
       "      <td>236900.0</td>\n",
       "      <td>236700.0</td>\n",
       "      <td>...</td>\n",
       "      <td>308000</td>\n",
       "      <td>310000</td>\n",
       "      <td>312500</td>\n",
       "      <td>314100</td>\n",
       "      <td>315000</td>\n",
       "      <td>316600</td>\n",
       "      <td>318100</td>\n",
       "      <td>319600</td>\n",
       "      <td>321100</td>\n",
       "      <td>321800</td>\n",
       "    </tr>\n",
       "    <tr>\n",
       "      <th>2</th>\n",
       "      <td>91982</td>\n",
       "      <td>77494</td>\n",
       "      <td>Katy</td>\n",
       "      <td>TX</td>\n",
       "      <td>Houston</td>\n",
       "      <td>Harris</td>\n",
       "      <td>3</td>\n",
       "      <td>210400.0</td>\n",
       "      <td>212200.0</td>\n",
       "      <td>212200.0</td>\n",
       "      <td>...</td>\n",
       "      <td>321000</td>\n",
       "      <td>320600</td>\n",
       "      <td>320200</td>\n",
       "      <td>320400</td>\n",
       "      <td>320800</td>\n",
       "      <td>321200</td>\n",
       "      <td>321200</td>\n",
       "      <td>323000</td>\n",
       "      <td>326900</td>\n",
       "      <td>329900</td>\n",
       "    </tr>\n",
       "    <tr>\n",
       "      <th>3</th>\n",
       "      <td>84616</td>\n",
       "      <td>60614</td>\n",
       "      <td>Chicago</td>\n",
       "      <td>IL</td>\n",
       "      <td>Chicago</td>\n",
       "      <td>Cook</td>\n",
       "      <td>4</td>\n",
       "      <td>498100.0</td>\n",
       "      <td>500900.0</td>\n",
       "      <td>503100.0</td>\n",
       "      <td>...</td>\n",
       "      <td>1289800</td>\n",
       "      <td>1287700</td>\n",
       "      <td>1287400</td>\n",
       "      <td>1291500</td>\n",
       "      <td>1296600</td>\n",
       "      <td>1299000</td>\n",
       "      <td>1302700</td>\n",
       "      <td>1306400</td>\n",
       "      <td>1308500</td>\n",
       "      <td>1307000</td>\n",
       "    </tr>\n",
       "    <tr>\n",
       "      <th>4</th>\n",
       "      <td>93144</td>\n",
       "      <td>79936</td>\n",
       "      <td>El Paso</td>\n",
       "      <td>TX</td>\n",
       "      <td>El Paso</td>\n",
       "      <td>El Paso</td>\n",
       "      <td>5</td>\n",
       "      <td>77300.0</td>\n",
       "      <td>77300.0</td>\n",
       "      <td>77300.0</td>\n",
       "      <td>...</td>\n",
       "      <td>119100</td>\n",
       "      <td>119400</td>\n",
       "      <td>120000</td>\n",
       "      <td>120300</td>\n",
       "      <td>120300</td>\n",
       "      <td>120300</td>\n",
       "      <td>120300</td>\n",
       "      <td>120500</td>\n",
       "      <td>121000</td>\n",
       "      <td>121500</td>\n",
       "    </tr>\n",
       "  </tbody>\n",
       "</table>\n",
       "<p>5 rows × 272 columns</p>\n",
       "</div>"
      ],
      "text/plain": [
       "   RegionID  Zipcode      City State              Metro CountyName  SizeRank  \\\n",
       "0     84654    60657   Chicago    IL            Chicago       Cook         1   \n",
       "1     90668    75070  McKinney    TX  Dallas-Fort Worth     Collin         2   \n",
       "2     91982    77494      Katy    TX            Houston     Harris         3   \n",
       "3     84616    60614   Chicago    IL            Chicago       Cook         4   \n",
       "4     93144    79936   El Paso    TX            El Paso    El Paso         5   \n",
       "\n",
       "    1996-04   1996-05   1996-06   ...     2017-07  2017-08  2017-09  2017-10  \\\n",
       "0  334200.0  335400.0  336500.0   ...     1005500  1007500  1007800  1009600   \n",
       "1  235700.0  236900.0  236700.0   ...      308000   310000   312500   314100   \n",
       "2  210400.0  212200.0  212200.0   ...      321000   320600   320200   320400   \n",
       "3  498100.0  500900.0  503100.0   ...     1289800  1287700  1287400  1291500   \n",
       "4   77300.0   77300.0   77300.0   ...      119100   119400   120000   120300   \n",
       "\n",
       "   2017-11  2017-12  2018-01  2018-02  2018-03  2018-04  \n",
       "0  1013300  1018700  1024400  1030700  1033800  1030600  \n",
       "1   315000   316600   318100   319600   321100   321800  \n",
       "2   320800   321200   321200   323000   326900   329900  \n",
       "3  1296600  1299000  1302700  1306400  1308500  1307000  \n",
       "4   120300   120300   120300   120500   121000   121500  \n",
       "\n",
       "[5 rows x 272 columns]"
      ]
     },
     "execution_count": 3,
     "metadata": {},
     "output_type": "execute_result"
    }
   ],
   "source": [
    "# renaming column that refers to zipcodes\n",
    "df.rename({'RegionName': 'Zipcode'}, axis='columns', inplace=True)\n",
    "df.head()"
   ]
  },
  {
   "cell_type": "code",
   "execution_count": 4,
   "metadata": {},
   "outputs": [
    {
     "data": {
      "text/plain": [
       "RegionID      14723\n",
       "Zipcode       14723\n",
       "City           7554\n",
       "State            51\n",
       "Metro           701\n",
       "CountyName     1212\n",
       "SizeRank      14723\n",
       "dtype: int64"
      ]
     },
     "execution_count": 4,
     "metadata": {},
     "output_type": "execute_result"
    }
   ],
   "source": [
    "# checking how many unique values we have on each column, besides the time data\n",
    "df.iloc[:,0:7].nunique()"
   ]
  },
  {
   "cell_type": "code",
   "execution_count": 5,
   "metadata": {},
   "outputs": [
    {
     "data": {
      "text/plain": [
       "New York                          779\n",
       "Los Angeles-Long Beach-Anaheim    347\n",
       "Chicago                           325\n",
       "Philadelphia                      281\n",
       "Washington                        249\n",
       "Boston                            246\n",
       "Dallas-Fort Worth                 217\n",
       "Minneapolis-St Paul               201\n",
       "Houston                           187\n",
       "Pittsburgh                        177\n",
       "Miami-Fort Lauderdale             162\n",
       "Portland                          161\n",
       "Detroit                           153\n",
       "Atlanta                           152\n",
       "Seattle                           141\n",
       "St. Louis                         140\n",
       "San Francisco                     134\n",
       "Kansas City                       127\n",
       "Phoenix                           126\n",
       "Baltimore                         122\n",
       "Tampa                             118\n",
       "Riverside                         116\n",
       "Cincinnati                        109\n",
       "Denver                            106\n",
       "Rochester                         100\n",
       "Cleveland                          94\n",
       "Indianapolis                       92\n",
       "Sacramento                         92\n",
       "Albany                             92\n",
       "Springfield                        90\n",
       "                                 ... \n",
       "North Platte                        1\n",
       "Pampa                               1\n",
       "Beeville                            1\n",
       "Corinth                             1\n",
       "Houghton                            1\n",
       "Connersville                        1\n",
       "Indianola                           1\n",
       "Lamesa                              1\n",
       "Emporia                             1\n",
       "Gallup                              1\n",
       "Alice                               1\n",
       "Wahpeton                            1\n",
       "Fort Madison                        1\n",
       "Milledgeville                       1\n",
       "Coffeyville                         1\n",
       "Sedalia                             1\n",
       "Clarksdale                          1\n",
       "Los Alamos                          1\n",
       "Borger                              1\n",
       "Starkville                          1\n",
       "Stephenville                        1\n",
       "Dodge City                          1\n",
       "The Dalles                          1\n",
       "Espanola                            1\n",
       "Silver City                         1\n",
       "Mount Pleasant                      1\n",
       "Paragould                           1\n",
       "Williston                           1\n",
       "Greensburg                          1\n",
       "Uvalde                              1\n",
       "Name: Metro, Length: 701, dtype: int64"
      ]
     },
     "execution_count": 5,
     "metadata": {},
     "output_type": "execute_result"
    }
   ],
   "source": [
    "# check main metro areas in terms of datapoints in our dataframe\n",
    "df.Metro.value_counts()"
   ]
  },
  {
   "cell_type": "code",
   "execution_count": null,
   "metadata": {},
   "outputs": [],
   "source": [
    "# # filter zipcodes we will use\n",
    "\n",
    "# # make a list with metro value counts\n",
    "# metro = list(df.Metro.value_counts().index)\n",
    "\n",
    "# # select only the first 10 values from list\n",
    "# metro_select = metro[0:10]\n",
    "\n",
    "# # filter our dataframe to contain only zipcodes from these 10 metro regions\n",
    "# df_select = df.loc[df['Metro'].isin(metro_select)]"
   ]
  },
  {
   "cell_type": "code",
   "execution_count": null,
   "metadata": {},
   "outputs": [],
   "source": []
  },
  {
   "cell_type": "markdown",
   "metadata": {},
   "source": [
    "# Step 2: Data Preprocessing"
   ]
  },
  {
   "cell_type": "code",
   "execution_count": null,
   "metadata": {},
   "outputs": [],
   "source": [
    "def get_datetimes(df):\n",
    "    return pd.to_datetime(df.columns.values[7:], format='%Y-%m')"
   ]
  },
  {
   "cell_type": "code",
   "execution_count": null,
   "metadata": {},
   "outputs": [],
   "source": []
  },
  {
   "cell_type": "code",
   "execution_count": null,
   "metadata": {},
   "outputs": [],
   "source": []
  },
  {
   "cell_type": "code",
   "execution_count": null,
   "metadata": {},
   "outputs": [],
   "source": [
    "# compare investing in real estate in the city vs suburb - which one is better, and then which zipcode?"
   ]
  },
  {
   "cell_type": "markdown",
   "metadata": {},
   "source": [
    "# Step 3: EDA and Visualization"
   ]
  },
  {
   "cell_type": "code",
   "execution_count": null,
   "metadata": {},
   "outputs": [],
   "source": [
    "font = {'family' : 'normal',\n",
    "        'weight' : 'regular',\n",
    "        'size'   : 12}\n",
    "\n",
    "matplotlib.rc('font', **font)\n",
    "\n",
    "# NOTE: if you visualizations are too cluttered to read, try calling 'plt.gcf().autofmt_xdate()'!"
   ]
  },
  {
   "cell_type": "code",
   "execution_count": null,
   "metadata": {},
   "outputs": [],
   "source": []
  },
  {
   "cell_type": "code",
   "execution_count": null,
   "metadata": {},
   "outputs": [],
   "source": [
    "# split time series\n",
    "train_len = int(sf_roi2.shape[0] * 0.8)\n",
    "train_data, test_data = sf_roi2[:train_len], sf_roi2[train_len:]\n",
    "train_data.iloc[-1]"
   ]
  },
  {
   "cell_type": "code",
   "execution_count": null,
   "metadata": {},
   "outputs": [],
   "source": []
  },
  {
   "cell_type": "markdown",
   "metadata": {},
   "source": [
    "# Step 4: Reshape from Wide to Long Format"
   ]
  },
  {
   "cell_type": "code",
   "execution_count": 9,
   "metadata": {},
   "outputs": [],
   "source": [
    "def melt_data(df):\n",
    "    melted = pd.melt(df, id_vars=['RegionID', 'Zipcode', 'City', 'State', 'Metro', 'CountyName', 'SizeRank'], var_name='time')\n",
    "    melted['time'] = pd.to_datetime(melted['time'], infer_datetime_format=True)\n",
    "    melted = melted.dropna(subset=['value'])\n",
    "    return melted.groupby('time').aggregate({'value':'mean'})"
   ]
  },
  {
   "cell_type": "code",
   "execution_count": 10,
   "metadata": {
    "scrolled": true
   },
   "outputs": [],
   "source": [
    "melted = pd.melt(df.loc[df['Metro'] == 'New York'], id_vars=['RegionID', 'Zipcode', 'City', 'State', 'Metro', 'CountyName', 'SizeRank'], var_name='time')"
   ]
  },
  {
   "cell_type": "code",
   "execution_count": 11,
   "metadata": {},
   "outputs": [
    {
     "data": {
      "text/html": [
       "<div>\n",
       "<style scoped>\n",
       "    .dataframe tbody tr th:only-of-type {\n",
       "        vertical-align: middle;\n",
       "    }\n",
       "\n",
       "    .dataframe tbody tr th {\n",
       "        vertical-align: top;\n",
       "    }\n",
       "\n",
       "    .dataframe thead th {\n",
       "        text-align: right;\n",
       "    }\n",
       "</style>\n",
       "<table border=\"1\" class=\"dataframe\">\n",
       "  <thead>\n",
       "    <tr style=\"text-align: right;\">\n",
       "      <th></th>\n",
       "      <th>RegionID</th>\n",
       "      <th>Zipcode</th>\n",
       "      <th>City</th>\n",
       "      <th>State</th>\n",
       "      <th>Metro</th>\n",
       "      <th>CountyName</th>\n",
       "      <th>SizeRank</th>\n",
       "      <th>value</th>\n",
       "    </tr>\n",
       "    <tr>\n",
       "      <th>time</th>\n",
       "      <th></th>\n",
       "      <th></th>\n",
       "      <th></th>\n",
       "      <th></th>\n",
       "      <th></th>\n",
       "      <th></th>\n",
       "      <th></th>\n",
       "      <th></th>\n",
       "    </tr>\n",
       "  </thead>\n",
       "  <tbody>\n",
       "    <tr>\n",
       "      <th>1996-04-01</th>\n",
       "      <td>61807</td>\n",
       "      <td>10467</td>\n",
       "      <td>New York</td>\n",
       "      <td>NY</td>\n",
       "      <td>New York</td>\n",
       "      <td>Bronx</td>\n",
       "      <td>7</td>\n",
       "      <td>152900.0</td>\n",
       "    </tr>\n",
       "    <tr>\n",
       "      <th>1996-04-01</th>\n",
       "      <td>62037</td>\n",
       "      <td>11226</td>\n",
       "      <td>New York</td>\n",
       "      <td>NY</td>\n",
       "      <td>New York</td>\n",
       "      <td>Kings</td>\n",
       "      <td>11</td>\n",
       "      <td>162000.0</td>\n",
       "    </tr>\n",
       "    <tr>\n",
       "      <th>1996-04-01</th>\n",
       "      <td>62087</td>\n",
       "      <td>11375</td>\n",
       "      <td>New York</td>\n",
       "      <td>NY</td>\n",
       "      <td>New York</td>\n",
       "      <td>Queens</td>\n",
       "      <td>13</td>\n",
       "      <td>252400.0</td>\n",
       "    </tr>\n",
       "    <tr>\n",
       "      <th>1996-04-01</th>\n",
       "      <td>62045</td>\n",
       "      <td>11235</td>\n",
       "      <td>New York</td>\n",
       "      <td>NY</td>\n",
       "      <td>New York</td>\n",
       "      <td>Kings</td>\n",
       "      <td>14</td>\n",
       "      <td>190500.0</td>\n",
       "    </tr>\n",
       "    <tr>\n",
       "      <th>1996-04-01</th>\n",
       "      <td>61703</td>\n",
       "      <td>10128</td>\n",
       "      <td>New York</td>\n",
       "      <td>NY</td>\n",
       "      <td>New York</td>\n",
       "      <td>New York</td>\n",
       "      <td>22</td>\n",
       "      <td>3676700.0</td>\n",
       "    </tr>\n",
       "  </tbody>\n",
       "</table>\n",
       "</div>"
      ],
      "text/plain": [
       "            RegionID  Zipcode      City State     Metro CountyName  SizeRank  \\\n",
       "time                                                                           \n",
       "1996-04-01     61807    10467  New York    NY  New York      Bronx         7   \n",
       "1996-04-01     62037    11226  New York    NY  New York      Kings        11   \n",
       "1996-04-01     62087    11375  New York    NY  New York     Queens        13   \n",
       "1996-04-01     62045    11235  New York    NY  New York      Kings        14   \n",
       "1996-04-01     61703    10128  New York    NY  New York   New York        22   \n",
       "\n",
       "                value  \n",
       "time                   \n",
       "1996-04-01   152900.0  \n",
       "1996-04-01   162000.0  \n",
       "1996-04-01   252400.0  \n",
       "1996-04-01   190500.0  \n",
       "1996-04-01  3676700.0  "
      ]
     },
     "execution_count": 11,
     "metadata": {},
     "output_type": "execute_result"
    }
   ],
   "source": [
    "melted['time'] = pd.to_datetime(melted['time'], infer_datetime_format=True)\n",
    "melted.set_index('time', inplace = True)\n",
    "melted = melted.dropna(subset=['value'])\n",
    "melted.head()"
   ]
  },
  {
   "cell_type": "code",
   "execution_count": 12,
   "metadata": {},
   "outputs": [
    {
     "data": {
      "text/plain": [
       "779"
      ]
     },
     "execution_count": 12,
     "metadata": {},
     "output_type": "execute_result"
    }
   ],
   "source": [
    "len(melted.Zipcode.value_counts())"
   ]
  },
  {
   "cell_type": "code",
   "execution_count": 13,
   "metadata": {},
   "outputs": [],
   "source": [
    "san_francisco = df.loc[df['City'] == 'San Francisco']\n",
    "nyc = df.loc[(df['Metro'] == 'New York') & (df['City'] == 'New York')]\n",
    "ny_suburb = df.loc[(df['Metro'] == 'New York') & (df['State'] == 'NY') & (df['City']!= 'New York')]\n",
    "nj_suburb = df.loc[(df['Metro'] == 'New York') & (df['State'] == 'NJ')]"
   ]
  },
  {
   "cell_type": "code",
   "execution_count": 14,
   "metadata": {},
   "outputs": [],
   "source": [
    "def melt_data(df):\n",
    "    \n",
    "    ''' \n",
    "    Takes a dataframe with datetime data that is in wide format and melts it into long format; \n",
    "    Tranforms data into datetime object with time as index.\n",
    "    User will need to change columns names on first line of code according to their own dataframe.\n",
    "    '''\n",
    "    \n",
    "    melted = pd.melt(df, id_vars=['RegionID', 'Zipcode', 'City', 'State', 'Metro', 'CountyName', 'SizeRank'], var_name='time')\n",
    "    melted['time'] = pd.to_datetime(melted['time'], infer_datetime_format=True)\n",
    "    melted = melted.dropna(subset=['value'])\n",
    "    return melted.groupby('time').aggregate({'value':'mean'})"
   ]
  },
  {
   "cell_type": "code",
   "execution_count": 81,
   "metadata": {},
   "outputs": [],
   "source": [
    "nyc = df.loc[df['City'] == 'New York']"
   ]
  },
  {
   "cell_type": "code",
   "execution_count": 82,
   "metadata": {},
   "outputs": [],
   "source": [
    "nyc_ts = melt_data(nyc)"
   ]
  },
  {
   "cell_type": "code",
   "execution_count": 16,
   "metadata": {},
   "outputs": [],
   "source": [
    "nyc = nyc['1997':'2017']"
   ]
  },
  {
   "cell_type": "code",
   "execution_count": 17,
   "metadata": {},
   "outputs": [],
   "source": [
    "year_group = nyc.groupby(pd.Grouper(freq ='A'))\n",
    "yearly = pd.DataFrame()\n",
    "for year, group in year_group:\n",
    "    yearly[year.year] = group.values.ravel()"
   ]
  },
  {
   "cell_type": "code",
   "execution_count": 97,
   "metadata": {},
   "outputs": [
    {
     "data": {
      "text/html": [
       "<div>\n",
       "<style scoped>\n",
       "    .dataframe tbody tr th:only-of-type {\n",
       "        vertical-align: middle;\n",
       "    }\n",
       "\n",
       "    .dataframe tbody tr th {\n",
       "        vertical-align: top;\n",
       "    }\n",
       "\n",
       "    .dataframe thead th {\n",
       "        text-align: right;\n",
       "    }\n",
       "</style>\n",
       "<table border=\"1\" class=\"dataframe\">\n",
       "  <thead>\n",
       "    <tr style=\"text-align: right;\">\n",
       "      <th></th>\n",
       "      <th>1997</th>\n",
       "      <th>1998</th>\n",
       "      <th>1999</th>\n",
       "      <th>2000</th>\n",
       "      <th>2001</th>\n",
       "      <th>2002</th>\n",
       "      <th>2003</th>\n",
       "      <th>2004</th>\n",
       "      <th>2005</th>\n",
       "      <th>2006</th>\n",
       "      <th>...</th>\n",
       "      <th>2008</th>\n",
       "      <th>2009</th>\n",
       "      <th>2010</th>\n",
       "      <th>2011</th>\n",
       "      <th>2012</th>\n",
       "      <th>2013</th>\n",
       "      <th>2014</th>\n",
       "      <th>2015</th>\n",
       "      <th>2016</th>\n",
       "      <th>2017</th>\n",
       "    </tr>\n",
       "  </thead>\n",
       "  <tbody>\n",
       "    <tr>\n",
       "      <th>0</th>\n",
       "      <td>220883.653846</td>\n",
       "      <td>231618.269231</td>\n",
       "      <td>243987.500000</td>\n",
       "      <td>262888.461538</td>\n",
       "      <td>292194.230769</td>\n",
       "      <td>326336.538462</td>\n",
       "      <td>356529.807692</td>\n",
       "      <td>599957.657658</td>\n",
       "      <td>641468.750000</td>\n",
       "      <td>754753.571429</td>\n",
       "      <td>...</td>\n",
       "      <td>800353.571429</td>\n",
       "      <td>772454.464286</td>\n",
       "      <td>766422.321429</td>\n",
       "      <td>765647.321429</td>\n",
       "      <td>772333.628319</td>\n",
       "      <td>779534.513274</td>\n",
       "      <td>863004.385965</td>\n",
       "      <td>9.864596e+05</td>\n",
       "      <td>1.078186e+06</td>\n",
       "      <td>1.132304e+06</td>\n",
       "    </tr>\n",
       "    <tr>\n",
       "      <th>1</th>\n",
       "      <td>221559.615385</td>\n",
       "      <td>232565.384615</td>\n",
       "      <td>245021.153846</td>\n",
       "      <td>264860.576923</td>\n",
       "      <td>294637.500000</td>\n",
       "      <td>328623.076923</td>\n",
       "      <td>365421.153846</td>\n",
       "      <td>588895.495495</td>\n",
       "      <td>652792.857143</td>\n",
       "      <td>763720.535714</td>\n",
       "      <td>...</td>\n",
       "      <td>800696.428571</td>\n",
       "      <td>770682.142857</td>\n",
       "      <td>768845.535714</td>\n",
       "      <td>768413.392857</td>\n",
       "      <td>770143.362832</td>\n",
       "      <td>780438.938053</td>\n",
       "      <td>872496.491228</td>\n",
       "      <td>9.983026e+05</td>\n",
       "      <td>1.081475e+06</td>\n",
       "      <td>1.136111e+06</td>\n",
       "    </tr>\n",
       "    <tr>\n",
       "      <th>2</th>\n",
       "      <td>222051.923077</td>\n",
       "      <td>233294.230769</td>\n",
       "      <td>245886.538462</td>\n",
       "      <td>266667.307692</td>\n",
       "      <td>296876.923077</td>\n",
       "      <td>330565.384615</td>\n",
       "      <td>375375.000000</td>\n",
       "      <td>579310.810811</td>\n",
       "      <td>663645.535714</td>\n",
       "      <td>771724.107143</td>\n",
       "      <td>...</td>\n",
       "      <td>800275.000000</td>\n",
       "      <td>769606.250000</td>\n",
       "      <td>767664.285714</td>\n",
       "      <td>771087.500000</td>\n",
       "      <td>768078.761062</td>\n",
       "      <td>784883.185841</td>\n",
       "      <td>883914.035088</td>\n",
       "      <td>1.007794e+06</td>\n",
       "      <td>1.082323e+06</td>\n",
       "      <td>1.141875e+06</td>\n",
       "    </tr>\n",
       "    <tr>\n",
       "      <th>3</th>\n",
       "      <td>222592.307692</td>\n",
       "      <td>234044.230769</td>\n",
       "      <td>246858.653846</td>\n",
       "      <td>268583.653846</td>\n",
       "      <td>299244.230769</td>\n",
       "      <td>332528.846154</td>\n",
       "      <td>384635.576923</td>\n",
       "      <td>571371.171171</td>\n",
       "      <td>673547.321429</td>\n",
       "      <td>778884.821429</td>\n",
       "      <td>...</td>\n",
       "      <td>799261.607143</td>\n",
       "      <td>769087.500000</td>\n",
       "      <td>763144.642857</td>\n",
       "      <td>773147.321429</td>\n",
       "      <td>765276.106195</td>\n",
       "      <td>791675.221239</td>\n",
       "      <td>898909.649123</td>\n",
       "      <td>1.014125e+06</td>\n",
       "      <td>1.084232e+06</td>\n",
       "      <td>1.151324e+06</td>\n",
       "    </tr>\n",
       "    <tr>\n",
       "      <th>4</th>\n",
       "      <td>223252.884615</td>\n",
       "      <td>234890.384615</td>\n",
       "      <td>248008.653846</td>\n",
       "      <td>270692.307692</td>\n",
       "      <td>301817.307692</td>\n",
       "      <td>334691.346154</td>\n",
       "      <td>391824.038462</td>\n",
       "      <td>565399.099099</td>\n",
       "      <td>681649.107143</td>\n",
       "      <td>784131.250000</td>\n",
       "      <td>...</td>\n",
       "      <td>795896.428571</td>\n",
       "      <td>766941.071429</td>\n",
       "      <td>763490.178571</td>\n",
       "      <td>775223.214286</td>\n",
       "      <td>765084.955752</td>\n",
       "      <td>798494.690265</td>\n",
       "      <td>910287.719298</td>\n",
       "      <td>1.020391e+06</td>\n",
       "      <td>1.087615e+06</td>\n",
       "      <td>1.159282e+06</td>\n",
       "    </tr>\n",
       "    <tr>\n",
       "      <th>5</th>\n",
       "      <td>223989.423077</td>\n",
       "      <td>235776.923077</td>\n",
       "      <td>249311.538462</td>\n",
       "      <td>272954.807692</td>\n",
       "      <td>304567.307692</td>\n",
       "      <td>337021.153846</td>\n",
       "      <td>397359.615385</td>\n",
       "      <td>561618.918919</td>\n",
       "      <td>688493.750000</td>\n",
       "      <td>786425.000000</td>\n",
       "      <td>...</td>\n",
       "      <td>790164.285714</td>\n",
       "      <td>762475.000000</td>\n",
       "      <td>771072.321429</td>\n",
       "      <td>777623.214286</td>\n",
       "      <td>766363.716814</td>\n",
       "      <td>806003.539823</td>\n",
       "      <td>916045.614035</td>\n",
       "      <td>1.030045e+06</td>\n",
       "      <td>1.089489e+06</td>\n",
       "      <td>1.162566e+06</td>\n",
       "    </tr>\n",
       "    <tr>\n",
       "      <th>6</th>\n",
       "      <td>224778.846154</td>\n",
       "      <td>236680.769231</td>\n",
       "      <td>250729.807692</td>\n",
       "      <td>275326.923077</td>\n",
       "      <td>307406.730769</td>\n",
       "      <td>339438.461538</td>\n",
       "      <td>399963.809524</td>\n",
       "      <td>560876.576577</td>\n",
       "      <td>695330.357143</td>\n",
       "      <td>784997.321429</td>\n",
       "      <td>...</td>\n",
       "      <td>785265.178571</td>\n",
       "      <td>758448.214286</td>\n",
       "      <td>777690.178571</td>\n",
       "      <td>778091.071429</td>\n",
       "      <td>767126.548673</td>\n",
       "      <td>813261.946903</td>\n",
       "      <td>923900.000000</td>\n",
       "      <td>1.041642e+06</td>\n",
       "      <td>1.092178e+06</td>\n",
       "      <td>1.166365e+06</td>\n",
       "    </tr>\n",
       "    <tr>\n",
       "      <th>7</th>\n",
       "      <td>225633.653846</td>\n",
       "      <td>237632.692308</td>\n",
       "      <td>252297.115385</td>\n",
       "      <td>277786.538462</td>\n",
       "      <td>310323.076923</td>\n",
       "      <td>341982.692308</td>\n",
       "      <td>403476.190476</td>\n",
       "      <td>563827.027027</td>\n",
       "      <td>703084.821429</td>\n",
       "      <td>780111.607143</td>\n",
       "      <td>...</td>\n",
       "      <td>782604.464286</td>\n",
       "      <td>756768.750000</td>\n",
       "      <td>777228.571429</td>\n",
       "      <td>777808.035714</td>\n",
       "      <td>766503.539823</td>\n",
       "      <td>820837.168142</td>\n",
       "      <td>936747.368421</td>\n",
       "      <td>1.052292e+06</td>\n",
       "      <td>1.100596e+06</td>\n",
       "      <td>1.170039e+06</td>\n",
       "    </tr>\n",
       "    <tr>\n",
       "      <th>8</th>\n",
       "      <td>226570.192308</td>\n",
       "      <td>238642.307692</td>\n",
       "      <td>254001.923077</td>\n",
       "      <td>280339.423077</td>\n",
       "      <td>313330.769231</td>\n",
       "      <td>344731.730769</td>\n",
       "      <td>406331.428571</td>\n",
       "      <td>570485.585586</td>\n",
       "      <td>712081.250000</td>\n",
       "      <td>772940.178571</td>\n",
       "      <td>...</td>\n",
       "      <td>780893.750000</td>\n",
       "      <td>757314.285714</td>\n",
       "      <td>771697.321429</td>\n",
       "      <td>779791.071429</td>\n",
       "      <td>766780.530973</td>\n",
       "      <td>828319.469027</td>\n",
       "      <td>950933.333333</td>\n",
       "      <td>1.059963e+06</td>\n",
       "      <td>1.110084e+06</td>\n",
       "      <td>1.172875e+06</td>\n",
       "    </tr>\n",
       "    <tr>\n",
       "      <th>9</th>\n",
       "      <td>227610.576923</td>\n",
       "      <td>239750.961538</td>\n",
       "      <td>255875.000000</td>\n",
       "      <td>283013.461538</td>\n",
       "      <td>316408.653846</td>\n",
       "      <td>347984.615385</td>\n",
       "      <td>408869.523810</td>\n",
       "      <td>579697.297297</td>\n",
       "      <td>721951.785714</td>\n",
       "      <td>765533.035714</td>\n",
       "      <td>...</td>\n",
       "      <td>778665.178571</td>\n",
       "      <td>759084.821429</td>\n",
       "      <td>769397.321429</td>\n",
       "      <td>780791.964286</td>\n",
       "      <td>767602.654867</td>\n",
       "      <td>837346.017699</td>\n",
       "      <td>960625.438596</td>\n",
       "      <td>1.066317e+06</td>\n",
       "      <td>1.117001e+06</td>\n",
       "      <td>1.175287e+06</td>\n",
       "    </tr>\n",
       "    <tr>\n",
       "      <th>10</th>\n",
       "      <td>228851.923077</td>\n",
       "      <td>241063.461538</td>\n",
       "      <td>258052.884615</td>\n",
       "      <td>285992.307692</td>\n",
       "      <td>319791.346154</td>\n",
       "      <td>349908.653846</td>\n",
       "      <td>411703.809524</td>\n",
       "      <td>590617.117117</td>\n",
       "      <td>732699.107143</td>\n",
       "      <td>760344.642857</td>\n",
       "      <td>...</td>\n",
       "      <td>776124.107143</td>\n",
       "      <td>761649.107143</td>\n",
       "      <td>768795.535714</td>\n",
       "      <td>780038.392857</td>\n",
       "      <td>771947.787611</td>\n",
       "      <td>844973.451327</td>\n",
       "      <td>969105.263158</td>\n",
       "      <td>1.070582e+06</td>\n",
       "      <td>1.122597e+06</td>\n",
       "      <td>1.175530e+06</td>\n",
       "    </tr>\n",
       "    <tr>\n",
       "      <th>11</th>\n",
       "      <td>230294.230769</td>\n",
       "      <td>242585.576923</td>\n",
       "      <td>260525.961538</td>\n",
       "      <td>289225.000000</td>\n",
       "      <td>323301.923077</td>\n",
       "      <td>351667.307692</td>\n",
       "      <td>414848.571429</td>\n",
       "      <td>602275.675676</td>\n",
       "      <td>744056.250000</td>\n",
       "      <td>758638.392857</td>\n",
       "      <td>...</td>\n",
       "      <td>774031.250000</td>\n",
       "      <td>764364.285714</td>\n",
       "      <td>766802.678571</td>\n",
       "      <td>777379.464286</td>\n",
       "      <td>776928.318584</td>\n",
       "      <td>856703.539823</td>\n",
       "      <td>976758.771930</td>\n",
       "      <td>1.074268e+06</td>\n",
       "      <td>1.127429e+06</td>\n",
       "      <td>1.176734e+06</td>\n",
       "    </tr>\n",
       "  </tbody>\n",
       "</table>\n",
       "<p>12 rows × 21 columns</p>\n",
       "</div>"
      ],
      "text/plain": [
       "             1997           1998           1999           2000           2001  \\\n",
       "0   220883.653846  231618.269231  243987.500000  262888.461538  292194.230769   \n",
       "1   221559.615385  232565.384615  245021.153846  264860.576923  294637.500000   \n",
       "2   222051.923077  233294.230769  245886.538462  266667.307692  296876.923077   \n",
       "3   222592.307692  234044.230769  246858.653846  268583.653846  299244.230769   \n",
       "4   223252.884615  234890.384615  248008.653846  270692.307692  301817.307692   \n",
       "5   223989.423077  235776.923077  249311.538462  272954.807692  304567.307692   \n",
       "6   224778.846154  236680.769231  250729.807692  275326.923077  307406.730769   \n",
       "7   225633.653846  237632.692308  252297.115385  277786.538462  310323.076923   \n",
       "8   226570.192308  238642.307692  254001.923077  280339.423077  313330.769231   \n",
       "9   227610.576923  239750.961538  255875.000000  283013.461538  316408.653846   \n",
       "10  228851.923077  241063.461538  258052.884615  285992.307692  319791.346154   \n",
       "11  230294.230769  242585.576923  260525.961538  289225.000000  323301.923077   \n",
       "\n",
       "             2002           2003           2004           2005           2006  \\\n",
       "0   326336.538462  356529.807692  599957.657658  641468.750000  754753.571429   \n",
       "1   328623.076923  365421.153846  588895.495495  652792.857143  763720.535714   \n",
       "2   330565.384615  375375.000000  579310.810811  663645.535714  771724.107143   \n",
       "3   332528.846154  384635.576923  571371.171171  673547.321429  778884.821429   \n",
       "4   334691.346154  391824.038462  565399.099099  681649.107143  784131.250000   \n",
       "5   337021.153846  397359.615385  561618.918919  688493.750000  786425.000000   \n",
       "6   339438.461538  399963.809524  560876.576577  695330.357143  784997.321429   \n",
       "7   341982.692308  403476.190476  563827.027027  703084.821429  780111.607143   \n",
       "8   344731.730769  406331.428571  570485.585586  712081.250000  772940.178571   \n",
       "9   347984.615385  408869.523810  579697.297297  721951.785714  765533.035714   \n",
       "10  349908.653846  411703.809524  590617.117117  732699.107143  760344.642857   \n",
       "11  351667.307692  414848.571429  602275.675676  744056.250000  758638.392857   \n",
       "\n",
       "        ...                2008           2009           2010           2011  \\\n",
       "0       ...       800353.571429  772454.464286  766422.321429  765647.321429   \n",
       "1       ...       800696.428571  770682.142857  768845.535714  768413.392857   \n",
       "2       ...       800275.000000  769606.250000  767664.285714  771087.500000   \n",
       "3       ...       799261.607143  769087.500000  763144.642857  773147.321429   \n",
       "4       ...       795896.428571  766941.071429  763490.178571  775223.214286   \n",
       "5       ...       790164.285714  762475.000000  771072.321429  777623.214286   \n",
       "6       ...       785265.178571  758448.214286  777690.178571  778091.071429   \n",
       "7       ...       782604.464286  756768.750000  777228.571429  777808.035714   \n",
       "8       ...       780893.750000  757314.285714  771697.321429  779791.071429   \n",
       "9       ...       778665.178571  759084.821429  769397.321429  780791.964286   \n",
       "10      ...       776124.107143  761649.107143  768795.535714  780038.392857   \n",
       "11      ...       774031.250000  764364.285714  766802.678571  777379.464286   \n",
       "\n",
       "             2012           2013           2014          2015          2016  \\\n",
       "0   772333.628319  779534.513274  863004.385965  9.864596e+05  1.078186e+06   \n",
       "1   770143.362832  780438.938053  872496.491228  9.983026e+05  1.081475e+06   \n",
       "2   768078.761062  784883.185841  883914.035088  1.007794e+06  1.082323e+06   \n",
       "3   765276.106195  791675.221239  898909.649123  1.014125e+06  1.084232e+06   \n",
       "4   765084.955752  798494.690265  910287.719298  1.020391e+06  1.087615e+06   \n",
       "5   766363.716814  806003.539823  916045.614035  1.030045e+06  1.089489e+06   \n",
       "6   767126.548673  813261.946903  923900.000000  1.041642e+06  1.092178e+06   \n",
       "7   766503.539823  820837.168142  936747.368421  1.052292e+06  1.100596e+06   \n",
       "8   766780.530973  828319.469027  950933.333333  1.059963e+06  1.110084e+06   \n",
       "9   767602.654867  837346.017699  960625.438596  1.066317e+06  1.117001e+06   \n",
       "10  771947.787611  844973.451327  969105.263158  1.070582e+06  1.122597e+06   \n",
       "11  776928.318584  856703.539823  976758.771930  1.074268e+06  1.127429e+06   \n",
       "\n",
       "            2017  \n",
       "0   1.132304e+06  \n",
       "1   1.136111e+06  \n",
       "2   1.141875e+06  \n",
       "3   1.151324e+06  \n",
       "4   1.159282e+06  \n",
       "5   1.162566e+06  \n",
       "6   1.166365e+06  \n",
       "7   1.170039e+06  \n",
       "8   1.172875e+06  \n",
       "9   1.175287e+06  \n",
       "10  1.175530e+06  \n",
       "11  1.176734e+06  \n",
       "\n",
       "[12 rows x 21 columns]"
      ]
     },
     "execution_count": 97,
     "metadata": {},
     "output_type": "execute_result"
    }
   ],
   "source": [
    "yearly"
   ]
  },
  {
   "cell_type": "code",
   "execution_count": 19,
   "metadata": {},
   "outputs": [
    {
     "data": {
      "text/plain": [
       "array([ 1,  2,  3,  4,  5,  6,  7,  8,  9, 10, 11, 12])"
      ]
     },
     "execution_count": 19,
     "metadata": {},
     "output_type": "execute_result"
    }
   ],
   "source": [
    "months = np.arange(1,13)\n",
    "months\n",
    "#yearly.rename(index = )"
   ]
  },
  {
   "cell_type": "code",
   "execution_count": 20,
   "metadata": {},
   "outputs": [
    {
     "data": {
      "text/plain": [
       "array([ 1,  2,  3,  4,  5,  6,  7,  8,  9, 10, 11, 12])"
      ]
     },
     "execution_count": 20,
     "metadata": {},
     "output_type": "execute_result"
    }
   ],
   "source": [
    "n_points = yearly.shape[0]\n",
    "np.arange(n_points-(n_points-1), n_points+1)"
   ]
  },
  {
   "cell_type": "code",
   "execution_count": 21,
   "metadata": {},
   "outputs": [
    {
     "data": {
      "image/png": "[encoded data removed]",
      "text/plain": [
       "<Figure size 1152x720 with 1 Axes>"
      ]
     },
     "metadata": {
      "needs_background": "light"
     },
     "output_type": "display_data"
    }
   ],
   "source": [
    "plt.figure(figsize = (16,10))\n",
    "ax = plt.subplot(111)\n",
    "ax.spines[\"top\"].set_visible(False)  \n",
    "ax.spines[\"right\"].set_visible(False)\n",
    "n_points = yearly.shape[0]\n",
    "for year in yearly:\n",
    "    ax.plot(np.arange(n_points-(n_points-1), n_points+1), yearly[year].values, lw=1.5)\n",
    "    plt.xlim(0, 12)\n",
    "    y_pos = yearly[year].values[-1] \n",
    "    ax.text(n_points, y_pos, year, fontsize=10)\n",
    "    ax.set_ylabel('Value($)')\n",
    "    ax.set_xlabel('Month')\n",
    "    plt.title('Mean Zillow Home Value Index (ZHVI) - Yearly')"
   ]
  },
  {
   "cell_type": "code",
   "execution_count": 22,
   "metadata": {},
   "outputs": [],
   "source": [
    "tableau20 = [(31, 119, 180), (174, 199, 232), (255, 127, 14), (255, 187, 120),    \n",
    "             (44, 160, 44), (152, 223, 138), (214, 39, 40), (255, 152, 150),    \n",
    "             (148, 103, 189), (197, 176, 213), (140, 86, 75), (196, 156, 148),    \n",
    "             (227, 119, 194), (247, 182, 210), (127, 127, 127), (199, 199, 199),    \n",
    "             (188, 189, 34), (219, 219, 141), (23, 190, 207), (158, 218, 229)]"
   ]
  },
  {
   "cell_type": "code",
   "execution_count": 23,
   "metadata": {},
   "outputs": [],
   "source": [
    "for i in range(len(tableau20)):    \n",
    "    r, g, b = tableau20[i]    \n",
    "    tableau20[i] = (r / 255., g / 255., b / 255.)"
   ]
  },
  {
   "cell_type": "code",
   "execution_count": 24,
   "metadata": {},
   "outputs": [
    {
     "name": "stdout",
     "output_type": "stream",
     "text": [
      "[(0.12156862745098039, 0.4666666666666667, 0.7058823529411765), (0.6823529411764706, 0.7803921568627451, 0.9098039215686274), (1.0, 0.4980392156862745, 0.054901960784313725), (1.0, 0.7333333333333333, 0.47058823529411764), (0.17254901960784313, 0.6274509803921569, 0.17254901960784313), (0.596078431372549, 0.8745098039215686, 0.5411764705882353), (0.8392156862745098, 0.15294117647058825, 0.1568627450980392), (1.0, 0.596078431372549, 0.5882352941176471), (0.5803921568627451, 0.403921568627451, 0.7411764705882353), (0.7725490196078432, 0.6901960784313725, 0.8352941176470589), (0.5490196078431373, 0.33725490196078434, 0.29411764705882354), (0.7686274509803922, 0.611764705882353, 0.5803921568627451), (0.8901960784313725, 0.4666666666666667, 0.7607843137254902), (0.9686274509803922, 0.7137254901960784, 0.8235294117647058), (0.4980392156862745, 0.4980392156862745, 0.4980392156862745), (0.7803921568627451, 0.7803921568627451, 0.7803921568627451), (0.7372549019607844, 0.7411764705882353, 0.13333333333333333), (0.8588235294117647, 0.8588235294117647, 0.5529411764705883), (0.09019607843137255, 0.7450980392156863, 0.8117647058823529), (0.6196078431372549, 0.8549019607843137, 0.8980392156862745)]\n"
     ]
    }
   ],
   "source": [
    "print(tableau20)"
   ]
  },
  {
   "cell_type": "code",
   "execution_count": 25,
   "metadata": {},
   "outputs": [],
   "source": [
    "ny_metro = df.loc[df['Metro'] == 'New York']"
   ]
  },
  {
   "cell_type": "code",
   "execution_count": 26,
   "metadata": {
    "scrolled": true
   },
   "outputs": [
    {
     "data": {
      "text/plain": [
       "RegionID      779\n",
       "Zipcode       779\n",
       "City          508\n",
       "State           3\n",
       "Metro           1\n",
       "CountyName     25\n",
       "SizeRank      779\n",
       "dtype: int64"
      ]
     },
     "execution_count": 26,
     "metadata": {},
     "output_type": "execute_result"
    }
   ],
   "source": [
    "ny_metro.iloc[:,0:7].nunique()"
   ]
  },
  {
   "cell_type": "code",
   "execution_count": 27,
   "metadata": {},
   "outputs": [
    {
     "data": {
      "text/html": [
       "<div>\n",
       "<style scoped>\n",
       "    .dataframe tbody tr th:only-of-type {\n",
       "        vertical-align: middle;\n",
       "    }\n",
       "\n",
       "    .dataframe tbody tr th {\n",
       "        vertical-align: top;\n",
       "    }\n",
       "\n",
       "    .dataframe thead th {\n",
       "        text-align: right;\n",
       "    }\n",
       "</style>\n",
       "<table border=\"1\" class=\"dataframe\">\n",
       "  <thead>\n",
       "    <tr style=\"text-align: right;\">\n",
       "      <th></th>\n",
       "      <th>RegionID</th>\n",
       "      <th>Zipcode</th>\n",
       "      <th>City</th>\n",
       "      <th>State</th>\n",
       "      <th>Metro</th>\n",
       "      <th>CountyName</th>\n",
       "      <th>SizeRank</th>\n",
       "      <th>1996-04</th>\n",
       "      <th>1996-05</th>\n",
       "      <th>1996-06</th>\n",
       "      <th>...</th>\n",
       "      <th>2017-07</th>\n",
       "      <th>2017-08</th>\n",
       "      <th>2017-09</th>\n",
       "      <th>2017-10</th>\n",
       "      <th>2017-11</th>\n",
       "      <th>2017-12</th>\n",
       "      <th>2018-01</th>\n",
       "      <th>2018-02</th>\n",
       "      <th>2018-03</th>\n",
       "      <th>2018-04</th>\n",
       "    </tr>\n",
       "  </thead>\n",
       "  <tbody>\n",
       "    <tr>\n",
       "      <th>6375</th>\n",
       "      <td>65470</td>\n",
       "      <td>18428</td>\n",
       "      <td>Blooming Grove</td>\n",
       "      <td>PA</td>\n",
       "      <td>New York</td>\n",
       "      <td>Pike</td>\n",
       "      <td>6376</td>\n",
       "      <td>78300.0</td>\n",
       "      <td>78300.0</td>\n",
       "      <td>78400.0</td>\n",
       "      <td>...</td>\n",
       "      <td>147700</td>\n",
       "      <td>148400</td>\n",
       "      <td>148100</td>\n",
       "      <td>148200</td>\n",
       "      <td>148400</td>\n",
       "      <td>148700</td>\n",
       "      <td>150700</td>\n",
       "      <td>152900</td>\n",
       "      <td>152700</td>\n",
       "      <td>151500</td>\n",
       "    </tr>\n",
       "    <tr>\n",
       "      <th>8947</th>\n",
       "      <td>65422</td>\n",
       "      <td>18328</td>\n",
       "      <td>Delaware</td>\n",
       "      <td>PA</td>\n",
       "      <td>New York</td>\n",
       "      <td>Pike</td>\n",
       "      <td>8948</td>\n",
       "      <td>74300.0</td>\n",
       "      <td>74500.0</td>\n",
       "      <td>74600.0</td>\n",
       "      <td>...</td>\n",
       "      <td>123900</td>\n",
       "      <td>125500</td>\n",
       "      <td>127300</td>\n",
       "      <td>128100</td>\n",
       "      <td>127700</td>\n",
       "      <td>126600</td>\n",
       "      <td>127000</td>\n",
       "      <td>128000</td>\n",
       "      <td>128000</td>\n",
       "      <td>127300</td>\n",
       "    </tr>\n",
       "    <tr>\n",
       "      <th>10046</th>\n",
       "      <td>65468</td>\n",
       "      <td>18426</td>\n",
       "      <td>Greene</td>\n",
       "      <td>PA</td>\n",
       "      <td>New York</td>\n",
       "      <td>Pike</td>\n",
       "      <td>10047</td>\n",
       "      <td>79500.0</td>\n",
       "      <td>79600.0</td>\n",
       "      <td>79600.0</td>\n",
       "      <td>...</td>\n",
       "      <td>147100</td>\n",
       "      <td>147100</td>\n",
       "      <td>146700</td>\n",
       "      <td>147200</td>\n",
       "      <td>148300</td>\n",
       "      <td>149500</td>\n",
       "      <td>151800</td>\n",
       "      <td>154900</td>\n",
       "      <td>157700</td>\n",
       "      <td>159500</td>\n",
       "    </tr>\n",
       "    <tr>\n",
       "      <th>11613</th>\n",
       "      <td>65429</td>\n",
       "      <td>18336</td>\n",
       "      <td>Matamoras</td>\n",
       "      <td>PA</td>\n",
       "      <td>New York</td>\n",
       "      <td>Pike</td>\n",
       "      <td>11614</td>\n",
       "      <td>74400.0</td>\n",
       "      <td>74400.0</td>\n",
       "      <td>74500.0</td>\n",
       "      <td>...</td>\n",
       "      <td>151200</td>\n",
       "      <td>155000</td>\n",
       "      <td>159400</td>\n",
       "      <td>160200</td>\n",
       "      <td>159900</td>\n",
       "      <td>159700</td>\n",
       "      <td>160100</td>\n",
       "      <td>159900</td>\n",
       "      <td>160400</td>\n",
       "      <td>160900</td>\n",
       "    </tr>\n",
       "    <tr>\n",
       "      <th>13557</th>\n",
       "      <td>65502</td>\n",
       "      <td>18464</td>\n",
       "      <td>Palmyra</td>\n",
       "      <td>PA</td>\n",
       "      <td>New York</td>\n",
       "      <td>Pike</td>\n",
       "      <td>13558</td>\n",
       "      <td>86100.0</td>\n",
       "      <td>86000.0</td>\n",
       "      <td>85900.0</td>\n",
       "      <td>...</td>\n",
       "      <td>189800</td>\n",
       "      <td>184200</td>\n",
       "      <td>178800</td>\n",
       "      <td>175800</td>\n",
       "      <td>173100</td>\n",
       "      <td>172800</td>\n",
       "      <td>175600</td>\n",
       "      <td>180000</td>\n",
       "      <td>183500</td>\n",
       "      <td>185300</td>\n",
       "    </tr>\n",
       "    <tr>\n",
       "      <th>14074</th>\n",
       "      <td>65475</td>\n",
       "      <td>18435</td>\n",
       "      <td>Lackawaxen</td>\n",
       "      <td>PA</td>\n",
       "      <td>New York</td>\n",
       "      <td>Pike</td>\n",
       "      <td>14075</td>\n",
       "      <td>NaN</td>\n",
       "      <td>NaN</td>\n",
       "      <td>NaN</td>\n",
       "      <td>...</td>\n",
       "      <td>137700</td>\n",
       "      <td>139100</td>\n",
       "      <td>140400</td>\n",
       "      <td>140800</td>\n",
       "      <td>141800</td>\n",
       "      <td>143600</td>\n",
       "      <td>146100</td>\n",
       "      <td>148500</td>\n",
       "      <td>148500</td>\n",
       "      <td>147000</td>\n",
       "    </tr>\n",
       "  </tbody>\n",
       "</table>\n",
       "<p>6 rows × 272 columns</p>\n",
       "</div>"
      ],
      "text/plain": [
       "       RegionID  Zipcode            City State     Metro CountyName  SizeRank  \\\n",
       "6375      65470    18428  Blooming Grove    PA  New York       Pike      6376   \n",
       "8947      65422    18328        Delaware    PA  New York       Pike      8948   \n",
       "10046     65468    18426          Greene    PA  New York       Pike     10047   \n",
       "11613     65429    18336       Matamoras    PA  New York       Pike     11614   \n",
       "13557     65502    18464         Palmyra    PA  New York       Pike     13558   \n",
       "14074     65475    18435      Lackawaxen    PA  New York       Pike     14075   \n",
       "\n",
       "       1996-04  1996-05  1996-06   ...     2017-07  2017-08  2017-09  2017-10  \\\n",
       "6375   78300.0  78300.0  78400.0   ...      147700   148400   148100   148200   \n",
       "8947   74300.0  74500.0  74600.0   ...      123900   125500   127300   128100   \n",
       "10046  79500.0  79600.0  79600.0   ...      147100   147100   146700   147200   \n",
       "11613  74400.0  74400.0  74500.0   ...      151200   155000   159400   160200   \n",
       "13557  86100.0  86000.0  85900.0   ...      189800   184200   178800   175800   \n",
       "14074      NaN      NaN      NaN   ...      137700   139100   140400   140800   \n",
       "\n",
       "       2017-11  2017-12  2018-01  2018-02  2018-03  2018-04  \n",
       "6375    148400   148700   150700   152900   152700   151500  \n",
       "8947    127700   126600   127000   128000   128000   127300  \n",
       "10046   148300   149500   151800   154900   157700   159500  \n",
       "11613   159900   159700   160100   159900   160400   160900  \n",
       "13557   173100   172800   175600   180000   183500   185300  \n",
       "14074   141800   143600   146100   148500   148500   147000  \n",
       "\n",
       "[6 rows x 272 columns]"
      ]
     },
     "execution_count": 27,
     "metadata": {},
     "output_type": "execute_result"
    }
   ],
   "source": [
    "ny_metro.loc[(df['State'] != 'NY') & (df['State'] != 'NJ')]"
   ]
  },
  {
   "cell_type": "code",
   "execution_count": 28,
   "metadata": {
    "scrolled": true
   },
   "outputs": [
    {
     "data": {
      "text/plain": [
       "value    252\n",
       "dtype: int64"
      ]
     },
     "execution_count": 28,
     "metadata": {},
     "output_type": "execute_result"
    }
   ],
   "source": [
    "nyc.iloc[:,0:7].nunique()"
   ]
  },
  {
   "cell_type": "code",
   "execution_count": 29,
   "metadata": {},
   "outputs": [
    {
     "data": {
      "text/plain": [
       "RegionID      19\n",
       "Zipcode       19\n",
       "City           1\n",
       "State          1\n",
       "Metro          1\n",
       "CountyName     1\n",
       "SizeRank      19\n",
       "dtype: int64"
      ]
     },
     "execution_count": 29,
     "metadata": {},
     "output_type": "execute_result"
    }
   ],
   "source": [
    "san_francisco.iloc[:,0:7].nunique()"
   ]
  },
  {
   "cell_type": "code",
   "execution_count": 30,
   "metadata": {
    "scrolled": true
   },
   "outputs": [
    {
     "data": {
      "text/plain": [
       "RegionID      298\n",
       "Zipcode       298\n",
       "City          228\n",
       "State           1\n",
       "Metro           1\n",
       "CountyName      7\n",
       "SizeRank      298\n",
       "dtype: int64"
      ]
     },
     "execution_count": 30,
     "metadata": {},
     "output_type": "execute_result"
    }
   ],
   "source": [
    "ny_suburb.iloc[:,0:7].nunique()"
   ]
  },
  {
   "cell_type": "code",
   "execution_count": 31,
   "metadata": {},
   "outputs": [
    {
     "data": {
      "text/plain": [
       "RegionID      361\n",
       "Zipcode       361\n",
       "City          283\n",
       "State           1\n",
       "Metro           1\n",
       "CountyName     12\n",
       "SizeRank      361\n",
       "dtype: int64"
      ]
     },
     "execution_count": 31,
     "metadata": {},
     "output_type": "execute_result"
    }
   ],
   "source": [
    "nj_suburb.iloc[:,0:7].nunique()"
   ]
  },
  {
   "cell_type": "code",
   "execution_count": 34,
   "metadata": {
    "scrolled": true
   },
   "outputs": [],
   "source": [
    "sf_ts = melt_data(san_francisco)"
   ]
  },
  {
   "attachments": {
    "main-qimg-418d1d6c94e6165b22379d815a9e104e.png": {
     "image/png": "[encoded data removed]"
    },
    "main-qimg-9717da6f71d51e7d1f455a5ada9ee134.jpg": {
     "image/jpeg": "[encoded data removed]"
    }
   },
   "cell_type": "markdown",
   "metadata": {},
   "source": [
    "The Dickey-Fuller Test is a statistical test for testing stationarity. The Null-hypothesis for the test is that the time series is not stationary. So if the test statistic is less than the critical value, we reject the null hypothesis and say that the series is stationary. The Dickey-Fuller test is available in stattools from the StatsModels module. \n",
    "\n",
    "![main-qimg-9717da6f71d51e7d1f455a5ada9ee134.jpg](attachment:main-qimg-9717da6f71d51e7d1f455a5ada9ee134.jpg)\n",
    "\n",
    "![main-qimg-418d1d6c94e6165b22379d815a9e104e.png](attachment:main-qimg-418d1d6c94e6165b22379d815a9e104e.png)\n",
    "\n",
    "So we can look up for any value of test statistics and say, at the 95% probability level, reject the hypothesis if the test statistics value is less than -2.87 and accept it otherwise."
   ]
  },
  {
   "cell_type": "code",
   "execution_count": null,
   "metadata": {},
   "outputs": [],
   "source": [
    "from statsmodels.tsa.stattools import adfuller\n",
    "\n",
    "#Perform Dickey-Fuller test:\n",
    "print ('Results of Dickey-Fuller Test:')\n",
    "dftest = adfuller(sf_ts['value'])\n",
    "\n",
    "# Extract and display test results in a user friendly manner\n",
    "dfoutput = pd.Series(dftest[0:4], index=['Test Statistic','p-value','#Lags Used','Number of Observations Used'])\n",
    "for key,value in dftest[4].items():\n",
    "    dfoutput['Critical Value (%s)'%key] = value\n",
    "print (dfoutput)"
   ]
  },
  {
   "cell_type": "code",
   "execution_count": null,
   "metadata": {},
   "outputs": [],
   "source": [
    "\n",
    "# create a differenced series\n",
    "def difference(dataset, interval=1):\n",
    "\tdiff = list()\n",
    "\tfor i in range(interval, len(dataset)):\n",
    "\t\tvalue = dataset[i] - dataset[i - interval]\n",
    "\t\tdiff.append(value)\n",
    "\treturn diff\n",
    "\n",
    "# invert differenced forecast\n",
    "def inverse_difference(last_ob, value):\n",
    "\treturn value + last_ob\n",
    "\n",
    "# define a dataset with a linear trend\n",
    "data = [i+1 for i in range(20)]\n",
    "print(data)\n",
    "# difference the dataset\n",
    "diff = difference(data)\n",
    "print(diff)\n",
    "# invert the difference\n",
    "inverted = [inverse_difference(data[i], diff[i]) for i in range(len(diff))]\n",
    "print(inverted)"
   ]
  },
  {
   "cell_type": "code",
   "execution_count": null,
   "metadata": {},
   "outputs": [],
   "source": []
  },
  {
   "cell_type": "code",
   "execution_count": null,
   "metadata": {
    "scrolled": true
   },
   "outputs": [],
   "source": [
    "# import seasonal_decompose\n",
    "from statsmodels.tsa.seasonal import seasonal_decompose\n",
    "decomposition = seasonal_decompose(np.log(sf_ts))\n",
    "\n",
    "# Gather the trend, seasonality and noise of decomposed object\n",
    "trend = decomposition.trend\n",
    "seasonal = decomposition.seasonal\n",
    "residual = decomposition.resid\n",
    "\n",
    "# Plot gathered statistics\n",
    "plt.figure(figsize=(12,8))\n",
    "plt.subplot(411)\n",
    "plt.plot(np.log(sf_ts), label='Original', color=\"blue\")\n",
    "plt.legend(loc='best')\n",
    "plt.subplot(412)\n",
    "plt.plot(trend, label='Trend', color=\"blue\")\n",
    "plt.legend(loc='best')\n",
    "plt.subplot(413)\n",
    "plt.plot(seasonal,label='Seasonality', color=\"blue\")\n",
    "plt.legend(loc='best')\n",
    "plt.subplot(414)\n",
    "plt.plot(residual, label='Residuals', color=\"blue\")\n",
    "plt.legend(loc='best')\n",
    "plt.tight_layout()"
   ]
  },
  {
   "cell_type": "code",
   "execution_count": null,
   "metadata": {},
   "outputs": [],
   "source": [
    "# Drop NaN values from residuals.\n",
    "ts_log_decompose = residual\n",
    "ts_log_decompose.dropna(inplace=True)\n",
    "\n",
    "# Check stationarity\n",
    "def adfuller_test(ts):\n",
    "    '''Runs and prints out results for adfuller test on time series in order to check for stationarity.'''\n",
    "    \n",
    "    from statsmodels.tsa.stattools import adfuller\n",
    "\n",
    "    #Perform Dickey-Fuller test:\n",
    "    dftest = adfuller(ts['value'])\n",
    "\n",
    "    # Extract and display test results in a user friendly manner\n",
    "    dfoutput = pd.Series(dftest[0:4], index=['Test Statistic','p-value','#Lags Used','Number of Observations Used'])\n",
    "    for key,value in dftest[4].items():\n",
    "        dfoutput['Critical Value (%s)'%key] = value\n",
    "    print (dfoutput)\n",
    "\n",
    "\n",
    "adfuller_test(ts_log_decompose)"
   ]
  },
  {
   "cell_type": "code",
   "execution_count": 35,
   "metadata": {},
   "outputs": [
    {
     "data": {
      "text/html": [
       "<div>\n",
       "<style scoped>\n",
       "    .dataframe tbody tr th:only-of-type {\n",
       "        vertical-align: middle;\n",
       "    }\n",
       "\n",
       "    .dataframe tbody tr th {\n",
       "        vertical-align: top;\n",
       "    }\n",
       "\n",
       "    .dataframe thead th {\n",
       "        text-align: right;\n",
       "    }\n",
       "</style>\n",
       "<table border=\"1\" class=\"dataframe\">\n",
       "  <thead>\n",
       "    <tr style=\"text-align: right;\">\n",
       "      <th></th>\n",
       "      <th>value</th>\n",
       "    </tr>\n",
       "    <tr>\n",
       "      <th>time</th>\n",
       "      <th></th>\n",
       "    </tr>\n",
       "  </thead>\n",
       "  <tbody>\n",
       "    <tr>\n",
       "      <th>1996-04-01</th>\n",
       "      <td>394605.263158</td>\n",
       "    </tr>\n",
       "    <tr>\n",
       "      <th>1996-05-01</th>\n",
       "      <td>396078.947368</td>\n",
       "    </tr>\n",
       "    <tr>\n",
       "      <th>1996-06-01</th>\n",
       "      <td>397673.684211</td>\n",
       "    </tr>\n",
       "    <tr>\n",
       "      <th>1996-07-01</th>\n",
       "      <td>399410.526316</td>\n",
       "    </tr>\n",
       "    <tr>\n",
       "      <th>1996-08-01</th>\n",
       "      <td>401252.631579</td>\n",
       "    </tr>\n",
       "  </tbody>\n",
       "</table>\n",
       "</div>"
      ],
      "text/plain": [
       "                    value\n",
       "time                     \n",
       "1996-04-01  394605.263158\n",
       "1996-05-01  396078.947368\n",
       "1996-06-01  397673.684211\n",
       "1996-07-01  399410.526316\n",
       "1996-08-01  401252.631579"
      ]
     },
     "execution_count": 35,
     "metadata": {},
     "output_type": "execute_result"
    }
   ],
   "source": [
    "sf_ts.head()"
   ]
  },
  {
   "cell_type": "code",
   "execution_count": null,
   "metadata": {},
   "outputs": [],
   "source": []
  },
  {
   "cell_type": "code",
   "execution_count": 36,
   "metadata": {},
   "outputs": [
    {
     "data": {
      "image/png": "[encoded data removed]",
      "text/plain": [
       "<Figure size 432x288 with 1 Axes>"
      ]
     },
     "metadata": {
      "needs_background": "light"
     },
     "output_type": "display_data"
    }
   ],
   "source": [
    "\n",
    "plt.plot(sf_ts, label='San Francisco Metro Area')\n",
    "plt.legend();"
   ]
  },
  {
   "cell_type": "code",
   "execution_count": null,
   "metadata": {},
   "outputs": [],
   "source": [
    "# ny_year = nyc_ts['2004':'2017'].groupby(pd.Grouper(freq ='A'))\n",
    "# njsuburb_year = njsuburb_ts['2004':'2017'].groupby(pd.Grouper(freq ='A'))\n",
    "# nysuburb_year = nysuburb_ts['2004':'2017'].groupby(pd.Grouper(freq ='A'))\n",
    "# sf_year = sf_ts['2004':'2017'].groupby(pd.Grouper(freq ='A'))"
   ]
  },
  {
   "cell_type": "code",
   "execution_count": null,
   "metadata": {},
   "outputs": [],
   "source": [
    "nyc_ts_select = nyc_ts['2004':'2017']\n",
    "njsuburb_ts_select = njsuburb_ts['2004':'2017']\n",
    "nysuburb_ts_select = nysuburb_ts['2004':'2017']\n",
    "sf_ts_select = sf_ts['2004':'2017']"
   ]
  },
  {
   "cell_type": "code",
   "execution_count": null,
   "metadata": {},
   "outputs": [],
   "source": [
    "#Create a new DataFrame with yearly values stored in columns \n",
    "def plot_yearly_ts(ts, boxplot=False):\n",
    "    \n",
    "    '''Function takes a time series and groups it into yearly intervals using Grouper;\n",
    "    Creates a new dataframe where yearly values are into columns to faciliate plotting.'''\n",
    "\n",
    "    year_group = ts.groupby(pd.Grouper(freq ='A'))\n",
    "    yearly = pd.DataFrame()\n",
    "    for year, group in year_group:\n",
    "        yearly[year.year] = group.values.ravel()\n",
    "    plt.figure(figsize = (12,12))\n",
    "    if boxplot:\n",
    "        yearly.boxplot();\n",
    "    else:\n",
    "        ax = plt.subplot(111)\n",
    "        ax.spines[\"top\"].set_visible(False)  \n",
    "        ax.spines[\"right\"].set_visible(False)\n",
    "        n_points = yearly.shape[0]\n",
    "        for year in yearly:  # get the column names straight off the dataframe\n",
    "            ax.plot(np.arange(n_points), yearly[year].values, lw=1.5)\n",
    "            y_pos = yearly[year].values[-1]\n",
    "            ax.text(n_points, y_pos, year)\n",
    "\n",
    "\n",
    "# fig, ax = plt.subplots()  # probably unnecessary tbh but I prefer working with the ax obj rather than plt\n"
   ]
  },
  {
   "cell_type": "code",
   "execution_count": null,
   "metadata": {},
   "outputs": [],
   "source": [
    "plot_yearly_ts(nyc_ts_select)"
   ]
  },
  {
   "cell_type": "code",
   "execution_count": null,
   "metadata": {},
   "outputs": [],
   "source": [
    "# Plot the yearly groups as subplots\n",
    "nyc_annual.plot(figsize = (12,4), subplots=True, legend=True);"
   ]
  },
  {
   "cell_type": "code",
   "execution_count": null,
   "metadata": {},
   "outputs": [],
   "source": [
    "create_yearly_df(nyc_ts, 'nyc_year')"
   ]
  },
  {
   "cell_type": "code",
   "execution_count": null,
   "metadata": {},
   "outputs": [],
   "source": [
    "long_island_city_zipcodes = [11101, 11102, 11103, 11104, 11105, 11106, 11109, 11120]\n",
    "lic_select = df.loc[df['Zipcode'].isin(long_island_city_zipcodes)]\n",
    "lic_ts = melt_data(lic_select)\n",
    "plt.plot(nyc_ts, label='NYC')\n",
    "plt.plot(lic_ts, label='Long Island City')\n",
    "plt.legend()"
   ]
  },
  {
   "cell_type": "code",
   "execution_count": null,
   "metadata": {},
   "outputs": [],
   "source": [
    "soma_zipcodes = [7079, 7040]\n",
    "soma_select = df.loc[df['Zipcode'].isin(soma_zipcodes)]\n",
    "soma_ts = melt_data(soma_select)"
   ]
  },
  {
   "cell_type": "code",
   "execution_count": null,
   "metadata": {},
   "outputs": [],
   "source": [
    "williamsburg = df.loc[df['Zipcode'] == 11211]\n",
    "williamsburg_ts = melt_data(williamsburg)"
   ]
  },
  {
   "cell_type": "code",
   "execution_count": null,
   "metadata": {},
   "outputs": [],
   "source": [
    "carrol_gardens = df.loc[df['Zipcode'] == 11231]\n",
    "cg_ts = melt_data(carrol_gardens)"
   ]
  },
  {
   "cell_type": "code",
   "execution_count": null,
   "metadata": {},
   "outputs": [],
   "source": [
    "park_slope = df.loc[df['Zipcode'] == 11215]\n",
    "ps_ts = melt_data(park_slope)"
   ]
  },
  {
   "cell_type": "code",
   "execution_count": null,
   "metadata": {},
   "outputs": [],
   "source": [
    "fort_greene = df.loc[df['Zipcode'] == 11238]\n",
    "fg_ts = melt_data(fort_greene)"
   ]
  },
  {
   "cell_type": "code",
   "execution_count": null,
   "metadata": {},
   "outputs": [],
   "source": [
    "annual_fg = fg_ts.resample('A').mean()"
   ]
  },
  {
   "cell_type": "code",
   "execution_count": null,
   "metadata": {},
   "outputs": [],
   "source": [
    "year_groups = fg_ts.groupby(pd.Grouper(freq='A'))\n",
    "#Create a new DataFrame and store yearly values in columns \n",
    "fg_annual = pd.DataFrame()\n",
    "\n",
    "# for yr, group in year_groups:\n",
    "#     fg_annual[yr.year] = group.values.ravel()\n",
    "    \n",
    "# # Plot the yearly groups as subplots\n",
    "# fg_annual.plot(figsize = (13,8), subplots=True, legend=True);\n",
    "\n",
    "year_groups.index()"
   ]
  },
  {
   "cell_type": "code",
   "execution_count": null,
   "metadata": {
    "scrolled": false
   },
   "outputs": [],
   "source": [
    "annual_fg.plot(figsize=(10,3));"
   ]
  },
  {
   "cell_type": "code",
   "execution_count": null,
   "metadata": {
    "scrolled": true
   },
   "outputs": [],
   "source": [
    "plt.figure(figsize=(14,4))\n",
    "plt.plot(njsuburb_ts, label='NJ Suburbs')\n",
    "plt.plot(nyc_ts, label='NYC')\n",
    "plt.plot(nysuburb_ts, label='NY Suburbs')\n",
    "plt.title('Mean House Price - Zillow')\n",
    "plt.xlabel('Years')\n",
    "plt.ylabel('Price $')\n",
    "plt.legend();"
   ]
  },
  {
   "cell_type": "code",
   "execution_count": null,
   "metadata": {},
   "outputs": [],
   "source": [
    "plt.figure(figsize=(14,4))\n",
    "plt.plot(cg_ts['2009':], label='Carrol Gardens')\n",
    "plt.plot(fg_ts['2009':], label='Fort Greene')\n",
    "plt.plot(ps_ts['2009':], label='Park Slope')\n",
    "plt.title('Mean House Price - Zillow')\n",
    "plt.xlabel('Years')\n",
    "plt.ylabel('Price $')\n",
    "plt.legend();"
   ]
  },
  {
   "cell_type": "code",
   "execution_count": null,
   "metadata": {
    "scrolled": true
   },
   "outputs": [],
   "source": [
    "plt.figure(figsize=(14,4))\n",
    "plt.plot(lic_ts['2009':], label='Long Island City')\n",
    "plt.plot(soma_ts['2009':], label='South Orange/Maplewood')\n",
    "plt.plot(williamsburg_ts['2009':], label='Williamsburg')\n",
    "plt.title('Surburbs or the City?')\n",
    "plt.xlabel('Years')\n",
    "plt.ylabel('Price $')\n",
    "plt.legend();"
   ]
  },
  {
   "cell_type": "code",
   "execution_count": null,
   "metadata": {},
   "outputs": [],
   "source": [
    "import seaborn as sns\n",
    "sns.set(style=\"dark\")\n",
    "plt.figure(figsize=(14,6))\n",
    "sns.lineplot(data=lic_ts,legend=False)\n",
    "plt.title('Long Island City Real Estate Price');\n"
   ]
  },
  {
   "cell_type": "code",
   "execution_count": null,
   "metadata": {
    "scrolled": true
   },
   "outputs": [],
   "source": [
    "lic_ts.head()"
   ]
  },
  {
   "cell_type": "code",
   "execution_count": null,
   "metadata": {
    "scrolled": true
   },
   "outputs": [],
   "source": [
    "import matplotlib.animation as animation\n",
    "from matplotlib.animation import FuncAnimation\n",
    "import numpy as np\n",
    "%matplotlib notebook\n",
    "\n",
    "Writer = animation.writers['ffmpeg']\n",
    "writer = Writer(fps=20, metadata=dict(artist='Me'), bitrate=1800)\n",
    "\n",
    "x = np.array(lic_ts.index)\n",
    "y = np.array(lic_ts['value'])\n",
    "\n",
    "fig = plt.figure(figsize=(6,4))\n",
    "plt.xlim(1996, 2017)\n",
    "plt.ylim(np.min(lic_ts)[0], np.max(lic_ts)[0])\n",
    "plt.xlabel('Year',fontsize=12)\n",
    "plt.ylabel('Price',fontsize=12)\n",
    "plt.title('Long Island City Real Estate Price',fontsize=12)\n",
    "\n",
    "def animate(i):\n",
    "    data = lic_ts.iloc[:int(i+1)] #select data range\n",
    "    p = sns.lineplot(data, color=\"r\")\n",
    "    p.tick_params(labelsize=6)\n",
    "    plt.setp(p.lines,linewidth=6)\n",
    "\n",
    "ani = animation.FuncAnimation(fig, animate, frames=19, repeat=True)\n"
   ]
  },
  {
   "cell_type": "code",
   "execution_count": null,
   "metadata": {},
   "outputs": [],
   "source": [
    "ny_metro = df.loc[df['Metro'] == 'New York']"
   ]
  },
  {
   "cell_type": "code",
   "execution_count": 98,
   "metadata": {},
   "outputs": [],
   "source": [
    "# Dictionary to include all zip code time series in NYC Metro Area (no county reference)\n",
    "zip_dict = {}\n",
    "\n",
    "# Dictionary of dictionaries\n",
    "county_dict = {}\n",
    "\n",
    "# Iterate over all California counties\n",
    "for c in ny_metro.CountyName.unique():\n",
    "    # Choose a specific county (wihtin California)\n",
    "    ny_metro_county = ny_metro[ny_metro.CountyName == c]\n",
    "    # Note we could keep all the aggregated info for a county w/ 1 time series\n",
    "    # county_dict_aggregated[c] = melt_data(df_ca_county)\n",
    "    \n",
    "    # Create a dictionary that will have time series for each counties' zip\n",
    "    # Looks something like this:\n",
    "    # {\n",
    "    #   '94509': time_series_0,\n",
    "    #   '94531': time_series_1,\n",
    "    #    ... \n",
    "    # }\n",
    "    temp_dict_zip = {}\n",
    "    \n",
    "    # Now iterate over all the zip codes within that one county\n",
    "    for z in ny_metro_county.Zipcode.unique():\n",
    "        # Choosing that specific zip code\n",
    "        temp_zip_df = ny_metro_county[ny_metro_county.Zipcode == z]\n",
    "        \n",
    "        # Creating a time series (via melting) for that zip code\n",
    "        temp_zip_ts = melt_data(temp_zip_df)\n",
    "        \n",
    "        # This will eventually include all the zip codes in the state\n",
    "        zip_dict[z] = temp_zip_ts\n",
    "        \n",
    "        # Adding that time series to a dictionary \n",
    "        # (This will only include time series from zip codes in the county)\n",
    "        temp_dict_zip[z] = temp_zip_ts\n",
    "        \n",
    "    # After iterating over all the zip codes in the county, save the dict of\n",
    "    # zip code time series as a value \n",
    "    county_dict[c] = temp_dict_zip"
   ]
  },
  {
   "cell_type": "code",
   "execution_count": null,
   "metadata": {},
   "outputs": [],
   "source": [
    "fig = plt.figure(figsize=(14,4))\n",
    "plt.plot(county_dict['Essex'][7079], label='South Orange')\n",
    "plt.plot(county_dict['Essex'][7040], label='Maplewood')\n",
    "plt.plot(county_dict['Essex'][7042], label='Montclair')\n",
    "plt.title('Mean House Price NJ Suburbs')\n",
    "plt.xlabel('Years')\n",
    "plt.ylabel('Price $')\n",
    "plt.legend();"
   ]
  },
  {
   "cell_type": "code",
   "execution_count": null,
   "metadata": {},
   "outputs": [],
   "source": [
    "matplotlib.animation.Animation(fig)"
   ]
  },
  {
   "cell_type": "code",
   "execution_count": null,
   "metadata": {
    "scrolled": true
   },
   "outputs": [],
   "source": [
    "plt.plot(county_dict['Union'][7901], label='Summit')\n",
    "plt.plot(county_dict['Essex'][7043], label='Upper Montclair')\n",
    "plt.title('Mean House Price NJ Suburbs')\n",
    "plt.legend();"
   ]
  },
  {
   "cell_type": "code",
   "execution_count": null,
   "metadata": {},
   "outputs": [],
   "source": [
    "plt.figure(figsize=(14,4))\n",
    "for z, zipcode in zip(county_dict['Bronx'].keys(), county_dict['Bronx'].values()):\n",
    "    plt.plot(zipcode, label=z)\n",
    "plt.legend(loc='best');"
   ]
  },
  {
   "cell_type": "code",
   "execution_count": null,
   "metadata": {
    "scrolled": true
   },
   "outputs": [],
   "source": [
    "plt.figure(figsize=(14,4))\n",
    "for z, zipcode in zip(county_dict['Queens'].keys(), county_dict['Queens'].values()):\n",
    "    plt.plot(zipcode, label=z)\n",
    "plt.legend(loc='best');"
   ]
  },
  {
   "cell_type": "code",
   "execution_count": null,
   "metadata": {},
   "outputs": [],
   "source": [
    "plt.figure(figsize=(14,4))\n",
    "for z, zipcode in zip(county_dict['Kings'].keys(), county_dict['Kings'].values()):\n",
    "    plt.plot(zipcode, label=z)\n",
    "plt.legend(loc='best');"
   ]
  },
  {
   "cell_type": "code",
   "execution_count": null,
   "metadata": {
    "scrolled": true
   },
   "outputs": [],
   "source": [
    "plt.figure(figsize=(14,4))\n",
    "for z, zipcode in zip(county_dict['New York'].keys(), county_dict['New York'].values()):\n",
    "    plt.plot(zipcode, label=z)\n",
    "plt.legend(loc='best');"
   ]
  },
  {
   "cell_type": "code",
   "execution_count": null,
   "metadata": {},
   "outputs": [],
   "source": [
    "plt.figure(figsize=(14,4))\n",
    "for c in county_dict:\n",
    "    for z, zipcode in zip(county_dict[c].keys(), county_dict[c].values()):\n",
    "        plt.plot(zipcode, label=z)\n",
    "plt.legend(loc='best');"
   ]
  },
  {
   "cell_type": "markdown",
   "metadata": {},
   "source": [
    "# Step 5: ARIMA Modeling"
   ]
  },
  {
   "cell_type": "code",
   "execution_count": null,
   "metadata": {},
   "outputs": [],
   "source": [
    "from statsmodels.graphics.tsaplots import plot_pacf\n",
    "from statsmodels.graphics.tsaplots import plot_acf\n",
    "\n",
    "fig, ax = plt.subplots(figsize=(16,3))\n",
    "plot_acf(series,ax=ax, lags=40);\n",
    "\n",
    "fig, ax = plt.subplots(figsize=(16,3))\n",
    "plot_pacf(series,ax=ax, lags=40);"
   ]
  },
  {
   "cell_type": "code",
   "execution_count": null,
   "metadata": {},
   "outputs": [],
   "source": []
  },
  {
   "cell_type": "code",
   "execution_count": null,
   "metadata": {},
   "outputs": [],
   "source": []
  },
  {
   "cell_type": "code",
   "execution_count": null,
   "metadata": {},
   "outputs": [],
   "source": []
  },
  {
   "cell_type": "code",
   "execution_count": null,
   "metadata": {},
   "outputs": [],
   "source": [
    "import datetime"
   ]
  },
  {
   "cell_type": "code",
   "execution_count": null,
   "metadata": {},
   "outputs": [],
   "source": [
    "(sf_ts.loc[max(sf_ts.index)].value - sf_ts.loc[min(sf_ts.index)].value)/sf_ts.loc[max(sf_ts.index)].value"
   ]
  },
  {
   "cell_type": "code",
   "execution_count": null,
   "metadata": {},
   "outputs": [],
   "source": [
    "sf_ts.drop(columns='ROI Total Period', inplace=True)"
   ]
  },
  {
   "cell_type": "code",
   "execution_count": null,
   "metadata": {
    "scrolled": true
   },
   "outputs": [],
   "source": [
    "max(sf_ts.index), min(sf_ts.index)"
   ]
  },
  {
   "cell_type": "code",
   "execution_count": null,
   "metadata": {},
   "outputs": [],
   "source": [
    "min(sf_ts.index).value"
   ]
  },
  {
   "cell_type": "code",
   "execution_count": null,
   "metadata": {},
   "outputs": [],
   "source": [
    "sf_ts.head()"
   ]
  },
  {
   "cell_type": "code",
   "execution_count": null,
   "metadata": {
    "scrolled": true
   },
   "outputs": [],
   "source": [
    "(max(sf_ts.index).value - min(sf_ts.index).value)/min(sf_ts.index).value"
   ]
  },
  {
   "cell_type": "code",
   "execution_count": null,
   "metadata": {},
   "outputs": [],
   "source": [
    "def gain_over_period(ts):\n",
    "    results = {}\n",
    "    results['ROI Total Period'] = (max(ts.index).value - min(ts.index).value)/max(ts.index).value\n",
    "    #results['ROI Last 5 Years'] = [ts.loc[max(ts.index).value - ts.tshift(-60).value/ts.loc[max(ts.index)].value]\n",
    "    return pd.DataFrame.from_dict(results, orient='columns')"
   ]
  },
  {
   "cell_type": "code",
   "execution_count": null,
   "metadata": {},
   "outputs": [],
   "source": [
    "sf_results = gain_over_period(sf_ts)\n",
    "sf_results"
   ]
  },
  {
   "cell_type": "code",
   "execution_count": null,
   "metadata": {
    "scrolled": true
   },
   "outputs": [],
   "source": [
    "nyc_results = gain_over_period(nyc_ts)\n",
    "nyc_results"
   ]
  },
  {
   "cell_type": "code",
   "execution_count": null,
   "metadata": {},
   "outputs": [],
   "source": [
    "sf_ts.head()"
   ]
  },
  {
   "cell_type": "code",
   "execution_count": null,
   "metadata": {},
   "outputs": [],
   "source": [
    "    ax.text(n_points, y_pos, 'Max Return', color='green', fontsize=10)\n",
    "    ax.text(n_points, y_pos, 'Lowest Return', color='red', fontsize=10)"
   ]
  },
  {
   "cell_type": "code",
   "execution_count": 37,
   "metadata": {},
   "outputs": [],
   "source": [
    "def gain(ts):\n",
    "    roi_2 = (ts - ts.shift(periods=24))/ts.shift(periods=24)*100\n",
    "    roi_5 = (ts - ts.shift(periods=60))/ts.shift(periods=60)*100\n",
    "    roi_10 = (ts - ts.shift(periods=120))/ts.shift(periods=120)*100\n",
    "    plt.figure(figsize = (12,8))\n",
    "    ax = plt.subplot(111)\n",
    "    ax.plot(roi_2, label='Return in 2 Years')\n",
    "    ax.plot(roi_5, label='Return in 5 Years')\n",
    "    ax.plot(roi_10, label='Return in 10 Years')\n",
    "    ax.set_ylabel('Gain Percentage')\n",
    "    ax.set_xlabel('Year')\n",
    "    plt.yticks([-10,0,10,25,50,75,100,125,150,175,200], [str(x) + \"%\" for x in [-10,0,10,25,50,75,100,125,150,175,200]], fontsize=10)\n",
    "    ax.grid(which='major', axis='y', linestyle= \"--\", lw=0.5, color=\"black\", alpha=0.3)\n",
    "    plt.title('Mean Zillow Home Value Index (ZHVI) - ROI Over Time Invested', fontsize=14)\n",
    "    plt.legend()\n",
    "    plt.show()\n",
    "    return roi_2, roi_5, roi_10"
   ]
  },
  {
   "cell_type": "code",
   "execution_count": 38,
   "metadata": {
    "scrolled": true
   },
   "outputs": [
    {
     "data": {
      "image/png": "[encoded data removed]",
      "text/plain": [
       "<Figure size 864x576 with 1 Axes>"
      ]
     },
     "metadata": {
      "needs_background": "light"
     },
     "output_type": "display_data"
    }
   ],
   "source": [
    "sf_2, sf_5, sf_10 = gain(sf_ts)"
   ]
  },
  {
   "cell_type": "code",
   "execution_count": 77,
   "metadata": {},
   "outputs": [
    {
     "data": {
      "text/plain": [
       "time\n",
       "1996-04-01    3.946053e+05\n",
       "1996-05-01    3.960789e+05\n",
       "1996-06-01    3.976737e+05\n",
       "1996-07-01    3.994105e+05\n",
       "1996-08-01    4.012526e+05\n",
       "1996-09-01    4.033368e+05\n",
       "1996-10-01    4.058105e+05\n",
       "1996-11-01    4.086053e+05\n",
       "1996-12-01    4.122632e+05\n",
       "1997-01-01    4.165158e+05\n",
       "1997-02-01    4.207474e+05\n",
       "1997-03-01    4.247474e+05\n",
       "1997-04-01    4.290737e+05\n",
       "1997-05-01    4.336368e+05\n",
       "1997-06-01    4.384526e+05\n",
       "1997-07-01    4.434526e+05\n",
       "1997-08-01    4.485526e+05\n",
       "1997-09-01    4.537737e+05\n",
       "1997-10-01    4.592684e+05\n",
       "1997-11-01    4.649789e+05\n",
       "1997-12-01    4.714105e+05\n",
       "1998-01-01    4.783263e+05\n",
       "1998-02-01    4.849474e+05\n",
       "1998-03-01    4.911579e+05\n",
       "1998-04-01    4.976158e+05\n",
       "1998-05-01    5.041474e+05\n",
       "1998-06-01    5.108474e+05\n",
       "1998-07-01    5.176368e+05\n",
       "1998-08-01    5.245053e+05\n",
       "1998-09-01    5.314684e+05\n",
       "                  ...     \n",
       "2015-11-01    1.890926e+06\n",
       "2015-12-01    1.899884e+06\n",
       "2016-01-01    1.912942e+06\n",
       "2016-02-01    1.921753e+06\n",
       "2016-03-01    1.919400e+06\n",
       "2016-04-01    1.909074e+06\n",
       "2016-05-01    1.901674e+06\n",
       "2016-06-01    1.895863e+06\n",
       "2016-07-01    1.888579e+06\n",
       "2016-08-01    1.889647e+06\n",
       "2016-09-01    1.902563e+06\n",
       "2016-10-01    1.915816e+06\n",
       "2016-11-01    1.928832e+06\n",
       "2016-12-01    1.944379e+06\n",
       "2017-01-01    1.957668e+06\n",
       "2017-02-01    1.967553e+06\n",
       "2017-03-01    1.977489e+06\n",
       "2017-04-01    1.992363e+06\n",
       "2017-05-01    2.014568e+06\n",
       "2017-06-01    2.038879e+06\n",
       "2017-07-01    2.053126e+06\n",
       "2017-08-01    2.059911e+06\n",
       "2017-09-01    2.072579e+06\n",
       "2017-10-01    2.091211e+06\n",
       "2017-11-01    2.099442e+06\n",
       "2017-12-01    2.103574e+06\n",
       "2018-01-01    2.111747e+06\n",
       "2018-02-01    2.120553e+06\n",
       "2018-03-01    2.134005e+06\n",
       "2018-04-01    2.146479e+06\n",
       "Name: value, Length: 265, dtype: float64"
      ]
     },
     "execution_count": 77,
     "metadata": {},
     "output_type": "execute_result"
    }
   ],
   "source": [
    "sf_ts.value"
   ]
  },
  {
   "cell_type": "code",
   "execution_count": 66,
   "metadata": {},
   "outputs": [
    {
     "data": {
      "text/plain": [
       "DatetimeIndex(['1996-04-01', '1996-05-01', '1996-06-01', '1996-07-01',\n",
       "               '1996-08-01', '1996-09-01', '1996-10-01', '1996-11-01',\n",
       "               '1996-12-01', '1997-01-01',\n",
       "               ...\n",
       "               '2017-07-01', '2017-08-01', '2017-09-01', '2017-10-01',\n",
       "               '2017-11-01', '2017-12-01', '2018-01-01', '2018-02-01',\n",
       "               '2018-03-01', '2018-04-01'],\n",
       "              dtype='datetime64[ns]', name='time', length=265, freq=None)"
      ]
     },
     "execution_count": 66,
     "metadata": {},
     "output_type": "execute_result"
    }
   ],
   "source": [
    "sf_ts.index"
   ]
  },
  {
   "cell_type": "code",
   "execution_count": 85,
   "metadata": {},
   "outputs": [
    {
     "data": {
      "application/vnd.plotly.v1+json": {
       "config": {
        "plotlyServerURL": "https://plot.ly"
       },
       "data": [
        {
         "line": {
          "color": "deepskyblue"
         },
         "name": "San Francisco",
         "type": "scatter",
         "x": [
          "1996-04-01T00:00:00",
          "1996-05-01T00:00:00",
          "1996-06-01T00:00:00",
          "1996-07-01T00:00:00",
          "1996-08-01T00:00:00",
          "1996-09-01T00:00:00",
          "1996-10-01T00:00:00",
          "1996-11-01T00:00:00",
          "1996-12-01T00:00:00",
          "1997-01-01T00:00:00",
          "1997-02-01T00:00:00",
          "1997-03-01T00:00:00",
          "1997-04-01T00:00:00",
          "1997-05-01T00:00:00",
          "1997-06-01T00:00:00",
          "1997-07-01T00:00:00",
          "1997-08-01T00:00:00",
          "1997-09-01T00:00:00",
          "1997-10-01T00:00:00",
          "1997-11-01T00:00:00",
          "1997-12-01T00:00:00",
          "1998-01-01T00:00:00",
          "1998-02-01T00:00:00",
          "1998-03-01T00:00:00",
          "1998-04-01T00:00:00",
          "1998-05-01T00:00:00",
          "1998-06-01T00:00:00",
          "1998-07-01T00:00:00",
          "1998-08-01T00:00:00",
          "1998-09-01T00:00:00",
          "1998-10-01T00:00:00",
          "1998-11-01T00:00:00",
          "1998-12-01T00:00:00",
          "1999-01-01T00:00:00",
          "1999-02-01T00:00:00",
          "1999-03-01T00:00:00",
          "1999-04-01T00:00:00",
          "1999-05-01T00:00:00",
          "1999-06-01T00:00:00",
          "1999-07-01T00:00:00",
          "1999-08-01T00:00:00",
          "1999-09-01T00:00:00",
          "1999-10-01T00:00:00",
          "1999-11-01T00:00:00",
          "1999-12-01T00:00:00",
          "2000-01-01T00:00:00",
          "2000-02-01T00:00:00",
          "2000-03-01T00:00:00",
          "2000-04-01T00:00:00",
          "2000-05-01T00:00:00",
          "2000-06-01T00:00:00",
          "2000-07-01T00:00:00",
          "2000-08-01T00:00:00",
          "2000-09-01T00:00:00",
          "2000-10-01T00:00:00",
          "2000-11-01T00:00:00",
          "2000-12-01T00:00:00",
          "2001-01-01T00:00:00",
          "2001-02-01T00:00:00",
          "2001-03-01T00:00:00",
          "2001-04-01T00:00:00",
          "2001-05-01T00:00:00",
          "2001-06-01T00:00:00",
          "2001-07-01T00:00:00",
          "2001-08-01T00:00:00",
          "2001-09-01T00:00:00",
          "2001-10-01T00:00:00",
          "2001-11-01T00:00:00",
          "2001-12-01T00:00:00",
          "2002-01-01T00:00:00",
          "2002-02-01T00:00:00",
          "2002-03-01T00:00:00",
          "2002-04-01T00:00:00",
          "2002-05-01T00:00:00",
          "2002-06-01T00:00:00",
          "2002-07-01T00:00:00",
          "2002-08-01T00:00:00",
          "2002-09-01T00:00:00",
          "2002-10-01T00:00:00",
          "2002-11-01T00:00:00",
          "2002-12-01T00:00:00",
          "2003-01-01T00:00:00",
          "2003-02-01T00:00:00",
          "2003-03-01T00:00:00",
          "2003-04-01T00:00:00",
          "2003-05-01T00:00:00",
          "2003-06-01T00:00:00",
          "2003-07-01T00:00:00",
          "2003-08-01T00:00:00",
          "2003-09-01T00:00:00",
          "2003-10-01T00:00:00",
          "2003-11-01T00:00:00",
          "2003-12-01T00:00:00",
          "2004-01-01T00:00:00",
          "2004-02-01T00:00:00",
          "2004-03-01T00:00:00",
          "2004-04-01T00:00:00",
          "2004-05-01T00:00:00",
          "2004-06-01T00:00:00",
          "2004-07-01T00:00:00",
          "2004-08-01T00:00:00",
          "2004-09-01T00:00:00",
          "2004-10-01T00:00:00",
          "2004-11-01T00:00:00",
          "2004-12-01T00:00:00",
          "2005-01-01T00:00:00",
          "2005-02-01T00:00:00",
          "2005-03-01T00:00:00",
          "2005-04-01T00:00:00",
          "2005-05-01T00:00:00",
          "2005-06-01T00:00:00",
          "2005-07-01T00:00:00",
          "2005-08-01T00:00:00",
          "2005-09-01T00:00:00",
          "2005-10-01T00:00:00",
          "2005-11-01T00:00:00",
          "2005-12-01T00:00:00",
          "2006-01-01T00:00:00",
          "2006-02-01T00:00:00",
          "2006-03-01T00:00:00",
          "2006-04-01T00:00:00",
          "2006-05-01T00:00:00",
          "2006-06-01T00:00:00",
          "2006-07-01T00:00:00",
          "2006-08-01T00:00:00",
          "2006-09-01T00:00:00",
          "2006-10-01T00:00:00",
          "2006-11-01T00:00:00",
          "2006-12-01T00:00:00",
          "2007-01-01T00:00:00",
          "2007-02-01T00:00:00",
          "2007-03-01T00:00:00",
          "2007-04-01T00:00:00",
          "2007-05-01T00:00:00",
          "2007-06-01T00:00:00",
          "2007-07-01T00:00:00",
          "2007-08-01T00:00:00",
          "2007-09-01T00:00:00",
          "2007-10-01T00:00:00",
          "2007-11-01T00:00:00",
          "2007-12-01T00:00:00",
          "2008-01-01T00:00:00",
          "2008-02-01T00:00:00",
          "2008-03-01T00:00:00",
          "2008-04-01T00:00:00",
          "2008-05-01T00:00:00",
          "2008-06-01T00:00:00",
          "2008-07-01T00:00:00",
          "2008-08-01T00:00:00",
          "2008-09-01T00:00:00",
          "2008-10-01T00:00:00",
          "2008-11-01T00:00:00",
          "2008-12-01T00:00:00",
          "2009-01-01T00:00:00",
          "2009-02-01T00:00:00",
          "2009-03-01T00:00:00",
          "2009-04-01T00:00:00",
          "2009-05-01T00:00:00",
          "2009-06-01T00:00:00",
          "2009-07-01T00:00:00",
          "2009-08-01T00:00:00",
          "2009-09-01T00:00:00",
          "2009-10-01T00:00:00",
          "2009-11-01T00:00:00",
          "2009-12-01T00:00:00",
          "2010-01-01T00:00:00",
          "2010-02-01T00:00:00",
          "2010-03-01T00:00:00",
          "2010-04-01T00:00:00",
          "2010-05-01T00:00:00",
          "2010-06-01T00:00:00",
          "2010-07-01T00:00:00",
          "2010-08-01T00:00:00",
          "2010-09-01T00:00:00",
          "2010-10-01T00:00:00",
          "2010-11-01T00:00:00",
          "2010-12-01T00:00:00",
          "2011-01-01T00:00:00",
          "2011-02-01T00:00:00",
          "2011-03-01T00:00:00",
          "2011-04-01T00:00:00",
          "2011-05-01T00:00:00",
          "2011-06-01T00:00:00",
          "2011-07-01T00:00:00",
          "2011-08-01T00:00:00",
          "2011-09-01T00:00:00",
          "2011-10-01T00:00:00",
          "2011-11-01T00:00:00",
          "2011-12-01T00:00:00",
          "2012-01-01T00:00:00",
          "2012-02-01T00:00:00",
          "2012-03-01T00:00:00",
          "2012-04-01T00:00:00",
          "2012-05-01T00:00:00",
          "2012-06-01T00:00:00",
          "2012-07-01T00:00:00",
          "2012-08-01T00:00:00",
          "2012-09-01T00:00:00",
          "2012-10-01T00:00:00",
          "2012-11-01T00:00:00",
          "2012-12-01T00:00:00",
          "2013-01-01T00:00:00",
          "2013-02-01T00:00:00",
          "2013-03-01T00:00:00",
          "2013-04-01T00:00:00",
          "2013-05-01T00:00:00",
          "2013-06-01T00:00:00",
          "2013-07-01T00:00:00",
          "2013-08-01T00:00:00",
          "2013-09-01T00:00:00",
          "2013-10-01T00:00:00",
          "2013-11-01T00:00:00",
          "2013-12-01T00:00:00",
          "2014-01-01T00:00:00",
          "2014-02-01T00:00:00",
          "2014-03-01T00:00:00",
          "2014-04-01T00:00:00",
          "2014-05-01T00:00:00",
          "2014-06-01T00:00:00",
          "2014-07-01T00:00:00",
          "2014-08-01T00:00:00",
          "2014-09-01T00:00:00",
          "2014-10-01T00:00:00",
          "2014-11-01T00:00:00",
          "2014-12-01T00:00:00",
          "2015-01-01T00:00:00",
          "2015-02-01T00:00:00",
          "2015-03-01T00:00:00",
          "2015-04-01T00:00:00",
          "2015-05-01T00:00:00",
          "2015-06-01T00:00:00",
          "2015-07-01T00:00:00",
          "2015-08-01T00:00:00",
          "2015-09-01T00:00:00",
          "2015-10-01T00:00:00",
          "2015-11-01T00:00:00",
          "2015-12-01T00:00:00",
          "2016-01-01T00:00:00",
          "2016-02-01T00:00:00",
          "2016-03-01T00:00:00",
          "2016-04-01T00:00:00",
          "2016-05-01T00:00:00",
          "2016-06-01T00:00:00",
          "2016-07-01T00:00:00",
          "2016-08-01T00:00:00",
          "2016-09-01T00:00:00",
          "2016-10-01T00:00:00",
          "2016-11-01T00:00:00",
          "2016-12-01T00:00:00",
          "2017-01-01T00:00:00",
          "2017-02-01T00:00:00",
          "2017-03-01T00:00:00",
          "2017-04-01T00:00:00",
          "2017-05-01T00:00:00",
          "2017-06-01T00:00:00",
          "2017-07-01T00:00:00",
          "2017-08-01T00:00:00",
          "2017-09-01T00:00:00",
          "2017-10-01T00:00:00",
          "2017-11-01T00:00:00",
          "2017-12-01T00:00:00",
          "2018-01-01T00:00:00",
          "2018-02-01T00:00:00",
          "2018-03-01T00:00:00",
          "2018-04-01T00:00:00"
         ],
         "y": [
          394605.2631578947,
          396078.94736842107,
          397673.6842105263,
          399410.5263157895,
          401252.63157894736,
          403336.84210526315,
          405810.5263157895,
          408605.2631578947,
          412263.15789473685,
          416515.7894736842,
          420747.36842105264,
          424747.36842105264,
          429073.6842105263,
          433636.84210526315,
          438452.63157894736,
          443452.63157894736,
          448552.63157894736,
          453773.6842105263,
          459268.4210526316,
          464978.94736842107,
          471410.5263157895,
          478326.3157894737,
          484947.36842105264,
          491157.8947368421,
          497615.7894736842,
          504147.36842105264,
          510847.36842105264,
          517636.84210526315,
          524505.2631578947,
          531468.4210526316,
          538810.5263157894,
          546542.1052631579,
          555321.052631579,
          564826.3157894737,
          574421.052631579,
          584073.6842105263,
          594594.7368421053,
          605747.3684210526,
          617742.1052631579,
          630557.8947368421,
          643963.1578947369,
          657989.4736842106,
          672784.2105263158,
          688236.8421052631,
          704789.4736842106,
          721894.7368421053,
          738394.7368421053,
          753968.4210526316,
          769136.8421052631,
          783457.8947368421,
          797021.052631579,
          809526.3157894737,
          820836.8421052631,
          830910.5263157894,
          840157.8947368421,
          848589.4736842106,
          856457.8947368421,
          863668.4210526316,
          869763.1578947369,
          874647.3684210526,
          878631.5789473684,
          881889.4736842106,
          884731.5789473684,
          887121.052631579,
          889110.5263157894,
          891031.5789473684,
          893315.7894736842,
          896005.2631578947,
          899189.4736842106,
          902931.5789473684,
          907010.5263157894,
          911184.2105263158,
          915378.947368421,
          919673.6842105263,
          924247.3684210526,
          928836.8421052631,
          933142.1052631579,
          937342.1052631579,
          941678.947368421,
          946773.6842105263,
          951473.6842105263,
          954700,
          956736.8421052631,
          958294.7368421053,
          958573.6842105263,
          958273.6842105263,
          958473.6842105263,
          959484.2105263158,
          961152.6315789474,
          963852.6315789474,
          968142.1052631579,
          974500,
          983857.8947368421,
          996247.3684210526,
          1011115.7894736842,
          1027815.7894736842,
          1045878.947368421,
          1064415.7894736843,
          1083200,
          1102136.8421052631,
          1121021.0526315789,
          1139610.5263157894,
          1157352.6315789474,
          1173347.3684210526,
          1187810.5263157894,
          1200768.4210526317,
          1211947.3684210526,
          1221789.4736842106,
          1230263.1578947369,
          1236631.5789473683,
          1241321.0526315789,
          1244926.3157894737,
          1248147.3684210526,
          1251578.9473684211,
          1254631.5789473683,
          1255689.4736842106,
          1254257.894736842,
          1250694.7368421052,
          1245163.1578947369,
          1239463.1578947369,
          1235421.0526315789,
          1233321.0526315789,
          1233084.2105263157,
          1234410.5263157894,
          1235968.4210526317,
          1236984.2105263157,
          1237026.3157894737,
          1236268.4210526317,
          1237226.3157894737,
          1240994.7368421052,
          1246763.1578947369,
          1254452.6315789474,
          1263757.894736842,
          1272684.2105263157,
          1280963.1578947369,
          1288215.7894736843,
          1292915.7894736843,
          1294510.5263157894,
          1292805.2631578948,
          1287710.5263157894,
          1281842.105263158,
          1276668.4210526317,
          1271500,
          1267252.6315789474,
          1264005.2631578948,
          1259331.5789473683,
          1252205.2631578948,
          1243447.3684210526,
          1233810.5263157894,
          1224689.4736842106,
          1215731.5789473683,
          1207052.6315789474,
          1201478.9473684211,
          1198189.4736842106,
          1192215.7894736843,
          1182821.0526315789,
          1171731.5789473683,
          1159400,
          1148378.9473684211,
          1141042.105263158,
          1136900,
          1135626.3157894737,
          1136178.9473684211,
          1138110.5263157894,
          1143031.5789473683,
          1150257.894736842,
          1154800,
          1150815.7894736843,
          1142689.4736842106,
          1141847.3684210526,
          1144221.0526315789,
          1141447.3684210526,
          1136368.4210526317,
          1131436.8421052631,
          1128310.5263157894,
          1132557.894736842,
          1133089.4736842106,
          1124510.5263157894,
          1115047.3684210526,
          1109189.4736842106,
          1104173.6842105263,
          1098742.105263158,
          1091326.3157894737,
          1085184.2105263157,
          1084715.7894736843,
          1088947.3684210526,
          1096078.9473684211,
          1102205.2631578948,
          1105226.3157894737,
          1106852.6315789474,
          1114263.1578947369,
          1124984.2105263157,
          1137773.6842105263,
          1151110.5263157894,
          1166747.3684210526,
          1185205.2631578948,
          1204484.2105263157,
          1220589.4736842106,
          1237052.6315789474,
          1251178.9473684211,
          1262615.7894736843,
          1273957.894736842,
          1288373.6842105263,
          1311763.1578947369,
          1340294.7368421052,
          1364684.2105263157,
          1389873.6842105263,
          1417505.2631578948,
          1441415.7894736843,
          1458857.894736842,
          1468505.2631578948,
          1475305.2631578948,
          1490947.3684210526,
          1513552.6315789474,
          1533768.4210526317,
          1549768.4210526317,
          1570536.8421052631,
          1595805.2631578948,
          1618815.7894736843,
          1638184.2105263157,
          1654431.5789473683,
          1666821.0526315789,
          1681963.1578947369,
          1698473.6842105263,
          1706589.4736842106,
          1716147.3684210526,
          1738631.5789473683,
          1771536.8421052631,
          1797594.7368421052,
          1816547.3684210526,
          1832326.3157894737,
          1849878.9473684211,
          1864557.894736842,
          1877594.7368421052,
          1884994.7368421052,
          1890926.3157894737,
          1899884.2105263157,
          1912942.105263158,
          1921752.6315789474,
          1919400,
          1909073.6842105263,
          1901673.6842105263,
          1895863.1578947369,
          1888578.9473684211,
          1889647.3684210526,
          1902563.1578947369,
          1915815.7894736843,
          1928831.5789473683,
          1944378.9473684211,
          1957668.4210526317,
          1967552.6315789474,
          1977489.4736842106,
          1992363.1578947369,
          2014568.4210526317,
          2038878.9473684211,
          2053126.3157894737,
          2059910.5263157894,
          2072578.9473684211,
          2091210.5263157894,
          2099442.1052631577,
          2103573.6842105263,
          2111747.3684210526,
          2120552.6315789474,
          2134005.263157895,
          2146478.947368421
         ]
        },
        {
         "line": {
          "color": "red"
         },
         "name": "New York City",
         "type": "scatter",
         "x": [
          "1996-04-01T00:00:00",
          "1996-05-01T00:00:00",
          "1996-06-01T00:00:00",
          "1996-07-01T00:00:00",
          "1996-08-01T00:00:00",
          "1996-09-01T00:00:00",
          "1996-10-01T00:00:00",
          "1996-11-01T00:00:00",
          "1996-12-01T00:00:00",
          "1997-01-01T00:00:00",
          "1997-02-01T00:00:00",
          "1997-03-01T00:00:00",
          "1997-04-01T00:00:00",
          "1997-05-01T00:00:00",
          "1997-06-01T00:00:00",
          "1997-07-01T00:00:00",
          "1997-08-01T00:00:00",
          "1997-09-01T00:00:00",
          "1997-10-01T00:00:00",
          "1997-11-01T00:00:00",
          "1997-12-01T00:00:00",
          "1998-01-01T00:00:00",
          "1998-02-01T00:00:00",
          "1998-03-01T00:00:00",
          "1998-04-01T00:00:00",
          "1998-05-01T00:00:00",
          "1998-06-01T00:00:00",
          "1998-07-01T00:00:00",
          "1998-08-01T00:00:00",
          "1998-09-01T00:00:00",
          "1998-10-01T00:00:00",
          "1998-11-01T00:00:00",
          "1998-12-01T00:00:00",
          "1999-01-01T00:00:00",
          "1999-02-01T00:00:00",
          "1999-03-01T00:00:00",
          "1999-04-01T00:00:00",
          "1999-05-01T00:00:00",
          "1999-06-01T00:00:00",
          "1999-07-01T00:00:00",
          "1999-08-01T00:00:00",
          "1999-09-01T00:00:00",
          "1999-10-01T00:00:00",
          "1999-11-01T00:00:00",
          "1999-12-01T00:00:00",
          "2000-01-01T00:00:00",
          "2000-02-01T00:00:00",
          "2000-03-01T00:00:00",
          "2000-04-01T00:00:00",
          "2000-05-01T00:00:00",
          "2000-06-01T00:00:00",
          "2000-07-01T00:00:00",
          "2000-08-01T00:00:00",
          "2000-09-01T00:00:00",
          "2000-10-01T00:00:00",
          "2000-11-01T00:00:00",
          "2000-12-01T00:00:00",
          "2001-01-01T00:00:00",
          "2001-02-01T00:00:00",
          "2001-03-01T00:00:00",
          "2001-04-01T00:00:00",
          "2001-05-01T00:00:00",
          "2001-06-01T00:00:00",
          "2001-07-01T00:00:00",
          "2001-08-01T00:00:00",
          "2001-09-01T00:00:00",
          "2001-10-01T00:00:00",
          "2001-11-01T00:00:00",
          "2001-12-01T00:00:00",
          "2002-01-01T00:00:00",
          "2002-02-01T00:00:00",
          "2002-03-01T00:00:00",
          "2002-04-01T00:00:00",
          "2002-05-01T00:00:00",
          "2002-06-01T00:00:00",
          "2002-07-01T00:00:00",
          "2002-08-01T00:00:00",
          "2002-09-01T00:00:00",
          "2002-10-01T00:00:00",
          "2002-11-01T00:00:00",
          "2002-12-01T00:00:00",
          "2003-01-01T00:00:00",
          "2003-02-01T00:00:00",
          "2003-03-01T00:00:00",
          "2003-04-01T00:00:00",
          "2003-05-01T00:00:00",
          "2003-06-01T00:00:00",
          "2003-07-01T00:00:00",
          "2003-08-01T00:00:00",
          "2003-09-01T00:00:00",
          "2003-10-01T00:00:00",
          "2003-11-01T00:00:00",
          "2003-12-01T00:00:00",
          "2004-01-01T00:00:00",
          "2004-02-01T00:00:00",
          "2004-03-01T00:00:00",
          "2004-04-01T00:00:00",
          "2004-05-01T00:00:00",
          "2004-06-01T00:00:00",
          "2004-07-01T00:00:00",
          "2004-08-01T00:00:00",
          "2004-09-01T00:00:00",
          "2004-10-01T00:00:00",
          "2004-11-01T00:00:00",
          "2004-12-01T00:00:00",
          "2005-01-01T00:00:00",
          "2005-02-01T00:00:00",
          "2005-03-01T00:00:00",
          "2005-04-01T00:00:00",
          "2005-05-01T00:00:00",
          "2005-06-01T00:00:00",
          "2005-07-01T00:00:00",
          "2005-08-01T00:00:00",
          "2005-09-01T00:00:00",
          "2005-10-01T00:00:00",
          "2005-11-01T00:00:00",
          "2005-12-01T00:00:00",
          "2006-01-01T00:00:00",
          "2006-02-01T00:00:00",
          "2006-03-01T00:00:00",
          "2006-04-01T00:00:00",
          "2006-05-01T00:00:00",
          "2006-06-01T00:00:00",
          "2006-07-01T00:00:00",
          "2006-08-01T00:00:00",
          "2006-09-01T00:00:00",
          "2006-10-01T00:00:00",
          "2006-11-01T00:00:00",
          "2006-12-01T00:00:00",
          "2007-01-01T00:00:00",
          "2007-02-01T00:00:00",
          "2007-03-01T00:00:00",
          "2007-04-01T00:00:00",
          "2007-05-01T00:00:00",
          "2007-06-01T00:00:00",
          "2007-07-01T00:00:00",
          "2007-08-01T00:00:00",
          "2007-09-01T00:00:00",
          "2007-10-01T00:00:00",
          "2007-11-01T00:00:00",
          "2007-12-01T00:00:00",
          "2008-01-01T00:00:00",
          "2008-02-01T00:00:00",
          "2008-03-01T00:00:00",
          "2008-04-01T00:00:00",
          "2008-05-01T00:00:00",
          "2008-06-01T00:00:00",
          "2008-07-01T00:00:00",
          "2008-08-01T00:00:00",
          "2008-09-01T00:00:00",
          "2008-10-01T00:00:00",
          "2008-11-01T00:00:00",
          "2008-12-01T00:00:00",
          "2009-01-01T00:00:00",
          "2009-02-01T00:00:00",
          "2009-03-01T00:00:00",
          "2009-04-01T00:00:00",
          "2009-05-01T00:00:00",
          "2009-06-01T00:00:00",
          "2009-07-01T00:00:00",
          "2009-08-01T00:00:00",
          "2009-09-01T00:00:00",
          "2009-10-01T00:00:00",
          "2009-11-01T00:00:00",
          "2009-12-01T00:00:00",
          "2010-01-01T00:00:00",
          "2010-02-01T00:00:00",
          "2010-03-01T00:00:00",
          "2010-04-01T00:00:00",
          "2010-05-01T00:00:00",
          "2010-06-01T00:00:00",
          "2010-07-01T00:00:00",
          "2010-08-01T00:00:00",
          "2010-09-01T00:00:00",
          "2010-10-01T00:00:00",
          "2010-11-01T00:00:00",
          "2010-12-01T00:00:00",
          "2011-01-01T00:00:00",
          "2011-02-01T00:00:00",
          "2011-03-01T00:00:00",
          "2011-04-01T00:00:00",
          "2011-05-01T00:00:00",
          "2011-06-01T00:00:00",
          "2011-07-01T00:00:00",
          "2011-08-01T00:00:00",
          "2011-09-01T00:00:00",
          "2011-10-01T00:00:00",
          "2011-11-01T00:00:00",
          "2011-12-01T00:00:00",
          "2012-01-01T00:00:00",
          "2012-02-01T00:00:00",
          "2012-03-01T00:00:00",
          "2012-04-01T00:00:00",
          "2012-05-01T00:00:00",
          "2012-06-01T00:00:00",
          "2012-07-01T00:00:00",
          "2012-08-01T00:00:00",
          "2012-09-01T00:00:00",
          "2012-10-01T00:00:00",
          "2012-11-01T00:00:00",
          "2012-12-01T00:00:00",
          "2013-01-01T00:00:00",
          "2013-02-01T00:00:00",
          "2013-03-01T00:00:00",
          "2013-04-01T00:00:00",
          "2013-05-01T00:00:00",
          "2013-06-01T00:00:00",
          "2013-07-01T00:00:00",
          "2013-08-01T00:00:00",
          "2013-09-01T00:00:00",
          "2013-10-01T00:00:00",
          "2013-11-01T00:00:00",
          "2013-12-01T00:00:00",
          "2014-01-01T00:00:00",
          "2014-02-01T00:00:00",
          "2014-03-01T00:00:00",
          "2014-04-01T00:00:00",
          "2014-05-01T00:00:00",
          "2014-06-01T00:00:00",
          "2014-07-01T00:00:00",
          "2014-08-01T00:00:00",
          "2014-09-01T00:00:00",
          "2014-10-01T00:00:00",
          "2014-11-01T00:00:00",
          "2014-12-01T00:00:00",
          "2015-01-01T00:00:00",
          "2015-02-01T00:00:00",
          "2015-03-01T00:00:00",
          "2015-04-01T00:00:00",
          "2015-05-01T00:00:00",
          "2015-06-01T00:00:00",
          "2015-07-01T00:00:00",
          "2015-08-01T00:00:00",
          "2015-09-01T00:00:00",
          "2015-10-01T00:00:00",
          "2015-11-01T00:00:00",
          "2015-12-01T00:00:00",
          "2016-01-01T00:00:00",
          "2016-02-01T00:00:00",
          "2016-03-01T00:00:00",
          "2016-04-01T00:00:00",
          "2016-05-01T00:00:00",
          "2016-06-01T00:00:00",
          "2016-07-01T00:00:00",
          "2016-08-01T00:00:00",
          "2016-09-01T00:00:00",
          "2016-10-01T00:00:00",
          "2016-11-01T00:00:00",
          "2016-12-01T00:00:00",
          "2017-01-01T00:00:00",
          "2017-02-01T00:00:00",
          "2017-03-01T00:00:00",
          "2017-04-01T00:00:00",
          "2017-05-01T00:00:00",
          "2017-06-01T00:00:00",
          "2017-07-01T00:00:00",
          "2017-08-01T00:00:00",
          "2017-09-01T00:00:00",
          "2017-10-01T00:00:00",
          "2017-11-01T00:00:00",
          "2017-12-01T00:00:00",
          "2018-01-01T00:00:00",
          "2018-02-01T00:00:00",
          "2018-03-01T00:00:00",
          "2018-04-01T00:00:00"
         ],
         "y": [
          214819.23076923078,
          215233.65384615384,
          215698.07692307694,
          216186.53846153847,
          216720.1923076923,
          217312.5,
          217988.46153846153,
          218839.42307692306,
          219902.88461538462,
          220883.65384615384,
          221559.61538461538,
          222051.92307692306,
          222592.3076923077,
          223252.88461538462,
          223989.42307692306,
          224778.84615384616,
          225633.65384615384,
          226570.1923076923,
          227610.57692307694,
          228851.92307692306,
          230294.23076923078,
          231618.26923076922,
          232565.38461538462,
          233294.23076923078,
          234044.23076923078,
          234890.38461538462,
          235776.92307692306,
          236680.76923076922,
          237632.6923076923,
          238642.3076923077,
          239750.96153846153,
          241063.46153846153,
          242585.57692307694,
          243987.5,
          245021.15384615384,
          245886.53846153847,
          246858.65384615384,
          248008.65384615384,
          249311.53846153847,
          250729.8076923077,
          252297.11538461538,
          254001.92307692306,
          255875,
          258052.88461538462,
          260525.96153846153,
          262888.46153846156,
          264860.57692307694,
          266667.3076923077,
          268583.6538461539,
          270692.3076923077,
          272954.8076923077,
          275326.92307692306,
          277786.53846153844,
          280339.42307692306,
          283013.46153846156,
          285992.3076923077,
          289225,
          292194.23076923075,
          294637.5,
          296876.92307692306,
          299244.23076923075,
          301817.3076923077,
          304567.3076923077,
          307406.73076923075,
          310323.07692307694,
          313330.76923076925,
          316408.6538461539,
          319791.3461538461,
          323301.92307692306,
          326336.53846153844,
          328623.07692307694,
          330565.3846153846,
          332528.8461538461,
          334691.3461538461,
          337021.1538461539,
          339438.46153846156,
          341982.6923076923,
          344731.73076923075,
          347984.6153846154,
          349908.6538461539,
          351667.3076923077,
          356529.8076923077,
          365421.1538461539,
          375375,
          384635.57692307694,
          391824.03846153844,
          397359.6153846154,
          399963.8095238095,
          403476.1904761905,
          406331.4285714286,
          408869.5238095238,
          411703.8095238095,
          414848.5714285714,
          599957.6576576576,
          588895.4954954955,
          579310.8108108108,
          571371.1711711711,
          565399.099099099,
          561618.9189189189,
          560876.5765765766,
          563827.027027027,
          570485.5855855856,
          579697.2972972973,
          590617.1171171172,
          602275.6756756756,
          641468.75,
          652792.8571428572,
          663645.5357142857,
          673547.3214285715,
          681649.1071428572,
          688493.75,
          695330.3571428572,
          703084.8214285715,
          712081.25,
          721951.7857142857,
          732699.1071428572,
          744056.25,
          754753.5714285715,
          763720.5357142857,
          771724.1071428572,
          778884.8214285715,
          784131.25,
          786425,
          784997.3214285715,
          780111.6071428572,
          772940.1785714285,
          765533.0357142857,
          760344.6428571428,
          758638.3928571428,
          759459.8214285715,
          761167.8571428572,
          763620.5357142857,
          766085.7142857143,
          767009.8214285715,
          766626.7857142857,
          767864.2857142857,
          772484.8214285715,
          779622.3214285715,
          786874.1071428572,
          793045.5357142857,
          797656.25,
          800353.5714285715,
          800696.4285714285,
          800275,
          799261.6071428572,
          795896.4285714285,
          790164.2857142857,
          785265.1785714285,
          782604.4642857143,
          780893.75,
          778665.1785714285,
          776124.1071428572,
          774031.25,
          772454.4642857143,
          770682.1428571428,
          769606.25,
          769087.5,
          766941.0714285715,
          762475,
          758448.2142857143,
          756768.75,
          757314.2857142857,
          759084.8214285715,
          761649.1071428572,
          764364.2857142857,
          766422.3214285715,
          768845.5357142857,
          767664.2857142857,
          763144.6428571428,
          763490.1785714285,
          771072.3214285715,
          777690.1785714285,
          777228.5714285715,
          771697.3214285715,
          769397.3214285715,
          768795.5357142857,
          766802.6785714285,
          765647.3214285715,
          768413.3928571428,
          771087.5,
          773147.3214285715,
          775223.2142857143,
          777623.2142857143,
          778091.0714285715,
          777808.0357142857,
          779791.0714285715,
          780791.9642857143,
          780038.3928571428,
          777379.4642857143,
          772333.6283185841,
          770143.3628318585,
          768078.7610619469,
          765276.1061946902,
          765084.9557522124,
          766363.7168141593,
          767126.5486725664,
          766503.5398230088,
          766780.5309734513,
          767602.6548672566,
          771947.7876106194,
          776928.3185840708,
          779534.5132743362,
          780438.9380530973,
          784883.185840708,
          791675.221238938,
          798494.6902654867,
          806003.5398230088,
          813261.9469026548,
          820837.1681415929,
          828319.4690265487,
          837346.0176991151,
          844973.4513274336,
          856703.5398230088,
          863004.3859649122,
          872496.4912280702,
          883914.0350877193,
          898909.649122807,
          910287.7192982456,
          916045.6140350878,
          923900,
          936747.3684210526,
          950933.3333333334,
          960625.4385964912,
          969105.2631578947,
          976758.7719298246,
          986459.649122807,
          998302.6315789474,
          1007793.8596491228,
          1014124.5614035088,
          1020391.2280701754,
          1030044.7368421053,
          1041642.1052631579,
          1052292.105263158,
          1059963.1578947369,
          1066316.6666666667,
          1070582.4561403508,
          1074268.4210526317,
          1078185.9649122807,
          1081475.4385964912,
          1082322.8070175438,
          1084231.5789473683,
          1087614.9122807018,
          1089488.596491228,
          1092178.0701754387,
          1100596.49122807,
          1110084.2105263157,
          1117000.8771929825,
          1122597.3684210526,
          1127428.9473684211,
          1132304.3859649124,
          1136110.5263157894,
          1141875.4385964912,
          1151323.6842105263,
          1159282.4561403508,
          1162565.7894736843,
          1166364.9122807018,
          1170038.596491228,
          1172874.5614035088,
          1175286.8421052631,
          1175529.8245614036,
          1176734.2105263157,
          1182093.8596491227,
          1185925.4385964912,
          1187463.1578947369,
          1189456.1403508773
         ]
        }
       ],
       "layout": {
        "template": {
         "data": {
          "bar": [
           {
            "error_x": {
             "color": "#2a3f5f"
            },
            "error_y": {
             "color": "#2a3f5f"
            },
            "marker": {
             "line": {
              "color": "#E5ECF6",
              "width": 0.5
             }
            },
            "type": "bar"
           }
          ],
          "barpolar": [
           {
            "marker": {
             "line": {
              "color": "#E5ECF6",
              "width": 0.5
             }
            },
            "type": "barpolar"
           }
          ],
          "carpet": [
           {
            "aaxis": {
             "endlinecolor": "#2a3f5f",
             "gridcolor": "white",
             "linecolor": "white",
             "minorgridcolor": "white",
             "startlinecolor": "#2a3f5f"
            },
            "baxis": {
             "endlinecolor": "#2a3f5f",
             "gridcolor": "white",
             "linecolor": "white",
             "minorgridcolor": "white",
             "startlinecolor": "#2a3f5f"
            },
            "type": "carpet"
           }
          ],
          "choropleth": [
           {
            "colorbar": {
             "outlinewidth": 0,
             "ticks": ""
            },
            "type": "choropleth"
           }
          ],
          "contour": [
           {
            "colorbar": {
             "outlinewidth": 0,
             "ticks": ""
            },
            "colorscale": [
             [
              0,
              "#0d0887"
             ],
             [
              0.1111111111111111,
              "#46039f"
             ],
             [
              0.2222222222222222,
              "#7201a8"
             ],
             [
              0.3333333333333333,
              "#9c179e"
             ],
             [
              0.4444444444444444,
              "#bd3786"
             ],
             [
              0.5555555555555556,
              "#d8576b"
             ],
             [
              0.6666666666666666,
              "#ed7953"
             ],
             [
              0.7777777777777778,
              "#fb9f3a"
             ],
             [
              0.8888888888888888,
              "#fdca26"
             ],
             [
              1,
              "#f0f921"
             ]
            ],
            "type": "contour"
           }
          ],
          "contourcarpet": [
           {
            "colorbar": {
             "outlinewidth": 0,
             "ticks": ""
            },
            "type": "contourcarpet"
           }
          ],
          "heatmap": [
           {
            "colorbar": {
             "outlinewidth": 0,
             "ticks": ""
            },
            "colorscale": [
             [
              0,
              "#0d0887"
             ],
             [
              0.1111111111111111,
              "#46039f"
             ],
             [
              0.2222222222222222,
              "#7201a8"
             ],
             [
              0.3333333333333333,
              "#9c179e"
             ],
             [
              0.4444444444444444,
              "#bd3786"
             ],
             [
              0.5555555555555556,
              "#d8576b"
             ],
             [
              0.6666666666666666,
              "#ed7953"
             ],
             [
              0.7777777777777778,
              "#fb9f3a"
             ],
             [
              0.8888888888888888,
              "#fdca26"
             ],
             [
              1,
              "#f0f921"
             ]
            ],
            "type": "heatmap"
           }
          ],
          "heatmapgl": [
           {
            "colorbar": {
             "outlinewidth": 0,
             "ticks": ""
            },
            "colorscale": [
             [
              0,
              "#0d0887"
             ],
             [
              0.1111111111111111,
              "#46039f"
             ],
             [
              0.2222222222222222,
              "#7201a8"
             ],
             [
              0.3333333333333333,
              "#9c179e"
             ],
             [
              0.4444444444444444,
              "#bd3786"
             ],
             [
              0.5555555555555556,
              "#d8576b"
             ],
             [
              0.6666666666666666,
              "#ed7953"
             ],
             [
              0.7777777777777778,
              "#fb9f3a"
             ],
             [
              0.8888888888888888,
              "#fdca26"
             ],
             [
              1,
              "#f0f921"
             ]
            ],
            "type": "heatmapgl"
           }
          ],
          "histogram": [
           {
            "marker": {
             "colorbar": {
              "outlinewidth": 0,
              "ticks": ""
             }
            },
            "type": "histogram"
           }
          ],
          "histogram2d": [
           {
            "colorbar": {
             "outlinewidth": 0,
             "ticks": ""
            },
            "colorscale": [
             [
              0,
              "#0d0887"
             ],
             [
              0.1111111111111111,
              "#46039f"
             ],
             [
              0.2222222222222222,
              "#7201a8"
             ],
             [
              0.3333333333333333,
              "#9c179e"
             ],
             [
              0.4444444444444444,
              "#bd3786"
             ],
             [
              0.5555555555555556,
              "#d8576b"
             ],
             [
              0.6666666666666666,
              "#ed7953"
             ],
             [
              0.7777777777777778,
              "#fb9f3a"
             ],
             [
              0.8888888888888888,
              "#fdca26"
             ],
             [
              1,
              "#f0f921"
             ]
            ],
            "type": "histogram2d"
           }
          ],
          "histogram2dcontour": [
           {
            "colorbar": {
             "outlinewidth": 0,
             "ticks": ""
            },
            "colorscale": [
             [
              0,
              "#0d0887"
             ],
             [
              0.1111111111111111,
              "#46039f"
             ],
             [
              0.2222222222222222,
              "#7201a8"
             ],
             [
              0.3333333333333333,
              "#9c179e"
             ],
             [
              0.4444444444444444,
              "#bd3786"
             ],
             [
              0.5555555555555556,
              "#d8576b"
             ],
             [
              0.6666666666666666,
              "#ed7953"
             ],
             [
              0.7777777777777778,
              "#fb9f3a"
             ],
             [
              0.8888888888888888,
              "#fdca26"
             ],
             [
              1,
              "#f0f921"
             ]
            ],
            "type": "histogram2dcontour"
           }
          ],
          "mesh3d": [
           {
            "colorbar": {
             "outlinewidth": 0,
             "ticks": ""
            },
            "type": "mesh3d"
           }
          ],
          "parcoords": [
           {
            "line": {
             "colorbar": {
              "outlinewidth": 0,
              "ticks": ""
             }
            },
            "type": "parcoords"
           }
          ],
          "scatter": [
           {
            "marker": {
             "colorbar": {
              "outlinewidth": 0,
              "ticks": ""
             }
            },
            "type": "scatter"
           }
          ],
          "scatter3d": [
           {
            "line": {
             "colorbar": {
              "outlinewidth": 0,
              "ticks": ""
             }
            },
            "marker": {
             "colorbar": {
              "outlinewidth": 0,
              "ticks": ""
             }
            },
            "type": "scatter3d"
           }
          ],
          "scattercarpet": [
           {
            "marker": {
             "colorbar": {
              "outlinewidth": 0,
              "ticks": ""
             }
            },
            "type": "scattercarpet"
           }
          ],
          "scattergeo": [
           {
            "marker": {
             "colorbar": {
              "outlinewidth": 0,
              "ticks": ""
             }
            },
            "type": "scattergeo"
           }
          ],
          "scattergl": [
           {
            "marker": {
             "colorbar": {
              "outlinewidth": 0,
              "ticks": ""
             }
            },
            "type": "scattergl"
           }
          ],
          "scattermapbox": [
           {
            "marker": {
             "colorbar": {
              "outlinewidth": 0,
              "ticks": ""
             }
            },
            "type": "scattermapbox"
           }
          ],
          "scatterpolar": [
           {
            "marker": {
             "colorbar": {
              "outlinewidth": 0,
              "ticks": ""
             }
            },
            "type": "scatterpolar"
           }
          ],
          "scatterpolargl": [
           {
            "marker": {
             "colorbar": {
              "outlinewidth": 0,
              "ticks": ""
             }
            },
            "type": "scatterpolargl"
           }
          ],
          "scatterternary": [
           {
            "marker": {
             "colorbar": {
              "outlinewidth": 0,
              "ticks": ""
             }
            },
            "type": "scatterternary"
           }
          ],
          "surface": [
           {
            "colorbar": {
             "outlinewidth": 0,
             "ticks": ""
            },
            "colorscale": [
             [
              0,
              "#0d0887"
             ],
             [
              0.1111111111111111,
              "#46039f"
             ],
             [
              0.2222222222222222,
              "#7201a8"
             ],
             [
              0.3333333333333333,
              "#9c179e"
             ],
             [
              0.4444444444444444,
              "#bd3786"
             ],
             [
              0.5555555555555556,
              "#d8576b"
             ],
             [
              0.6666666666666666,
              "#ed7953"
             ],
             [
              0.7777777777777778,
              "#fb9f3a"
             ],
             [
              0.8888888888888888,
              "#fdca26"
             ],
             [
              1,
              "#f0f921"
             ]
            ],
            "type": "surface"
           }
          ],
          "table": [
           {
            "cells": {
             "fill": {
              "color": "#EBF0F8"
             },
             "line": {
              "color": "white"
             }
            },
            "header": {
             "fill": {
              "color": "#C8D4E3"
             },
             "line": {
              "color": "white"
             }
            },
            "type": "table"
           }
          ]
         },
         "layout": {
          "annotationdefaults": {
           "arrowcolor": "#2a3f5f",
           "arrowhead": 0,
           "arrowwidth": 1
          },
          "colorscale": {
           "diverging": [
            [
             0,
             "#8e0152"
            ],
            [
             0.1,
             "#c51b7d"
            ],
            [
             0.2,
             "#de77ae"
            ],
            [
             0.3,
             "#f1b6da"
            ],
            [
             0.4,
             "#fde0ef"
            ],
            [
             0.5,
             "#f7f7f7"
            ],
            [
             0.6,
             "#e6f5d0"
            ],
            [
             0.7,
             "#b8e186"
            ],
            [
             0.8,
             "#7fbc41"
            ],
            [
             0.9,
             "#4d9221"
            ],
            [
             1,
             "#276419"
            ]
           ],
           "sequential": [
            [
             0,
             "#0d0887"
            ],
            [
             0.1111111111111111,
             "#46039f"
            ],
            [
             0.2222222222222222,
             "#7201a8"
            ],
            [
             0.3333333333333333,
             "#9c179e"
            ],
            [
             0.4444444444444444,
             "#bd3786"
            ],
            [
             0.5555555555555556,
             "#d8576b"
            ],
            [
             0.6666666666666666,
             "#ed7953"
            ],
            [
             0.7777777777777778,
             "#fb9f3a"
            ],
            [
             0.8888888888888888,
             "#fdca26"
            ],
            [
             1,
             "#f0f921"
            ]
           ],
           "sequentialminus": [
            [
             0,
             "#0d0887"
            ],
            [
             0.1111111111111111,
             "#46039f"
            ],
            [
             0.2222222222222222,
             "#7201a8"
            ],
            [
             0.3333333333333333,
             "#9c179e"
            ],
            [
             0.4444444444444444,
             "#bd3786"
            ],
            [
             0.5555555555555556,
             "#d8576b"
            ],
            [
             0.6666666666666666,
             "#ed7953"
            ],
            [
             0.7777777777777778,
             "#fb9f3a"
            ],
            [
             0.8888888888888888,
             "#fdca26"
            ],
            [
             1,
             "#f0f921"
            ]
           ]
          },
          "colorway": [
           "#636efa",
           "#EF553B",
           "#00cc96",
           "#ab63fa",
           "#FFA15A",
           "#19d3f3",
           "#FF6692",
           "#B6E880",
           "#FF97FF",
           "#FECB52"
          ],
          "font": {
           "color": "#2a3f5f"
          },
          "geo": {
           "bgcolor": "white",
           "lakecolor": "white",
           "landcolor": "#E5ECF6",
           "showlakes": true,
           "showland": true,
           "subunitcolor": "white"
          },
          "hoverlabel": {
           "align": "left"
          },
          "hovermode": "closest",
          "mapbox": {
           "style": "light"
          },
          "paper_bgcolor": "white",
          "plot_bgcolor": "#E5ECF6",
          "polar": {
           "angularaxis": {
            "gridcolor": "white",
            "linecolor": "white",
            "ticks": ""
           },
           "bgcolor": "#E5ECF6",
           "radialaxis": {
            "gridcolor": "white",
            "linecolor": "white",
            "ticks": ""
           }
          },
          "scene": {
           "xaxis": {
            "backgroundcolor": "#E5ECF6",
            "gridcolor": "white",
            "gridwidth": 2,
            "linecolor": "white",
            "showbackground": true,
            "ticks": "",
            "zerolinecolor": "white"
           },
           "yaxis": {
            "backgroundcolor": "#E5ECF6",
            "gridcolor": "white",
            "gridwidth": 2,
            "linecolor": "white",
            "showbackground": true,
            "ticks": "",
            "zerolinecolor": "white"
           },
           "zaxis": {
            "backgroundcolor": "#E5ECF6",
            "gridcolor": "white",
            "gridwidth": 2,
            "linecolor": "white",
            "showbackground": true,
            "ticks": "",
            "zerolinecolor": "white"
           }
          },
          "shapedefaults": {
           "line": {
            "color": "#2a3f5f"
           }
          },
          "ternary": {
           "aaxis": {
            "gridcolor": "white",
            "linecolor": "white",
            "ticks": ""
           },
           "baxis": {
            "gridcolor": "white",
            "linecolor": "white",
            "ticks": ""
           },
           "bgcolor": "#E5ECF6",
           "caxis": {
            "gridcolor": "white",
            "linecolor": "white",
            "ticks": ""
           }
          },
          "title": {
           "x": 0.05
          },
          "xaxis": {
           "automargin": true,
           "gridcolor": "white",
           "linecolor": "white",
           "ticks": "",
           "zerolinecolor": "white",
           "zerolinewidth": 2
          },
          "yaxis": {
           "automargin": true,
           "gridcolor": "white",
           "linecolor": "white",
           "ticks": "",
           "zerolinecolor": "white",
           "zerolinewidth": 2
          }
         }
        },
        "title": {
         "text": "San Francisco & NYC Zillow Home Value Index"
        },
        "xaxis": {
         "rangeslider": {
          "visible": true
         }
        }
       }
      },
      "text/html": [
       "<div>\n",
       "        \n",
       "        \n",
       "            <div id=\"fb38639a-c8ee-4f87-831c-d38d1dd56044\" class=\"plotly-graph-div\" style=\"height:525px; width:100%;\"></div>\n",
       "            <script type=\"text/javascript\">\n",
       "                require([\"plotly\"], function(Plotly) {\n",
       "                    window.PLOTLYENV=window.PLOTLYENV || {};\n",
       "                    \n",
       "                if (document.getElementById(\"fb38639a-c8ee-4f87-831c-d38d1dd56044\")) {\n",
       "                    Plotly.newPlot(\n",
       "                        'fb38639a-c8ee-4f87-831c-d38d1dd56044',\n",
       "                        [{\"line\": {\"color\": \"deepskyblue\"}, \"name\": \"San Francisco\", \"type\": \"scatter\", \"x\": [\"1996-04-01T00:00:00\", \"1996-05-01T00:00:00\", \"1996-06-01T00:00:00\", \"1996-07-01T00:00:00\", \"1996-08-01T00:00:00\", \"1996-09-01T00:00:00\", \"1996-10-01T00:00:00\", \"1996-11-01T00:00:00\", \"1996-12-01T00:00:00\", \"1997-01-01T00:00:00\", \"1997-02-01T00:00:00\", \"1997-03-01T00:00:00\", \"1997-04-01T00:00:00\", \"1997-05-01T00:00:00\", \"1997-06-01T00:00:00\", \"1997-07-01T00:00:00\", \"1997-08-01T00:00:00\", \"1997-09-01T00:00:00\", \"1997-10-01T00:00:00\", \"1997-11-01T00:00:00\", \"1997-12-01T00:00:00\", \"1998-01-01T00:00:00\", \"1998-02-01T00:00:00\", \"1998-03-01T00:00:00\", \"1998-04-01T00:00:00\", \"1998-05-01T00:00:00\", \"1998-06-01T00:00:00\", \"1998-07-01T00:00:00\", \"1998-08-01T00:00:00\", \"1998-09-01T00:00:00\", \"1998-10-01T00:00:00\", \"1998-11-01T00:00:00\", \"1998-12-01T00:00:00\", \"1999-01-01T00:00:00\", \"1999-02-01T00:00:00\", \"1999-03-01T00:00:00\", \"1999-04-01T00:00:00\", \"1999-05-01T00:00:00\", \"1999-06-01T00:00:00\", \"1999-07-01T00:00:00\", \"1999-08-01T00:00:00\", \"1999-09-01T00:00:00\", \"1999-10-01T00:00:00\", \"1999-11-01T00:00:00\", \"1999-12-01T00:00:00\", \"2000-01-01T00:00:00\", \"2000-02-01T00:00:00\", \"2000-03-01T00:00:00\", \"2000-04-01T00:00:00\", \"2000-05-01T00:00:00\", \"2000-06-01T00:00:00\", \"2000-07-01T00:00:00\", \"2000-08-01T00:00:00\", \"2000-09-01T00:00:00\", \"2000-10-01T00:00:00\", \"2000-11-01T00:00:00\", \"2000-12-01T00:00:00\", \"2001-01-01T00:00:00\", \"2001-02-01T00:00:00\", \"2001-03-01T00:00:00\", \"2001-04-01T00:00:00\", \"2001-05-01T00:00:00\", \"2001-06-01T00:00:00\", \"2001-07-01T00:00:00\", \"2001-08-01T00:00:00\", \"2001-09-01T00:00:00\", \"2001-10-01T00:00:00\", \"2001-11-01T00:00:00\", \"2001-12-01T00:00:00\", \"2002-01-01T00:00:00\", \"2002-02-01T00:00:00\", \"2002-03-01T00:00:00\", \"2002-04-01T00:00:00\", \"2002-05-01T00:00:00\", \"2002-06-01T00:00:00\", \"2002-07-01T00:00:00\", \"2002-08-01T00:00:00\", \"2002-09-01T00:00:00\", \"2002-10-01T00:00:00\", \"2002-11-01T00:00:00\", \"2002-12-01T00:00:00\", \"2003-01-01T00:00:00\", \"2003-02-01T00:00:00\", \"2003-03-01T00:00:00\", \"2003-04-01T00:00:00\", \"2003-05-01T00:00:00\", \"2003-06-01T00:00:00\", \"2003-07-01T00:00:00\", \"2003-08-01T00:00:00\", \"2003-09-01T00:00:00\", \"2003-10-01T00:00:00\", \"2003-11-01T00:00:00\", \"2003-12-01T00:00:00\", \"2004-01-01T00:00:00\", \"2004-02-01T00:00:00\", \"2004-03-01T00:00:00\", \"2004-04-01T00:00:00\", \"2004-05-01T00:00:00\", \"2004-06-01T00:00:00\", \"2004-07-01T00:00:00\", \"2004-08-01T00:00:00\", \"2004-09-01T00:00:00\", \"2004-10-01T00:00:00\", \"2004-11-01T00:00:00\", \"2004-12-01T00:00:00\", \"2005-01-01T00:00:00\", \"2005-02-01T00:00:00\", \"2005-03-01T00:00:00\", \"2005-04-01T00:00:00\", \"2005-05-01T00:00:00\", \"2005-06-01T00:00:00\", \"2005-07-01T00:00:00\", \"2005-08-01T00:00:00\", \"2005-09-01T00:00:00\", \"2005-10-01T00:00:00\", \"2005-11-01T00:00:00\", \"2005-12-01T00:00:00\", \"2006-01-01T00:00:00\", \"2006-02-01T00:00:00\", \"2006-03-01T00:00:00\", \"2006-04-01T00:00:00\", \"2006-05-01T00:00:00\", \"2006-06-01T00:00:00\", \"2006-07-01T00:00:00\", \"2006-08-01T00:00:00\", \"2006-09-01T00:00:00\", \"2006-10-01T00:00:00\", \"2006-11-01T00:00:00\", \"2006-12-01T00:00:00\", \"2007-01-01T00:00:00\", \"2007-02-01T00:00:00\", \"2007-03-01T00:00:00\", \"2007-04-01T00:00:00\", \"2007-05-01T00:00:00\", \"2007-06-01T00:00:00\", \"2007-07-01T00:00:00\", \"2007-08-01T00:00:00\", \"2007-09-01T00:00:00\", \"2007-10-01T00:00:00\", \"2007-11-01T00:00:00\", \"2007-12-01T00:00:00\", \"2008-01-01T00:00:00\", \"2008-02-01T00:00:00\", \"2008-03-01T00:00:00\", \"2008-04-01T00:00:00\", \"2008-05-01T00:00:00\", \"2008-06-01T00:00:00\", \"2008-07-01T00:00:00\", \"2008-08-01T00:00:00\", \"2008-09-01T00:00:00\", \"2008-10-01T00:00:00\", \"2008-11-01T00:00:00\", \"2008-12-01T00:00:00\", \"2009-01-01T00:00:00\", \"2009-02-01T00:00:00\", \"2009-03-01T00:00:00\", \"2009-04-01T00:00:00\", \"2009-05-01T00:00:00\", \"2009-06-01T00:00:00\", \"2009-07-01T00:00:00\", \"2009-08-01T00:00:00\", \"2009-09-01T00:00:00\", \"2009-10-01T00:00:00\", \"2009-11-01T00:00:00\", \"2009-12-01T00:00:00\", \"2010-01-01T00:00:00\", \"2010-02-01T00:00:00\", \"2010-03-01T00:00:00\", \"2010-04-01T00:00:00\", \"2010-05-01T00:00:00\", \"2010-06-01T00:00:00\", \"2010-07-01T00:00:00\", \"2010-08-01T00:00:00\", \"2010-09-01T00:00:00\", \"2010-10-01T00:00:00\", \"2010-11-01T00:00:00\", \"2010-12-01T00:00:00\", \"2011-01-01T00:00:00\", \"2011-02-01T00:00:00\", \"2011-03-01T00:00:00\", \"2011-04-01T00:00:00\", \"2011-05-01T00:00:00\", \"2011-06-01T00:00:00\", \"2011-07-01T00:00:00\", \"2011-08-01T00:00:00\", \"2011-09-01T00:00:00\", \"2011-10-01T00:00:00\", \"2011-11-01T00:00:00\", \"2011-12-01T00:00:00\", \"2012-01-01T00:00:00\", \"2012-02-01T00:00:00\", \"2012-03-01T00:00:00\", \"2012-04-01T00:00:00\", \"2012-05-01T00:00:00\", \"2012-06-01T00:00:00\", \"2012-07-01T00:00:00\", \"2012-08-01T00:00:00\", \"2012-09-01T00:00:00\", \"2012-10-01T00:00:00\", \"2012-11-01T00:00:00\", \"2012-12-01T00:00:00\", \"2013-01-01T00:00:00\", \"2013-02-01T00:00:00\", \"2013-03-01T00:00:00\", \"2013-04-01T00:00:00\", \"2013-05-01T00:00:00\", \"2013-06-01T00:00:00\", \"2013-07-01T00:00:00\", \"2013-08-01T00:00:00\", \"2013-09-01T00:00:00\", \"2013-10-01T00:00:00\", \"2013-11-01T00:00:00\", \"2013-12-01T00:00:00\", \"2014-01-01T00:00:00\", \"2014-02-01T00:00:00\", \"2014-03-01T00:00:00\", \"2014-04-01T00:00:00\", \"2014-05-01T00:00:00\", \"2014-06-01T00:00:00\", \"2014-07-01T00:00:00\", \"2014-08-01T00:00:00\", \"2014-09-01T00:00:00\", \"2014-10-01T00:00:00\", \"2014-11-01T00:00:00\", \"2014-12-01T00:00:00\", \"2015-01-01T00:00:00\", \"2015-02-01T00:00:00\", \"2015-03-01T00:00:00\", \"2015-04-01T00:00:00\", \"2015-05-01T00:00:00\", \"2015-06-01T00:00:00\", \"2015-07-01T00:00:00\", \"2015-08-01T00:00:00\", \"2015-09-01T00:00:00\", \"2015-10-01T00:00:00\", \"2015-11-01T00:00:00\", \"2015-12-01T00:00:00\", \"2016-01-01T00:00:00\", \"2016-02-01T00:00:00\", \"2016-03-01T00:00:00\", \"2016-04-01T00:00:00\", \"2016-05-01T00:00:00\", \"2016-06-01T00:00:00\", \"2016-07-01T00:00:00\", \"2016-08-01T00:00:00\", \"2016-09-01T00:00:00\", \"2016-10-01T00:00:00\", \"2016-11-01T00:00:00\", \"2016-12-01T00:00:00\", \"2017-01-01T00:00:00\", \"2017-02-01T00:00:00\", \"2017-03-01T00:00:00\", \"2017-04-01T00:00:00\", \"2017-05-01T00:00:00\", \"2017-06-01T00:00:00\", \"2017-07-01T00:00:00\", \"2017-08-01T00:00:00\", \"2017-09-01T00:00:00\", \"2017-10-01T00:00:00\", \"2017-11-01T00:00:00\", \"2017-12-01T00:00:00\", \"2018-01-01T00:00:00\", \"2018-02-01T00:00:00\", \"2018-03-01T00:00:00\", \"2018-04-01T00:00:00\"], \"y\": [394605.2631578947, 396078.94736842107, 397673.6842105263, 399410.5263157895, 401252.63157894736, 403336.84210526315, 405810.5263157895, 408605.2631578947, 412263.15789473685, 416515.7894736842, 420747.36842105264, 424747.36842105264, 429073.6842105263, 433636.84210526315, 438452.63157894736, 443452.63157894736, 448552.63157894736, 453773.6842105263, 459268.4210526316, 464978.94736842107, 471410.5263157895, 478326.3157894737, 484947.36842105264, 491157.8947368421, 497615.7894736842, 504147.36842105264, 510847.36842105264, 517636.84210526315, 524505.2631578947, 531468.4210526316, 538810.5263157894, 546542.1052631579, 555321.052631579, 564826.3157894737, 574421.052631579, 584073.6842105263, 594594.7368421053, 605747.3684210526, 617742.1052631579, 630557.8947368421, 643963.1578947369, 657989.4736842106, 672784.2105263158, 688236.8421052631, 704789.4736842106, 721894.7368421053, 738394.7368421053, 753968.4210526316, 769136.8421052631, 783457.8947368421, 797021.052631579, 809526.3157894737, 820836.8421052631, 830910.5263157894, 840157.8947368421, 848589.4736842106, 856457.8947368421, 863668.4210526316, 869763.1578947369, 874647.3684210526, 878631.5789473684, 881889.4736842106, 884731.5789473684, 887121.052631579, 889110.5263157894, 891031.5789473684, 893315.7894736842, 896005.2631578947, 899189.4736842106, 902931.5789473684, 907010.5263157894, 911184.2105263158, 915378.947368421, 919673.6842105263, 924247.3684210526, 928836.8421052631, 933142.1052631579, 937342.1052631579, 941678.947368421, 946773.6842105263, 951473.6842105263, 954700.0, 956736.8421052631, 958294.7368421053, 958573.6842105263, 958273.6842105263, 958473.6842105263, 959484.2105263158, 961152.6315789474, 963852.6315789474, 968142.1052631579, 974500.0, 983857.8947368421, 996247.3684210526, 1011115.7894736842, 1027815.7894736842, 1045878.947368421, 1064415.7894736843, 1083200.0, 1102136.8421052631, 1121021.0526315789, 1139610.5263157894, 1157352.6315789474, 1173347.3684210526, 1187810.5263157894, 1200768.4210526317, 1211947.3684210526, 1221789.4736842106, 1230263.1578947369, 1236631.5789473683, 1241321.0526315789, 1244926.3157894737, 1248147.3684210526, 1251578.9473684211, 1254631.5789473683, 1255689.4736842106, 1254257.894736842, 1250694.7368421052, 1245163.1578947369, 1239463.1578947369, 1235421.0526315789, 1233321.0526315789, 1233084.2105263157, 1234410.5263157894, 1235968.4210526317, 1236984.2105263157, 1237026.3157894737, 1236268.4210526317, 1237226.3157894737, 1240994.7368421052, 1246763.1578947369, 1254452.6315789474, 1263757.894736842, 1272684.2105263157, 1280963.1578947369, 1288215.7894736843, 1292915.7894736843, 1294510.5263157894, 1292805.2631578948, 1287710.5263157894, 1281842.105263158, 1276668.4210526317, 1271500.0, 1267252.6315789474, 1264005.2631578948, 1259331.5789473683, 1252205.2631578948, 1243447.3684210526, 1233810.5263157894, 1224689.4736842106, 1215731.5789473683, 1207052.6315789474, 1201478.9473684211, 1198189.4736842106, 1192215.7894736843, 1182821.0526315789, 1171731.5789473683, 1159400.0, 1148378.9473684211, 1141042.105263158, 1136900.0, 1135626.3157894737, 1136178.9473684211, 1138110.5263157894, 1143031.5789473683, 1150257.894736842, 1154800.0, 1150815.7894736843, 1142689.4736842106, 1141847.3684210526, 1144221.0526315789, 1141447.3684210526, 1136368.4210526317, 1131436.8421052631, 1128310.5263157894, 1132557.894736842, 1133089.4736842106, 1124510.5263157894, 1115047.3684210526, 1109189.4736842106, 1104173.6842105263, 1098742.105263158, 1091326.3157894737, 1085184.2105263157, 1084715.7894736843, 1088947.3684210526, 1096078.9473684211, 1102205.2631578948, 1105226.3157894737, 1106852.6315789474, 1114263.1578947369, 1124984.2105263157, 1137773.6842105263, 1151110.5263157894, 1166747.3684210526, 1185205.2631578948, 1204484.2105263157, 1220589.4736842106, 1237052.6315789474, 1251178.9473684211, 1262615.7894736843, 1273957.894736842, 1288373.6842105263, 1311763.1578947369, 1340294.7368421052, 1364684.2105263157, 1389873.6842105263, 1417505.2631578948, 1441415.7894736843, 1458857.894736842, 1468505.2631578948, 1475305.2631578948, 1490947.3684210526, 1513552.6315789474, 1533768.4210526317, 1549768.4210526317, 1570536.8421052631, 1595805.2631578948, 1618815.7894736843, 1638184.2105263157, 1654431.5789473683, 1666821.0526315789, 1681963.1578947369, 1698473.6842105263, 1706589.4736842106, 1716147.3684210526, 1738631.5789473683, 1771536.8421052631, 1797594.7368421052, 1816547.3684210526, 1832326.3157894737, 1849878.9473684211, 1864557.894736842, 1877594.7368421052, 1884994.7368421052, 1890926.3157894737, 1899884.2105263157, 1912942.105263158, 1921752.6315789474, 1919400.0, 1909073.6842105263, 1901673.6842105263, 1895863.1578947369, 1888578.9473684211, 1889647.3684210526, 1902563.1578947369, 1915815.7894736843, 1928831.5789473683, 1944378.9473684211, 1957668.4210526317, 1967552.6315789474, 1977489.4736842106, 1992363.1578947369, 2014568.4210526317, 2038878.9473684211, 2053126.3157894737, 2059910.5263157894, 2072578.9473684211, 2091210.5263157894, 2099442.1052631577, 2103573.6842105263, 2111747.3684210526, 2120552.6315789474, 2134005.263157895, 2146478.947368421]}, {\"line\": {\"color\": \"red\"}, \"name\": \"New York City\", \"type\": \"scatter\", \"x\": [\"1996-04-01T00:00:00\", \"1996-05-01T00:00:00\", \"1996-06-01T00:00:00\", \"1996-07-01T00:00:00\", \"1996-08-01T00:00:00\", \"1996-09-01T00:00:00\", \"1996-10-01T00:00:00\", \"1996-11-01T00:00:00\", \"1996-12-01T00:00:00\", \"1997-01-01T00:00:00\", \"1997-02-01T00:00:00\", \"1997-03-01T00:00:00\", \"1997-04-01T00:00:00\", \"1997-05-01T00:00:00\", \"1997-06-01T00:00:00\", \"1997-07-01T00:00:00\", \"1997-08-01T00:00:00\", \"1997-09-01T00:00:00\", \"1997-10-01T00:00:00\", \"1997-11-01T00:00:00\", \"1997-12-01T00:00:00\", \"1998-01-01T00:00:00\", \"1998-02-01T00:00:00\", \"1998-03-01T00:00:00\", \"1998-04-01T00:00:00\", \"1998-05-01T00:00:00\", \"1998-06-01T00:00:00\", \"1998-07-01T00:00:00\", \"1998-08-01T00:00:00\", \"1998-09-01T00:00:00\", \"1998-10-01T00:00:00\", \"1998-11-01T00:00:00\", \"1998-12-01T00:00:00\", \"1999-01-01T00:00:00\", \"1999-02-01T00:00:00\", \"1999-03-01T00:00:00\", \"1999-04-01T00:00:00\", \"1999-05-01T00:00:00\", \"1999-06-01T00:00:00\", \"1999-07-01T00:00:00\", \"1999-08-01T00:00:00\", \"1999-09-01T00:00:00\", \"1999-10-01T00:00:00\", \"1999-11-01T00:00:00\", \"1999-12-01T00:00:00\", \"2000-01-01T00:00:00\", \"2000-02-01T00:00:00\", \"2000-03-01T00:00:00\", \"2000-04-01T00:00:00\", \"2000-05-01T00:00:00\", \"2000-06-01T00:00:00\", \"2000-07-01T00:00:00\", \"2000-08-01T00:00:00\", \"2000-09-01T00:00:00\", \"2000-10-01T00:00:00\", \"2000-11-01T00:00:00\", \"2000-12-01T00:00:00\", \"2001-01-01T00:00:00\", \"2001-02-01T00:00:00\", \"2001-03-01T00:00:00\", \"2001-04-01T00:00:00\", \"2001-05-01T00:00:00\", \"2001-06-01T00:00:00\", \"2001-07-01T00:00:00\", \"2001-08-01T00:00:00\", \"2001-09-01T00:00:00\", \"2001-10-01T00:00:00\", \"2001-11-01T00:00:00\", \"2001-12-01T00:00:00\", \"2002-01-01T00:00:00\", \"2002-02-01T00:00:00\", \"2002-03-01T00:00:00\", \"2002-04-01T00:00:00\", \"2002-05-01T00:00:00\", \"2002-06-01T00:00:00\", \"2002-07-01T00:00:00\", \"2002-08-01T00:00:00\", \"2002-09-01T00:00:00\", \"2002-10-01T00:00:00\", \"2002-11-01T00:00:00\", \"2002-12-01T00:00:00\", \"2003-01-01T00:00:00\", \"2003-02-01T00:00:00\", \"2003-03-01T00:00:00\", \"2003-04-01T00:00:00\", \"2003-05-01T00:00:00\", \"2003-06-01T00:00:00\", \"2003-07-01T00:00:00\", \"2003-08-01T00:00:00\", \"2003-09-01T00:00:00\", \"2003-10-01T00:00:00\", \"2003-11-01T00:00:00\", \"2003-12-01T00:00:00\", \"2004-01-01T00:00:00\", \"2004-02-01T00:00:00\", \"2004-03-01T00:00:00\", \"2004-04-01T00:00:00\", \"2004-05-01T00:00:00\", \"2004-06-01T00:00:00\", \"2004-07-01T00:00:00\", \"2004-08-01T00:00:00\", \"2004-09-01T00:00:00\", \"2004-10-01T00:00:00\", \"2004-11-01T00:00:00\", \"2004-12-01T00:00:00\", \"2005-01-01T00:00:00\", \"2005-02-01T00:00:00\", \"2005-03-01T00:00:00\", \"2005-04-01T00:00:00\", \"2005-05-01T00:00:00\", \"2005-06-01T00:00:00\", \"2005-07-01T00:00:00\", \"2005-08-01T00:00:00\", \"2005-09-01T00:00:00\", \"2005-10-01T00:00:00\", \"2005-11-01T00:00:00\", \"2005-12-01T00:00:00\", \"2006-01-01T00:00:00\", \"2006-02-01T00:00:00\", \"2006-03-01T00:00:00\", \"2006-04-01T00:00:00\", \"2006-05-01T00:00:00\", \"2006-06-01T00:00:00\", \"2006-07-01T00:00:00\", \"2006-08-01T00:00:00\", \"2006-09-01T00:00:00\", \"2006-10-01T00:00:00\", \"2006-11-01T00:00:00\", \"2006-12-01T00:00:00\", \"2007-01-01T00:00:00\", \"2007-02-01T00:00:00\", \"2007-03-01T00:00:00\", \"2007-04-01T00:00:00\", \"2007-05-01T00:00:00\", \"2007-06-01T00:00:00\", \"2007-07-01T00:00:00\", \"2007-08-01T00:00:00\", \"2007-09-01T00:00:00\", \"2007-10-01T00:00:00\", \"2007-11-01T00:00:00\", \"2007-12-01T00:00:00\", \"2008-01-01T00:00:00\", \"2008-02-01T00:00:00\", \"2008-03-01T00:00:00\", \"2008-04-01T00:00:00\", \"2008-05-01T00:00:00\", \"2008-06-01T00:00:00\", \"2008-07-01T00:00:00\", \"2008-08-01T00:00:00\", \"2008-09-01T00:00:00\", \"2008-10-01T00:00:00\", \"2008-11-01T00:00:00\", \"2008-12-01T00:00:00\", \"2009-01-01T00:00:00\", \"2009-02-01T00:00:00\", \"2009-03-01T00:00:00\", \"2009-04-01T00:00:00\", \"2009-05-01T00:00:00\", \"2009-06-01T00:00:00\", \"2009-07-01T00:00:00\", \"2009-08-01T00:00:00\", \"2009-09-01T00:00:00\", \"2009-10-01T00:00:00\", \"2009-11-01T00:00:00\", \"2009-12-01T00:00:00\", \"2010-01-01T00:00:00\", \"2010-02-01T00:00:00\", \"2010-03-01T00:00:00\", \"2010-04-01T00:00:00\", \"2010-05-01T00:00:00\", \"2010-06-01T00:00:00\", \"2010-07-01T00:00:00\", \"2010-08-01T00:00:00\", \"2010-09-01T00:00:00\", \"2010-10-01T00:00:00\", \"2010-11-01T00:00:00\", \"2010-12-01T00:00:00\", \"2011-01-01T00:00:00\", \"2011-02-01T00:00:00\", \"2011-03-01T00:00:00\", \"2011-04-01T00:00:00\", \"2011-05-01T00:00:00\", \"2011-06-01T00:00:00\", \"2011-07-01T00:00:00\", \"2011-08-01T00:00:00\", \"2011-09-01T00:00:00\", \"2011-10-01T00:00:00\", \"2011-11-01T00:00:00\", \"2011-12-01T00:00:00\", \"2012-01-01T00:00:00\", \"2012-02-01T00:00:00\", \"2012-03-01T00:00:00\", \"2012-04-01T00:00:00\", \"2012-05-01T00:00:00\", \"2012-06-01T00:00:00\", \"2012-07-01T00:00:00\", \"2012-08-01T00:00:00\", \"2012-09-01T00:00:00\", \"2012-10-01T00:00:00\", \"2012-11-01T00:00:00\", \"2012-12-01T00:00:00\", \"2013-01-01T00:00:00\", \"2013-02-01T00:00:00\", \"2013-03-01T00:00:00\", \"2013-04-01T00:00:00\", \"2013-05-01T00:00:00\", \"2013-06-01T00:00:00\", \"2013-07-01T00:00:00\", \"2013-08-01T00:00:00\", \"2013-09-01T00:00:00\", \"2013-10-01T00:00:00\", \"2013-11-01T00:00:00\", \"2013-12-01T00:00:00\", \"2014-01-01T00:00:00\", \"2014-02-01T00:00:00\", \"2014-03-01T00:00:00\", \"2014-04-01T00:00:00\", \"2014-05-01T00:00:00\", \"2014-06-01T00:00:00\", \"2014-07-01T00:00:00\", \"2014-08-01T00:00:00\", \"2014-09-01T00:00:00\", \"2014-10-01T00:00:00\", \"2014-11-01T00:00:00\", \"2014-12-01T00:00:00\", \"2015-01-01T00:00:00\", \"2015-02-01T00:00:00\", \"2015-03-01T00:00:00\", \"2015-04-01T00:00:00\", \"2015-05-01T00:00:00\", \"2015-06-01T00:00:00\", \"2015-07-01T00:00:00\", \"2015-08-01T00:00:00\", \"2015-09-01T00:00:00\", \"2015-10-01T00:00:00\", \"2015-11-01T00:00:00\", \"2015-12-01T00:00:00\", \"2016-01-01T00:00:00\", \"2016-02-01T00:00:00\", \"2016-03-01T00:00:00\", \"2016-04-01T00:00:00\", \"2016-05-01T00:00:00\", \"2016-06-01T00:00:00\", \"2016-07-01T00:00:00\", \"2016-08-01T00:00:00\", \"2016-09-01T00:00:00\", \"2016-10-01T00:00:00\", \"2016-11-01T00:00:00\", \"2016-12-01T00:00:00\", \"2017-01-01T00:00:00\", \"2017-02-01T00:00:00\", \"2017-03-01T00:00:00\", \"2017-04-01T00:00:00\", \"2017-05-01T00:00:00\", \"2017-06-01T00:00:00\", \"2017-07-01T00:00:00\", \"2017-08-01T00:00:00\", \"2017-09-01T00:00:00\", \"2017-10-01T00:00:00\", \"2017-11-01T00:00:00\", \"2017-12-01T00:00:00\", \"2018-01-01T00:00:00\", \"2018-02-01T00:00:00\", \"2018-03-01T00:00:00\", \"2018-04-01T00:00:00\"], \"y\": [214819.23076923078, 215233.65384615384, 215698.07692307694, 216186.53846153847, 216720.1923076923, 217312.5, 217988.46153846153, 218839.42307692306, 219902.88461538462, 220883.65384615384, 221559.61538461538, 222051.92307692306, 222592.3076923077, 223252.88461538462, 223989.42307692306, 224778.84615384616, 225633.65384615384, 226570.1923076923, 227610.57692307694, 228851.92307692306, 230294.23076923078, 231618.26923076922, 232565.38461538462, 233294.23076923078, 234044.23076923078, 234890.38461538462, 235776.92307692306, 236680.76923076922, 237632.6923076923, 238642.3076923077, 239750.96153846153, 241063.46153846153, 242585.57692307694, 243987.5, 245021.15384615384, 245886.53846153847, 246858.65384615384, 248008.65384615384, 249311.53846153847, 250729.8076923077, 252297.11538461538, 254001.92307692306, 255875.0, 258052.88461538462, 260525.96153846153, 262888.46153846156, 264860.57692307694, 266667.3076923077, 268583.6538461539, 270692.3076923077, 272954.8076923077, 275326.92307692306, 277786.53846153844, 280339.42307692306, 283013.46153846156, 285992.3076923077, 289225.0, 292194.23076923075, 294637.5, 296876.92307692306, 299244.23076923075, 301817.3076923077, 304567.3076923077, 307406.73076923075, 310323.07692307694, 313330.76923076925, 316408.6538461539, 319791.3461538461, 323301.92307692306, 326336.53846153844, 328623.07692307694, 330565.3846153846, 332528.8461538461, 334691.3461538461, 337021.1538461539, 339438.46153846156, 341982.6923076923, 344731.73076923075, 347984.6153846154, 349908.6538461539, 351667.3076923077, 356529.8076923077, 365421.1538461539, 375375.0, 384635.57692307694, 391824.03846153844, 397359.6153846154, 399963.8095238095, 403476.1904761905, 406331.4285714286, 408869.5238095238, 411703.8095238095, 414848.5714285714, 599957.6576576576, 588895.4954954955, 579310.8108108108, 571371.1711711711, 565399.099099099, 561618.9189189189, 560876.5765765766, 563827.027027027, 570485.5855855856, 579697.2972972973, 590617.1171171172, 602275.6756756756, 641468.75, 652792.8571428572, 663645.5357142857, 673547.3214285715, 681649.1071428572, 688493.75, 695330.3571428572, 703084.8214285715, 712081.25, 721951.7857142857, 732699.1071428572, 744056.25, 754753.5714285715, 763720.5357142857, 771724.1071428572, 778884.8214285715, 784131.25, 786425.0, 784997.3214285715, 780111.6071428572, 772940.1785714285, 765533.0357142857, 760344.6428571428, 758638.3928571428, 759459.8214285715, 761167.8571428572, 763620.5357142857, 766085.7142857143, 767009.8214285715, 766626.7857142857, 767864.2857142857, 772484.8214285715, 779622.3214285715, 786874.1071428572, 793045.5357142857, 797656.25, 800353.5714285715, 800696.4285714285, 800275.0, 799261.6071428572, 795896.4285714285, 790164.2857142857, 785265.1785714285, 782604.4642857143, 780893.75, 778665.1785714285, 776124.1071428572, 774031.25, 772454.4642857143, 770682.1428571428, 769606.25, 769087.5, 766941.0714285715, 762475.0, 758448.2142857143, 756768.75, 757314.2857142857, 759084.8214285715, 761649.1071428572, 764364.2857142857, 766422.3214285715, 768845.5357142857, 767664.2857142857, 763144.6428571428, 763490.1785714285, 771072.3214285715, 777690.1785714285, 777228.5714285715, 771697.3214285715, 769397.3214285715, 768795.5357142857, 766802.6785714285, 765647.3214285715, 768413.3928571428, 771087.5, 773147.3214285715, 775223.2142857143, 777623.2142857143, 778091.0714285715, 777808.0357142857, 779791.0714285715, 780791.9642857143, 780038.3928571428, 777379.4642857143, 772333.6283185841, 770143.3628318585, 768078.7610619469, 765276.1061946902, 765084.9557522124, 766363.7168141593, 767126.5486725664, 766503.5398230088, 766780.5309734513, 767602.6548672566, 771947.7876106194, 776928.3185840708, 779534.5132743362, 780438.9380530973, 784883.185840708, 791675.221238938, 798494.6902654867, 806003.5398230088, 813261.9469026548, 820837.1681415929, 828319.4690265487, 837346.0176991151, 844973.4513274336, 856703.5398230088, 863004.3859649122, 872496.4912280702, 883914.0350877193, 898909.649122807, 910287.7192982456, 916045.6140350878, 923900.0, 936747.3684210526, 950933.3333333334, 960625.4385964912, 969105.2631578947, 976758.7719298246, 986459.649122807, 998302.6315789474, 1007793.8596491228, 1014124.5614035088, 1020391.2280701754, 1030044.7368421053, 1041642.1052631579, 1052292.105263158, 1059963.1578947369, 1066316.6666666667, 1070582.4561403508, 1074268.4210526317, 1078185.9649122807, 1081475.4385964912, 1082322.8070175438, 1084231.5789473683, 1087614.9122807018, 1089488.596491228, 1092178.0701754387, 1100596.49122807, 1110084.2105263157, 1117000.8771929825, 1122597.3684210526, 1127428.9473684211, 1132304.3859649124, 1136110.5263157894, 1141875.4385964912, 1151323.6842105263, 1159282.4561403508, 1162565.7894736843, 1166364.9122807018, 1170038.596491228, 1172874.5614035088, 1175286.8421052631, 1175529.8245614036, 1176734.2105263157, 1182093.8596491227, 1185925.4385964912, 1187463.1578947369, 1189456.1403508773]}],\n",
       "                        {\"template\": {\"data\": {\"bar\": [{\"error_x\": {\"color\": \"#2a3f5f\"}, \"error_y\": {\"color\": \"#2a3f5f\"}, \"marker\": {\"line\": {\"color\": \"#E5ECF6\", \"width\": 0.5}}, \"type\": \"bar\"}], \"barpolar\": [{\"marker\": {\"line\": {\"color\": \"#E5ECF6\", \"width\": 0.5}}, \"type\": \"barpolar\"}], \"carpet\": [{\"aaxis\": {\"endlinecolor\": \"#2a3f5f\", \"gridcolor\": \"white\", \"linecolor\": \"white\", \"minorgridcolor\": \"white\", \"startlinecolor\": \"#2a3f5f\"}, \"baxis\": {\"endlinecolor\": \"#2a3f5f\", \"gridcolor\": \"white\", \"linecolor\": \"white\", \"minorgridcolor\": \"white\", \"startlinecolor\": \"#2a3f5f\"}, \"type\": \"carpet\"}], \"choropleth\": [{\"colorbar\": {\"outlinewidth\": 0, \"ticks\": \"\"}, \"type\": \"choropleth\"}], \"contour\": [{\"colorbar\": {\"outlinewidth\": 0, \"ticks\": \"\"}, \"colorscale\": [[0.0, \"#0d0887\"], [0.1111111111111111, \"#46039f\"], [0.2222222222222222, \"#7201a8\"], [0.3333333333333333, \"#9c179e\"], [0.4444444444444444, \"#bd3786\"], [0.5555555555555556, \"#d8576b\"], [0.6666666666666666, \"#ed7953\"], [0.7777777777777778, \"#fb9f3a\"], [0.8888888888888888, \"#fdca26\"], [1.0, \"#f0f921\"]], \"type\": \"contour\"}], \"contourcarpet\": [{\"colorbar\": {\"outlinewidth\": 0, \"ticks\": \"\"}, \"type\": \"contourcarpet\"}], \"heatmap\": [{\"colorbar\": {\"outlinewidth\": 0, \"ticks\": \"\"}, \"colorscale\": [[0.0, \"#0d0887\"], [0.1111111111111111, \"#46039f\"], [0.2222222222222222, \"#7201a8\"], [0.3333333333333333, \"#9c179e\"], [0.4444444444444444, \"#bd3786\"], [0.5555555555555556, \"#d8576b\"], [0.6666666666666666, \"#ed7953\"], [0.7777777777777778, \"#fb9f3a\"], [0.8888888888888888, \"#fdca26\"], [1.0, \"#f0f921\"]], \"type\": \"heatmap\"}], \"heatmapgl\": [{\"colorbar\": {\"outlinewidth\": 0, \"ticks\": \"\"}, \"colorscale\": [[0.0, \"#0d0887\"], [0.1111111111111111, \"#46039f\"], [0.2222222222222222, \"#7201a8\"], [0.3333333333333333, \"#9c179e\"], [0.4444444444444444, \"#bd3786\"], [0.5555555555555556, \"#d8576b\"], [0.6666666666666666, \"#ed7953\"], [0.7777777777777778, \"#fb9f3a\"], [0.8888888888888888, \"#fdca26\"], [1.0, \"#f0f921\"]], \"type\": \"heatmapgl\"}], \"histogram\": [{\"marker\": {\"colorbar\": {\"outlinewidth\": 0, \"ticks\": \"\"}}, \"type\": \"histogram\"}], \"histogram2d\": [{\"colorbar\": {\"outlinewidth\": 0, \"ticks\": \"\"}, \"colorscale\": [[0.0, \"#0d0887\"], [0.1111111111111111, \"#46039f\"], [0.2222222222222222, \"#7201a8\"], [0.3333333333333333, \"#9c179e\"], [0.4444444444444444, \"#bd3786\"], [0.5555555555555556, \"#d8576b\"], [0.6666666666666666, \"#ed7953\"], [0.7777777777777778, \"#fb9f3a\"], [0.8888888888888888, \"#fdca26\"], [1.0, \"#f0f921\"]], \"type\": \"histogram2d\"}], \"histogram2dcontour\": [{\"colorbar\": {\"outlinewidth\": 0, \"ticks\": \"\"}, \"colorscale\": [[0.0, \"#0d0887\"], [0.1111111111111111, \"#46039f\"], [0.2222222222222222, \"#7201a8\"], [0.3333333333333333, \"#9c179e\"], [0.4444444444444444, \"#bd3786\"], [0.5555555555555556, \"#d8576b\"], [0.6666666666666666, \"#ed7953\"], [0.7777777777777778, \"#fb9f3a\"], [0.8888888888888888, \"#fdca26\"], [1.0, \"#f0f921\"]], \"type\": \"histogram2dcontour\"}], \"mesh3d\": [{\"colorbar\": {\"outlinewidth\": 0, \"ticks\": \"\"}, \"type\": \"mesh3d\"}], \"parcoords\": [{\"line\": {\"colorbar\": {\"outlinewidth\": 0, \"ticks\": \"\"}}, \"type\": \"parcoords\"}], \"scatter\": [{\"marker\": {\"colorbar\": {\"outlinewidth\": 0, \"ticks\": \"\"}}, \"type\": \"scatter\"}], \"scatter3d\": [{\"line\": {\"colorbar\": {\"outlinewidth\": 0, \"ticks\": \"\"}}, \"marker\": {\"colorbar\": {\"outlinewidth\": 0, \"ticks\": \"\"}}, \"type\": \"scatter3d\"}], \"scattercarpet\": [{\"marker\": {\"colorbar\": {\"outlinewidth\": 0, \"ticks\": \"\"}}, \"type\": \"scattercarpet\"}], \"scattergeo\": [{\"marker\": {\"colorbar\": {\"outlinewidth\": 0, \"ticks\": \"\"}}, \"type\": \"scattergeo\"}], \"scattergl\": [{\"marker\": {\"colorbar\": {\"outlinewidth\": 0, \"ticks\": \"\"}}, \"type\": \"scattergl\"}], \"scattermapbox\": [{\"marker\": {\"colorbar\": {\"outlinewidth\": 0, \"ticks\": \"\"}}, \"type\": \"scattermapbox\"}], \"scatterpolar\": [{\"marker\": {\"colorbar\": {\"outlinewidth\": 0, \"ticks\": \"\"}}, \"type\": \"scatterpolar\"}], \"scatterpolargl\": [{\"marker\": {\"colorbar\": {\"outlinewidth\": 0, \"ticks\": \"\"}}, \"type\": \"scatterpolargl\"}], \"scatterternary\": [{\"marker\": {\"colorbar\": {\"outlinewidth\": 0, \"ticks\": \"\"}}, \"type\": \"scatterternary\"}], \"surface\": [{\"colorbar\": {\"outlinewidth\": 0, \"ticks\": \"\"}, \"colorscale\": [[0.0, \"#0d0887\"], [0.1111111111111111, \"#46039f\"], [0.2222222222222222, \"#7201a8\"], [0.3333333333333333, \"#9c179e\"], [0.4444444444444444, \"#bd3786\"], [0.5555555555555556, \"#d8576b\"], [0.6666666666666666, \"#ed7953\"], [0.7777777777777778, \"#fb9f3a\"], [0.8888888888888888, \"#fdca26\"], [1.0, \"#f0f921\"]], \"type\": \"surface\"}], \"table\": [{\"cells\": {\"fill\": {\"color\": \"#EBF0F8\"}, \"line\": {\"color\": \"white\"}}, \"header\": {\"fill\": {\"color\": \"#C8D4E3\"}, \"line\": {\"color\": \"white\"}}, \"type\": \"table\"}]}, \"layout\": {\"annotationdefaults\": {\"arrowcolor\": \"#2a3f5f\", \"arrowhead\": 0, \"arrowwidth\": 1}, \"colorscale\": {\"diverging\": [[0, \"#8e0152\"], [0.1, \"#c51b7d\"], [0.2, \"#de77ae\"], [0.3, \"#f1b6da\"], [0.4, \"#fde0ef\"], [0.5, \"#f7f7f7\"], [0.6, \"#e6f5d0\"], [0.7, \"#b8e186\"], [0.8, \"#7fbc41\"], [0.9, \"#4d9221\"], [1, \"#276419\"]], \"sequential\": [[0.0, \"#0d0887\"], [0.1111111111111111, \"#46039f\"], [0.2222222222222222, \"#7201a8\"], [0.3333333333333333, \"#9c179e\"], [0.4444444444444444, \"#bd3786\"], [0.5555555555555556, \"#d8576b\"], [0.6666666666666666, \"#ed7953\"], [0.7777777777777778, \"#fb9f3a\"], [0.8888888888888888, \"#fdca26\"], [1.0, \"#f0f921\"]], \"sequentialminus\": [[0.0, \"#0d0887\"], [0.1111111111111111, \"#46039f\"], [0.2222222222222222, \"#7201a8\"], [0.3333333333333333, \"#9c179e\"], [0.4444444444444444, \"#bd3786\"], [0.5555555555555556, \"#d8576b\"], [0.6666666666666666, \"#ed7953\"], [0.7777777777777778, \"#fb9f3a\"], [0.8888888888888888, \"#fdca26\"], [1.0, \"#f0f921\"]]}, \"colorway\": [\"#636efa\", \"#EF553B\", \"#00cc96\", \"#ab63fa\", \"#FFA15A\", \"#19d3f3\", \"#FF6692\", \"#B6E880\", \"#FF97FF\", \"#FECB52\"], \"font\": {\"color\": \"#2a3f5f\"}, \"geo\": {\"bgcolor\": \"white\", \"lakecolor\": \"white\", \"landcolor\": \"#E5ECF6\", \"showlakes\": true, \"showland\": true, \"subunitcolor\": \"white\"}, \"hoverlabel\": {\"align\": \"left\"}, \"hovermode\": \"closest\", \"mapbox\": {\"style\": \"light\"}, \"paper_bgcolor\": \"white\", \"plot_bgcolor\": \"#E5ECF6\", \"polar\": {\"angularaxis\": {\"gridcolor\": \"white\", \"linecolor\": \"white\", \"ticks\": \"\"}, \"bgcolor\": \"#E5ECF6\", \"radialaxis\": {\"gridcolor\": \"white\", \"linecolor\": \"white\", \"ticks\": \"\"}}, \"scene\": {\"xaxis\": {\"backgroundcolor\": \"#E5ECF6\", \"gridcolor\": \"white\", \"gridwidth\": 2, \"linecolor\": \"white\", \"showbackground\": true, \"ticks\": \"\", \"zerolinecolor\": \"white\"}, \"yaxis\": {\"backgroundcolor\": \"#E5ECF6\", \"gridcolor\": \"white\", \"gridwidth\": 2, \"linecolor\": \"white\", \"showbackground\": true, \"ticks\": \"\", \"zerolinecolor\": \"white\"}, \"zaxis\": {\"backgroundcolor\": \"#E5ECF6\", \"gridcolor\": \"white\", \"gridwidth\": 2, \"linecolor\": \"white\", \"showbackground\": true, \"ticks\": \"\", \"zerolinecolor\": \"white\"}}, \"shapedefaults\": {\"line\": {\"color\": \"#2a3f5f\"}}, \"ternary\": {\"aaxis\": {\"gridcolor\": \"white\", \"linecolor\": \"white\", \"ticks\": \"\"}, \"baxis\": {\"gridcolor\": \"white\", \"linecolor\": \"white\", \"ticks\": \"\"}, \"bgcolor\": \"#E5ECF6\", \"caxis\": {\"gridcolor\": \"white\", \"linecolor\": \"white\", \"ticks\": \"\"}}, \"title\": {\"x\": 0.05}, \"xaxis\": {\"automargin\": true, \"gridcolor\": \"white\", \"linecolor\": \"white\", \"ticks\": \"\", \"zerolinecolor\": \"white\", \"zerolinewidth\": 2}, \"yaxis\": {\"automargin\": true, \"gridcolor\": \"white\", \"linecolor\": \"white\", \"ticks\": \"\", \"zerolinecolor\": \"white\", \"zerolinewidth\": 2}}}, \"title\": {\"text\": \"San Francisco & NYC Zillow Home Value Index\"}, \"xaxis\": {\"rangeslider\": {\"visible\": true}}},\n",
       "                        {\"responsive\": true}\n",
       "                    ).then(function(){\n",
       "                            \n",
       "var gd = document.getElementById('fb38639a-c8ee-4f87-831c-d38d1dd56044');\n",
       "var x = new MutationObserver(function (mutations, observer) {{\n",
       "        var display = window.getComputedStyle(gd).display;\n",
       "        if (!display || display === 'none') {{\n",
       "            console.log([gd, 'removed!']);\n",
       "            Plotly.purge(gd);\n",
       "            observer.disconnect();\n",
       "        }}\n",
       "}});\n",
       "\n",
       "// Listen for the removal of the full notebook cells\n",
       "var notebookContainer = gd.closest('#notebook-container');\n",
       "if (notebookContainer) {{\n",
       "    x.observe(notebookContainer, {childList: true});\n",
       "}}\n",
       "\n",
       "// Listen for the clearing of the current output cell\n",
       "var outputEl = gd.closest('.output');\n",
       "if (outputEl) {{\n",
       "    x.observe(outputEl, {childList: true});\n",
       "}}\n",
       "\n",
       "                        })\n",
       "                };\n",
       "                });\n",
       "            </script>\n",
       "        </div>"
      ]
     },
     "metadata": {},
     "output_type": "display_data"
    }
   ],
   "source": [
    "import plotly as py\n",
    "import plotly.graph_objects as go\n",
    "fig = go.Figure()\n",
    "fig.add_trace(go.Scatter(x=sf_ts.index, y=sf_ts.value, name='San Francisco',\n",
    "                         line_color='deepskyblue'))\n",
    "fig.add_trace(go.Scatter(x=nyc_ts.index, y=nyc_ts.value, name='New York City',\n",
    "                         line_color='red'))\n",
    "fig.update_layout(title_text='San Francisco & NYC Zillow Home Value Index',\n",
    "                  xaxis_rangeslider_visible=True)\n",
    "fig.show()"
   ]
  },
  {
   "cell_type": "code",
   "execution_count": null,
   "metadata": {},
   "outputs": [],
   "source": [
    "roi.dropna()\n",
    "roi.plot()"
   ]
  },
  {
   "cell_type": "code",
   "execution_count": null,
   "metadata": {},
   "outputs": [],
   "source": [
    "sf_10years = (sf_ts - sf_ts.shift(periods=120))/sf_ts.shift(periods=120)*100\n",
    "sf_10years.plot()"
   ]
  },
  {
   "cell_type": "code",
   "execution_count": null,
   "metadata": {},
   "outputs": [],
   "source": [
    "sf_15years = (sf_ts - sf_ts.shift(periods=180))/sf_ts.shift(periods=180)\n",
    "plt.plot(sf_15years, label='15 years return')\n",
    "plt.plot(sf_10years)\n",
    "plt.legend()"
   ]
  },
  {
   "cell_type": "code",
   "execution_count": null,
   "metadata": {},
   "outputs": [],
   "source": [
    "sf_diff = sf_ts.diff()\n",
    "sf_diff.dropna(inplace=True)\n",
    "plot_roll(sf_diff)"
   ]
  },
  {
   "cell_type": "code",
   "execution_count": null,
   "metadata": {},
   "outputs": [],
   "source": [
    "def adfuller_test(ts):\n",
    "    '''Runs and prints out results for adfuller test on time series in order to check for stationarity.'''\n",
    "    \n",
    "    from statsmodels.tsa.stattools import adfuller\n",
    "\n",
    "    #Perform Dickey-Fuller test:\n",
    "    dftest = adfuller(ts['value'])\n",
    "\n",
    "    # Extract and display test results in a user friendly manner\n",
    "    dfoutput = pd.Series(dftest[0:4], index=['Test Statistic','p-value','#Lags Used','Number of Observations Used'])\n",
    "    for key,value in dftest[4].items():\n",
    "        dfoutput['Critical Value (%s)'%key] = value\n",
    "    print (dfoutput)"
   ]
  },
  {
   "cell_type": "code",
   "execution_count": null,
   "metadata": {},
   "outputs": [],
   "source": []
  },
  {
   "cell_type": "code",
   "execution_count": null,
   "metadata": {},
   "outputs": [],
   "source": [
    "nyc.isna().sum().sum()"
   ]
  },
  {
   "cell_type": "code",
   "execution_count": null,
   "metadata": {},
   "outputs": [],
   "source": [
    "san_francisco.isna().sum().sum()"
   ]
  },
  {
   "cell_type": "markdown",
   "metadata": {},
   "source": [
    "We have some NaNs in our New York City data, and we learned that this is because some zipcodes did not exist at the beginning of our data. We will drop any zipcodes that do not have complete data from our analysis."
   ]
  },
  {
   "cell_type": "code",
   "execution_count": null,
   "metadata": {},
   "outputs": [],
   "source": [
    "# drop NaNs from NYC data\n",
    "nyc.dropna(inplace=True)"
   ]
  },
  {
   "cell_type": "code",
   "execution_count": null,
   "metadata": {},
   "outputs": [],
   "source": []
  },
  {
   "cell_type": "code",
   "execution_count": null,
   "metadata": {},
   "outputs": [],
   "source": []
  },
  {
   "cell_type": "code",
   "execution_count": null,
   "metadata": {},
   "outputs": [],
   "source": []
  },
  {
   "cell_type": "code",
   "execution_count": null,
   "metadata": {},
   "outputs": [],
   "source": []
  },
  {
   "cell_type": "code",
   "execution_count": null,
   "metadata": {},
   "outputs": [],
   "source": []
  },
  {
   "cell_type": "code",
   "execution_count": null,
   "metadata": {},
   "outputs": [],
   "source": []
  },
  {
   "cell_type": "code",
   "execution_count": null,
   "metadata": {},
   "outputs": [],
   "source": []
  },
  {
   "cell_type": "code",
   "execution_count": null,
   "metadata": {},
   "outputs": [],
   "source": []
  },
  {
   "cell_type": "code",
   "execution_count": null,
   "metadata": {},
   "outputs": [],
   "source": [
    "sf_ts.tshift(-12)"
   ]
  },
  {
   "cell_type": "markdown",
   "metadata": {},
   "source": [
    "# Step 6: Interpreting Results"
   ]
  },
  {
   "cell_type": "code",
   "execution_count": null,
   "metadata": {},
   "outputs": [],
   "source": []
  },
  {
   "cell_type": "code",
   "execution_count": null,
   "metadata": {},
   "outputs": [],
   "source": []
  },
  {
   "cell_type": "code",
   "execution_count": null,
   "metadata": {},
   "outputs": [],
   "source": []
  }
 ],
 "metadata": {
  "kernelspec": {
   "display_name": "learn-env",
   "language": "python",
   "name": "learn-env"
  },
  "language_info": {
   "codemirror_mode": {
    "name": "ipython",
    "version": 3
   },
   "file_extension": ".py",
   "mimetype": "text/x-python",
   "name": "python",
   "nbconvert_exporter": "python",
   "pygments_lexer": "ipython3",
   "version": "3.6.6"
  }
 },
 "nbformat": 4,
 "nbformat_minor": 2
}
