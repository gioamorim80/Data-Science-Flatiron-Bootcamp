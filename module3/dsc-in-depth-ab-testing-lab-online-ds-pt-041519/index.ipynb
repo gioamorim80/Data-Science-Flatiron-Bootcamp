{
 "cells": [
  {
   "cell_type": "markdown",
   "metadata": {},
   "source": [
    "# In Depth A/B Testing - Lab\n",
    "\n",
    "## Introduction\n",
    "\n",
    "In this lab, you'll explore a survey from Kaggle regarding budding data scientists. With this, you'll form some initial hypotheses, and test them using the tools you've acquired to date. \n",
    "\n",
    "## Objectives\n",
    "\n",
    "You will be able to:\n",
    "* Conduct statistical tests on a real-world dataset"
   ]
  },
  {
   "cell_type": "markdown",
   "metadata": {},
   "source": [
    "## Load the Dataset and Perform a Brief Exploration\n",
    "\n",
    "The data is stored in a file called **multipleChoiceResponses_cleaned.csv**. Feel free to check out the original dataset referenced at the bottom of this lab, although this cleaned version will undoubtedly be easier to work with. Additionally, meta-data regarding the questions is stored in a file name **schema.csv**. Load in the data itself as a Pandas DataFrame, and take a moment to briefly get acquainted with it.\n",
    "\n",
    "> Note: If you can't get the file to load properly, try changing the encoding format as in `encoding='latin1'`"
   ]
  },
  {
   "cell_type": "code",
   "execution_count": 1,
   "metadata": {},
   "outputs": [],
   "source": [
    "#Your code here\n",
    "import pandas as pd\n",
    "data = pd.read_csv('multipleChoiceResponses_cleaned.csv', encoding='latin1', dtype='object')"
   ]
  },
  {
   "cell_type": "code",
   "execution_count": 2,
   "metadata": {},
   "outputs": [
    {
     "data": {
      "text/html": [
       "<div>\n",
       "<style scoped>\n",
       "    .dataframe tbody tr th:only-of-type {\n",
       "        vertical-align: middle;\n",
       "    }\n",
       "\n",
       "    .dataframe tbody tr th {\n",
       "        vertical-align: top;\n",
       "    }\n",
       "\n",
       "    .dataframe thead th {\n",
       "        text-align: right;\n",
       "    }\n",
       "</style>\n",
       "<table border=\"1\" class=\"dataframe\">\n",
       "  <thead>\n",
       "    <tr style=\"text-align: right;\">\n",
       "      <th></th>\n",
       "      <th>GenderSelect</th>\n",
       "      <th>Country</th>\n",
       "      <th>Age</th>\n",
       "      <th>EmploymentStatus</th>\n",
       "      <th>StudentStatus</th>\n",
       "      <th>LearningDataScience</th>\n",
       "      <th>CodeWriter</th>\n",
       "      <th>CareerSwitcher</th>\n",
       "      <th>CurrentJobTitleSelect</th>\n",
       "      <th>TitleFit</th>\n",
       "      <th>...</th>\n",
       "      <th>JobFactorTitle</th>\n",
       "      <th>JobFactorCompanyFunding</th>\n",
       "      <th>JobFactorImpact</th>\n",
       "      <th>JobFactorRemote</th>\n",
       "      <th>JobFactorIndustry</th>\n",
       "      <th>JobFactorLeaderReputation</th>\n",
       "      <th>JobFactorDiversity</th>\n",
       "      <th>JobFactorPublishingOpportunity</th>\n",
       "      <th>exchangeRate</th>\n",
       "      <th>AdjustedCompensation</th>\n",
       "    </tr>\n",
       "  </thead>\n",
       "  <tbody>\n",
       "    <tr>\n",
       "      <th>count</th>\n",
       "      <td>26289</td>\n",
       "      <td>19759</td>\n",
       "      <td>19550</td>\n",
       "      <td>19862</td>\n",
       "      <td>1306</td>\n",
       "      <td>1320</td>\n",
       "      <td>16352</td>\n",
       "      <td>3044</td>\n",
       "      <td>14994</td>\n",
       "      <td>14670</td>\n",
       "      <td>...</td>\n",
       "      <td>3414</td>\n",
       "      <td>3411</td>\n",
       "      <td>3394</td>\n",
       "      <td>3424</td>\n",
       "      <td>3409</td>\n",
       "      <td>3401</td>\n",
       "      <td>3410</td>\n",
       "      <td>3424</td>\n",
       "      <td>4499</td>\n",
       "      <td>4343</td>\n",
       "    </tr>\n",
       "    <tr>\n",
       "      <th>unique</th>\n",
       "      <td>59</td>\n",
       "      <td>78</td>\n",
       "      <td>101</td>\n",
       "      <td>20</td>\n",
       "      <td>17</td>\n",
       "      <td>15</td>\n",
       "      <td>29</td>\n",
       "      <td>25</td>\n",
       "      <td>32</td>\n",
       "      <td>16</td>\n",
       "      <td>...</td>\n",
       "      <td>3</td>\n",
       "      <td>3</td>\n",
       "      <td>3</td>\n",
       "      <td>3</td>\n",
       "      <td>3</td>\n",
       "      <td>3</td>\n",
       "      <td>3</td>\n",
       "      <td>3</td>\n",
       "      <td>83</td>\n",
       "      <td>1628</td>\n",
       "    </tr>\n",
       "    <tr>\n",
       "      <th>top</th>\n",
       "      <td>Male</td>\n",
       "      <td>United States</td>\n",
       "      <td>37.0</td>\n",
       "      <td>Employed full-time</td>\n",
       "      <td>Yes</td>\n",
       "      <td>Yes, I'm focused on learning mostly data scien...</td>\n",
       "      <td>Yes</td>\n",
       "      <td>Yes</td>\n",
       "      <td>Data Scientist</td>\n",
       "      <td>Fine</td>\n",
       "      <td>...</td>\n",
       "      <td>Somewhat important</td>\n",
       "      <td>Somewhat important</td>\n",
       "      <td>Somewhat important</td>\n",
       "      <td>Somewhat important</td>\n",
       "      <td>Somewhat important</td>\n",
       "      <td>Somewhat important</td>\n",
       "      <td>Somewhat important</td>\n",
       "      <td>Somewhat important</td>\n",
       "      <td>1.0</td>\n",
       "      <td>100000.0</td>\n",
       "    </tr>\n",
       "    <tr>\n",
       "      <th>freq</th>\n",
       "      <td>16737</td>\n",
       "      <td>6128</td>\n",
       "      <td>2315</td>\n",
       "      <td>12093</td>\n",
       "      <td>981</td>\n",
       "      <td>800</td>\n",
       "      <td>13280</td>\n",
       "      <td>2126</td>\n",
       "      <td>3629</td>\n",
       "      <td>9432</td>\n",
       "      <td>...</td>\n",
       "      <td>1518</td>\n",
       "      <td>1918</td>\n",
       "      <td>1666</td>\n",
       "      <td>1509</td>\n",
       "      <td>1724</td>\n",
       "      <td>1769</td>\n",
       "      <td>1662</td>\n",
       "      <td>1503</td>\n",
       "      <td>1570</td>\n",
       "      <td>60</td>\n",
       "    </tr>\n",
       "  </tbody>\n",
       "</table>\n",
       "<p>4 rows × 230 columns</p>\n",
       "</div>"
      ],
      "text/plain": [
       "       GenderSelect        Country    Age    EmploymentStatus StudentStatus  \\\n",
       "count         26289          19759  19550               19862          1306   \n",
       "unique           59             78    101                  20            17   \n",
       "top            Male  United States   37.0  Employed full-time           Yes   \n",
       "freq          16737           6128   2315               12093           981   \n",
       "\n",
       "                                      LearningDataScience CodeWriter  \\\n",
       "count                                                1320      16352   \n",
       "unique                                                 15         29   \n",
       "top     Yes, I'm focused on learning mostly data scien...        Yes   \n",
       "freq                                                  800      13280   \n",
       "\n",
       "       CareerSwitcher CurrentJobTitleSelect TitleFit         ...           \\\n",
       "count            3044                 14994    14670         ...            \n",
       "unique             25                    32       16         ...            \n",
       "top               Yes        Data Scientist     Fine         ...            \n",
       "freq             2126                  3629     9432         ...            \n",
       "\n",
       "            JobFactorTitle JobFactorCompanyFunding     JobFactorImpact  \\\n",
       "count                 3414                    3411                3394   \n",
       "unique                   3                       3                   3   \n",
       "top     Somewhat important      Somewhat important  Somewhat important   \n",
       "freq                  1518                    1918                1666   \n",
       "\n",
       "           JobFactorRemote   JobFactorIndustry JobFactorLeaderReputation  \\\n",
       "count                 3424                3409                      3401   \n",
       "unique                   3                   3                         3   \n",
       "top     Somewhat important  Somewhat important        Somewhat important   \n",
       "freq                  1509                1724                      1769   \n",
       "\n",
       "        JobFactorDiversity JobFactorPublishingOpportunity exchangeRate  \\\n",
       "count                 3410                           3424         4499   \n",
       "unique                   3                              3           83   \n",
       "top     Somewhat important             Somewhat important          1.0   \n",
       "freq                  1662                           1503         1570   \n",
       "\n",
       "       AdjustedCompensation  \n",
       "count                  4343  \n",
       "unique                 1628  \n",
       "top                100000.0  \n",
       "freq                     60  \n",
       "\n",
       "[4 rows x 230 columns]"
      ]
     },
     "execution_count": 2,
     "metadata": {},
     "output_type": "execute_result"
    }
   ],
   "source": [
    "data.describe()"
   ]
  },
  {
   "cell_type": "markdown",
   "metadata": {},
   "source": [
    "## Wages and Education\n",
    "\n",
    "You've been asked to determine whether education is impactful to salary. Develop a hypothesis test to compare the salaries of those with Master's degrees to those with Bachelor's degrees. Are the two statistically different according to your results?\n",
    "\n",
    "> Note: The relevant features are stored in the 'FormalEducation' and 'AdjustedCompensation' features."
   ]
  },
  {
   "cell_type": "code",
   "execution_count": 3,
   "metadata": {},
   "outputs": [],
   "source": [
    "#Your code here\n",
    "#null hypothesis = mean salary of masters is equal than mean salary of bachelors\n",
    "#alternative hypothesis = mean salary of masters is higher than mean salary of bachelors\n",
    "#this is a one tailed test (alternative = larger)"
   ]
  },
  {
   "cell_type": "code",
   "execution_count": 4,
   "metadata": {},
   "outputs": [],
   "source": [
    "import numpy as np"
   ]
  },
  {
   "cell_type": "code",
   "execution_count": 5,
   "metadata": {},
   "outputs": [],
   "source": [
    "import seaborn as sns\n",
    "import matplotlib.pyplot as plt\n",
    "import warnings\n",
    "warnings.filterwarnings(\"ignore\")"
   ]
  },
  {
   "cell_type": "code",
   "execution_count": 6,
   "metadata": {},
   "outputs": [
    {
     "name": "stdout",
     "output_type": "stream",
     "text": [
      "There are a total of 1107 data entries\n",
      "The mean salary for bachelors is 64887.1\n",
      "The standard deviation for salary for bachelors is 306797.21\n"
     ]
    }
   ],
   "source": [
    "bach_salary = data.AdjustedCompensation.loc[data[\"FormalEducation\"] == \"Bachelor's degree\"]\n",
    "bach_salary = bach_salary.astype('float64')\n",
    "bach_salary = bach_salary.dropna()\n",
    "n_bach = len(bach_salary)\n",
    "print(f'There are a total of {n_bach} data entries')\n",
    "mean_bach = round(bach_salary.sum()/(len(bach_salary) - (bach_salary.isnull().sum())), 2)\n",
    "print(f'The mean salary for bachelors is {mean_bach}')\n",
    "std_bach = round(np.std(bach_salary),2)\n",
    "print(f'The standard deviation for salary for bachelors is {std_bach}')"
   ]
  },
  {
   "cell_type": "code",
   "execution_count": 7,
   "metadata": {},
   "outputs": [
    {
     "name": "stdout",
     "output_type": "stream",
     "text": [
      "There are a total of 1990 data entries\n",
      "The mean salary for bachelors is 69139.9\n",
      "The standard deviation for salary for bachelors is 135493.15\n"
     ]
    }
   ],
   "source": [
    "master_salary = data.AdjustedCompensation.loc[data[\"FormalEducation\"] == \"Master's degree\"]\n",
    "master_salary = master_salary.astype('float64')\n",
    "master_salary = master_salary.dropna()\n",
    "n_master = len(master_salary)\n",
    "print(f'There are a total of {n_master} data entries')\n",
    "mean_master = round(master_salary.sum()/(len(master_salary) - (master_salary.isnull().sum())), 2)\n",
    "print(f'The mean salary for bachelors is {mean_master}')\n",
    "std_master = round(np.std(master_salary),2)\n",
    "print(f'The standard deviation for salary for bachelors is {std_master}')"
   ]
  },
  {
   "cell_type": "code",
   "execution_count": 8,
   "metadata": {
    "scrolled": true
   },
   "outputs": [
    {
     "data": {
      "text/plain": [
       "<matplotlib.axes._subplots.AxesSubplot at 0x104942e48>"
      ]
     },
     "execution_count": 8,
     "metadata": {},
     "output_type": "execute_result"
    },
    {
     "data": {
      "image/png": "[encoded data removed]",
      "text/plain": [
       "<Figure size 432x288 with 1 Axes>"
      ]
     },
     "metadata": {
      "needs_background": "light"
     },
     "output_type": "display_data"
    }
   ],
   "source": [
    "sns.distplot(master_salary)\n",
    "sns.distplot(bach_salary)"
   ]
  },
  {
   "cell_type": "code",
   "execution_count": 9,
   "metadata": {},
   "outputs": [],
   "source": [
    "import scipy.stats as stats\n",
    "from scipy.stats import ttest_ind, ttest_ind_from_stats"
   ]
  },
  {
   "cell_type": "code",
   "execution_count": 10,
   "metadata": {},
   "outputs": [
    {
     "name": "stdout",
     "output_type": "stream",
     "text": [
      " ttest_ind: t = -0.4378669333541159,  p = 0.3307763945127241\n"
     ]
    }
   ],
   "source": [
    "t, p = ttest_ind(bach_salary, master_salary, equal_var=False, nan_policy='omit')\n",
    "print(f\" ttest_ind: t = {t},  p = {p/2}\")"
   ]
  },
  {
   "cell_type": "code",
   "execution_count": 11,
   "metadata": {},
   "outputs": [
    {
     "data": {
      "text/plain": [
       "<matplotlib.axes._subplots.AxesSubplot at 0x116a50668>"
      ]
     },
     "execution_count": 11,
     "metadata": {},
     "output_type": "execute_result"
    },
    {
     "data": {
      "image/png": "[encoded data removed]",
      "text/plain": [
       "<Figure size 432x288 with 1 Axes>"
      ]
     },
     "metadata": {
      "needs_background": "light"
     },
     "output_type": "display_data"
    }
   ],
   "source": [
    "bach_salary = bach_salary.loc[(stats.zscore(bach_salary.values)) < 3]\n",
    "sns.distplot(bach_salary)"
   ]
  },
  {
   "cell_type": "code",
   "execution_count": 12,
   "metadata": {
    "scrolled": true
   },
   "outputs": [
    {
     "data": {
      "text/plain": [
       "<matplotlib.axes._subplots.AxesSubplot at 0x116b5c0b8>"
      ]
     },
     "execution_count": 12,
     "metadata": {},
     "output_type": "execute_result"
    },
    {
     "data": {
      "image/png": "[encoded data removed]",
      "text/plain": [
       "<Figure size 432x288 with 1 Axes>"
      ]
     },
     "metadata": {
      "needs_background": "light"
     },
     "output_type": "display_data"
    }
   ],
   "source": [
    "master_salary = master_salary.loc[(stats.zscore(master_salary.values)) < 3]\n",
    "sns.distplot(master_salary)"
   ]
  },
  {
   "cell_type": "code",
   "execution_count": 13,
   "metadata": {},
   "outputs": [
    {
     "name": "stdout",
     "output_type": "stream",
     "text": [
      " ttest_ind: t = -4.526086727760483,  p = 3.165514706517899e-06\n"
     ]
    }
   ],
   "source": [
    "t2, p2 = ttest_ind(bach_salary, master_salary, equal_var=False)\n",
    "print(f\" ttest_ind: t = {t2},  p = {p2/2}\")"
   ]
  },
  {
   "cell_type": "code",
   "execution_count": 14,
   "metadata": {},
   "outputs": [],
   "source": [
    "bach = bach_salary.values\n",
    "master = master_salary.values"
   ]
  },
  {
   "cell_type": "code",
   "execution_count": 15,
   "metadata": {},
   "outputs": [
    {
     "name": "stdout",
     "output_type": "stream",
     "text": [
      "ttest_ind_from_stats: t = -4.52609  p = 3.16551e-06\n"
     ]
    }
   ],
   "source": [
    "bachbar = bach.mean()\n",
    "bachvar = bach.var(ddof=1)\n",
    "n_bach = bach.size\n",
    "adof = n_bach - 1\n",
    "\n",
    "masterbar = master.mean()\n",
    "mastervar = master.var(ddof=1)\n",
    "n_master = master.size\n",
    "bdof = n_master - 1\n",
    "\n",
    "# Use scipy.stats.ttest_ind_from_stats.\n",
    "t2, p2 = ttest_ind_from_stats(bachbar, np.sqrt(bachvar), n_bach,\n",
    "                              masterbar, np.sqrt(mastervar), n_master,\n",
    "                              equal_var=False)\n",
    "print(\"ttest_ind_from_stats: t = %g  p = %g\" % (t2, p2/2))"
   ]
  },
  {
   "cell_type": "markdown",
   "metadata": {},
   "source": [
    "## Wages and Education II\n",
    "\n",
    "Now perform a similar statistical test comparing the AdjustedCompensation of those with Bachelor's degrees and those with Doctorates. If you haven't already, be sure to explore the distribution of the AdjustedCompensation feature for any anomalies. "
   ]
  },
  {
   "cell_type": "code",
   "execution_count": 16,
   "metadata": {},
   "outputs": [
    {
     "name": "stdout",
     "output_type": "stream",
     "text": [
      "There are a total of 967 data entries\n",
      "The mean salary for doctoral degrees is 29566175.76\n",
      "The standard deviation for salary for doctoral degrees is 909527434.21\n"
     ]
    }
   ],
   "source": [
    "#Your code here\n",
    "doc_salary = data.AdjustedCompensation.loc[data[\"FormalEducation\"] == \"Doctoral degree\"]\n",
    "doc_salary = doc_salary.astype('float64')\n",
    "doc_salary = doc_salary.dropna()\n",
    "n_doc = len(doc_salary)\n",
    "print(f'There are a total of {n_doc} data entries')\n",
    "mean_doc = round(doc_salary.sum()/(len(doc_salary) - (doc_salary.isnull().sum())), 2)\n",
    "print(f'The mean salary for doctoral degrees is {mean_doc}')\n",
    "std_doc = round(np.std(doc_salary),2)\n",
    "print(f'The standard deviation for salary for doctoral degrees is {std_doc}')"
   ]
  },
  {
   "cell_type": "code",
   "execution_count": 17,
   "metadata": {
    "scrolled": true
   },
   "outputs": [
    {
     "name": "stdout",
     "output_type": "stream",
     "text": [
      " ttest_ind: t = -1.0084889293081933,  p = 0.15673616928060735\n"
     ]
    }
   ],
   "source": [
    "t3, p3 = ttest_ind(bach_salary, doc_salary, equal_var=False)\n",
    "print(f\" ttest_ind: t = {t3},  p = {p3/2}\")"
   ]
  },
  {
   "cell_type": "code",
   "execution_count": 18,
   "metadata": {
    "scrolled": true
   },
   "outputs": [
    {
     "data": {
      "text/plain": [
       "<matplotlib.axes._subplots.AxesSubplot at 0x116cd6b00>"
      ]
     },
     "execution_count": 18,
     "metadata": {},
     "output_type": "execute_result"
    },
    {
     "data": {
      "image/png": "[encoded data removed]",
      "text/plain": [
       "<Figure size 432x288 with 1 Axes>"
      ]
     },
     "metadata": {
      "needs_background": "light"
     },
     "output_type": "display_data"
    }
   ],
   "source": [
    "doc_salary = doc_salary.loc[(stats.zscore(doc_salary.values)) < 3]\n",
    "sns.distplot(doc_salary)"
   ]
  },
  {
   "cell_type": "code",
   "execution_count": 19,
   "metadata": {},
   "outputs": [
    {
     "name": "stdout",
     "output_type": "stream",
     "text": [
      " ttest_ind: t = -1.1522479897299747,  p = 0.12475225531522234\n"
     ]
    }
   ],
   "source": [
    "t4, p4 = ttest_ind(bach_salary, doc_salary, equal_var=False)\n",
    "print(f\" ttest_ind: t = {t4},  p = {p4/2}\")"
   ]
  },
  {
   "cell_type": "markdown",
   "metadata": {},
   "source": [
    "## Wages and Education III\n",
    "\n",
    "Remember the multiple comparisons problem; rather than continuing on like this, perform an ANOVA test between the various 'FormalEducation' categories and their relation to 'AdjustedCompensation'."
   ]
  },
  {
   "cell_type": "code",
   "execution_count": 20,
   "metadata": {},
   "outputs": [],
   "source": [
    "data['AdjustedCompensation'] = data['AdjustedCompensation'].astype('float64')"
   ]
  },
  {
   "cell_type": "code",
   "execution_count": 21,
   "metadata": {},
   "outputs": [
    {
     "name": "stdout",
     "output_type": "stream",
     "text": [
      "                          sum_sq      df         F    PR(>F)\n",
      "C(FormalEducation)  6.540294e+17     6.0  0.590714  0.738044\n",
      "Residual            7.999414e+20  4335.0       NaN       NaN\n"
     ]
    }
   ],
   "source": [
    "#Your code here\n",
    "import statsmodels.api as sm\n",
    "from statsmodels.formula.api import ols\n",
    "\n",
    "formula = 'AdjustedCompensation ~ C(FormalEducation)'\n",
    "lm = ols(formula, data).fit()\n",
    "table = sm.stats.anova_lm(lm, typ=2)\n",
    "print(table)"
   ]
  },
  {
   "cell_type": "markdown",
   "metadata": {},
   "source": [
    "## Additional Resources\n",
    "\n",
    "Here's the original source where the data was taken from:  \n",
    "    [Kaggle Machine Learning & Data Science Survey 2017](https://www.kaggle.com/kaggle/kaggle-survey-2017)"
   ]
  },
  {
   "cell_type": "markdown",
   "metadata": {},
   "source": [
    "## Summary\n",
    "\n",
    "In this lab, you practiced conducting actual hypothesis tests on actual data. From this, you saw how dependent results can be on the initial problem formulation, including preprocessing!"
   ]
  }
 ],
 "metadata": {
  "kernelspec": {
   "display_name": "learn-env",
   "language": "python",
   "name": "learn-env"
  },
  "language_info": {
   "codemirror_mode": {
    "name": "ipython",
    "version": 3
   },
   "file_extension": ".py",
   "mimetype": "text/x-python",
   "name": "python",
   "nbconvert_exporter": "python",
   "pygments_lexer": "ipython3",
   "version": "3.6.6"
  }
 },
 "nbformat": 4,
 "nbformat_minor": 2
}
