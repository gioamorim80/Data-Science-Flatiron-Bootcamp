{
 "cells": [
  {
   "cell_type": "markdown",
   "metadata": {},
   "source": [
    "# Comparing Machine Learning Techniques Using Pipelines - Lab"
   ]
  },
  {
   "cell_type": "markdown",
   "metadata": {},
   "source": [
    "## Introduction"
   ]
  },
  {
   "cell_type": "markdown",
   "metadata": {},
   "source": [
    "In this lab, you'lll use a Dataset created by Otto group, which was also used in a [Kaggle competition](https://www.kaggle.com/c/otto-group-product-classification-challenge/data).\n",
    "\n",
    "The description of the data set is as follows:\n",
    "\n",
    "The Otto Group is one of the world’s biggest e-commerce companies, with subsidiaries in more than 20 countries, including Crate & Barrel (USA), Otto.de (Germany) and 3 Suisses (France). They are selling millions of products worldwide every day, with several thousand products being added to our product line.\n",
    "\n",
    "A consistent analysis of the performance of our products is crucial. However, due to their global infrastructure, many identical products get classified differently. Therefore, the quality of our product analysis depends heavily on the ability to accurately cluster similar products. The better the classification, the more insights Otto Group can generate about their product range.\n",
    "\n",
    "In this lab, you'll use a data set containing:\n",
    "- A column `id`, which is an anonymous id unique to a product\n",
    "- 93 columns `feat_1`, `feat_2`, ..., `feat_93`, which are the various features of a product\n",
    "- a column `target` - the class of a product\n"
   ]
  },
  {
   "cell_type": "markdown",
   "metadata": {},
   "source": [
    "## Objectives\n",
    "\n",
    "You will be able to:\n",
    "- Compare different classification techniques\n",
    "- Construct pipelines in scikit-learn\n",
    "- Use pipelines in combination with GridSearchCV"
   ]
  },
  {
   "cell_type": "markdown",
   "metadata": {},
   "source": [
    "## The Data Science Workflow"
   ]
  },
  {
   "cell_type": "markdown",
   "metadata": {},
   "source": [
    "You will be following the data science workflow:\n",
    "\n",
    "1. Initial data inspection, exploratory data analysis, and cleaning\n",
    "2. Feature engineering and selection\n",
    "3. create a baseline model\n",
    "4. create a machine learning pipeline and compare results with the baseline model\n",
    "5. Interpret the model and draw conclusions"
   ]
  },
  {
   "cell_type": "markdown",
   "metadata": {},
   "source": [
    "##  Initial data inspection, exploratory data analysis, and cleaning"
   ]
  },
  {
   "cell_type": "markdown",
   "metadata": {},
   "source": [
    "The data is stored in \"otto_group.csv\".\n",
    "\n",
    "Things to do here:\n",
    "- Check for NAs\n",
    "- Check the distributions\n",
    "- Check how many inputs there are\n",
    "- ..."
   ]
  },
  {
   "cell_type": "code",
   "execution_count": 1,
   "metadata": {},
   "outputs": [],
   "source": [
    "# Your code here\n",
    "import pandas as pd\n",
    "import numpy as np\n",
    "import matplotlib.pyplot as plt"
   ]
  },
  {
   "cell_type": "code",
   "execution_count": 2,
   "metadata": {
    "scrolled": true
   },
   "outputs": [
    {
     "data": {
      "text/html": [
       "<div>\n",
       "<style scoped>\n",
       "    .dataframe tbody tr th:only-of-type {\n",
       "        vertical-align: middle;\n",
       "    }\n",
       "\n",
       "    .dataframe tbody tr th {\n",
       "        vertical-align: top;\n",
       "    }\n",
       "\n",
       "    .dataframe thead th {\n",
       "        text-align: right;\n",
       "    }\n",
       "</style>\n",
       "<table border=\"1\" class=\"dataframe\">\n",
       "  <thead>\n",
       "    <tr style=\"text-align: right;\">\n",
       "      <th></th>\n",
       "      <th>id</th>\n",
       "      <th>feat_1</th>\n",
       "      <th>feat_2</th>\n",
       "      <th>feat_3</th>\n",
       "      <th>feat_4</th>\n",
       "      <th>feat_5</th>\n",
       "      <th>feat_6</th>\n",
       "      <th>feat_7</th>\n",
       "      <th>feat_8</th>\n",
       "      <th>feat_9</th>\n",
       "      <th>...</th>\n",
       "      <th>feat_85</th>\n",
       "      <th>feat_86</th>\n",
       "      <th>feat_87</th>\n",
       "      <th>feat_88</th>\n",
       "      <th>feat_89</th>\n",
       "      <th>feat_90</th>\n",
       "      <th>feat_91</th>\n",
       "      <th>feat_92</th>\n",
       "      <th>feat_93</th>\n",
       "      <th>target</th>\n",
       "    </tr>\n",
       "  </thead>\n",
       "  <tbody>\n",
       "    <tr>\n",
       "      <th>0</th>\n",
       "      <td>1</td>\n",
       "      <td>1</td>\n",
       "      <td>0</td>\n",
       "      <td>0</td>\n",
       "      <td>0</td>\n",
       "      <td>0</td>\n",
       "      <td>0</td>\n",
       "      <td>0</td>\n",
       "      <td>0</td>\n",
       "      <td>0</td>\n",
       "      <td>...</td>\n",
       "      <td>1</td>\n",
       "      <td>0</td>\n",
       "      <td>0</td>\n",
       "      <td>0</td>\n",
       "      <td>0</td>\n",
       "      <td>0</td>\n",
       "      <td>0</td>\n",
       "      <td>0</td>\n",
       "      <td>0</td>\n",
       "      <td>Class_1</td>\n",
       "    </tr>\n",
       "    <tr>\n",
       "      <th>1</th>\n",
       "      <td>2</td>\n",
       "      <td>0</td>\n",
       "      <td>0</td>\n",
       "      <td>0</td>\n",
       "      <td>0</td>\n",
       "      <td>0</td>\n",
       "      <td>0</td>\n",
       "      <td>0</td>\n",
       "      <td>1</td>\n",
       "      <td>0</td>\n",
       "      <td>...</td>\n",
       "      <td>0</td>\n",
       "      <td>0</td>\n",
       "      <td>0</td>\n",
       "      <td>0</td>\n",
       "      <td>0</td>\n",
       "      <td>0</td>\n",
       "      <td>0</td>\n",
       "      <td>0</td>\n",
       "      <td>0</td>\n",
       "      <td>Class_1</td>\n",
       "    </tr>\n",
       "    <tr>\n",
       "      <th>2</th>\n",
       "      <td>3</td>\n",
       "      <td>0</td>\n",
       "      <td>0</td>\n",
       "      <td>0</td>\n",
       "      <td>0</td>\n",
       "      <td>0</td>\n",
       "      <td>0</td>\n",
       "      <td>0</td>\n",
       "      <td>1</td>\n",
       "      <td>0</td>\n",
       "      <td>...</td>\n",
       "      <td>0</td>\n",
       "      <td>0</td>\n",
       "      <td>0</td>\n",
       "      <td>0</td>\n",
       "      <td>0</td>\n",
       "      <td>0</td>\n",
       "      <td>0</td>\n",
       "      <td>0</td>\n",
       "      <td>0</td>\n",
       "      <td>Class_1</td>\n",
       "    </tr>\n",
       "    <tr>\n",
       "      <th>3</th>\n",
       "      <td>4</td>\n",
       "      <td>1</td>\n",
       "      <td>0</td>\n",
       "      <td>0</td>\n",
       "      <td>1</td>\n",
       "      <td>6</td>\n",
       "      <td>1</td>\n",
       "      <td>5</td>\n",
       "      <td>0</td>\n",
       "      <td>0</td>\n",
       "      <td>...</td>\n",
       "      <td>0</td>\n",
       "      <td>1</td>\n",
       "      <td>2</td>\n",
       "      <td>0</td>\n",
       "      <td>0</td>\n",
       "      <td>0</td>\n",
       "      <td>0</td>\n",
       "      <td>0</td>\n",
       "      <td>0</td>\n",
       "      <td>Class_1</td>\n",
       "    </tr>\n",
       "    <tr>\n",
       "      <th>4</th>\n",
       "      <td>5</td>\n",
       "      <td>0</td>\n",
       "      <td>0</td>\n",
       "      <td>0</td>\n",
       "      <td>0</td>\n",
       "      <td>0</td>\n",
       "      <td>0</td>\n",
       "      <td>0</td>\n",
       "      <td>0</td>\n",
       "      <td>0</td>\n",
       "      <td>...</td>\n",
       "      <td>1</td>\n",
       "      <td>0</td>\n",
       "      <td>0</td>\n",
       "      <td>0</td>\n",
       "      <td>0</td>\n",
       "      <td>1</td>\n",
       "      <td>0</td>\n",
       "      <td>0</td>\n",
       "      <td>0</td>\n",
       "      <td>Class_1</td>\n",
       "    </tr>\n",
       "  </tbody>\n",
       "</table>\n",
       "<p>5 rows × 95 columns</p>\n",
       "</div>"
      ],
      "text/plain": [
       "   id  feat_1  feat_2  feat_3  feat_4  feat_5  feat_6  feat_7  feat_8  feat_9  \\\n",
       "0   1       1       0       0       0       0       0       0       0       0   \n",
       "1   2       0       0       0       0       0       0       0       1       0   \n",
       "2   3       0       0       0       0       0       0       0       1       0   \n",
       "3   4       1       0       0       1       6       1       5       0       0   \n",
       "4   5       0       0       0       0       0       0       0       0       0   \n",
       "\n",
       "   ...  feat_85  feat_86  feat_87  feat_88  feat_89  feat_90  feat_91  \\\n",
       "0  ...        1        0        0        0        0        0        0   \n",
       "1  ...        0        0        0        0        0        0        0   \n",
       "2  ...        0        0        0        0        0        0        0   \n",
       "3  ...        0        1        2        0        0        0        0   \n",
       "4  ...        1        0        0        0        0        1        0   \n",
       "\n",
       "   feat_92  feat_93   target  \n",
       "0        0        0  Class_1  \n",
       "1        0        0  Class_1  \n",
       "2        0        0  Class_1  \n",
       "3        0        0  Class_1  \n",
       "4        0        0  Class_1  \n",
       "\n",
       "[5 rows x 95 columns]"
      ]
     },
     "execution_count": 2,
     "metadata": {},
     "output_type": "execute_result"
    }
   ],
   "source": [
    "# Your code here\n",
    "df = pd.read_csv('otto_group.csv')\n",
    "df.head()"
   ]
  },
  {
   "cell_type": "code",
   "execution_count": 3,
   "metadata": {},
   "outputs": [
    {
     "data": {
      "text/plain": [
       "(61878, 95)"
      ]
     },
     "execution_count": 3,
     "metadata": {},
     "output_type": "execute_result"
    }
   ],
   "source": [
    "df.shape"
   ]
  },
  {
   "cell_type": "code",
   "execution_count": 4,
   "metadata": {},
   "outputs": [
    {
     "data": {
      "text/plain": [
       "0"
      ]
     },
     "execution_count": 4,
     "metadata": {},
     "output_type": "execute_result"
    }
   ],
   "source": [
    "# Your code here\n",
    "df.isna().sum().sum()"
   ]
  },
  {
   "cell_type": "code",
   "execution_count": 5,
   "metadata": {},
   "outputs": [
    {
     "data": {
      "image/png": "[encoded data removed]",
      "text/plain": [
       "<Figure size 1152x1296 with 20 Axes>"
      ]
     },
     "metadata": {
      "needs_background": "light"
     },
     "output_type": "display_data"
    }
   ],
   "source": [
    "# Your code here\n",
    "df.loc[:, 'feat_1':'feat_20'].hist(figsize=(16,18));"
   ]
  },
  {
   "cell_type": "code",
   "execution_count": null,
   "metadata": {},
   "outputs": [],
   "source": [
    "# Your code here\n",
    "#df.target.hist(); this is taking too long to run and I don't undersrtand why"
   ]
  },
  {
   "cell_type": "code",
   "execution_count": null,
   "metadata": {},
   "outputs": [],
   "source": [
    "# Your code here"
   ]
  },
  {
   "cell_type": "markdown",
   "metadata": {},
   "source": [
    "If you look at all the histograms, you can tell that a lot of the data are zero-inflated, so most of the variables contain mostly zeros and then some higher values here and there. No normality, but for most machine learning techniques this is not an issue. "
   ]
  },
  {
   "cell_type": "code",
   "execution_count": 7,
   "metadata": {},
   "outputs": [
    {
     "data": {
      "text/plain": [
       "<matplotlib.axes._subplots.AxesSubplot at 0x12082c198>"
      ]
     },
     "execution_count": 7,
     "metadata": {},
     "output_type": "execute_result"
    },
    {
     "data": {
      "image/png": "[encoded data removed]",
      "text/plain": [
       "<Figure size 432x288 with 1 Axes>"
      ]
     },
     "metadata": {
      "needs_background": "light"
     },
     "output_type": "display_data"
    }
   ],
   "source": [
    "# Your code here\n",
    "df.loc[:, 'feat_1':'feat_20'].boxplot()"
   ]
  },
  {
   "cell_type": "markdown",
   "metadata": {},
   "source": [
    "Because the data is zero-inflated the boxplots look as shown above. Because there are this many zeroes, most values above zero will seem to be outliers. The safe decision for this data is to not delete any outliers and see what happens. With many 0s, sparse data is available and high values may be super informative. More-over, without having any intuitive meaning for each of the features, we don't know if a value of ~260 is actually an outlier."
   ]
  },
  {
   "cell_type": "code",
   "execution_count": null,
   "metadata": {},
   "outputs": [],
   "source": [
    "# Your code here"
   ]
  },
  {
   "cell_type": "markdown",
   "metadata": {},
   "source": [
    "## Feature engineering and selection with PCA"
   ]
  },
  {
   "cell_type": "markdown",
   "metadata": {},
   "source": [
    "Have a look at the correlation structure of your features using a heatmap."
   ]
  },
  {
   "cell_type": "code",
   "execution_count": 9,
   "metadata": {},
   "outputs": [],
   "source": [
    "target = df['target']\n",
    "features = df.loc[:, 'feat_1':'feat_93']"
   ]
  },
  {
   "cell_type": "code",
   "execution_count": 8,
   "metadata": {},
   "outputs": [
    {
     "data": {
      "text/plain": [
       "<matplotlib.axes._subplots.AxesSubplot at 0x120913c18>"
      ]
     },
     "execution_count": 8,
     "metadata": {},
     "output_type": "execute_result"
    },
    {
     "data": {
      "image/png": "[encoded data removed]",
      "text/plain": [
       "<Figure size 432x288 with 2 Axes>"
      ]
     },
     "metadata": {
      "needs_background": "light"
     },
     "output_type": "display_data"
    }
   ],
   "source": [
    "# Your code here\n",
    "import seaborn as sns\n",
    "sns.heatmap(features.corr(), center=0)"
   ]
  },
  {
   "cell_type": "markdown",
   "metadata": {},
   "source": [
    "Use PCA to downscale your features. Use PCA to select a number of features in a way that you still keep 80% of your explained variance."
   ]
  },
  {
   "cell_type": "code",
   "execution_count": 10,
   "metadata": {},
   "outputs": [
    {
     "name": "stdout",
     "output_type": "stream",
     "text": [
      "0.7274351280037348\n",
      "0.8884996526356814\n",
      "0.959835320306892\n",
      "0.8004846596185189\n"
     ]
    }
   ],
   "source": [
    "# Your code here\n",
    "from sklearn.decomposition import PCA\n",
    "pca_1 = PCA(n_components=20)\n",
    "pca_2 = PCA(n_components=40)\n",
    "pca_3 = PCA(n_components=60)\n",
    "\n",
    "principalComponents = pca_1.fit_transform(features)\n",
    "principalComponents = pca_2.fit_transform(features)\n",
    "principalComponents = pca_3.fit_transform(features)\n",
    "\n",
    "print(np.sum(pca_1.explained_variance_ratio_))\n",
    "print(np.sum(pca_2.explained_variance_ratio_))\n",
    "print(np.sum(pca_3.explained_variance_ratio_))\n",
    "\n",
    "pca = PCA(n_components=27)\n",
    "principalComponents = pca.fit_transform(features)\n",
    "print(np.sum(pca.explained_variance_ratio_))"
   ]
  },
  {
   "cell_type": "code",
   "execution_count": 11,
   "metadata": {},
   "outputs": [
    {
     "data": {
      "image/png": "[encoded data removed]",
      "text/plain": [
       "<Figure size 432x288 with 2 Axes>"
      ]
     },
     "metadata": {
      "needs_background": "light"
     },
     "output_type": "display_data"
    }
   ],
   "source": [
    "# Your code here\n",
    "import seaborn as sns\n",
    "sns.heatmap(pd.DataFrame(principalComponents).corr(), center=0);"
   ]
  },
  {
   "cell_type": "markdown",
   "metadata": {},
   "source": [
    "## Create a train test split with a test size of 40%"
   ]
  },
  {
   "cell_type": "markdown",
   "metadata": {},
   "source": [
    "This is a relatively big training set. Feel free to make it smaller (down to ~20%), but for an initial run you can try smaller training sets so the computation time is more manageable.\n",
    "\n",
    "For now, simply use the original data and not the principal components. We looked at the PC's first to get a sense of our correlation structure, and to see how we can downsize our data without losing too much information. In what's next, you'll make PCA part of the pipeline!!"
   ]
  },
  {
   "cell_type": "code",
   "execution_count": 12,
   "metadata": {},
   "outputs": [],
   "source": [
    "# Your code here\n",
    "from sklearn.model_selection import train_test_split\n",
    "X_train, X_test, y_train, y_test = train_test_split(features, target, test_size=0.4, random_state=42)"
   ]
  },
  {
   "cell_type": "code",
   "execution_count": null,
   "metadata": {},
   "outputs": [],
   "source": [
    "# Your code here"
   ]
  },
  {
   "cell_type": "markdown",
   "metadata": {},
   "source": [
    "## Create a baseline model"
   ]
  },
  {
   "cell_type": "markdown",
   "metadata": {},
   "source": [
    "Create your baseline model *in a pipeline setting*. In the pipeline\n",
    "- Your first step will be to scale your features down to the number of features that ensure you keep just 80% of your explained variance (which we saw before)\n",
    "- Your second step will be the building a basic logistic regression model.\n",
    "\n",
    "Make sure to fit the model using the training set, and test the result by obtaining the accuracy using the test set."
   ]
  },
  {
   "cell_type": "code",
   "execution_count": 13,
   "metadata": {},
   "outputs": [],
   "source": [
    "# Your code here\n",
    "from sklearn.linear_model import LogisticRegression\n",
    "from sklearn.pipeline import Pipeline"
   ]
  },
  {
   "cell_type": "code",
   "execution_count": 14,
   "metadata": {},
   "outputs": [
    {
     "name": "stderr",
     "output_type": "stream",
     "text": [
      "/anaconda3/envs/learn-env/lib/python3.6/site-packages/sklearn/linear_model/logistic.py:433: FutureWarning: Default solver will be changed to 'lbfgs' in 0.22. Specify a solver to silence this warning.\n",
      "  FutureWarning)\n",
      "/anaconda3/envs/learn-env/lib/python3.6/site-packages/sklearn/linear_model/logistic.py:460: FutureWarning: Default multi_class will be changed to 'auto' in 0.22. Specify the multi_class option to silence this warning.\n",
      "  \"this warning.\", FutureWarning)\n"
     ]
    },
    {
     "name": "stdout",
     "output_type": "stream",
     "text": [
      "0.7171541693600517\n"
     ]
    }
   ],
   "source": [
    "# Your code here\n",
    "pipe_lr = Pipeline([('pca', PCA(n_components=27, random_state=123)),\n",
    "         ('clf', LogisticRegression(random_state=123))])\n",
    "\n",
    "# Fit the pipelines\n",
    "pipe_lr.fit(X_train, y_train)\n",
    "\n",
    "print(pipe_lr.score(X_test, y_test))"
   ]
  },
  {
   "cell_type": "code",
   "execution_count": null,
   "metadata": {},
   "outputs": [],
   "source": [
    "# Your code here"
   ]
  },
  {
   "cell_type": "markdown",
   "metadata": {},
   "source": [
    "## Create a pipeline consisting of a linear SVM, a simple Decision Tree and a simple Random Forest Classifier"
   ]
  },
  {
   "cell_type": "markdown",
   "metadata": {},
   "source": [
    "Repeat the above, but now create three different pipelines:\n",
    "- One for a standard linear SCM\n",
    "- One for a default decision tree\n",
    "- One for a RandomForestClassifier"
   ]
  },
  {
   "cell_type": "code",
   "execution_count": 15,
   "metadata": {},
   "outputs": [
    {
     "name": "stdout",
     "output_type": "stream",
     "text": [
      "Pipeline(memory=None,\n",
      "     steps=[('pca', PCA(copy=True, iterated_power='auto', n_components=27, random_state=None,\n",
      "  svd_solver='auto', tol=0.0, whiten=False)), ('clf', SVC(C=1.0, cache_size=200, class_weight=None, coef0=0.0,\n",
      "  decision_function_shape='ovr', degree=3, gamma='auto_deprecated',\n",
      "  kernel='rbf', max_iter=-1, probability=False, random_state=123,\n",
      "  shrinking=True, tol=0.001, verbose=False))])\n"
     ]
    },
    {
     "name": "stderr",
     "output_type": "stream",
     "text": [
      "/anaconda3/envs/learn-env/lib/python3.6/site-packages/sklearn/svm/base.py:196: FutureWarning: The default value of gamma will change from 'auto' to 'scale' in version 0.22 to account better for unscaled features. Set gamma explicitly to 'auto' or 'scale' to avoid this warning.\n",
      "  \"avoid this warning.\", FutureWarning)\n"
     ]
    },
    {
     "name": "stdout",
     "output_type": "stream",
     "text": [
      "Pipeline(memory=None,\n",
      "     steps=[('pca', PCA(copy=True, iterated_power='auto', n_components=27, random_state=None,\n",
      "  svd_solver='auto', tol=0.0, whiten=False)), ('clf', DecisionTreeClassifier(class_weight=None, criterion='gini', max_depth=None,\n",
      "            max_features=None, max_leaf_nodes=None,\n",
      "            min_impurity_decrease=0.0, min_impurity_split=None,\n",
      "            min_samples_leaf=1, min_samples_split=2,\n",
      "            min_weight_fraction_leaf=0.0, presort=False, random_state=123,\n",
      "            splitter='best'))])\n",
      "Pipeline(memory=None,\n",
      "     steps=[('pca', PCA(copy=True, iterated_power='auto', n_components=27, random_state=None,\n",
      "  svd_solver='auto', tol=0.0, whiten=False)), ('clf', RandomForestClassifier(bootstrap=True, class_weight=None, criterion='gini',\n",
      "            max_depth=None, max_features='auto', max_leaf_nodes=None,\n",
      "           ...s='warn', n_jobs=None,\n",
      "            oob_score=False, random_state=123, verbose=0, warm_start=False))])\n"
     ]
    },
    {
     "name": "stderr",
     "output_type": "stream",
     "text": [
      "/anaconda3/envs/learn-env/lib/python3.6/site-packages/sklearn/ensemble/forest.py:246: FutureWarning: The default value of n_estimators will change from 10 in version 0.20 to 100 in 0.22.\n",
      "  \"10 in version 0.20 to 100 in 0.22.\", FutureWarning)\n"
     ]
    },
    {
     "name": "stdout",
     "output_type": "stream",
     "text": [
      "Support Vector Machine pipeline test accuracy: 0.747\n",
      "Decision Tree pipeline test accuracy: 0.668\n",
      "Random Forest pipeline test accuracy: 0.746\n"
     ]
    }
   ],
   "source": [
    "# Your code here\n",
    "# ⏰ This cell may take several minutes to run\n",
    "from sklearn import svm\n",
    "from sklearn.pipeline import Pipeline\n",
    "from sklearn.ensemble import RandomForestClassifier\n",
    "from sklearn import tree\n",
    "\n",
    "pipe_svm = Pipeline([('pca', PCA(n_components=27)),\n",
    "        ('clf', svm.SVC(random_state=123))])\n",
    "        \n",
    "pipe_tree = Pipeline([('pca', PCA(n_components=27)),\n",
    "        ('clf', tree.DecisionTreeClassifier(random_state=123))])\n",
    "\n",
    "pipe_rf = Pipeline([('pca', PCA(n_components=27)),\n",
    "        ('clf', RandomForestClassifier(random_state=123))])\n",
    "\n",
    "# List of pipelines, List of pipeline names\n",
    "pipelines = [pipe_svm, pipe_tree, pipe_rf]\n",
    "pipeline_names = ['Support Vector Machine','Decision Tree','Random Forest']\n",
    "\n",
    "# Loop to fit each of the three pipelines\n",
    "for pipe in pipelines:\n",
    "    print(pipe)\n",
    "    pipe.fit(X_train, y_train)\n",
    "\n",
    "# Compare accuracies\n",
    "for index, val in enumerate(pipelines):\n",
    "    print('%s pipeline test accuracy: %.3f' % (pipeline_names[index], val.score(X_test, y_test)))"
   ]
  },
  {
   "cell_type": "markdown",
   "metadata": {},
   "source": [
    "## Pipeline with grid search"
   ]
  },
  {
   "cell_type": "markdown",
   "metadata": {},
   "source": [
    "Construct two pipelines with grid search:\n",
    "- one for random forests - try to have around 40 different models\n",
    "- one for the adaboost algorithm \n",
    "\n",
    "As extra, level-up work, construct a pipeline with grid search for support vector machines. \n",
    "* Make sure your grid isn't too big. You'll see it takes quite a while to fit SVMs with non-linear kernel functions!"
   ]
  },
  {
   "cell_type": "markdown",
   "metadata": {},
   "source": [
    "### Random Forest pipeline with grid search"
   ]
  },
  {
   "cell_type": "code",
   "execution_count": 16,
   "metadata": {},
   "outputs": [],
   "source": [
    "# Your code here \n",
    "# imports\n",
    "from sklearn.model_selection import GridSearchCV"
   ]
  },
  {
   "cell_type": "code",
   "execution_count": 17,
   "metadata": {},
   "outputs": [
    {
     "name": "stdout",
     "output_type": "stream",
     "text": [
      "Fitting 3 folds for each of 54 candidates, totalling 162 fits\n",
      "[CV] clf__criterion=entropy, clf__max_depth=4, clf__min_samples_leaf=0.05, clf__min_samples_split=0.05, clf__n_estimators=120 \n"
     ]
    },
    {
     "name": "stderr",
     "output_type": "stream",
     "text": [
      "[Parallel(n_jobs=1)]: Using backend SequentialBackend with 1 concurrent workers.\n"
     ]
    },
    {
     "name": "stdout",
     "output_type": "stream",
     "text": [
      "[CV]  clf__criterion=entropy, clf__max_depth=4, clf__min_samples_leaf=0.05, clf__min_samples_split=0.05, clf__n_estimators=120, total=   9.5s\n",
      "[CV] clf__criterion=entropy, clf__max_depth=4, clf__min_samples_leaf=0.05, clf__min_samples_split=0.05, clf__n_estimators=120 \n"
     ]
    },
    {
     "name": "stderr",
     "output_type": "stream",
     "text": [
      "[Parallel(n_jobs=1)]: Done   1 out of   1 | elapsed:    9.9s remaining:    0.0s\n"
     ]
    },
    {
     "name": "stdout",
     "output_type": "stream",
     "text": [
      "[CV]  clf__criterion=entropy, clf__max_depth=4, clf__min_samples_leaf=0.05, clf__min_samples_split=0.05, clf__n_estimators=120, total=   9.8s\n",
      "[CV] clf__criterion=entropy, clf__max_depth=4, clf__min_samples_leaf=0.05, clf__min_samples_split=0.05, clf__n_estimators=120 \n",
      "[CV]  clf__criterion=entropy, clf__max_depth=4, clf__min_samples_leaf=0.05, clf__min_samples_split=0.05, clf__n_estimators=120, total=   9.7s\n",
      "[CV] clf__criterion=entropy, clf__max_depth=4, clf__min_samples_leaf=0.05, clf__min_samples_split=0.1, clf__n_estimators=120 \n",
      "[CV]  clf__criterion=entropy, clf__max_depth=4, clf__min_samples_leaf=0.05, clf__min_samples_split=0.1, clf__n_estimators=120, total=   8.7s\n",
      "[CV] clf__criterion=entropy, clf__max_depth=4, clf__min_samples_leaf=0.05, clf__min_samples_split=0.1, clf__n_estimators=120 \n",
      "[CV]  clf__criterion=entropy, clf__max_depth=4, clf__min_samples_leaf=0.05, clf__min_samples_split=0.1, clf__n_estimators=120, total=   9.1s\n",
      "[CV] clf__criterion=entropy, clf__max_depth=4, clf__min_samples_leaf=0.05, clf__min_samples_split=0.1, clf__n_estimators=120 \n",
      "[CV]  clf__criterion=entropy, clf__max_depth=4, clf__min_samples_leaf=0.05, clf__min_samples_split=0.1, clf__n_estimators=120, total=   9.5s\n",
      "[CV] clf__criterion=entropy, clf__max_depth=4, clf__min_samples_leaf=0.05, clf__min_samples_split=0.2, clf__n_estimators=120 \n",
      "[CV]  clf__criterion=entropy, clf__max_depth=4, clf__min_samples_leaf=0.05, clf__min_samples_split=0.2, clf__n_estimators=120, total=  12.9s\n",
      "[CV] clf__criterion=entropy, clf__max_depth=4, clf__min_samples_leaf=0.05, clf__min_samples_split=0.2, clf__n_estimators=120 \n",
      "[CV]  clf__criterion=entropy, clf__max_depth=4, clf__min_samples_leaf=0.05, clf__min_samples_split=0.2, clf__n_estimators=120, total=   8.8s\n",
      "[CV] clf__criterion=entropy, clf__max_depth=4, clf__min_samples_leaf=0.05, clf__min_samples_split=0.2, clf__n_estimators=120 \n",
      "[CV]  clf__criterion=entropy, clf__max_depth=4, clf__min_samples_leaf=0.05, clf__min_samples_split=0.2, clf__n_estimators=120, total=   8.6s\n",
      "[CV] clf__criterion=entropy, clf__max_depth=4, clf__min_samples_leaf=0.1, clf__min_samples_split=0.05, clf__n_estimators=120 \n",
      "[CV]  clf__criterion=entropy, clf__max_depth=4, clf__min_samples_leaf=0.1, clf__min_samples_split=0.05, clf__n_estimators=120, total=   6.5s\n",
      "[CV] clf__criterion=entropy, clf__max_depth=4, clf__min_samples_leaf=0.1, clf__min_samples_split=0.05, clf__n_estimators=120 \n",
      "[CV]  clf__criterion=entropy, clf__max_depth=4, clf__min_samples_leaf=0.1, clf__min_samples_split=0.05, clf__n_estimators=120, total=   5.9s\n",
      "[CV] clf__criterion=entropy, clf__max_depth=4, clf__min_samples_leaf=0.1, clf__min_samples_split=0.05, clf__n_estimators=120 \n",
      "[CV]  clf__criterion=entropy, clf__max_depth=4, clf__min_samples_leaf=0.1, clf__min_samples_split=0.05, clf__n_estimators=120, total=   6.0s\n",
      "[CV] clf__criterion=entropy, clf__max_depth=4, clf__min_samples_leaf=0.1, clf__min_samples_split=0.1, clf__n_estimators=120 \n",
      "[CV]  clf__criterion=entropy, clf__max_depth=4, clf__min_samples_leaf=0.1, clf__min_samples_split=0.1, clf__n_estimators=120, total=   6.0s\n",
      "[CV] clf__criterion=entropy, clf__max_depth=4, clf__min_samples_leaf=0.1, clf__min_samples_split=0.1, clf__n_estimators=120 \n",
      "[CV]  clf__criterion=entropy, clf__max_depth=4, clf__min_samples_leaf=0.1, clf__min_samples_split=0.1, clf__n_estimators=120, total=   5.9s\n",
      "[CV] clf__criterion=entropy, clf__max_depth=4, clf__min_samples_leaf=0.1, clf__min_samples_split=0.1, clf__n_estimators=120 \n",
      "[CV]  clf__criterion=entropy, clf__max_depth=4, clf__min_samples_leaf=0.1, clf__min_samples_split=0.1, clf__n_estimators=120, total=   6.0s\n",
      "[CV] clf__criterion=entropy, clf__max_depth=4, clf__min_samples_leaf=0.1, clf__min_samples_split=0.2, clf__n_estimators=120 \n",
      "[CV]  clf__criterion=entropy, clf__max_depth=4, clf__min_samples_leaf=0.1, clf__min_samples_split=0.2, clf__n_estimators=120, total=   6.0s\n",
      "[CV] clf__criterion=entropy, clf__max_depth=4, clf__min_samples_leaf=0.1, clf__min_samples_split=0.2, clf__n_estimators=120 \n",
      "[CV]  clf__criterion=entropy, clf__max_depth=4, clf__min_samples_leaf=0.1, clf__min_samples_split=0.2, clf__n_estimators=120, total=   6.0s\n",
      "[CV] clf__criterion=entropy, clf__max_depth=4, clf__min_samples_leaf=0.1, clf__min_samples_split=0.2, clf__n_estimators=120 \n",
      "[CV]  clf__criterion=entropy, clf__max_depth=4, clf__min_samples_leaf=0.1, clf__min_samples_split=0.2, clf__n_estimators=120, total=   9.2s\n",
      "[CV] clf__criterion=entropy, clf__max_depth=4, clf__min_samples_leaf=0.2, clf__min_samples_split=0.05, clf__n_estimators=120 \n",
      "[CV]  clf__criterion=entropy, clf__max_depth=4, clf__min_samples_leaf=0.2, clf__min_samples_split=0.05, clf__n_estimators=120, total=   3.5s\n",
      "[CV] clf__criterion=entropy, clf__max_depth=4, clf__min_samples_leaf=0.2, clf__min_samples_split=0.05, clf__n_estimators=120 \n",
      "[CV]  clf__criterion=entropy, clf__max_depth=4, clf__min_samples_leaf=0.2, clf__min_samples_split=0.05, clf__n_estimators=120, total=   3.1s\n",
      "[CV] clf__criterion=entropy, clf__max_depth=4, clf__min_samples_leaf=0.2, clf__min_samples_split=0.05, clf__n_estimators=120 \n",
      "[CV]  clf__criterion=entropy, clf__max_depth=4, clf__min_samples_leaf=0.2, clf__min_samples_split=0.05, clf__n_estimators=120, total=   3.2s\n",
      "[CV] clf__criterion=entropy, clf__max_depth=4, clf__min_samples_leaf=0.2, clf__min_samples_split=0.1, clf__n_estimators=120 \n",
      "[CV]  clf__criterion=entropy, clf__max_depth=4, clf__min_samples_leaf=0.2, clf__min_samples_split=0.1, clf__n_estimators=120, total=   3.3s\n",
      "[CV] clf__criterion=entropy, clf__max_depth=4, clf__min_samples_leaf=0.2, clf__min_samples_split=0.1, clf__n_estimators=120 \n",
      "[CV]  clf__criterion=entropy, clf__max_depth=4, clf__min_samples_leaf=0.2, clf__min_samples_split=0.1, clf__n_estimators=120, total=   3.0s\n",
      "[CV] clf__criterion=entropy, clf__max_depth=4, clf__min_samples_leaf=0.2, clf__min_samples_split=0.1, clf__n_estimators=120 \n",
      "[CV]  clf__criterion=entropy, clf__max_depth=4, clf__min_samples_leaf=0.2, clf__min_samples_split=0.1, clf__n_estimators=120, total=   3.2s\n",
      "[CV] clf__criterion=entropy, clf__max_depth=4, clf__min_samples_leaf=0.2, clf__min_samples_split=0.2, clf__n_estimators=120 \n",
      "[CV]  clf__criterion=entropy, clf__max_depth=4, clf__min_samples_leaf=0.2, clf__min_samples_split=0.2, clf__n_estimators=120, total=   3.3s\n",
      "[CV] clf__criterion=entropy, clf__max_depth=4, clf__min_samples_leaf=0.2, clf__min_samples_split=0.2, clf__n_estimators=120 \n",
      "[CV]  clf__criterion=entropy, clf__max_depth=4, clf__min_samples_leaf=0.2, clf__min_samples_split=0.2, clf__n_estimators=120, total=   3.0s\n",
      "[CV] clf__criterion=entropy, clf__max_depth=4, clf__min_samples_leaf=0.2, clf__min_samples_split=0.2, clf__n_estimators=120 \n",
      "[CV]  clf__criterion=entropy, clf__max_depth=4, clf__min_samples_leaf=0.2, clf__min_samples_split=0.2, clf__n_estimators=120, total=   3.3s\n",
      "[CV] clf__criterion=entropy, clf__max_depth=5, clf__min_samples_leaf=0.05, clf__min_samples_split=0.05, clf__n_estimators=120 \n",
      "[CV]  clf__criterion=entropy, clf__max_depth=5, clf__min_samples_leaf=0.05, clf__min_samples_split=0.05, clf__n_estimators=120, total=  10.3s\n",
      "[CV] clf__criterion=entropy, clf__max_depth=5, clf__min_samples_leaf=0.05, clf__min_samples_split=0.05, clf__n_estimators=120 \n",
      "[CV]  clf__criterion=entropy, clf__max_depth=5, clf__min_samples_leaf=0.05, clf__min_samples_split=0.05, clf__n_estimators=120, total=   9.4s\n",
      "[CV] clf__criterion=entropy, clf__max_depth=5, clf__min_samples_leaf=0.05, clf__min_samples_split=0.05, clf__n_estimators=120 \n",
      "[CV]  clf__criterion=entropy, clf__max_depth=5, clf__min_samples_leaf=0.05, clf__min_samples_split=0.05, clf__n_estimators=120, total=   9.2s\n",
      "[CV] clf__criterion=entropy, clf__max_depth=5, clf__min_samples_leaf=0.05, clf__min_samples_split=0.1, clf__n_estimators=120 \n",
      "[CV]  clf__criterion=entropy, clf__max_depth=5, clf__min_samples_leaf=0.05, clf__min_samples_split=0.1, clf__n_estimators=120, total=  11.7s\n",
      "[CV] clf__criterion=entropy, clf__max_depth=5, clf__min_samples_leaf=0.05, clf__min_samples_split=0.1, clf__n_estimators=120 \n",
      "[CV]  clf__criterion=entropy, clf__max_depth=5, clf__min_samples_leaf=0.05, clf__min_samples_split=0.1, clf__n_estimators=120, total=   9.8s\n",
      "[CV] clf__criterion=entropy, clf__max_depth=5, clf__min_samples_leaf=0.05, clf__min_samples_split=0.1, clf__n_estimators=120 \n"
     ]
    },
    {
     "name": "stdout",
     "output_type": "stream",
     "text": [
      "[CV]  clf__criterion=entropy, clf__max_depth=5, clf__min_samples_leaf=0.05, clf__min_samples_split=0.1, clf__n_estimators=120, total=   9.4s\n",
      "[CV] clf__criterion=entropy, clf__max_depth=5, clf__min_samples_leaf=0.05, clf__min_samples_split=0.2, clf__n_estimators=120 \n",
      "[CV]  clf__criterion=entropy, clf__max_depth=5, clf__min_samples_leaf=0.05, clf__min_samples_split=0.2, clf__n_estimators=120, total=   7.8s\n",
      "[CV] clf__criterion=entropy, clf__max_depth=5, clf__min_samples_leaf=0.05, clf__min_samples_split=0.2, clf__n_estimators=120 \n",
      "[CV]  clf__criterion=entropy, clf__max_depth=5, clf__min_samples_leaf=0.05, clf__min_samples_split=0.2, clf__n_estimators=120, total=   9.3s\n",
      "[CV] clf__criterion=entropy, clf__max_depth=5, clf__min_samples_leaf=0.05, clf__min_samples_split=0.2, clf__n_estimators=120 \n",
      "[CV]  clf__criterion=entropy, clf__max_depth=5, clf__min_samples_leaf=0.05, clf__min_samples_split=0.2, clf__n_estimators=120, total=   9.5s\n",
      "[CV] clf__criterion=entropy, clf__max_depth=5, clf__min_samples_leaf=0.1, clf__min_samples_split=0.05, clf__n_estimators=120 \n",
      "[CV]  clf__criterion=entropy, clf__max_depth=5, clf__min_samples_leaf=0.1, clf__min_samples_split=0.05, clf__n_estimators=120, total=   6.0s\n",
      "[CV] clf__criterion=entropy, clf__max_depth=5, clf__min_samples_leaf=0.1, clf__min_samples_split=0.05, clf__n_estimators=120 \n",
      "[CV]  clf__criterion=entropy, clf__max_depth=5, clf__min_samples_leaf=0.1, clf__min_samples_split=0.05, clf__n_estimators=120, total=   8.9s\n",
      "[CV] clf__criterion=entropy, clf__max_depth=5, clf__min_samples_leaf=0.1, clf__min_samples_split=0.05, clf__n_estimators=120 \n",
      "[CV]  clf__criterion=entropy, clf__max_depth=5, clf__min_samples_leaf=0.1, clf__min_samples_split=0.05, clf__n_estimators=120, total=   7.1s\n",
      "[CV] clf__criterion=entropy, clf__max_depth=5, clf__min_samples_leaf=0.1, clf__min_samples_split=0.1, clf__n_estimators=120 \n",
      "[CV]  clf__criterion=entropy, clf__max_depth=5, clf__min_samples_leaf=0.1, clf__min_samples_split=0.1, clf__n_estimators=120, total=   6.4s\n",
      "[CV] clf__criterion=entropy, clf__max_depth=5, clf__min_samples_leaf=0.1, clf__min_samples_split=0.1, clf__n_estimators=120 \n",
      "[CV]  clf__criterion=entropy, clf__max_depth=5, clf__min_samples_leaf=0.1, clf__min_samples_split=0.1, clf__n_estimators=120, total=   7.5s\n",
      "[CV] clf__criterion=entropy, clf__max_depth=5, clf__min_samples_leaf=0.1, clf__min_samples_split=0.1, clf__n_estimators=120 \n",
      "[CV]  clf__criterion=entropy, clf__max_depth=5, clf__min_samples_leaf=0.1, clf__min_samples_split=0.1, clf__n_estimators=120, total=   6.9s\n",
      "[CV] clf__criterion=entropy, clf__max_depth=5, clf__min_samples_leaf=0.1, clf__min_samples_split=0.2, clf__n_estimators=120 \n",
      "[CV]  clf__criterion=entropy, clf__max_depth=5, clf__min_samples_leaf=0.1, clf__min_samples_split=0.2, clf__n_estimators=120, total=   7.5s\n",
      "[CV] clf__criterion=entropy, clf__max_depth=5, clf__min_samples_leaf=0.1, clf__min_samples_split=0.2, clf__n_estimators=120 \n",
      "[CV]  clf__criterion=entropy, clf__max_depth=5, clf__min_samples_leaf=0.1, clf__min_samples_split=0.2, clf__n_estimators=120, total=   8.1s\n",
      "[CV] clf__criterion=entropy, clf__max_depth=5, clf__min_samples_leaf=0.1, clf__min_samples_split=0.2, clf__n_estimators=120 \n",
      "[CV]  clf__criterion=entropy, clf__max_depth=5, clf__min_samples_leaf=0.1, clf__min_samples_split=0.2, clf__n_estimators=120, total=   6.4s\n",
      "[CV] clf__criterion=entropy, clf__max_depth=5, clf__min_samples_leaf=0.2, clf__min_samples_split=0.05, clf__n_estimators=120 \n",
      "[CV]  clf__criterion=entropy, clf__max_depth=5, clf__min_samples_leaf=0.2, clf__min_samples_split=0.05, clf__n_estimators=120, total=   3.1s\n",
      "[CV] clf__criterion=entropy, clf__max_depth=5, clf__min_samples_leaf=0.2, clf__min_samples_split=0.05, clf__n_estimators=120 \n",
      "[CV]  clf__criterion=entropy, clf__max_depth=5, clf__min_samples_leaf=0.2, clf__min_samples_split=0.05, clf__n_estimators=120, total=   3.1s\n",
      "[CV] clf__criterion=entropy, clf__max_depth=5, clf__min_samples_leaf=0.2, clf__min_samples_split=0.05, clf__n_estimators=120 \n",
      "[CV]  clf__criterion=entropy, clf__max_depth=5, clf__min_samples_leaf=0.2, clf__min_samples_split=0.05, clf__n_estimators=120, total=   3.1s\n",
      "[CV] clf__criterion=entropy, clf__max_depth=5, clf__min_samples_leaf=0.2, clf__min_samples_split=0.1, clf__n_estimators=120 \n",
      "[CV]  clf__criterion=entropy, clf__max_depth=5, clf__min_samples_leaf=0.2, clf__min_samples_split=0.1, clf__n_estimators=120, total=   3.1s\n",
      "[CV] clf__criterion=entropy, clf__max_depth=5, clf__min_samples_leaf=0.2, clf__min_samples_split=0.1, clf__n_estimators=120 \n",
      "[CV]  clf__criterion=entropy, clf__max_depth=5, clf__min_samples_leaf=0.2, clf__min_samples_split=0.1, clf__n_estimators=120, total=   3.1s\n",
      "[CV] clf__criterion=entropy, clf__max_depth=5, clf__min_samples_leaf=0.2, clf__min_samples_split=0.1, clf__n_estimators=120 \n",
      "[CV]  clf__criterion=entropy, clf__max_depth=5, clf__min_samples_leaf=0.2, clf__min_samples_split=0.1, clf__n_estimators=120, total=   3.1s\n",
      "[CV] clf__criterion=entropy, clf__max_depth=5, clf__min_samples_leaf=0.2, clf__min_samples_split=0.2, clf__n_estimators=120 \n",
      "[CV]  clf__criterion=entropy, clf__max_depth=5, clf__min_samples_leaf=0.2, clf__min_samples_split=0.2, clf__n_estimators=120, total=   3.1s\n",
      "[CV] clf__criterion=entropy, clf__max_depth=5, clf__min_samples_leaf=0.2, clf__min_samples_split=0.2, clf__n_estimators=120 \n",
      "[CV]  clf__criterion=entropy, clf__max_depth=5, clf__min_samples_leaf=0.2, clf__min_samples_split=0.2, clf__n_estimators=120, total=   3.0s\n",
      "[CV] clf__criterion=entropy, clf__max_depth=5, clf__min_samples_leaf=0.2, clf__min_samples_split=0.2, clf__n_estimators=120 \n",
      "[CV]  clf__criterion=entropy, clf__max_depth=5, clf__min_samples_leaf=0.2, clf__min_samples_split=0.2, clf__n_estimators=120, total=   3.1s\n",
      "[CV] clf__criterion=entropy, clf__max_depth=6, clf__min_samples_leaf=0.05, clf__min_samples_split=0.05, clf__n_estimators=120 \n",
      "[CV]  clf__criterion=entropy, clf__max_depth=6, clf__min_samples_leaf=0.05, clf__min_samples_split=0.05, clf__n_estimators=120, total=   9.6s\n",
      "[CV] clf__criterion=entropy, clf__max_depth=6, clf__min_samples_leaf=0.05, clf__min_samples_split=0.05, clf__n_estimators=120 \n",
      "[CV]  clf__criterion=entropy, clf__max_depth=6, clf__min_samples_leaf=0.05, clf__min_samples_split=0.05, clf__n_estimators=120, total=  13.7s\n",
      "[CV] clf__criterion=entropy, clf__max_depth=6, clf__min_samples_leaf=0.05, clf__min_samples_split=0.05, clf__n_estimators=120 \n",
      "[CV]  clf__criterion=entropy, clf__max_depth=6, clf__min_samples_leaf=0.05, clf__min_samples_split=0.05, clf__n_estimators=120, total=   9.7s\n",
      "[CV] clf__criterion=entropy, clf__max_depth=6, clf__min_samples_leaf=0.05, clf__min_samples_split=0.1, clf__n_estimators=120 \n",
      "[CV]  clf__criterion=entropy, clf__max_depth=6, clf__min_samples_leaf=0.05, clf__min_samples_split=0.1, clf__n_estimators=120, total=   9.6s\n",
      "[CV] clf__criterion=entropy, clf__max_depth=6, clf__min_samples_leaf=0.05, clf__min_samples_split=0.1, clf__n_estimators=120 \n",
      "[CV]  clf__criterion=entropy, clf__max_depth=6, clf__min_samples_leaf=0.05, clf__min_samples_split=0.1, clf__n_estimators=120, total=   9.6s\n",
      "[CV] clf__criterion=entropy, clf__max_depth=6, clf__min_samples_leaf=0.05, clf__min_samples_split=0.1, clf__n_estimators=120 \n",
      "[CV]  clf__criterion=entropy, clf__max_depth=6, clf__min_samples_leaf=0.05, clf__min_samples_split=0.1, clf__n_estimators=120, total=   9.6s\n",
      "[CV] clf__criterion=entropy, clf__max_depth=6, clf__min_samples_leaf=0.05, clf__min_samples_split=0.2, clf__n_estimators=120 \n",
      "[CV]  clf__criterion=entropy, clf__max_depth=6, clf__min_samples_leaf=0.05, clf__min_samples_split=0.2, clf__n_estimators=120, total=   7.8s\n",
      "[CV] clf__criterion=entropy, clf__max_depth=6, clf__min_samples_leaf=0.05, clf__min_samples_split=0.2, clf__n_estimators=120 \n",
      "[CV]  clf__criterion=entropy, clf__max_depth=6, clf__min_samples_leaf=0.05, clf__min_samples_split=0.2, clf__n_estimators=120, total=   8.2s\n",
      "[CV] clf__criterion=entropy, clf__max_depth=6, clf__min_samples_leaf=0.05, clf__min_samples_split=0.2, clf__n_estimators=120 \n",
      "[CV]  clf__criterion=entropy, clf__max_depth=6, clf__min_samples_leaf=0.05, clf__min_samples_split=0.2, clf__n_estimators=120, total=   8.8s\n",
      "[CV] clf__criterion=entropy, clf__max_depth=6, clf__min_samples_leaf=0.1, clf__min_samples_split=0.05, clf__n_estimators=120 \n"
     ]
    },
    {
     "name": "stdout",
     "output_type": "stream",
     "text": [
      "[CV]  clf__criterion=entropy, clf__max_depth=6, clf__min_samples_leaf=0.1, clf__min_samples_split=0.05, clf__n_estimators=120, total=   9.5s\n",
      "[CV] clf__criterion=entropy, clf__max_depth=6, clf__min_samples_leaf=0.1, clf__min_samples_split=0.05, clf__n_estimators=120 \n",
      "[CV]  clf__criterion=entropy, clf__max_depth=6, clf__min_samples_leaf=0.1, clf__min_samples_split=0.05, clf__n_estimators=120, total=   6.6s\n",
      "[CV] clf__criterion=entropy, clf__max_depth=6, clf__min_samples_leaf=0.1, clf__min_samples_split=0.05, clf__n_estimators=120 \n",
      "[CV]  clf__criterion=entropy, clf__max_depth=6, clf__min_samples_leaf=0.1, clf__min_samples_split=0.05, clf__n_estimators=120, total=   6.5s\n",
      "[CV] clf__criterion=entropy, clf__max_depth=6, clf__min_samples_leaf=0.1, clf__min_samples_split=0.1, clf__n_estimators=120 \n",
      "[CV]  clf__criterion=entropy, clf__max_depth=6, clf__min_samples_leaf=0.1, clf__min_samples_split=0.1, clf__n_estimators=120, total=   6.8s\n",
      "[CV] clf__criterion=entropy, clf__max_depth=6, clf__min_samples_leaf=0.1, clf__min_samples_split=0.1, clf__n_estimators=120 \n",
      "[CV]  clf__criterion=entropy, clf__max_depth=6, clf__min_samples_leaf=0.1, clf__min_samples_split=0.1, clf__n_estimators=120, total=   6.2s\n",
      "[CV] clf__criterion=entropy, clf__max_depth=6, clf__min_samples_leaf=0.1, clf__min_samples_split=0.1, clf__n_estimators=120 \n",
      "[CV]  clf__criterion=entropy, clf__max_depth=6, clf__min_samples_leaf=0.1, clf__min_samples_split=0.1, clf__n_estimators=120, total=   6.3s\n",
      "[CV] clf__criterion=entropy, clf__max_depth=6, clf__min_samples_leaf=0.1, clf__min_samples_split=0.2, clf__n_estimators=120 \n",
      "[CV]  clf__criterion=entropy, clf__max_depth=6, clf__min_samples_leaf=0.1, clf__min_samples_split=0.2, clf__n_estimators=120, total=   6.1s\n",
      "[CV] clf__criterion=entropy, clf__max_depth=6, clf__min_samples_leaf=0.1, clf__min_samples_split=0.2, clf__n_estimators=120 \n",
      "[CV]  clf__criterion=entropy, clf__max_depth=6, clf__min_samples_leaf=0.1, clf__min_samples_split=0.2, clf__n_estimators=120, total=   5.9s\n",
      "[CV] clf__criterion=entropy, clf__max_depth=6, clf__min_samples_leaf=0.1, clf__min_samples_split=0.2, clf__n_estimators=120 \n",
      "[CV]  clf__criterion=entropy, clf__max_depth=6, clf__min_samples_leaf=0.1, clf__min_samples_split=0.2, clf__n_estimators=120, total=   6.3s\n",
      "[CV] clf__criterion=entropy, clf__max_depth=6, clf__min_samples_leaf=0.2, clf__min_samples_split=0.05, clf__n_estimators=120 \n",
      "[CV]  clf__criterion=entropy, clf__max_depth=6, clf__min_samples_leaf=0.2, clf__min_samples_split=0.05, clf__n_estimators=120, total=   3.4s\n",
      "[CV] clf__criterion=entropy, clf__max_depth=6, clf__min_samples_leaf=0.2, clf__min_samples_split=0.05, clf__n_estimators=120 \n",
      "[CV]  clf__criterion=entropy, clf__max_depth=6, clf__min_samples_leaf=0.2, clf__min_samples_split=0.05, clf__n_estimators=120, total=   3.4s\n",
      "[CV] clf__criterion=entropy, clf__max_depth=6, clf__min_samples_leaf=0.2, clf__min_samples_split=0.05, clf__n_estimators=120 \n",
      "[CV]  clf__criterion=entropy, clf__max_depth=6, clf__min_samples_leaf=0.2, clf__min_samples_split=0.05, clf__n_estimators=120, total=   3.3s\n",
      "[CV] clf__criterion=entropy, clf__max_depth=6, clf__min_samples_leaf=0.2, clf__min_samples_split=0.1, clf__n_estimators=120 \n",
      "[CV]  clf__criterion=entropy, clf__max_depth=6, clf__min_samples_leaf=0.2, clf__min_samples_split=0.1, clf__n_estimators=120, total=   3.6s\n",
      "[CV] clf__criterion=entropy, clf__max_depth=6, clf__min_samples_leaf=0.2, clf__min_samples_split=0.1, clf__n_estimators=120 \n",
      "[CV]  clf__criterion=entropy, clf__max_depth=6, clf__min_samples_leaf=0.2, clf__min_samples_split=0.1, clf__n_estimators=120, total=   6.7s\n",
      "[CV] clf__criterion=entropy, clf__max_depth=6, clf__min_samples_leaf=0.2, clf__min_samples_split=0.1, clf__n_estimators=120 \n",
      "[CV]  clf__criterion=entropy, clf__max_depth=6, clf__min_samples_leaf=0.2, clf__min_samples_split=0.1, clf__n_estimators=120, total=   3.3s\n",
      "[CV] clf__criterion=entropy, clf__max_depth=6, clf__min_samples_leaf=0.2, clf__min_samples_split=0.2, clf__n_estimators=120 \n",
      "[CV]  clf__criterion=entropy, clf__max_depth=6, clf__min_samples_leaf=0.2, clf__min_samples_split=0.2, clf__n_estimators=120, total=   3.2s\n",
      "[CV] clf__criterion=entropy, clf__max_depth=6, clf__min_samples_leaf=0.2, clf__min_samples_split=0.2, clf__n_estimators=120 \n",
      "[CV]  clf__criterion=entropy, clf__max_depth=6, clf__min_samples_leaf=0.2, clf__min_samples_split=0.2, clf__n_estimators=120, total=   3.1s\n",
      "[CV] clf__criterion=entropy, clf__max_depth=6, clf__min_samples_leaf=0.2, clf__min_samples_split=0.2, clf__n_estimators=120 \n",
      "[CV]  clf__criterion=entropy, clf__max_depth=6, clf__min_samples_leaf=0.2, clf__min_samples_split=0.2, clf__n_estimators=120, total=   3.3s\n",
      "[CV] clf__criterion=gini, clf__max_depth=4, clf__min_samples_leaf=0.05, clf__min_samples_split=0.05, clf__n_estimators=120 \n",
      "[CV]  clf__criterion=gini, clf__max_depth=4, clf__min_samples_leaf=0.05, clf__min_samples_split=0.05, clf__n_estimators=120, total=   5.2s\n",
      "[CV] clf__criterion=gini, clf__max_depth=4, clf__min_samples_leaf=0.05, clf__min_samples_split=0.05, clf__n_estimators=120 \n",
      "[CV]  clf__criterion=gini, clf__max_depth=4, clf__min_samples_leaf=0.05, clf__min_samples_split=0.05, clf__n_estimators=120, total=   5.8s\n",
      "[CV] clf__criterion=gini, clf__max_depth=4, clf__min_samples_leaf=0.05, clf__min_samples_split=0.05, clf__n_estimators=120 \n",
      "[CV]  clf__criterion=gini, clf__max_depth=4, clf__min_samples_leaf=0.05, clf__min_samples_split=0.05, clf__n_estimators=120, total=   5.1s\n",
      "[CV] clf__criterion=gini, clf__max_depth=4, clf__min_samples_leaf=0.05, clf__min_samples_split=0.1, clf__n_estimators=120 \n",
      "[CV]  clf__criterion=gini, clf__max_depth=4, clf__min_samples_leaf=0.05, clf__min_samples_split=0.1, clf__n_estimators=120, total=   4.9s\n",
      "[CV] clf__criterion=gini, clf__max_depth=4, clf__min_samples_leaf=0.05, clf__min_samples_split=0.1, clf__n_estimators=120 \n",
      "[CV]  clf__criterion=gini, clf__max_depth=4, clf__min_samples_leaf=0.05, clf__min_samples_split=0.1, clf__n_estimators=120, total=   5.0s\n",
      "[CV] clf__criterion=gini, clf__max_depth=4, clf__min_samples_leaf=0.05, clf__min_samples_split=0.1, clf__n_estimators=120 \n",
      "[CV]  clf__criterion=gini, clf__max_depth=4, clf__min_samples_leaf=0.05, clf__min_samples_split=0.1, clf__n_estimators=120, total=   5.5s\n",
      "[CV] clf__criterion=gini, clf__max_depth=4, clf__min_samples_leaf=0.05, clf__min_samples_split=0.2, clf__n_estimators=120 \n",
      "[CV]  clf__criterion=gini, clf__max_depth=4, clf__min_samples_leaf=0.05, clf__min_samples_split=0.2, clf__n_estimators=120, total=   4.6s\n",
      "[CV] clf__criterion=gini, clf__max_depth=4, clf__min_samples_leaf=0.05, clf__min_samples_split=0.2, clf__n_estimators=120 \n",
      "[CV]  clf__criterion=gini, clf__max_depth=4, clf__min_samples_leaf=0.05, clf__min_samples_split=0.2, clf__n_estimators=120, total=   4.3s\n",
      "[CV] clf__criterion=gini, clf__max_depth=4, clf__min_samples_leaf=0.05, clf__min_samples_split=0.2, clf__n_estimators=120 \n",
      "[CV]  clf__criterion=gini, clf__max_depth=4, clf__min_samples_leaf=0.05, clf__min_samples_split=0.2, clf__n_estimators=120, total=   4.4s\n",
      "[CV] clf__criterion=gini, clf__max_depth=4, clf__min_samples_leaf=0.1, clf__min_samples_split=0.05, clf__n_estimators=120 \n",
      "[CV]  clf__criterion=gini, clf__max_depth=4, clf__min_samples_leaf=0.1, clf__min_samples_split=0.05, clf__n_estimators=120, total=   4.2s\n",
      "[CV] clf__criterion=gini, clf__max_depth=4, clf__min_samples_leaf=0.1, clf__min_samples_split=0.05, clf__n_estimators=120 \n",
      "[CV]  clf__criterion=gini, clf__max_depth=4, clf__min_samples_leaf=0.1, clf__min_samples_split=0.05, clf__n_estimators=120, total=   3.8s\n",
      "[CV] clf__criterion=gini, clf__max_depth=4, clf__min_samples_leaf=0.1, clf__min_samples_split=0.05, clf__n_estimators=120 \n",
      "[CV]  clf__criterion=gini, clf__max_depth=4, clf__min_samples_leaf=0.1, clf__min_samples_split=0.05, clf__n_estimators=120, total=   5.6s\n",
      "[CV] clf__criterion=gini, clf__max_depth=4, clf__min_samples_leaf=0.1, clf__min_samples_split=0.1, clf__n_estimators=120 \n",
      "[CV]  clf__criterion=gini, clf__max_depth=4, clf__min_samples_leaf=0.1, clf__min_samples_split=0.1, clf__n_estimators=120, total=   4.0s\n",
      "[CV] clf__criterion=gini, clf__max_depth=4, clf__min_samples_leaf=0.1, clf__min_samples_split=0.1, clf__n_estimators=120 \n",
      "[CV]  clf__criterion=gini, clf__max_depth=4, clf__min_samples_leaf=0.1, clf__min_samples_split=0.1, clf__n_estimators=120, total=   4.0s\n",
      "[CV] clf__criterion=gini, clf__max_depth=4, clf__min_samples_leaf=0.1, clf__min_samples_split=0.1, clf__n_estimators=120 \n"
     ]
    },
    {
     "name": "stdout",
     "output_type": "stream",
     "text": [
      "[CV]  clf__criterion=gini, clf__max_depth=4, clf__min_samples_leaf=0.1, clf__min_samples_split=0.1, clf__n_estimators=120, total=   4.0s\n",
      "[CV] clf__criterion=gini, clf__max_depth=4, clf__min_samples_leaf=0.1, clf__min_samples_split=0.2, clf__n_estimators=120 \n",
      "[CV]  clf__criterion=gini, clf__max_depth=4, clf__min_samples_leaf=0.1, clf__min_samples_split=0.2, clf__n_estimators=120, total=   4.0s\n",
      "[CV] clf__criterion=gini, clf__max_depth=4, clf__min_samples_leaf=0.1, clf__min_samples_split=0.2, clf__n_estimators=120 \n",
      "[CV]  clf__criterion=gini, clf__max_depth=4, clf__min_samples_leaf=0.1, clf__min_samples_split=0.2, clf__n_estimators=120, total=   3.9s\n",
      "[CV] clf__criterion=gini, clf__max_depth=4, clf__min_samples_leaf=0.1, clf__min_samples_split=0.2, clf__n_estimators=120 \n",
      "[CV]  clf__criterion=gini, clf__max_depth=4, clf__min_samples_leaf=0.1, clf__min_samples_split=0.2, clf__n_estimators=120, total=   3.9s\n",
      "[CV] clf__criterion=gini, clf__max_depth=4, clf__min_samples_leaf=0.2, clf__min_samples_split=0.05, clf__n_estimators=120 \n",
      "[CV]  clf__criterion=gini, clf__max_depth=4, clf__min_samples_leaf=0.2, clf__min_samples_split=0.05, clf__n_estimators=120, total=   2.6s\n",
      "[CV] clf__criterion=gini, clf__max_depth=4, clf__min_samples_leaf=0.2, clf__min_samples_split=0.05, clf__n_estimators=120 \n",
      "[CV]  clf__criterion=gini, clf__max_depth=4, clf__min_samples_leaf=0.2, clf__min_samples_split=0.05, clf__n_estimators=120, total=   2.6s\n",
      "[CV] clf__criterion=gini, clf__max_depth=4, clf__min_samples_leaf=0.2, clf__min_samples_split=0.05, clf__n_estimators=120 \n",
      "[CV]  clf__criterion=gini, clf__max_depth=4, clf__min_samples_leaf=0.2, clf__min_samples_split=0.05, clf__n_estimators=120, total=   2.5s\n",
      "[CV] clf__criterion=gini, clf__max_depth=4, clf__min_samples_leaf=0.2, clf__min_samples_split=0.1, clf__n_estimators=120 \n",
      "[CV]  clf__criterion=gini, clf__max_depth=4, clf__min_samples_leaf=0.2, clf__min_samples_split=0.1, clf__n_estimators=120, total=   2.5s\n",
      "[CV] clf__criterion=gini, clf__max_depth=4, clf__min_samples_leaf=0.2, clf__min_samples_split=0.1, clf__n_estimators=120 \n",
      "[CV]  clf__criterion=gini, clf__max_depth=4, clf__min_samples_leaf=0.2, clf__min_samples_split=0.1, clf__n_estimators=120, total=   2.5s\n",
      "[CV] clf__criterion=gini, clf__max_depth=4, clf__min_samples_leaf=0.2, clf__min_samples_split=0.1, clf__n_estimators=120 \n",
      "[CV]  clf__criterion=gini, clf__max_depth=4, clf__min_samples_leaf=0.2, clf__min_samples_split=0.1, clf__n_estimators=120, total=   2.5s\n",
      "[CV] clf__criterion=gini, clf__max_depth=4, clf__min_samples_leaf=0.2, clf__min_samples_split=0.2, clf__n_estimators=120 \n",
      "[CV]  clf__criterion=gini, clf__max_depth=4, clf__min_samples_leaf=0.2, clf__min_samples_split=0.2, clf__n_estimators=120, total=   2.5s\n",
      "[CV] clf__criterion=gini, clf__max_depth=4, clf__min_samples_leaf=0.2, clf__min_samples_split=0.2, clf__n_estimators=120 \n",
      "[CV]  clf__criterion=gini, clf__max_depth=4, clf__min_samples_leaf=0.2, clf__min_samples_split=0.2, clf__n_estimators=120, total=   2.5s\n",
      "[CV] clf__criterion=gini, clf__max_depth=4, clf__min_samples_leaf=0.2, clf__min_samples_split=0.2, clf__n_estimators=120 \n",
      "[CV]  clf__criterion=gini, clf__max_depth=4, clf__min_samples_leaf=0.2, clf__min_samples_split=0.2, clf__n_estimators=120, total=   3.2s\n",
      "[CV] clf__criterion=gini, clf__max_depth=5, clf__min_samples_leaf=0.05, clf__min_samples_split=0.05, clf__n_estimators=120 \n",
      "[CV]  clf__criterion=gini, clf__max_depth=5, clf__min_samples_leaf=0.05, clf__min_samples_split=0.05, clf__n_estimators=120, total=   6.2s\n",
      "[CV] clf__criterion=gini, clf__max_depth=5, clf__min_samples_leaf=0.05, clf__min_samples_split=0.05, clf__n_estimators=120 \n",
      "[CV]  clf__criterion=gini, clf__max_depth=5, clf__min_samples_leaf=0.05, clf__min_samples_split=0.05, clf__n_estimators=120, total=   5.6s\n",
      "[CV] clf__criterion=gini, clf__max_depth=5, clf__min_samples_leaf=0.05, clf__min_samples_split=0.05, clf__n_estimators=120 \n",
      "[CV]  clf__criterion=gini, clf__max_depth=5, clf__min_samples_leaf=0.05, clf__min_samples_split=0.05, clf__n_estimators=120, total=   7.3s\n",
      "[CV] clf__criterion=gini, clf__max_depth=5, clf__min_samples_leaf=0.05, clf__min_samples_split=0.1, clf__n_estimators=120 \n",
      "[CV]  clf__criterion=gini, clf__max_depth=5, clf__min_samples_leaf=0.05, clf__min_samples_split=0.1, clf__n_estimators=120, total=   7.1s\n",
      "[CV] clf__criterion=gini, clf__max_depth=5, clf__min_samples_leaf=0.05, clf__min_samples_split=0.1, clf__n_estimators=120 \n",
      "[CV]  clf__criterion=gini, clf__max_depth=5, clf__min_samples_leaf=0.05, clf__min_samples_split=0.1, clf__n_estimators=120, total=   5.9s\n",
      "[CV] clf__criterion=gini, clf__max_depth=5, clf__min_samples_leaf=0.05, clf__min_samples_split=0.1, clf__n_estimators=120 \n",
      "[CV]  clf__criterion=gini, clf__max_depth=5, clf__min_samples_leaf=0.05, clf__min_samples_split=0.1, clf__n_estimators=120, total=   5.9s\n",
      "[CV] clf__criterion=gini, clf__max_depth=5, clf__min_samples_leaf=0.05, clf__min_samples_split=0.2, clf__n_estimators=120 \n",
      "[CV]  clf__criterion=gini, clf__max_depth=5, clf__min_samples_leaf=0.05, clf__min_samples_split=0.2, clf__n_estimators=120, total=   4.7s\n",
      "[CV] clf__criterion=gini, clf__max_depth=5, clf__min_samples_leaf=0.05, clf__min_samples_split=0.2, clf__n_estimators=120 \n",
      "[CV]  clf__criterion=gini, clf__max_depth=5, clf__min_samples_leaf=0.05, clf__min_samples_split=0.2, clf__n_estimators=120, total=   4.7s\n",
      "[CV] clf__criterion=gini, clf__max_depth=5, clf__min_samples_leaf=0.05, clf__min_samples_split=0.2, clf__n_estimators=120 \n",
      "[CV]  clf__criterion=gini, clf__max_depth=5, clf__min_samples_leaf=0.05, clf__min_samples_split=0.2, clf__n_estimators=120, total=   4.5s\n",
      "[CV] clf__criterion=gini, clf__max_depth=5, clf__min_samples_leaf=0.1, clf__min_samples_split=0.05, clf__n_estimators=120 \n",
      "[CV]  clf__criterion=gini, clf__max_depth=5, clf__min_samples_leaf=0.1, clf__min_samples_split=0.05, clf__n_estimators=120, total=   3.8s\n",
      "[CV] clf__criterion=gini, clf__max_depth=5, clf__min_samples_leaf=0.1, clf__min_samples_split=0.05, clf__n_estimators=120 \n",
      "[CV]  clf__criterion=gini, clf__max_depth=5, clf__min_samples_leaf=0.1, clf__min_samples_split=0.05, clf__n_estimators=120, total=   3.7s\n",
      "[CV] clf__criterion=gini, clf__max_depth=5, clf__min_samples_leaf=0.1, clf__min_samples_split=0.05, clf__n_estimators=120 \n",
      "[CV]  clf__criterion=gini, clf__max_depth=5, clf__min_samples_leaf=0.1, clf__min_samples_split=0.05, clf__n_estimators=120, total=   3.9s\n",
      "[CV] clf__criterion=gini, clf__max_depth=5, clf__min_samples_leaf=0.1, clf__min_samples_split=0.1, clf__n_estimators=120 \n",
      "[CV]  clf__criterion=gini, clf__max_depth=5, clf__min_samples_leaf=0.1, clf__min_samples_split=0.1, clf__n_estimators=120, total=   4.3s\n",
      "[CV] clf__criterion=gini, clf__max_depth=5, clf__min_samples_leaf=0.1, clf__min_samples_split=0.1, clf__n_estimators=120 \n",
      "[CV]  clf__criterion=gini, clf__max_depth=5, clf__min_samples_leaf=0.1, clf__min_samples_split=0.1, clf__n_estimators=120, total=   4.3s\n",
      "[CV] clf__criterion=gini, clf__max_depth=5, clf__min_samples_leaf=0.1, clf__min_samples_split=0.1, clf__n_estimators=120 \n",
      "[CV]  clf__criterion=gini, clf__max_depth=5, clf__min_samples_leaf=0.1, clf__min_samples_split=0.1, clf__n_estimators=120, total=   4.7s\n",
      "[CV] clf__criterion=gini, clf__max_depth=5, clf__min_samples_leaf=0.1, clf__min_samples_split=0.2, clf__n_estimators=120 \n",
      "[CV]  clf__criterion=gini, clf__max_depth=5, clf__min_samples_leaf=0.1, clf__min_samples_split=0.2, clf__n_estimators=120, total=   4.4s\n",
      "[CV] clf__criterion=gini, clf__max_depth=5, clf__min_samples_leaf=0.1, clf__min_samples_split=0.2, clf__n_estimators=120 \n",
      "[CV]  clf__criterion=gini, clf__max_depth=5, clf__min_samples_leaf=0.1, clf__min_samples_split=0.2, clf__n_estimators=120, total=   3.7s\n",
      "[CV] clf__criterion=gini, clf__max_depth=5, clf__min_samples_leaf=0.1, clf__min_samples_split=0.2, clf__n_estimators=120 \n",
      "[CV]  clf__criterion=gini, clf__max_depth=5, clf__min_samples_leaf=0.1, clf__min_samples_split=0.2, clf__n_estimators=120, total=   4.3s\n",
      "[CV] clf__criterion=gini, clf__max_depth=5, clf__min_samples_leaf=0.2, clf__min_samples_split=0.05, clf__n_estimators=120 \n",
      "[CV]  clf__criterion=gini, clf__max_depth=5, clf__min_samples_leaf=0.2, clf__min_samples_split=0.05, clf__n_estimators=120, total=   2.6s\n",
      "[CV] clf__criterion=gini, clf__max_depth=5, clf__min_samples_leaf=0.2, clf__min_samples_split=0.05, clf__n_estimators=120 \n"
     ]
    },
    {
     "name": "stdout",
     "output_type": "stream",
     "text": [
      "[CV]  clf__criterion=gini, clf__max_depth=5, clf__min_samples_leaf=0.2, clf__min_samples_split=0.05, clf__n_estimators=120, total=   2.5s\n",
      "[CV] clf__criterion=gini, clf__max_depth=5, clf__min_samples_leaf=0.2, clf__min_samples_split=0.05, clf__n_estimators=120 \n",
      "[CV]  clf__criterion=gini, clf__max_depth=5, clf__min_samples_leaf=0.2, clf__min_samples_split=0.05, clf__n_estimators=120, total=   5.2s\n",
      "[CV] clf__criterion=gini, clf__max_depth=5, clf__min_samples_leaf=0.2, clf__min_samples_split=0.1, clf__n_estimators=120 \n",
      "[CV]  clf__criterion=gini, clf__max_depth=5, clf__min_samples_leaf=0.2, clf__min_samples_split=0.1, clf__n_estimators=120, total=   3.0s\n",
      "[CV] clf__criterion=gini, clf__max_depth=5, clf__min_samples_leaf=0.2, clf__min_samples_split=0.1, clf__n_estimators=120 \n",
      "[CV]  clf__criterion=gini, clf__max_depth=5, clf__min_samples_leaf=0.2, clf__min_samples_split=0.1, clf__n_estimators=120, total=   2.6s\n",
      "[CV] clf__criterion=gini, clf__max_depth=5, clf__min_samples_leaf=0.2, clf__min_samples_split=0.1, clf__n_estimators=120 \n",
      "[CV]  clf__criterion=gini, clf__max_depth=5, clf__min_samples_leaf=0.2, clf__min_samples_split=0.1, clf__n_estimators=120, total=   2.6s\n",
      "[CV] clf__criterion=gini, clf__max_depth=5, clf__min_samples_leaf=0.2, clf__min_samples_split=0.2, clf__n_estimators=120 \n",
      "[CV]  clf__criterion=gini, clf__max_depth=5, clf__min_samples_leaf=0.2, clf__min_samples_split=0.2, clf__n_estimators=120, total=   2.9s\n",
      "[CV] clf__criterion=gini, clf__max_depth=5, clf__min_samples_leaf=0.2, clf__min_samples_split=0.2, clf__n_estimators=120 \n",
      "[CV]  clf__criterion=gini, clf__max_depth=5, clf__min_samples_leaf=0.2, clf__min_samples_split=0.2, clf__n_estimators=120, total=   2.7s\n",
      "[CV] clf__criterion=gini, clf__max_depth=5, clf__min_samples_leaf=0.2, clf__min_samples_split=0.2, clf__n_estimators=120 \n",
      "[CV]  clf__criterion=gini, clf__max_depth=5, clf__min_samples_leaf=0.2, clf__min_samples_split=0.2, clf__n_estimators=120, total=   2.7s\n",
      "[CV] clf__criterion=gini, clf__max_depth=6, clf__min_samples_leaf=0.05, clf__min_samples_split=0.05, clf__n_estimators=120 \n",
      "[CV]  clf__criterion=gini, clf__max_depth=6, clf__min_samples_leaf=0.05, clf__min_samples_split=0.05, clf__n_estimators=120, total=   5.7s\n",
      "[CV] clf__criterion=gini, clf__max_depth=6, clf__min_samples_leaf=0.05, clf__min_samples_split=0.05, clf__n_estimators=120 \n",
      "[CV]  clf__criterion=gini, clf__max_depth=6, clf__min_samples_leaf=0.05, clf__min_samples_split=0.05, clf__n_estimators=120, total=   6.0s\n",
      "[CV] clf__criterion=gini, clf__max_depth=6, clf__min_samples_leaf=0.05, clf__min_samples_split=0.05, clf__n_estimators=120 \n",
      "[CV]  clf__criterion=gini, clf__max_depth=6, clf__min_samples_leaf=0.05, clf__min_samples_split=0.05, clf__n_estimators=120, total=   5.9s\n",
      "[CV] clf__criterion=gini, clf__max_depth=6, clf__min_samples_leaf=0.05, clf__min_samples_split=0.1, clf__n_estimators=120 \n",
      "[CV]  clf__criterion=gini, clf__max_depth=6, clf__min_samples_leaf=0.05, clf__min_samples_split=0.1, clf__n_estimators=120, total=   5.9s\n",
      "[CV] clf__criterion=gini, clf__max_depth=6, clf__min_samples_leaf=0.05, clf__min_samples_split=0.1, clf__n_estimators=120 \n",
      "[CV]  clf__criterion=gini, clf__max_depth=6, clf__min_samples_leaf=0.05, clf__min_samples_split=0.1, clf__n_estimators=120, total=   5.6s\n",
      "[CV] clf__criterion=gini, clf__max_depth=6, clf__min_samples_leaf=0.05, clf__min_samples_split=0.1, clf__n_estimators=120 \n",
      "[CV]  clf__criterion=gini, clf__max_depth=6, clf__min_samples_leaf=0.05, clf__min_samples_split=0.1, clf__n_estimators=120, total=   5.9s\n",
      "[CV] clf__criterion=gini, clf__max_depth=6, clf__min_samples_leaf=0.05, clf__min_samples_split=0.2, clf__n_estimators=120 \n",
      "[CV]  clf__criterion=gini, clf__max_depth=6, clf__min_samples_leaf=0.05, clf__min_samples_split=0.2, clf__n_estimators=120, total=   4.6s\n",
      "[CV] clf__criterion=gini, clf__max_depth=6, clf__min_samples_leaf=0.05, clf__min_samples_split=0.2, clf__n_estimators=120 \n",
      "[CV]  clf__criterion=gini, clf__max_depth=6, clf__min_samples_leaf=0.05, clf__min_samples_split=0.2, clf__n_estimators=120, total=   4.4s\n",
      "[CV] clf__criterion=gini, clf__max_depth=6, clf__min_samples_leaf=0.05, clf__min_samples_split=0.2, clf__n_estimators=120 \n",
      "[CV]  clf__criterion=gini, clf__max_depth=6, clf__min_samples_leaf=0.05, clf__min_samples_split=0.2, clf__n_estimators=120, total=   5.0s\n",
      "[CV] clf__criterion=gini, clf__max_depth=6, clf__min_samples_leaf=0.1, clf__min_samples_split=0.05, clf__n_estimators=120 \n",
      "[CV]  clf__criterion=gini, clf__max_depth=6, clf__min_samples_leaf=0.1, clf__min_samples_split=0.05, clf__n_estimators=120, total=   7.8s\n",
      "[CV] clf__criterion=gini, clf__max_depth=6, clf__min_samples_leaf=0.1, clf__min_samples_split=0.05, clf__n_estimators=120 \n",
      "[CV]  clf__criterion=gini, clf__max_depth=6, clf__min_samples_leaf=0.1, clf__min_samples_split=0.05, clf__n_estimators=120, total=   4.7s\n",
      "[CV] clf__criterion=gini, clf__max_depth=6, clf__min_samples_leaf=0.1, clf__min_samples_split=0.05, clf__n_estimators=120 \n",
      "[CV]  clf__criterion=gini, clf__max_depth=6, clf__min_samples_leaf=0.1, clf__min_samples_split=0.05, clf__n_estimators=120, total=   4.3s\n",
      "[CV] clf__criterion=gini, clf__max_depth=6, clf__min_samples_leaf=0.1, clf__min_samples_split=0.1, clf__n_estimators=120 \n",
      "[CV]  clf__criterion=gini, clf__max_depth=6, clf__min_samples_leaf=0.1, clf__min_samples_split=0.1, clf__n_estimators=120, total=   4.3s\n",
      "[CV] clf__criterion=gini, clf__max_depth=6, clf__min_samples_leaf=0.1, clf__min_samples_split=0.1, clf__n_estimators=120 \n",
      "[CV]  clf__criterion=gini, clf__max_depth=6, clf__min_samples_leaf=0.1, clf__min_samples_split=0.1, clf__n_estimators=120, total=   4.5s\n",
      "[CV] clf__criterion=gini, clf__max_depth=6, clf__min_samples_leaf=0.1, clf__min_samples_split=0.1, clf__n_estimators=120 \n",
      "[CV]  clf__criterion=gini, clf__max_depth=6, clf__min_samples_leaf=0.1, clf__min_samples_split=0.1, clf__n_estimators=120, total=   4.8s\n",
      "[CV] clf__criterion=gini, clf__max_depth=6, clf__min_samples_leaf=0.1, clf__min_samples_split=0.2, clf__n_estimators=120 \n",
      "[CV]  clf__criterion=gini, clf__max_depth=6, clf__min_samples_leaf=0.1, clf__min_samples_split=0.2, clf__n_estimators=120, total=   3.9s\n",
      "[CV] clf__criterion=gini, clf__max_depth=6, clf__min_samples_leaf=0.1, clf__min_samples_split=0.2, clf__n_estimators=120 \n",
      "[CV]  clf__criterion=gini, clf__max_depth=6, clf__min_samples_leaf=0.1, clf__min_samples_split=0.2, clf__n_estimators=120, total=   3.9s\n",
      "[CV] clf__criterion=gini, clf__max_depth=6, clf__min_samples_leaf=0.1, clf__min_samples_split=0.2, clf__n_estimators=120 \n",
      "[CV]  clf__criterion=gini, clf__max_depth=6, clf__min_samples_leaf=0.1, clf__min_samples_split=0.2, clf__n_estimators=120, total=   4.0s\n",
      "[CV] clf__criterion=gini, clf__max_depth=6, clf__min_samples_leaf=0.2, clf__min_samples_split=0.05, clf__n_estimators=120 \n",
      "[CV]  clf__criterion=gini, clf__max_depth=6, clf__min_samples_leaf=0.2, clf__min_samples_split=0.05, clf__n_estimators=120, total=   2.8s\n",
      "[CV] clf__criterion=gini, clf__max_depth=6, clf__min_samples_leaf=0.2, clf__min_samples_split=0.05, clf__n_estimators=120 \n",
      "[CV]  clf__criterion=gini, clf__max_depth=6, clf__min_samples_leaf=0.2, clf__min_samples_split=0.05, clf__n_estimators=120, total=   3.1s\n",
      "[CV] clf__criterion=gini, clf__max_depth=6, clf__min_samples_leaf=0.2, clf__min_samples_split=0.05, clf__n_estimators=120 \n",
      "[CV]  clf__criterion=gini, clf__max_depth=6, clf__min_samples_leaf=0.2, clf__min_samples_split=0.05, clf__n_estimators=120, total=   2.8s\n",
      "[CV] clf__criterion=gini, clf__max_depth=6, clf__min_samples_leaf=0.2, clf__min_samples_split=0.1, clf__n_estimators=120 \n",
      "[CV]  clf__criterion=gini, clf__max_depth=6, clf__min_samples_leaf=0.2, clf__min_samples_split=0.1, clf__n_estimators=120, total=   2.8s\n",
      "[CV] clf__criterion=gini, clf__max_depth=6, clf__min_samples_leaf=0.2, clf__min_samples_split=0.1, clf__n_estimators=120 \n",
      "[CV]  clf__criterion=gini, clf__max_depth=6, clf__min_samples_leaf=0.2, clf__min_samples_split=0.1, clf__n_estimators=120, total=   2.7s\n",
      "[CV] clf__criterion=gini, clf__max_depth=6, clf__min_samples_leaf=0.2, clf__min_samples_split=0.1, clf__n_estimators=120 \n",
      "[CV]  clf__criterion=gini, clf__max_depth=6, clf__min_samples_leaf=0.2, clf__min_samples_split=0.1, clf__n_estimators=120, total=   3.0s\n",
      "[CV] clf__criterion=gini, clf__max_depth=6, clf__min_samples_leaf=0.2, clf__min_samples_split=0.2, clf__n_estimators=120 \n"
     ]
    },
    {
     "name": "stdout",
     "output_type": "stream",
     "text": [
      "[CV]  clf__criterion=gini, clf__max_depth=6, clf__min_samples_leaf=0.2, clf__min_samples_split=0.2, clf__n_estimators=120, total=   3.1s\n",
      "[CV] clf__criterion=gini, clf__max_depth=6, clf__min_samples_leaf=0.2, clf__min_samples_split=0.2, clf__n_estimators=120 \n",
      "[CV]  clf__criterion=gini, clf__max_depth=6, clf__min_samples_leaf=0.2, clf__min_samples_split=0.2, clf__n_estimators=120, total=   3.4s\n",
      "[CV] clf__criterion=gini, clf__max_depth=6, clf__min_samples_leaf=0.2, clf__min_samples_split=0.2, clf__n_estimators=120 \n",
      "[CV]  clf__criterion=gini, clf__max_depth=6, clf__min_samples_leaf=0.2, clf__min_samples_split=0.2, clf__n_estimators=120, total=   3.1s\n"
     ]
    },
    {
     "name": "stderr",
     "output_type": "stream",
     "text": [
      "[Parallel(n_jobs=1)]: Done 162 out of 162 | elapsed: 15.6min finished\n"
     ]
    },
    {
     "name": "stdout",
     "output_type": "stream",
     "text": [
      "Best accuracy: 0.623\n",
      "\n",
      "Best params:\n",
      " {'clf__criterion': 'entropy', 'clf__max_depth': 5, 'clf__min_samples_leaf': 0.05, 'clf__min_samples_split': 0.1, 'clf__n_estimators': 120}\n"
     ]
    }
   ],
   "source": [
    "# Your code here\n",
    "# ⏰ This cell may take a long time to run!\n",
    "pipe_rf = Pipeline([('pca', PCA(n_components=27)),\n",
    "            ('clf', RandomForestClassifier(random_state = 123))])\n",
    "\n",
    "# Set grid search params\n",
    "param_grid_forest = [ \n",
    "  {'clf__n_estimators': [120],\n",
    "   'clf__criterion': ['entropy', 'gini'], \n",
    "   'clf__max_depth': [4, 5, 6],  \n",
    "   'clf__min_samples_leaf':[0.05 ,0.1, 0.2],  \n",
    "   'clf__min_samples_split':[0.05 ,0.1, 0.2]\n",
    "  }\n",
    "]\n",
    "\n",
    "# Construct grid search\n",
    "gs_rf = GridSearchCV(estimator=pipe_rf,\n",
    "            param_grid=param_grid_forest,\n",
    "            scoring='accuracy',\n",
    "            cv=3, verbose=2, return_train_score = True)\n",
    "\n",
    "# Fit using grid search\n",
    "gs_rf.fit(X_train, y_train)\n",
    "\n",
    "# Best accuracy\n",
    "print('Best accuracy: %.3f' % gs_rf.best_score_)\n",
    "\n",
    "# Best params\n",
    "print('\\nBest params:\\n', gs_rf.best_params_)"
   ]
  },
  {
   "cell_type": "markdown",
   "metadata": {},
   "source": [
    "Use your grid search object along with `.cv_results` to get the full result overview"
   ]
  },
  {
   "cell_type": "code",
   "execution_count": 18,
   "metadata": {},
   "outputs": [
    {
     "data": {
      "text/plain": [
       "{'mean_fit_time': array([ 9.423853  ,  8.86763032,  9.89643256,  5.97132707,  5.76543514,\n",
       "         6.88383269,  3.05441093,  3.01186562,  3.03227766,  9.45875565,\n",
       "        10.03181664,  8.69011164,  7.12978037,  6.69570565,  7.13796973,\n",
       "         2.91135708,  2.91522733,  2.88423753, 10.77009805,  9.39931957,\n",
       "         8.03857438,  7.34582051,  6.23796566,  5.90157676,  3.15051206,\n",
       "         4.28146998,  3.00075205,  5.15238969,  4.95388858,  4.21687635,\n",
       "         4.36874072,  3.78837315,  3.75174499,  2.37787803,  2.35289033,\n",
       "         2.52083182,  6.06297501,  6.03209043,  4.46283126,  3.61910772,\n",
       "         4.15466396,  3.95497084,  3.19425726,  2.55875564,  2.5569737 ,\n",
       "         5.63851563,  5.57606602,  4.50728106,  5.35459661,  4.33658965,\n",
       "         3.76660403,  2.69876687,  2.63066403,  2.93960643]),\n",
       " 'std_fit_time': array([0.18441583, 0.24055194, 1.95678859, 0.23978334, 0.02195577,\n",
       "        1.5106999 , 0.15506958, 0.09633822, 0.1310857 , 0.46607699,\n",
       "        0.91446397, 0.7325961 , 1.14887718, 0.41086799, 0.67503134,\n",
       "        0.03377502, 0.01715069, 0.02995585, 1.91531491, 0.02782458,\n",
       "        0.32958171, 1.37482438, 0.24925804, 0.15324015, 0.03226317,\n",
       "        1.54827655, 0.03241676, 0.30167376, 0.25277365, 0.10058839,\n",
       "        0.77915914, 0.01371612, 0.02956536, 0.02612187, 0.01124776,\n",
       "        0.23928565, 0.67214544, 0.50953457, 0.08145563, 0.0550454 ,\n",
       "        0.16219811, 0.28336633, 1.13279678, 0.139559  , 0.08834242,\n",
       "        0.13619439, 0.11696171, 0.21796012, 1.53238459, 0.22453968,\n",
       "        0.03654464, 0.15838126, 0.10310415, 0.08553966]),\n",
       " 'mean_score_time': array([0.2285583 , 0.23682872, 0.18756843, 0.18263316, 0.18454981,\n",
       "        0.18207955, 0.19745898, 0.17029142, 0.16899474, 0.19184001,\n",
       "        0.27298578, 0.1960481 , 0.2212228 , 0.25667667, 0.19957264,\n",
       "        0.1684649 , 0.18111165, 0.16704925, 0.23216303, 0.19502608,\n",
       "        0.23577126, 0.20528769, 0.18349791, 0.1794858 , 0.1910553 ,\n",
       "        0.22041869, 0.20065999, 0.20403608, 0.1928068 , 0.19043454,\n",
       "        0.18511295, 0.18698359, 0.18587089, 0.17530235, 0.16929666,\n",
       "        0.22454882, 0.27121544, 0.23273826, 0.20063297, 0.18238314,\n",
       "        0.28236039, 0.18061598, 0.25036971, 0.18812768, 0.18423573,\n",
       "        0.2241811 , 0.20959091, 0.1830763 , 0.24902034, 0.22436905,\n",
       "        0.19905154, 0.21141171, 0.20608028, 0.26870195]),\n",
       " 'std_score_time': array([0.05883633, 0.07046482, 0.00200621, 0.00632384, 0.00676873,\n",
       "        0.00372595, 0.03209314, 0.00524556, 0.00430765, 0.00250958,\n",
       "        0.11174241, 0.01283349, 0.02153943, 0.05140287, 0.02441277,\n",
       "        0.00398521, 0.01855858, 0.00215436, 0.0478712 , 0.00376725,\n",
       "        0.07600327, 0.00542068, 0.00288876, 0.00123258, 0.01367781,\n",
       "        0.05303135, 0.03860584, 0.02040273, 0.00686913, 0.01520836,\n",
       "        0.00778545, 0.00458004, 0.00241524, 0.0087812 , 0.00205637,\n",
       "        0.07656756, 0.05085065, 0.05214926, 0.03085263, 0.00638383,\n",
       "        0.06819463, 0.00265438, 0.11308318, 0.01358897, 0.00103903,\n",
       "        0.03392983, 0.00721614, 0.00513754, 0.05340593, 0.03090383,\n",
       "        0.01157583, 0.02269973, 0.04123767, 0.07452932]),\n",
       " 'param_clf__criterion': masked_array(data=['entropy', 'entropy', 'entropy', 'entropy', 'entropy',\n",
       "                    'entropy', 'entropy', 'entropy', 'entropy', 'entropy',\n",
       "                    'entropy', 'entropy', 'entropy', 'entropy', 'entropy',\n",
       "                    'entropy', 'entropy', 'entropy', 'entropy', 'entropy',\n",
       "                    'entropy', 'entropy', 'entropy', 'entropy', 'entropy',\n",
       "                    'entropy', 'entropy', 'gini', 'gini', 'gini', 'gini',\n",
       "                    'gini', 'gini', 'gini', 'gini', 'gini', 'gini', 'gini',\n",
       "                    'gini', 'gini', 'gini', 'gini', 'gini', 'gini', 'gini',\n",
       "                    'gini', 'gini', 'gini', 'gini', 'gini', 'gini', 'gini',\n",
       "                    'gini', 'gini'],\n",
       "              mask=[False, False, False, False, False, False, False, False,\n",
       "                    False, False, False, False, False, False, False, False,\n",
       "                    False, False, False, False, False, False, False, False,\n",
       "                    False, False, False, False, False, False, False, False,\n",
       "                    False, False, False, False, False, False, False, False,\n",
       "                    False, False, False, False, False, False, False, False,\n",
       "                    False, False, False, False, False, False],\n",
       "        fill_value='?',\n",
       "             dtype=object),\n",
       " 'param_clf__max_depth': masked_array(data=[4, 4, 4, 4, 4, 4, 4, 4, 4, 5, 5, 5, 5, 5, 5, 5, 5, 5,\n",
       "                    6, 6, 6, 6, 6, 6, 6, 6, 6, 4, 4, 4, 4, 4, 4, 4, 4, 4,\n",
       "                    5, 5, 5, 5, 5, 5, 5, 5, 5, 6, 6, 6, 6, 6, 6, 6, 6, 6],\n",
       "              mask=[False, False, False, False, False, False, False, False,\n",
       "                    False, False, False, False, False, False, False, False,\n",
       "                    False, False, False, False, False, False, False, False,\n",
       "                    False, False, False, False, False, False, False, False,\n",
       "                    False, False, False, False, False, False, False, False,\n",
       "                    False, False, False, False, False, False, False, False,\n",
       "                    False, False, False, False, False, False],\n",
       "        fill_value='?',\n",
       "             dtype=object),\n",
       " 'param_clf__min_samples_leaf': masked_array(data=[0.05, 0.05, 0.05, 0.1, 0.1, 0.1, 0.2, 0.2, 0.2, 0.05,\n",
       "                    0.05, 0.05, 0.1, 0.1, 0.1, 0.2, 0.2, 0.2, 0.05, 0.05,\n",
       "                    0.05, 0.1, 0.1, 0.1, 0.2, 0.2, 0.2, 0.05, 0.05, 0.05,\n",
       "                    0.1, 0.1, 0.1, 0.2, 0.2, 0.2, 0.05, 0.05, 0.05, 0.1,\n",
       "                    0.1, 0.1, 0.2, 0.2, 0.2, 0.05, 0.05, 0.05, 0.1, 0.1,\n",
       "                    0.1, 0.2, 0.2, 0.2],\n",
       "              mask=[False, False, False, False, False, False, False, False,\n",
       "                    False, False, False, False, False, False, False, False,\n",
       "                    False, False, False, False, False, False, False, False,\n",
       "                    False, False, False, False, False, False, False, False,\n",
       "                    False, False, False, False, False, False, False, False,\n",
       "                    False, False, False, False, False, False, False, False,\n",
       "                    False, False, False, False, False, False],\n",
       "        fill_value='?',\n",
       "             dtype=object),\n",
       " 'param_clf__min_samples_split': masked_array(data=[0.05, 0.1, 0.2, 0.05, 0.1, 0.2, 0.05, 0.1, 0.2, 0.05,\n",
       "                    0.1, 0.2, 0.05, 0.1, 0.2, 0.05, 0.1, 0.2, 0.05, 0.1,\n",
       "                    0.2, 0.05, 0.1, 0.2, 0.05, 0.1, 0.2, 0.05, 0.1, 0.2,\n",
       "                    0.05, 0.1, 0.2, 0.05, 0.1, 0.2, 0.05, 0.1, 0.2, 0.05,\n",
       "                    0.1, 0.2, 0.05, 0.1, 0.2, 0.05, 0.1, 0.2, 0.05, 0.1,\n",
       "                    0.2, 0.05, 0.1, 0.2],\n",
       "              mask=[False, False, False, False, False, False, False, False,\n",
       "                    False, False, False, False, False, False, False, False,\n",
       "                    False, False, False, False, False, False, False, False,\n",
       "                    False, False, False, False, False, False, False, False,\n",
       "                    False, False, False, False, False, False, False, False,\n",
       "                    False, False, False, False, False, False, False, False,\n",
       "                    False, False, False, False, False, False],\n",
       "        fill_value='?',\n",
       "             dtype=object),\n",
       " 'param_clf__n_estimators': masked_array(data=[120, 120, 120, 120, 120, 120, 120, 120, 120, 120, 120,\n",
       "                    120, 120, 120, 120, 120, 120, 120, 120, 120, 120, 120,\n",
       "                    120, 120, 120, 120, 120, 120, 120, 120, 120, 120, 120,\n",
       "                    120, 120, 120, 120, 120, 120, 120, 120, 120, 120, 120,\n",
       "                    120, 120, 120, 120, 120, 120, 120, 120, 120, 120],\n",
       "              mask=[False, False, False, False, False, False, False, False,\n",
       "                    False, False, False, False, False, False, False, False,\n",
       "                    False, False, False, False, False, False, False, False,\n",
       "                    False, False, False, False, False, False, False, False,\n",
       "                    False, False, False, False, False, False, False, False,\n",
       "                    False, False, False, False, False, False, False, False,\n",
       "                    False, False, False, False, False, False],\n",
       "        fill_value='?',\n",
       "             dtype=object),\n",
       " 'params': [{'clf__criterion': 'entropy',\n",
       "   'clf__max_depth': 4,\n",
       "   'clf__min_samples_leaf': 0.05,\n",
       "   'clf__min_samples_split': 0.05,\n",
       "   'clf__n_estimators': 120},\n",
       "  {'clf__criterion': 'entropy',\n",
       "   'clf__max_depth': 4,\n",
       "   'clf__min_samples_leaf': 0.05,\n",
       "   'clf__min_samples_split': 0.1,\n",
       "   'clf__n_estimators': 120},\n",
       "  {'clf__criterion': 'entropy',\n",
       "   'clf__max_depth': 4,\n",
       "   'clf__min_samples_leaf': 0.05,\n",
       "   'clf__min_samples_split': 0.2,\n",
       "   'clf__n_estimators': 120},\n",
       "  {'clf__criterion': 'entropy',\n",
       "   'clf__max_depth': 4,\n",
       "   'clf__min_samples_leaf': 0.1,\n",
       "   'clf__min_samples_split': 0.05,\n",
       "   'clf__n_estimators': 120},\n",
       "  {'clf__criterion': 'entropy',\n",
       "   'clf__max_depth': 4,\n",
       "   'clf__min_samples_leaf': 0.1,\n",
       "   'clf__min_samples_split': 0.1,\n",
       "   'clf__n_estimators': 120},\n",
       "  {'clf__criterion': 'entropy',\n",
       "   'clf__max_depth': 4,\n",
       "   'clf__min_samples_leaf': 0.1,\n",
       "   'clf__min_samples_split': 0.2,\n",
       "   'clf__n_estimators': 120},\n",
       "  {'clf__criterion': 'entropy',\n",
       "   'clf__max_depth': 4,\n",
       "   'clf__min_samples_leaf': 0.2,\n",
       "   'clf__min_samples_split': 0.05,\n",
       "   'clf__n_estimators': 120},\n",
       "  {'clf__criterion': 'entropy',\n",
       "   'clf__max_depth': 4,\n",
       "   'clf__min_samples_leaf': 0.2,\n",
       "   'clf__min_samples_split': 0.1,\n",
       "   'clf__n_estimators': 120},\n",
       "  {'clf__criterion': 'entropy',\n",
       "   'clf__max_depth': 4,\n",
       "   'clf__min_samples_leaf': 0.2,\n",
       "   'clf__min_samples_split': 0.2,\n",
       "   'clf__n_estimators': 120},\n",
       "  {'clf__criterion': 'entropy',\n",
       "   'clf__max_depth': 5,\n",
       "   'clf__min_samples_leaf': 0.05,\n",
       "   'clf__min_samples_split': 0.05,\n",
       "   'clf__n_estimators': 120},\n",
       "  {'clf__criterion': 'entropy',\n",
       "   'clf__max_depth': 5,\n",
       "   'clf__min_samples_leaf': 0.05,\n",
       "   'clf__min_samples_split': 0.1,\n",
       "   'clf__n_estimators': 120},\n",
       "  {'clf__criterion': 'entropy',\n",
       "   'clf__max_depth': 5,\n",
       "   'clf__min_samples_leaf': 0.05,\n",
       "   'clf__min_samples_split': 0.2,\n",
       "   'clf__n_estimators': 120},\n",
       "  {'clf__criterion': 'entropy',\n",
       "   'clf__max_depth': 5,\n",
       "   'clf__min_samples_leaf': 0.1,\n",
       "   'clf__min_samples_split': 0.05,\n",
       "   'clf__n_estimators': 120},\n",
       "  {'clf__criterion': 'entropy',\n",
       "   'clf__max_depth': 5,\n",
       "   'clf__min_samples_leaf': 0.1,\n",
       "   'clf__min_samples_split': 0.1,\n",
       "   'clf__n_estimators': 120},\n",
       "  {'clf__criterion': 'entropy',\n",
       "   'clf__max_depth': 5,\n",
       "   'clf__min_samples_leaf': 0.1,\n",
       "   'clf__min_samples_split': 0.2,\n",
       "   'clf__n_estimators': 120},\n",
       "  {'clf__criterion': 'entropy',\n",
       "   'clf__max_depth': 5,\n",
       "   'clf__min_samples_leaf': 0.2,\n",
       "   'clf__min_samples_split': 0.05,\n",
       "   'clf__n_estimators': 120},\n",
       "  {'clf__criterion': 'entropy',\n",
       "   'clf__max_depth': 5,\n",
       "   'clf__min_samples_leaf': 0.2,\n",
       "   'clf__min_samples_split': 0.1,\n",
       "   'clf__n_estimators': 120},\n",
       "  {'clf__criterion': 'entropy',\n",
       "   'clf__max_depth': 5,\n",
       "   'clf__min_samples_leaf': 0.2,\n",
       "   'clf__min_samples_split': 0.2,\n",
       "   'clf__n_estimators': 120},\n",
       "  {'clf__criterion': 'entropy',\n",
       "   'clf__max_depth': 6,\n",
       "   'clf__min_samples_leaf': 0.05,\n",
       "   'clf__min_samples_split': 0.05,\n",
       "   'clf__n_estimators': 120},\n",
       "  {'clf__criterion': 'entropy',\n",
       "   'clf__max_depth': 6,\n",
       "   'clf__min_samples_leaf': 0.05,\n",
       "   'clf__min_samples_split': 0.1,\n",
       "   'clf__n_estimators': 120},\n",
       "  {'clf__criterion': 'entropy',\n",
       "   'clf__max_depth': 6,\n",
       "   'clf__min_samples_leaf': 0.05,\n",
       "   'clf__min_samples_split': 0.2,\n",
       "   'clf__n_estimators': 120},\n",
       "  {'clf__criterion': 'entropy',\n",
       "   'clf__max_depth': 6,\n",
       "   'clf__min_samples_leaf': 0.1,\n",
       "   'clf__min_samples_split': 0.05,\n",
       "   'clf__n_estimators': 120},\n",
       "  {'clf__criterion': 'entropy',\n",
       "   'clf__max_depth': 6,\n",
       "   'clf__min_samples_leaf': 0.1,\n",
       "   'clf__min_samples_split': 0.1,\n",
       "   'clf__n_estimators': 120},\n",
       "  {'clf__criterion': 'entropy',\n",
       "   'clf__max_depth': 6,\n",
       "   'clf__min_samples_leaf': 0.1,\n",
       "   'clf__min_samples_split': 0.2,\n",
       "   'clf__n_estimators': 120},\n",
       "  {'clf__criterion': 'entropy',\n",
       "   'clf__max_depth': 6,\n",
       "   'clf__min_samples_leaf': 0.2,\n",
       "   'clf__min_samples_split': 0.05,\n",
       "   'clf__n_estimators': 120},\n",
       "  {'clf__criterion': 'entropy',\n",
       "   'clf__max_depth': 6,\n",
       "   'clf__min_samples_leaf': 0.2,\n",
       "   'clf__min_samples_split': 0.1,\n",
       "   'clf__n_estimators': 120},\n",
       "  {'clf__criterion': 'entropy',\n",
       "   'clf__max_depth': 6,\n",
       "   'clf__min_samples_leaf': 0.2,\n",
       "   'clf__min_samples_split': 0.2,\n",
       "   'clf__n_estimators': 120},\n",
       "  {'clf__criterion': 'gini',\n",
       "   'clf__max_depth': 4,\n",
       "   'clf__min_samples_leaf': 0.05,\n",
       "   'clf__min_samples_split': 0.05,\n",
       "   'clf__n_estimators': 120},\n",
       "  {'clf__criterion': 'gini',\n",
       "   'clf__max_depth': 4,\n",
       "   'clf__min_samples_leaf': 0.05,\n",
       "   'clf__min_samples_split': 0.1,\n",
       "   'clf__n_estimators': 120},\n",
       "  {'clf__criterion': 'gini',\n",
       "   'clf__max_depth': 4,\n",
       "   'clf__min_samples_leaf': 0.05,\n",
       "   'clf__min_samples_split': 0.2,\n",
       "   'clf__n_estimators': 120},\n",
       "  {'clf__criterion': 'gini',\n",
       "   'clf__max_depth': 4,\n",
       "   'clf__min_samples_leaf': 0.1,\n",
       "   'clf__min_samples_split': 0.05,\n",
       "   'clf__n_estimators': 120},\n",
       "  {'clf__criterion': 'gini',\n",
       "   'clf__max_depth': 4,\n",
       "   'clf__min_samples_leaf': 0.1,\n",
       "   'clf__min_samples_split': 0.1,\n",
       "   'clf__n_estimators': 120},\n",
       "  {'clf__criterion': 'gini',\n",
       "   'clf__max_depth': 4,\n",
       "   'clf__min_samples_leaf': 0.1,\n",
       "   'clf__min_samples_split': 0.2,\n",
       "   'clf__n_estimators': 120},\n",
       "  {'clf__criterion': 'gini',\n",
       "   'clf__max_depth': 4,\n",
       "   'clf__min_samples_leaf': 0.2,\n",
       "   'clf__min_samples_split': 0.05,\n",
       "   'clf__n_estimators': 120},\n",
       "  {'clf__criterion': 'gini',\n",
       "   'clf__max_depth': 4,\n",
       "   'clf__min_samples_leaf': 0.2,\n",
       "   'clf__min_samples_split': 0.1,\n",
       "   'clf__n_estimators': 120},\n",
       "  {'clf__criterion': 'gini',\n",
       "   'clf__max_depth': 4,\n",
       "   'clf__min_samples_leaf': 0.2,\n",
       "   'clf__min_samples_split': 0.2,\n",
       "   'clf__n_estimators': 120},\n",
       "  {'clf__criterion': 'gini',\n",
       "   'clf__max_depth': 5,\n",
       "   'clf__min_samples_leaf': 0.05,\n",
       "   'clf__min_samples_split': 0.05,\n",
       "   'clf__n_estimators': 120},\n",
       "  {'clf__criterion': 'gini',\n",
       "   'clf__max_depth': 5,\n",
       "   'clf__min_samples_leaf': 0.05,\n",
       "   'clf__min_samples_split': 0.1,\n",
       "   'clf__n_estimators': 120},\n",
       "  {'clf__criterion': 'gini',\n",
       "   'clf__max_depth': 5,\n",
       "   'clf__min_samples_leaf': 0.05,\n",
       "   'clf__min_samples_split': 0.2,\n",
       "   'clf__n_estimators': 120},\n",
       "  {'clf__criterion': 'gini',\n",
       "   'clf__max_depth': 5,\n",
       "   'clf__min_samples_leaf': 0.1,\n",
       "   'clf__min_samples_split': 0.05,\n",
       "   'clf__n_estimators': 120},\n",
       "  {'clf__criterion': 'gini',\n",
       "   'clf__max_depth': 5,\n",
       "   'clf__min_samples_leaf': 0.1,\n",
       "   'clf__min_samples_split': 0.1,\n",
       "   'clf__n_estimators': 120},\n",
       "  {'clf__criterion': 'gini',\n",
       "   'clf__max_depth': 5,\n",
       "   'clf__min_samples_leaf': 0.1,\n",
       "   'clf__min_samples_split': 0.2,\n",
       "   'clf__n_estimators': 120},\n",
       "  {'clf__criterion': 'gini',\n",
       "   'clf__max_depth': 5,\n",
       "   'clf__min_samples_leaf': 0.2,\n",
       "   'clf__min_samples_split': 0.05,\n",
       "   'clf__n_estimators': 120},\n",
       "  {'clf__criterion': 'gini',\n",
       "   'clf__max_depth': 5,\n",
       "   'clf__min_samples_leaf': 0.2,\n",
       "   'clf__min_samples_split': 0.1,\n",
       "   'clf__n_estimators': 120},\n",
       "  {'clf__criterion': 'gini',\n",
       "   'clf__max_depth': 5,\n",
       "   'clf__min_samples_leaf': 0.2,\n",
       "   'clf__min_samples_split': 0.2,\n",
       "   'clf__n_estimators': 120},\n",
       "  {'clf__criterion': 'gini',\n",
       "   'clf__max_depth': 6,\n",
       "   'clf__min_samples_leaf': 0.05,\n",
       "   'clf__min_samples_split': 0.05,\n",
       "   'clf__n_estimators': 120},\n",
       "  {'clf__criterion': 'gini',\n",
       "   'clf__max_depth': 6,\n",
       "   'clf__min_samples_leaf': 0.05,\n",
       "   'clf__min_samples_split': 0.1,\n",
       "   'clf__n_estimators': 120},\n",
       "  {'clf__criterion': 'gini',\n",
       "   'clf__max_depth': 6,\n",
       "   'clf__min_samples_leaf': 0.05,\n",
       "   'clf__min_samples_split': 0.2,\n",
       "   'clf__n_estimators': 120},\n",
       "  {'clf__criterion': 'gini',\n",
       "   'clf__max_depth': 6,\n",
       "   'clf__min_samples_leaf': 0.1,\n",
       "   'clf__min_samples_split': 0.05,\n",
       "   'clf__n_estimators': 120},\n",
       "  {'clf__criterion': 'gini',\n",
       "   'clf__max_depth': 6,\n",
       "   'clf__min_samples_leaf': 0.1,\n",
       "   'clf__min_samples_split': 0.1,\n",
       "   'clf__n_estimators': 120},\n",
       "  {'clf__criterion': 'gini',\n",
       "   'clf__max_depth': 6,\n",
       "   'clf__min_samples_leaf': 0.1,\n",
       "   'clf__min_samples_split': 0.2,\n",
       "   'clf__n_estimators': 120},\n",
       "  {'clf__criterion': 'gini',\n",
       "   'clf__max_depth': 6,\n",
       "   'clf__min_samples_leaf': 0.2,\n",
       "   'clf__min_samples_split': 0.05,\n",
       "   'clf__n_estimators': 120},\n",
       "  {'clf__criterion': 'gini',\n",
       "   'clf__max_depth': 6,\n",
       "   'clf__min_samples_leaf': 0.2,\n",
       "   'clf__min_samples_split': 0.1,\n",
       "   'clf__n_estimators': 120},\n",
       "  {'clf__criterion': 'gini',\n",
       "   'clf__max_depth': 6,\n",
       "   'clf__min_samples_leaf': 0.2,\n",
       "   'clf__min_samples_split': 0.2,\n",
       "   'clf__n_estimators': 120}],\n",
       " 'split0_test_score': array([0.61399257, 0.61407336, 0.55727904, 0.50323154, 0.50395864,\n",
       "        0.50379706, 0.44142834, 0.44296332, 0.44288253, 0.62037486,\n",
       "        0.62029407, 0.56026822, 0.50266602, 0.50452416, 0.50218129,\n",
       "        0.44142834, 0.44247859, 0.44272096, 0.62166747, 0.62126353,\n",
       "        0.55921797, 0.50363548, 0.50298917, 0.50460494, 0.44126676,\n",
       "        0.44175149, 0.4431249 , 0.60777185, 0.60898368, 0.56301503,\n",
       "        0.50993698, 0.51034093, 0.50945225, 0.44280175, 0.44288253,\n",
       "        0.443852  , 0.61625465, 0.61189207, 0.56309582, 0.50953304,\n",
       "        0.50993698, 0.51066408, 0.44304411, 0.4431249 , 0.443852  ,\n",
       "        0.61908224, 0.61778963, 0.5625303 , 0.51114881, 0.5112296 ,\n",
       "        0.51066408, 0.44393278, 0.44352884, 0.44280175]),\n",
       " 'split1_test_score': array([0.61874747, 0.6180202 , 0.56517172, 0.48242424, 0.47878788,\n",
       "        0.48080808, 0.43733333, 0.43668687, 0.43773737, 0.62173737,\n",
       "        0.62181818, 0.56783838, 0.4820202 , 0.48218182, 0.47967677,\n",
       "        0.43684848, 0.43652525, 0.43725253, 0.62133333, 0.62270707,\n",
       "        0.56848485, 0.48145455, 0.48080808, 0.4829899 , 0.43620202,\n",
       "        0.4379798 , 0.43838384, 0.60282828, 0.59991919, 0.5300202 ,\n",
       "        0.49026263, 0.4889697 , 0.48759596, 0.44274747, 0.44282828,\n",
       "        0.44290909, 0.60848485, 0.6100202 , 0.54270707, 0.48945455,\n",
       "        0.48937374, 0.48921212, 0.44282828, 0.44379798, 0.44290909,\n",
       "        0.6109899 , 0.60953535, 0.54028283, 0.48840404, 0.48791919,\n",
       "        0.49042424, 0.44290909, 0.44290909, 0.44274747]),\n",
       " 'split2_test_score': array([0.61755435, 0.61739271, 0.56227269, 0.51571971, 0.51668957,\n",
       "        0.51563889, 0.44766831, 0.44758749, 0.44758749, 0.62579811,\n",
       "        0.62717207, 0.56324254, 0.51765942, 0.51620464, 0.51636628,\n",
       "        0.44742585, 0.44758749, 0.4472642 , 0.62426251, 0.62442415,\n",
       "        0.56671785, 0.51596218, 0.51668957, 0.51701285, 0.44774913,\n",
       "        0.44750667, 0.44815324, 0.60672432, 0.60446133, 0.55532207,\n",
       "        0.51685121, 0.51782106, 0.51814435, 0.43643417, 0.43619171,\n",
       "        0.43627253, 0.62523236, 0.62321183, 0.56130284, 0.51871009,\n",
       "        0.51660874, 0.51806353, 0.43708074, 0.43708074, 0.43724238,\n",
       "        0.62628304, 0.6238584 , 0.56550554, 0.52056898, 0.51822517,\n",
       "        0.51741696, 0.43635335, 0.43651499, 0.43611089]),\n",
       " 'mean_test_score': array([0.61676453, 0.61649518, 0.5615741 , 0.5004579 , 0.49981145,\n",
       "        0.50008081, 0.44214297, 0.44241233, 0.44273555, 0.62263643,\n",
       "        0.62309433, 0.56378279, 0.50078112, 0.50096967, 0.49940742,\n",
       "        0.44190055, 0.44219684, 0.44241233, 0.62242094, 0.62279804,\n",
       "        0.56480634, 0.50035016, 0.50016161, 0.50153531, 0.44173894,\n",
       "        0.44241233, 0.44322038, 0.60577493, 0.6044551 , 0.54945321,\n",
       "        0.50568335, 0.50571028, 0.50506384, 0.44066153, 0.4406346 ,\n",
       "        0.44101169, 0.61665679, 0.61504067, 0.5557022 , 0.50589883,\n",
       "        0.50530625, 0.50597964, 0.44098475, 0.44133491, 0.44133491,\n",
       "        0.61878468, 0.61706082, 0.55610623, 0.50670689, 0.50579109,\n",
       "        0.50616818, 0.44106556, 0.44098475, 0.44055379]),\n",
       " 'std_test_score': array([0.00201999, 0.00173181, 0.00325996, 0.0137329 , 0.015748  ,\n",
       "        0.01445971, 0.00424917, 0.00446695, 0.00402242, 0.00230351,\n",
       "        0.00294938, 0.00311417, 0.01460981, 0.01411467, 0.01510555,\n",
       "        0.00433085, 0.00452029, 0.00409285, 0.00130912, 0.00129193,\n",
       "        0.0040175 , 0.01427725, 0.01478364, 0.0140577 , 0.00472565,\n",
       "        0.0039171 , 0.0039887 , 0.00212699, 0.00370074, 0.01409529,\n",
       "        0.01126332, 0.01222471, 0.01285105, 0.00298885, 0.00314123,\n",
       "        0.00337266, 0.00684269, 0.00582739, 0.00921787, 0.01221632,\n",
       "        0.01159035, 0.01223497, 0.00276157, 0.00302026, 0.00291894,\n",
       "        0.00624661, 0.00586972, 0.01125435, 0.01350113, 0.01295578,\n",
       "        0.0114687 , 0.00335768, 0.00317027, 0.00314124]),\n",
       " 'rank_test_score': array([ 7,  9, 15, 31, 35, 34, 43, 39, 38,  3,  1, 14, 30, 29, 36, 44, 42,\n",
       "        39,  4,  2, 13, 32, 33, 28, 45, 39, 37, 11, 12, 18, 25, 24, 27, 52,\n",
       "        53, 49,  8, 10, 17, 22, 26, 21, 50, 46, 46,  5,  6, 16, 19, 23, 20,\n",
       "        48, 50, 54], dtype=int32),\n",
       " 'split0_train_score': array([0.61774689, 0.61811055, 0.56533861, 0.50800065, 0.50973816,\n",
       "        0.50763698, 0.44112656, 0.44225796, 0.44209633, 0.62308065,\n",
       "        0.62299984, 0.56731857, 0.50751576, 0.51026346, 0.50755617,\n",
       "        0.44096493, 0.44177307, 0.44213674, 0.62417165, 0.62384839,\n",
       "        0.56614676, 0.50893001, 0.50909164, 0.51010183, 0.44124778,\n",
       "        0.44128818, 0.44258122, 0.60946339, 0.61023113, 0.56626798,\n",
       "        0.51341523, 0.51317278, 0.51333441, 0.44314692, 0.44351059,\n",
       "        0.44403588, 0.618353  , 0.61475675, 0.56836916, 0.51406174,\n",
       "        0.51446582, 0.51499111, 0.44342977, 0.44318733, 0.44383385,\n",
       "        0.62138355, 0.61912074, 0.56784387, 0.51503152, 0.51531437,\n",
       "        0.51414256, 0.44395507, 0.44399547, 0.44326814]),\n",
       " 'split1_train_score': array([0.61698517, 0.61633873, 0.56337118, 0.48171791, 0.47868773,\n",
       "        0.48066745, 0.43820452, 0.43763888, 0.43856814, 0.62066179,\n",
       "        0.61965173, 0.5670882 , 0.48220274, 0.48191992, 0.47941497,\n",
       "        0.43836613, 0.43780049, 0.4378409 , 0.62179306, 0.62163145,\n",
       "        0.56724981, 0.4815563 , 0.48143509, 0.4832532 , 0.43715405,\n",
       "        0.43852774, 0.43893176, 0.60260192, 0.60013737, 0.5285847 ,\n",
       "        0.48793988, 0.48757626, 0.48632378, 0.44281039, 0.44317401,\n",
       "        0.4428912 , 0.60890469, 0.60854107, 0.53925094, 0.48899034,\n",
       "        0.48798028, 0.48834391, 0.4429316 , 0.44390126, 0.4430124 ,\n",
       "        0.6124197 , 0.61209648, 0.53763484, 0.48741465, 0.48713183,\n",
       "        0.48854592, 0.442972  , 0.4430124 , 0.44317401]),\n",
       " 'split2_train_score': array([0.61673333, 0.61673333, 0.55750818, 0.509514  , 0.51020078,\n",
       "        0.50999879, 0.44560255, 0.44552175, 0.44544096, 0.62663112,\n",
       "        0.62760069, 0.55936654, 0.51084717, 0.51040278, 0.50983719,\n",
       "        0.44584495, 0.44548136, 0.44548136, 0.62428797, 0.62388397,\n",
       "        0.56251767, 0.51040278, 0.51100877, 0.51048358, 0.44527936,\n",
       "        0.44540056, 0.44653173, 0.60812831, 0.60485598, 0.55795257,\n",
       "        0.51440229, 0.51444269, 0.51484669, 0.43627035, 0.43639155,\n",
       "        0.43631075, 0.62376278, 0.62384357, 0.56271967, 0.51561427,\n",
       "        0.5142811 , 0.51626066, 0.43695714, 0.43703793, 0.43683594,\n",
       "        0.62448996, 0.62352038, 0.56764837, 0.51718984, 0.51561427,\n",
       "        0.51549307, 0.43639155, 0.43675514, 0.43655315]),\n",
       " 'mean_train_score': array([0.61715513, 0.61706087, 0.56207266, 0.49974419, 0.49954222,\n",
       "        0.49943441, 0.44164454, 0.4418062 , 0.44203514, 0.62345785,\n",
       "        0.62341742, 0.5645911 , 0.50018856, 0.50086205, 0.49893611,\n",
       "        0.44172533, 0.44168497, 0.44181966, 0.62341756, 0.62312127,\n",
       "        0.56530475, 0.50029636, 0.50051183, 0.50127954, 0.44122706,\n",
       "        0.44173883, 0.44268157, 0.6067312 , 0.60507483, 0.55093509,\n",
       "        0.50525247, 0.50506391, 0.50483496, 0.44074255, 0.44102538,\n",
       "        0.44107928, 0.61700682, 0.6157138 , 0.55677992, 0.50622212,\n",
       "        0.50557573, 0.50653189, 0.44110617, 0.44137551, 0.4412274 ,\n",
       "        0.61943107, 0.61824587, 0.55770903, 0.50654533, 0.50602016,\n",
       "        0.50606052, 0.44110621, 0.44125434, 0.44099843]),\n",
       " 'std_train_score': array([0.00043088, 0.00075952, 0.00332601, 0.01276147, 0.01474756,\n",
       "        0.01330523, 0.00304236, 0.00323398, 0.00280615, 0.00245152,\n",
       "        0.00325856, 0.00369552, 0.01279041, 0.01339423, 0.0138349 ,\n",
       "        0.0031002 , 0.00313632, 0.00312725, 0.00114968, 0.00105356,\n",
       "        0.00202155, 0.01326486, 0.01351198, 0.0127475 , 0.00331717,\n",
       "        0.00282385, 0.00310349, 0.00297028, 0.00412367, 0.01616459,\n",
       "        0.01224848, 0.0123765 , 0.01310393, 0.00316531, 0.0032795 ,\n",
       "        0.00340409, 0.00614002, 0.00628377, 0.01260762, 0.01220118,\n",
       "        0.01244209, 0.01287129, 0.00294085, 0.00308094, 0.00312328,\n",
       "        0.00511742, 0.00470464, 0.01419481, 0.0135561 , 0.01335662,\n",
       "        0.01239696, 0.00335784, 0.00320663, 0.00314353])}"
      ]
     },
     "execution_count": 18,
     "metadata": {},
     "output_type": "execute_result"
    }
   ],
   "source": [
    "# Your code here \n",
    "gs_rf.cv_results_"
   ]
  },
  {
   "cell_type": "markdown",
   "metadata": {},
   "source": [
    "### Adaboost"
   ]
  },
  {
   "cell_type": "code",
   "execution_count": 19,
   "metadata": {},
   "outputs": [
    {
     "name": "stdout",
     "output_type": "stream",
     "text": [
      "Fitting 3 folds for each of 9 candidates, totalling 27 fits\n",
      "[CV] clf__learning_rate=1.0, clf__n_estimators=30 ....................\n"
     ]
    },
    {
     "name": "stderr",
     "output_type": "stream",
     "text": [
      "[Parallel(n_jobs=1)]: Using backend SequentialBackend with 1 concurrent workers.\n"
     ]
    },
    {
     "name": "stdout",
     "output_type": "stream",
     "text": [
      "[CV] ..... clf__learning_rate=1.0, clf__n_estimators=30, total=   6.1s\n",
      "[CV] clf__learning_rate=1.0, clf__n_estimators=30 ....................\n"
     ]
    },
    {
     "name": "stderr",
     "output_type": "stream",
     "text": [
      "[Parallel(n_jobs=1)]: Done   1 out of   1 | elapsed:    6.3s remaining:    0.0s\n"
     ]
    },
    {
     "name": "stdout",
     "output_type": "stream",
     "text": [
      "[CV] ..... clf__learning_rate=1.0, clf__n_estimators=30, total=   6.3s\n",
      "[CV] clf__learning_rate=1.0, clf__n_estimators=30 ....................\n",
      "[CV] ..... clf__learning_rate=1.0, clf__n_estimators=30, total=   5.2s\n",
      "[CV] clf__learning_rate=1.0, clf__n_estimators=50 ....................\n",
      "[CV] ..... clf__learning_rate=1.0, clf__n_estimators=50, total=   8.5s\n",
      "[CV] clf__learning_rate=1.0, clf__n_estimators=50 ....................\n",
      "[CV] ..... clf__learning_rate=1.0, clf__n_estimators=50, total=   8.2s\n",
      "[CV] clf__learning_rate=1.0, clf__n_estimators=50 ....................\n",
      "[CV] ..... clf__learning_rate=1.0, clf__n_estimators=50, total=   8.6s\n",
      "[CV] clf__learning_rate=1.0, clf__n_estimators=70 ....................\n",
      "[CV] ..... clf__learning_rate=1.0, clf__n_estimators=70, total=  12.5s\n",
      "[CV] clf__learning_rate=1.0, clf__n_estimators=70 ....................\n",
      "[CV] ..... clf__learning_rate=1.0, clf__n_estimators=70, total=  12.3s\n",
      "[CV] clf__learning_rate=1.0, clf__n_estimators=70 ....................\n",
      "[CV] ..... clf__learning_rate=1.0, clf__n_estimators=70, total=  12.6s\n",
      "[CV] clf__learning_rate=0.5, clf__n_estimators=30 ....................\n",
      "[CV] ..... clf__learning_rate=0.5, clf__n_estimators=30, total=   5.1s\n",
      "[CV] clf__learning_rate=0.5, clf__n_estimators=30 ....................\n",
      "[CV] ..... clf__learning_rate=0.5, clf__n_estimators=30, total=   5.4s\n",
      "[CV] clf__learning_rate=0.5, clf__n_estimators=30 ....................\n",
      "[CV] ..... clf__learning_rate=0.5, clf__n_estimators=30, total=   5.2s\n",
      "[CV] clf__learning_rate=0.5, clf__n_estimators=50 ....................\n",
      "[CV] ..... clf__learning_rate=0.5, clf__n_estimators=50, total=   9.0s\n",
      "[CV] clf__learning_rate=0.5, clf__n_estimators=50 ....................\n",
      "[CV] ..... clf__learning_rate=0.5, clf__n_estimators=50, total=   9.3s\n",
      "[CV] clf__learning_rate=0.5, clf__n_estimators=50 ....................\n",
      "[CV] ..... clf__learning_rate=0.5, clf__n_estimators=50, total=   9.1s\n",
      "[CV] clf__learning_rate=0.5, clf__n_estimators=70 ....................\n",
      "[CV] ..... clf__learning_rate=0.5, clf__n_estimators=70, total=  11.7s\n",
      "[CV] clf__learning_rate=0.5, clf__n_estimators=70 ....................\n",
      "[CV] ..... clf__learning_rate=0.5, clf__n_estimators=70, total=  11.4s\n",
      "[CV] clf__learning_rate=0.5, clf__n_estimators=70 ....................\n",
      "[CV] ..... clf__learning_rate=0.5, clf__n_estimators=70, total=  11.7s\n",
      "[CV] clf__learning_rate=0.1, clf__n_estimators=30 ....................\n",
      "[CV] ..... clf__learning_rate=0.1, clf__n_estimators=30, total=   5.2s\n",
      "[CV] clf__learning_rate=0.1, clf__n_estimators=30 ....................\n",
      "[CV] ..... clf__learning_rate=0.1, clf__n_estimators=30, total=   5.4s\n",
      "[CV] clf__learning_rate=0.1, clf__n_estimators=30 ....................\n",
      "[CV] ..... clf__learning_rate=0.1, clf__n_estimators=30, total=   5.9s\n",
      "[CV] clf__learning_rate=0.1, clf__n_estimators=50 ....................\n",
      "[CV] ..... clf__learning_rate=0.1, clf__n_estimators=50, total=   9.7s\n",
      "[CV] clf__learning_rate=0.1, clf__n_estimators=50 ....................\n",
      "[CV] ..... clf__learning_rate=0.1, clf__n_estimators=50, total=   9.5s\n",
      "[CV] clf__learning_rate=0.1, clf__n_estimators=50 ....................\n",
      "[CV] ..... clf__learning_rate=0.1, clf__n_estimators=50, total=   8.5s\n",
      "[CV] clf__learning_rate=0.1, clf__n_estimators=70 ....................\n",
      "[CV] ..... clf__learning_rate=0.1, clf__n_estimators=70, total=  13.9s\n",
      "[CV] clf__learning_rate=0.1, clf__n_estimators=70 ....................\n",
      "[CV] ..... clf__learning_rate=0.1, clf__n_estimators=70, total=  12.9s\n",
      "[CV] clf__learning_rate=0.1, clf__n_estimators=70 ....................\n",
      "[CV] ..... clf__learning_rate=0.1, clf__n_estimators=70, total=  12.6s\n"
     ]
    },
    {
     "name": "stderr",
     "output_type": "stream",
     "text": [
      "[Parallel(n_jobs=1)]: Done  27 out of  27 | elapsed:  4.2min finished\n"
     ]
    },
    {
     "name": "stdout",
     "output_type": "stream",
     "text": [
      "Best accuracy: 0.664\n",
      "\n",
      "Best params:\n",
      " {'clf__learning_rate': 0.5, 'clf__n_estimators': 50}\n"
     ]
    }
   ],
   "source": [
    "# Your code here\n",
    "# ⏰ This cell may take several minutes to run\n",
    "from sklearn.ensemble import AdaBoostClassifier\n",
    "\n",
    "# Construct pipeline\n",
    "pipe_ab = Pipeline([('pca', PCA(n_components=27)),\n",
    "            ('clf', AdaBoostClassifier(random_state = 123))])\n",
    "\n",
    "# Set grid search params\n",
    "adaboost_param_grid = {\n",
    "    'clf__n_estimators': [30, 50, 70],\n",
    "    'clf__learning_rate': [1.0, 0.5, 0.1]\n",
    "}\n",
    "\n",
    "# Construct grid search\n",
    "gs_ab = GridSearchCV(estimator=pipe_ab,\n",
    "            param_grid=adaboost_param_grid,\n",
    "            scoring='accuracy',\n",
    "            cv=3, verbose=2, return_train_score = True)\n",
    "\n",
    "# Fit using grid search\n",
    "gs_ab.fit(X_train, y_train)\n",
    "\n",
    "# Best accuracy\n",
    "print('Best accuracy: %.3f' % gs_ab.best_score_)\n",
    "\n",
    "# Best params\n",
    "print('\\nBest params:\\n', gs_ab.best_params_)"
   ]
  },
  {
   "cell_type": "markdown",
   "metadata": {},
   "source": [
    "Use your grid search object along with `.cv_results` to get the full result overview"
   ]
  },
  {
   "cell_type": "code",
   "execution_count": 20,
   "metadata": {},
   "outputs": [
    {
     "data": {
      "text/plain": [
       "{'mean_fit_time': array([ 5.74695444,  8.28504395, 12.26201224,  5.15650082,  8.93751367,\n",
       "        11.38744195,  5.39066776,  9.06674067, 12.91814597]),\n",
       " 'std_fit_time': array([0.49912354, 0.14785742, 0.08518009, 0.11718418, 0.10116788,\n",
       "        0.13697522, 0.31306236, 0.51375462, 0.57069428]),\n",
       " 'mean_score_time': array([0.11635097, 0.1426874 , 0.20023171, 0.09426753, 0.2209506 ,\n",
       "        0.19733477, 0.09443267, 0.16238507, 0.2119534 ]),\n",
       " 'std_score_time': array([0.01986836, 0.00284776, 0.02308894, 0.00086757, 0.05995431,\n",
       "        0.0054147 , 0.00020518, 0.02694231, 0.02839431]),\n",
       " 'param_clf__learning_rate': masked_array(data=[1.0, 1.0, 1.0, 0.5, 0.5, 0.5, 0.1, 0.1, 0.1],\n",
       "              mask=[False, False, False, False, False, False, False, False,\n",
       "                    False],\n",
       "        fill_value='?',\n",
       "             dtype=object),\n",
       " 'param_clf__n_estimators': masked_array(data=[30, 50, 70, 30, 50, 70, 30, 50, 70],\n",
       "              mask=[False, False, False, False, False, False, False, False,\n",
       "                    False],\n",
       "        fill_value='?',\n",
       "             dtype=object),\n",
       " 'params': [{'clf__learning_rate': 1.0, 'clf__n_estimators': 30},\n",
       "  {'clf__learning_rate': 1.0, 'clf__n_estimators': 50},\n",
       "  {'clf__learning_rate': 1.0, 'clf__n_estimators': 70},\n",
       "  {'clf__learning_rate': 0.5, 'clf__n_estimators': 30},\n",
       "  {'clf__learning_rate': 0.5, 'clf__n_estimators': 50},\n",
       "  {'clf__learning_rate': 0.5, 'clf__n_estimators': 70},\n",
       "  {'clf__learning_rate': 0.1, 'clf__n_estimators': 30},\n",
       "  {'clf__learning_rate': 0.1, 'clf__n_estimators': 50},\n",
       "  {'clf__learning_rate': 0.1, 'clf__n_estimators': 70}],\n",
       " 'split0_test_score': array([0.64671191, 0.62142511, 0.58256584, 0.65010503, 0.65551785,\n",
       "        0.65220553, 0.56358055, 0.60938762, 0.62473744]),\n",
       " 'split1_test_score': array([0.59361616, 0.60945455, 0.55692929, 0.65688889, 0.67442424,\n",
       "        0.66892929, 0.55523232, 0.60379798, 0.62480808]),\n",
       " 'split2_test_score': array([0.6265255 , 0.61820092, 0.61415986, 0.65659096, 0.6616827 ,\n",
       "        0.66386487, 0.53713732, 0.58247798, 0.63000081]),\n",
       " 'mean_test_score': array([0.62228627, 0.6163605 , 0.58454991, 0.65452782, 0.66387437,\n",
       "        0.66166568, 0.55198513, 0.59855627, 0.62651511]),\n",
       " 'std_test_score': array([0.02188349, 0.00505744, 0.02340512, 0.00313026, 0.00787286,\n",
       "        0.00700257, 0.01103695, 0.01159427, 0.00246458]),\n",
       " 'rank_test_score': array([5, 6, 8, 3, 1, 2, 9, 7, 4], dtype=int32),\n",
       " 'split0_train_score': array([0.65851786, 0.62946501, 0.58643123, 0.65306287, 0.66639728,\n",
       "        0.66219492, 0.56929853, 0.61439308, 0.6288993 ]),\n",
       " 'split1_train_score': array([0.59856167, 0.61815684, 0.56442164, 0.65718557, 0.67427579,\n",
       "        0.6678114 , 0.55941174, 0.607329  , 0.62603531]),\n",
       " 'split2_train_score': array([0.6275603 , 0.61956127, 0.61972286, 0.6601624 , 0.66408112,\n",
       "        0.66630307, 0.53403628, 0.58065689, 0.6273179 ]),\n",
       " 'mean_train_score': array([0.62821328, 0.62239437, 0.59019191, 0.65680362, 0.6682514 ,\n",
       "        0.66543647, 0.55424885, 0.60079299, 0.62741751]),\n",
       " 'std_train_score': array([0.02448136, 0.00503246, 0.0227327 , 0.00291093, 0.00436357,\n",
       "        0.00237339, 0.01485145, 0.0145275 , 0.00117134])}"
      ]
     },
     "execution_count": 20,
     "metadata": {},
     "output_type": "execute_result"
    }
   ],
   "source": [
    "# Your code here \n",
    "gs_ab.cv_results_"
   ]
  },
  {
   "cell_type": "markdown",
   "metadata": {},
   "source": [
    "### Level-up: SVM pipeline with grid search"
   ]
  },
  {
   "cell_type": "code",
   "execution_count": 21,
   "metadata": {},
   "outputs": [
    {
     "name": "stdout",
     "output_type": "stream",
     "text": [
      "Fitting 3 folds for each of 7 candidates, totalling 21 fits\n",
      "[CV] clf__C=0.1, clf__kernel=linear ..................................\n"
     ]
    },
    {
     "name": "stderr",
     "output_type": "stream",
     "text": [
      "[Parallel(n_jobs=1)]: Using backend SequentialBackend with 1 concurrent workers.\n"
     ]
    },
    {
     "name": "stdout",
     "output_type": "stream",
     "text": [
      "[CV] ................... clf__C=0.1, clf__kernel=linear, total=  30.3s\n",
      "[CV] clf__C=0.1, clf__kernel=linear ..................................\n"
     ]
    },
    {
     "name": "stderr",
     "output_type": "stream",
     "text": [
      "[Parallel(n_jobs=1)]: Done   1 out of   1 | elapsed:   41.3s remaining:    0.0s\n"
     ]
    },
    {
     "name": "stdout",
     "output_type": "stream",
     "text": [
      "[CV] ................... clf__C=0.1, clf__kernel=linear, total=  32.6s\n",
      "[CV] clf__C=0.1, clf__kernel=linear ..................................\n",
      "[CV] ................... clf__C=0.1, clf__kernel=linear, total=  34.2s\n",
      "[CV] clf__C=1, clf__kernel=linear ....................................\n",
      "[CV] ..................... clf__C=1, clf__kernel=linear, total= 1.4min\n",
      "[CV] clf__C=1, clf__kernel=linear ....................................\n",
      "[CV] ..................... clf__C=1, clf__kernel=linear, total= 1.8min\n",
      "[CV] clf__C=1, clf__kernel=linear ....................................\n",
      "[CV] ..................... clf__C=1, clf__kernel=linear, total= 1.3min\n",
      "[CV] clf__C=10, clf__kernel=linear ...................................\n",
      "[CV] .................... clf__C=10, clf__kernel=linear, total=12.5min\n",
      "[CV] clf__C=10, clf__kernel=linear ...................................\n",
      "[CV] .................... clf__C=10, clf__kernel=linear, total=14.0min\n",
      "[CV] clf__C=10, clf__kernel=linear ...................................\n",
      "[CV] ................... clf__C=10, clf__kernel=linear, total=102.5min\n",
      "[CV] clf__C=1, clf__gamma=0.001, clf__kernel=rbf .....................\n",
      "[CV] ...... clf__C=1, clf__gamma=0.001, clf__kernel=rbf, total=  38.4s\n",
      "[CV] clf__C=1, clf__gamma=0.001, clf__kernel=rbf .....................\n",
      "[CV] ...... clf__C=1, clf__gamma=0.001, clf__kernel=rbf, total=  38.5s\n",
      "[CV] clf__C=1, clf__gamma=0.001, clf__kernel=rbf .....................\n",
      "[CV] ...... clf__C=1, clf__gamma=0.001, clf__kernel=rbf, total=  40.1s\n",
      "[CV] clf__C=1, clf__gamma=0.01, clf__kernel=rbf ......................\n",
      "[CV] ....... clf__C=1, clf__gamma=0.01, clf__kernel=rbf, total=  54.8s\n",
      "[CV] clf__C=1, clf__gamma=0.01, clf__kernel=rbf ......................\n",
      "[CV] ....... clf__C=1, clf__gamma=0.01, clf__kernel=rbf, total=  46.3s\n",
      "[CV] clf__C=1, clf__gamma=0.01, clf__kernel=rbf ......................\n",
      "[CV] ....... clf__C=1, clf__gamma=0.01, clf__kernel=rbf, total=  47.3s\n",
      "[CV] clf__C=10, clf__gamma=0.001, clf__kernel=rbf ....................\n",
      "[CV] ..... clf__C=10, clf__gamma=0.001, clf__kernel=rbf, total=  34.9s\n",
      "[CV] clf__C=10, clf__gamma=0.001, clf__kernel=rbf ....................\n",
      "[CV] ..... clf__C=10, clf__gamma=0.001, clf__kernel=rbf, total=  33.5s\n",
      "[CV] clf__C=10, clf__gamma=0.001, clf__kernel=rbf ....................\n",
      "[CV] ..... clf__C=10, clf__gamma=0.001, clf__kernel=rbf, total=  37.3s\n",
      "[CV] clf__C=10, clf__gamma=0.01, clf__kernel=rbf .....................\n",
      "[CV] ...... clf__C=10, clf__gamma=0.01, clf__kernel=rbf, total=  55.3s\n",
      "[CV] clf__C=10, clf__gamma=0.01, clf__kernel=rbf .....................\n",
      "[CV] ...... clf__C=10, clf__gamma=0.01, clf__kernel=rbf, total=  52.9s\n",
      "[CV] clf__C=10, clf__gamma=0.01, clf__kernel=rbf .....................\n",
      "[CV] ...... clf__C=10, clf__gamma=0.01, clf__kernel=rbf, total=42.8min\n"
     ]
    },
    {
     "name": "stderr",
     "output_type": "stream",
     "text": [
      "[Parallel(n_jobs=1)]: Done  21 out of  21 | elapsed: 191.8min finished\n"
     ]
    },
    {
     "name": "stdout",
     "output_type": "stream",
     "text": [
      "Best accuracy: 0.768\n",
      "\n",
      "Best params:\n",
      " {'clf__C': 10, 'clf__gamma': 0.01, 'clf__kernel': 'rbf'}\n"
     ]
    }
   ],
   "source": [
    "# Your code here\n",
    "# ⏰ This cell may take a very long time to run!\n",
    "# Construct pipeline\n",
    "pipe_svm = Pipeline([('pca', PCA(n_components=27)),\n",
    "            ('clf', svm.SVC(random_state=123))])\n",
    "\n",
    "# Set grid search params\n",
    "param_grid_svm = [\n",
    "  {'clf__C': [0.1, 1, 10]  , 'clf__kernel': ['linear']},\n",
    "  {'clf__C': [1, 10], 'clf__gamma': [0.001, 0.01], 'clf__kernel': ['rbf']},\n",
    " ]\n",
    "\n",
    "# Construct grid search\n",
    "gs_svm = GridSearchCV(estimator=pipe_svm,\n",
    "            param_grid=param_grid_svm,\n",
    "            scoring='accuracy',\n",
    "            cv=3, verbose=2, return_train_score = True)\n",
    "\n",
    "# Fit using grid search\n",
    "gs_svm.fit(X_train, y_train)\n",
    "\n",
    "# Best accuracy\n",
    "print('Best accuracy: %.3f' % gs_svm.best_score_)\n",
    "\n",
    "# Best params\n",
    "print('\\nBest params:\\n', gs_svm.best_params_)"
   ]
  },
  {
   "cell_type": "markdown",
   "metadata": {},
   "source": [
    "Use your grid search object along with `.cv_results` to get the full result overview"
   ]
  },
  {
   "cell_type": "code",
   "execution_count": 22,
   "metadata": {},
   "outputs": [
    {
     "data": {
      "text/plain": [
       "{'mean_fit_time': array([  26.75606441,   84.28351196, 2574.18799376,   29.04839166,\n",
       "          39.3504107 ,   26.37832061,   40.97215199]),\n",
       " 'std_fit_time': array([1.55326836e+00, 1.18756058e+01, 2.52224600e+03, 1.37170604e+00,\n",
       "        3.75493215e+00, 1.46803013e+00, 3.13716182e+00]),\n",
       " 'mean_score_time': array([  5.62504768,   5.24504002,   6.00135763,   9.95212237,\n",
       "         10.14721537,   8.86343813, 850.47131165]),\n",
       " 'std_score_time': array([7.27378119e-02, 1.90644402e-01, 7.61331469e-01, 7.71399606e-01,\n",
       "        2.25348274e-01, 5.25066133e-01, 1.18728073e+03]),\n",
       " 'param_clf__C': masked_array(data=[0.1, 1, 10, 1, 1, 10, 10],\n",
       "              mask=[False, False, False, False, False, False, False],\n",
       "        fill_value='?',\n",
       "             dtype=object),\n",
       " 'param_clf__kernel': masked_array(data=['linear', 'linear', 'linear', 'rbf', 'rbf', 'rbf',\n",
       "                    'rbf'],\n",
       "              mask=[False, False, False, False, False, False, False],\n",
       "        fill_value='?',\n",
       "             dtype=object),\n",
       " 'param_clf__gamma': masked_array(data=[--, --, --, 0.001, 0.01, 0.001, 0.01],\n",
       "              mask=[ True,  True,  True, False, False, False, False],\n",
       "        fill_value='?',\n",
       "             dtype=object),\n",
       " 'params': [{'clf__C': 0.1, 'clf__kernel': 'linear'},\n",
       "  {'clf__C': 1, 'clf__kernel': 'linear'},\n",
       "  {'clf__C': 10, 'clf__kernel': 'linear'},\n",
       "  {'clf__C': 1, 'clf__gamma': 0.001, 'clf__kernel': 'rbf'},\n",
       "  {'clf__C': 1, 'clf__gamma': 0.01, 'clf__kernel': 'rbf'},\n",
       "  {'clf__C': 10, 'clf__gamma': 0.001, 'clf__kernel': 'rbf'},\n",
       "  {'clf__C': 10, 'clf__gamma': 0.01, 'clf__kernel': 'rbf'}],\n",
       " 'split0_test_score': array([0.73170141, 0.73202456, 0.73097431, 0.73509452, 0.75448376,\n",
       "        0.75246405, 0.76417838]),\n",
       " 'split1_test_score': array([0.73769697, 0.73761616, 0.73632323, 0.73842424, 0.75983838,\n",
       "        0.76056566, 0.76888889]),\n",
       " 'split2_test_score': array([0.73312859, 0.73474501, 0.73337105, 0.7328053 , 0.75592015,\n",
       "        0.75317223, 0.76998303]),\n",
       " 'mean_test_score': array([0.73417551, 0.73479502, 0.733556  , 0.73544147, 0.75674729,\n",
       "        0.75540053, 0.76768303]),\n",
       " 'std_test_score': array([0.00255726, 0.00228314, 0.0021877 , 0.00230689, 0.00226298,\n",
       "        0.00366365, 0.00251848]),\n",
       " 'rank_test_score': array([6, 5, 7, 4, 2, 3, 1], dtype=int32),\n",
       " 'split0_train_score': array([0.74010021, 0.74094876, 0.73868595, 0.74163569, 0.79363989,\n",
       "        0.77072895, 0.85497818]),\n",
       " 'split1_train_score': array([0.73685912, 0.73920246, 0.73710153, 0.73936407, 0.79204881,\n",
       "        0.76788817, 0.85879358]),\n",
       " 'split2_train_score': array([0.73700158, 0.73902153, 0.73845594, 0.74031431, 0.78871248,\n",
       "        0.76758373, 0.85589625]),\n",
       " 'mean_train_score': array([0.73798697, 0.73972425, 0.73808114, 0.74043802, 0.79146706,\n",
       "        0.76873361, 0.85655601]),\n",
       " 'std_train_score': array([0.00149542, 0.00086901, 0.00069903, 0.0009315 , 0.00205324,\n",
       "        0.00141638, 0.00162599])}"
      ]
     },
     "execution_count": 22,
     "metadata": {},
     "output_type": "execute_result"
    }
   ],
   "source": [
    "# Your code here \n",
    "gs_svm.cv_results_"
   ]
  },
  {
   "cell_type": "markdown",
   "metadata": {},
   "source": [
    "## Note\n",
    "\n",
    "Note that this solution is only one of many options. The results in the Random Forest and Adaboost models show that there is a lot of improvement possible tuning the hyperparameters further, so make sure to explore this yourself!"
   ]
  },
  {
   "cell_type": "markdown",
   "metadata": {},
   "source": [
    "## Summary \n",
    "\n",
    "Great! You now got a lot of practice in. What algorithm would you choose and why?"
   ]
  }
 ],
 "metadata": {
  "kernelspec": {
   "display_name": "learn-env",
   "language": "python",
   "name": "learn-env"
  },
  "language_info": {
   "codemirror_mode": {
    "name": "ipython",
    "version": 3
   },
   "file_extension": ".py",
   "mimetype": "text/x-python",
   "name": "python",
   "nbconvert_exporter": "python",
   "pygments_lexer": "ipython3",
   "version": "3.6.6"
  },
  "toc": {
   "base_numbering": 1,
   "nav_menu": {},
   "number_sections": true,
   "sideBar": true,
   "skip_h1_title": false,
   "title_cell": "Table of Contents",
   "title_sidebar": "Contents",
   "toc_cell": false,
   "toc_position": {},
   "toc_section_display": true,
   "toc_window_display": false
  }
 },
 "nbformat": 4,
 "nbformat_minor": 2
}
