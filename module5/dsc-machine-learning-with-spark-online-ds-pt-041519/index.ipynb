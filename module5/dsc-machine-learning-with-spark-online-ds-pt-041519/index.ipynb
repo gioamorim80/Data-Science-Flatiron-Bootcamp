{
 "cells": [
  {
   "cell_type": "markdown",
   "metadata": {},
   "source": [
    "# Machine Learning with Spark\n",
    "\n",
    "## Introduction\n",
    "\n",
    "You've now explored how to perform operations on Spark RDDs for simple MapReduce tasks. Luckily, there are far more advanced use cases for Spark, and many of them are found in the `ml` library, which we are going to explore in this lesson.\n",
    "\n",
    "\n",
    "## Objectives\n",
    "\n",
    "You will be able to: \n",
    "\n",
    "- Load and manipulate data using Spark DataFrames  \n",
    "- Define estimators and transformers in Spark ML \n",
    "- Create a Spark ML pipeline that transforms data and runs over a grid of hyperparameters \n",
    "\n",
    "\n",
    "\n",
    "## A Tale of Two Libraries\n",
    "\n",
    "If you look at the PySpark documentation, you'll notice that there are two different libraries for machine learning, [mllib](https://spark.apache.org/docs/latest/api/python/pyspark.mllib.html) and [ml](https://spark.apache.org/docs/latest/api/python/pyspark.ml.html). These libraries are extremely similar to one another, the only difference being that the `mllib` library is built upon the RDDs you just practiced using; whereas, the `ml` library is built on higher level Spark DataFrames, which has methods and attributes similar to pandas. Spark has stated that in the future, it is going to devote more effort to the `ml` library and that `mllib` will become deprecated. It's important to note that these libraries are much younger than pandas and scikit-learn and there are not as many features present in either.\n",
    "\n",
    "## Spark DataFrames\n",
    "\n",
    "In the previous lessons, you were introduced to SparkContext as the primary way to connect with a Spark Application. Here, we will be using SparkSession, which is from the [sql](https://spark.apache.org/docs/latest/api/python/pyspark.sql.html) component of PySpark. The SparkSession acts the same way as SparkContext; it is a bridge between Python and the Spark Application. It's just built on top of the Spark SQL API, a higher-level API than RDDs. In fact, a SparkContext object is spun up around which the SparkSession object is wrapped. Let's go through the process of manipulating some data here. For this example, we're going to be using the [Forest Fire dataset](https://archive.ics.uci.edu/ml/datasets/Forest+Fires) from UCI, which contains data about the area burned by wildfires in the Northeast region of Portugal in relation to numerous other factors.\n",
    "\n",
    "To begin with, let's create a SparkSession so that we can spin up our spark application. "
   ]
  },
  {
   "cell_type": "code",
   "execution_count": 1,
   "metadata": {},
   "outputs": [],
   "source": [
    "# importing the necessary libraries\n",
    "from pyspark import SparkContext\n",
    "from pyspark.sql import SparkSession\n",
    "sc = SparkContext('local[*]')\n",
    "spark = SparkSession(sc)"
   ]
  },
  {
   "cell_type": "markdown",
   "metadata": {},
   "source": [
    "To create a SparkSession: "
   ]
  },
  {
   "cell_type": "code",
   "execution_count": 2,
   "metadata": {},
   "outputs": [],
   "source": [
    "spark = SparkSession.builder.master('local').getOrCreate()"
   ]
  },
  {
   "cell_type": "markdown",
   "metadata": {},
   "source": [
    "Now, we'll load the data into a PySpark DataFrame: "
   ]
  },
  {
   "cell_type": "code",
   "execution_count": 3,
   "metadata": {},
   "outputs": [
    {
     "data": {
      "text/plain": [
       "pyspark.sql.dataframe.DataFrame"
      ]
     },
     "execution_count": 3,
     "metadata": {},
     "output_type": "execute_result"
    }
   ],
   "source": [
    "## reading in pyspark df\n",
    "spark_df = spark.read.csv('./forestfires.csv', header='true', inferSchema='true')\n",
    "\n",
    "## observing the datatype of df\n",
    "type(spark_df)"
   ]
  },
  {
   "cell_type": "markdown",
   "metadata": {},
   "source": [
    "You'll notice that some of the methods are extremely similar or the same as those found within Pandas."
   ]
  },
  {
   "cell_type": "code",
   "execution_count": 4,
   "metadata": {},
   "outputs": [
    {
     "data": {
      "text/plain": [
       "Row(X=7, Y=5, month='mar', day='fri', FFMC=86.2, DMC=26.2, DC=94.3, ISI=5.1, temp=8.2, RH=51, wind=6.7, rain=0.0, area=0.0)"
      ]
     },
     "execution_count": 4,
     "metadata": {},
     "output_type": "execute_result"
    }
   ],
   "source": [
    "spark_df.head()"
   ]
  },
  {
   "cell_type": "code",
   "execution_count": 5,
   "metadata": {},
   "outputs": [
    {
     "data": {
      "text/plain": [
       "['X',\n",
       " 'Y',\n",
       " 'month',\n",
       " 'day',\n",
       " 'FFMC',\n",
       " 'DMC',\n",
       " 'DC',\n",
       " 'ISI',\n",
       " 'temp',\n",
       " 'RH',\n",
       " 'wind',\n",
       " 'rain',\n",
       " 'area']"
      ]
     },
     "execution_count": 5,
     "metadata": {},
     "output_type": "execute_result"
    }
   ],
   "source": [
    "spark_df.columns"
   ]
  },
  {
   "cell_type": "markdown",
   "metadata": {},
   "source": [
    "Selecting multiple columns is similar as well: "
   ]
  },
  {
   "cell_type": "code",
   "execution_count": 6,
   "metadata": {},
   "outputs": [
    {
     "data": {
      "text/plain": [
       "DataFrame[month: string, day: string, rain: double]"
      ]
     },
     "execution_count": 6,
     "metadata": {},
     "output_type": "execute_result"
    }
   ],
   "source": [
    "spark_df[['month','day','rain']]"
   ]
  },
  {
   "cell_type": "markdown",
   "metadata": {},
   "source": [
    "But selecting one column is different. If you want to maintain the methods of a spark DataFrame, you should use the `.select()` method. If you want to just select the column, you can use the same method you would use in pandas (this is primarily what you would use if you're attempting to create a boolean mask). "
   ]
  },
  {
   "cell_type": "code",
   "execution_count": 7,
   "metadata": {
    "scrolled": true
   },
   "outputs": [],
   "source": [
    "d = spark_df.select('rain')"
   ]
  },
  {
   "cell_type": "code",
   "execution_count": 8,
   "metadata": {},
   "outputs": [
    {
     "data": {
      "text/plain": [
       "Column<b'rain'>"
      ]
     },
     "execution_count": 8,
     "metadata": {},
     "output_type": "execute_result"
    }
   ],
   "source": [
    "spark_df['rain']"
   ]
  },
  {
   "cell_type": "markdown",
   "metadata": {},
   "source": [
    "Let's take a look at all of our data types in this dataframe"
   ]
  },
  {
   "cell_type": "code",
   "execution_count": 9,
   "metadata": {},
   "outputs": [
    {
     "data": {
      "text/plain": [
       "[('X', 'int'),\n",
       " ('Y', 'int'),\n",
       " ('month', 'string'),\n",
       " ('day', 'string'),\n",
       " ('FFMC', 'double'),\n",
       " ('DMC', 'double'),\n",
       " ('DC', 'double'),\n",
       " ('ISI', 'double'),\n",
       " ('temp', 'double'),\n",
       " ('RH', 'int'),\n",
       " ('wind', 'double'),\n",
       " ('rain', 'double'),\n",
       " ('area', 'double')]"
      ]
     },
     "execution_count": 9,
     "metadata": {},
     "output_type": "execute_result"
    }
   ],
   "source": [
    "spark_df.dtypes"
   ]
  },
  {
   "cell_type": "markdown",
   "metadata": {},
   "source": [
    "## Aggregations with our DataFrame"
   ]
  },
  {
   "cell_type": "markdown",
   "metadata": {},
   "source": [
    "Let's investigate to see if there is any correlation between what month it is and the area of fire: "
   ]
  },
  {
   "cell_type": "code",
   "execution_count": 10,
   "metadata": {},
   "outputs": [
    {
     "data": {
      "text/plain": [
       "DataFrame[month: string, avg(area): double]"
      ]
     },
     "execution_count": 10,
     "metadata": {},
     "output_type": "execute_result"
    }
   ],
   "source": [
    "spark_df_months = spark_df.groupBy('month').agg({'area': 'mean'})\n",
    "spark_df_months"
   ]
  },
  {
   "cell_type": "markdown",
   "metadata": {},
   "source": [
    "Notice how the grouped DataFrame is not returned when you call the aggregation method. Remember, this is still Spark! The transformations and actions are kept separate so that it is easier to manage large quantities of data. You can perform the transformation by calling `.collect()`: "
   ]
  },
  {
   "cell_type": "code",
   "execution_count": 11,
   "metadata": {},
   "outputs": [
    {
     "data": {
      "text/plain": [
       "[Row(month='jun', avg(area)=5.841176470588234),\n",
       " Row(month='aug', avg(area)=12.489076086956521),\n",
       " Row(month='may', avg(area)=19.24),\n",
       " Row(month='feb', avg(area)=6.275),\n",
       " Row(month='sep', avg(area)=17.942616279069753),\n",
       " Row(month='mar', avg(area)=4.356666666666667),\n",
       " Row(month='oct', avg(area)=6.638),\n",
       " Row(month='jul', avg(area)=14.3696875),\n",
       " Row(month='nov', avg(area)=0.0),\n",
       " Row(month='apr', avg(area)=8.891111111111112),\n",
       " Row(month='dec', avg(area)=13.33),\n",
       " Row(month='jan', avg(area)=0.0)]"
      ]
     },
     "execution_count": 11,
     "metadata": {},
     "output_type": "execute_result"
    }
   ],
   "source": [
    "spark_df_months.collect()"
   ]
  },
  {
   "cell_type": "markdown",
   "metadata": {},
   "source": [
    "As you can see, there seem to be larger area fires during what would be considered the summer months in Portugal. On your own, practice more aggregations and manipulations that you might be able to perform on this dataset. "
   ]
  },
  {
   "cell_type": "markdown",
   "metadata": {},
   "source": [
    "## Boolean Masking \n",
    "\n",
    "Boolean masking also works with PySpark DataFrames just like Pandas DataFrames, the only difference being that the `.filter()` method is used in PySpark. To try this out, let's compare the amount of fire in those areas with absolutely no rain to those areas that had rain."
   ]
  },
  {
   "cell_type": "code",
   "execution_count": 12,
   "metadata": {},
   "outputs": [],
   "source": [
    "no_rain = spark_df.filter(spark_df['rain'] == 0.0)\n",
    "some_rain = spark_df.filter(spark_df['rain'] > 0.0)"
   ]
  },
  {
   "cell_type": "markdown",
   "metadata": {},
   "source": [
    "Now, to perform calculations to find the mean of a column, we'll have to import functions from `pyspark.sql`. As always, to read more about them, check out the [documentation](https://spark.apache.org/docs/latest/api/python/pyspark.sql.html#module-pyspark.sql.functions)."
   ]
  },
  {
   "cell_type": "code",
   "execution_count": 13,
   "metadata": {},
   "outputs": [
    {
     "name": "stdout",
     "output_type": "stream",
     "text": [
      "+------------------+\n",
      "|         avg(area)|\n",
      "+------------------+\n",
      "|13.023693516699408|\n",
      "+------------------+\n",
      "\n",
      "no rain fire area:  None \n",
      "\n",
      "+---------+\n",
      "|avg(area)|\n",
      "+---------+\n",
      "|  1.62375|\n",
      "+---------+\n",
      "\n",
      "some rain fire area:  None \n",
      "\n"
     ]
    }
   ],
   "source": [
    "from pyspark.sql.functions import mean\n",
    "\n",
    "print('no rain fire area: ', no_rain.select(mean('area')).show(),'\\n')\n",
    "\n",
    "print('some rain fire area: ', some_rain.select(mean('area')).show(),'\\n')"
   ]
  },
  {
   "cell_type": "markdown",
   "metadata": {},
   "source": [
    "Yes there's definitely something there! Unsurprisingly, rain plays in a big factor in the spread of wildfire.\n",
    "\n",
    "Let's obtain data from only the summer months in Portugal (June, July, and August). We can also do the same for the winter months in Portugal (December, January, February)."
   ]
  },
  {
   "cell_type": "code",
   "execution_count": 14,
   "metadata": {},
   "outputs": [
    {
     "name": "stdout",
     "output_type": "stream",
     "text": [
      "+------------------+\n",
      "|         avg(area)|\n",
      "+------------------+\n",
      "|12.262317596566525|\n",
      "+------------------+\n",
      "\n",
      "summer months fire area None\n",
      "+-----------------+\n",
      "|        avg(area)|\n",
      "+-----------------+\n",
      "|7.918387096774193|\n",
      "+-----------------+\n",
      "\n",
      "winter months fire areas None\n"
     ]
    }
   ],
   "source": [
    "summer_months = spark_df.filter(spark_df['month'].isin(['jun','jul','aug']))\n",
    "winter_months = spark_df.filter(spark_df['month'].isin(['dec','jan','feb']))\n",
    "\n",
    "print('summer months fire area', summer_months.select(mean('area')).show())\n",
    "print('winter months fire areas', winter_months.select(mean('area')).show())"
   ]
  },
  {
   "cell_type": "markdown",
   "metadata": {},
   "source": [
    "## Machine Learning\n",
    "\n",
    "Now that we've performed some data manipulation and aggregation, lets get to the really cool stuff, machine learning! PySpark states that they've used scikit-learn as an inspiration for their implementation of a machine learning library. As a result, many of the methods and functionalities look similar, but there are some crucial distinctions. There are three main concepts found within the ML library:\n",
    "\n",
    "`Transformer`: An algorithm that transforms one PySpark DataFrame into another DataFrame. \n",
    "\n",
    "`Estimator`: An algorithm that can be fit onto a PySpark DataFrame that can then be used as a Transformer. \n",
    "\n",
    "`Pipeline`: A pipeline very similar to an `sklearn` pipeline that chains together different actions.\n",
    "\n",
    "The reasoning behind this separation of the fitting and transforming step is because Spark is lazily evaluated, so the 'fitting' of a model does not actually take place until the Transformation action is called. Let's examine what this actually looks like by performing a regression on the Forest Fire dataset. To start off with, we'll import the necessary libraries for our tasks."
   ]
  },
  {
   "cell_type": "code",
   "execution_count": 15,
   "metadata": {},
   "outputs": [],
   "source": [
    "from pyspark.ml.regression import RandomForestRegressor\n",
    "from pyspark.ml import feature\n",
    "from pyspark.ml.feature import StringIndexer, VectorAssembler, OneHotEncoderEstimator"
   ]
  },
  {
   "cell_type": "markdown",
   "metadata": {},
   "source": [
    "Looking at our data, one can see that all the categories are numerical except for day and month. We saw some correlation between the month and area burned in a fire, so we will include that in our model. The day of the week, however, is highly unlikely to have any effect on fire, so we will drop it from the DataFrame."
   ]
  },
  {
   "cell_type": "code",
   "execution_count": 16,
   "metadata": {},
   "outputs": [
    {
     "data": {
      "text/plain": [
       "Row(X=7, Y=5, month='mar', FFMC=86.2, DMC=26.2, DC=94.3, ISI=5.1, temp=8.2, RH=51, wind=6.7, rain=0.0, area=0.0)"
      ]
     },
     "execution_count": 16,
     "metadata": {},
     "output_type": "execute_result"
    }
   ],
   "source": [
    "fire_df = spark_df.drop('day')\n",
    "fire_df.head()"
   ]
  },
  {
   "cell_type": "markdown",
   "metadata": {},
   "source": [
    "In order for us to run our model, we need to turn the months variable into a dummy variable. In `ml` this is a 2-step process that first requires turning the categorical variable into a numerical index (`StringIndexer`). Only after the variable is an integer can PySpark create dummy variable columns related to each category (`OneHotEncoderEstimator`). Your key parameters when using these `ml` estimators are: `inputCol` (the column you want to change) and `outputCol` (where you will store the changed column). Here it is in action: "
   ]
  },
  {
   "cell_type": "code",
   "execution_count": 17,
   "metadata": {},
   "outputs": [],
   "source": [
    "si = StringIndexer(inputCol='month', outputCol='month_num')\n",
    "model = si.fit(fire_df)\n",
    "new_df = model.transform(fire_df)"
   ]
  },
  {
   "cell_type": "markdown",
   "metadata": {},
   "source": [
    "Note the small, but critical distinction between `sklearn`'s implementation of a transformer and PySpark's implementation. `sklearn` is more object oriented and Spark is more functional oriented."
   ]
  },
  {
   "cell_type": "code",
   "execution_count": 18,
   "metadata": {},
   "outputs": [
    {
     "data": {
      "text/plain": [
       "pyspark.ml.feature.StringIndexer"
      ]
     },
     "execution_count": 18,
     "metadata": {},
     "output_type": "execute_result"
    }
   ],
   "source": [
    "## this is an estimator (an untrained transformer)\n",
    "type(si)"
   ]
  },
  {
   "cell_type": "code",
   "execution_count": 19,
   "metadata": {},
   "outputs": [
    {
     "data": {
      "text/plain": [
       "pyspark.ml.feature.StringIndexerModel"
      ]
     },
     "execution_count": 19,
     "metadata": {},
     "output_type": "execute_result"
    }
   ],
   "source": [
    "## this is a transformer (a trained transformer)\n",
    "type(model)"
   ]
  },
  {
   "cell_type": "code",
   "execution_count": 20,
   "metadata": {},
   "outputs": [
    {
     "data": {
      "text/plain": [
       "['aug',\n",
       " 'sep',\n",
       " 'mar',\n",
       " 'jul',\n",
       " 'feb',\n",
       " 'jun',\n",
       " 'oct',\n",
       " 'apr',\n",
       " 'dec',\n",
       " 'jan',\n",
       " 'may',\n",
       " 'nov']"
      ]
     },
     "execution_count": 20,
     "metadata": {},
     "output_type": "execute_result"
    }
   ],
   "source": [
    "model.labels"
   ]
  },
  {
   "cell_type": "code",
   "execution_count": 21,
   "metadata": {},
   "outputs": [
    {
     "data": {
      "text/plain": [
       "[Row(X=7, Y=5, month='mar', FFMC=86.2, DMC=26.2, DC=94.3, ISI=5.1, temp=8.2, RH=51, wind=6.7, rain=0.0, area=0.0, month_num=2.0),\n",
       " Row(X=7, Y=4, month='oct', FFMC=90.6, DMC=35.4, DC=669.1, ISI=6.7, temp=18.0, RH=33, wind=0.9, rain=0.0, area=0.0, month_num=6.0),\n",
       " Row(X=7, Y=4, month='oct', FFMC=90.6, DMC=43.7, DC=686.9, ISI=6.7, temp=14.6, RH=33, wind=1.3, rain=0.0, area=0.0, month_num=6.0),\n",
       " Row(X=8, Y=6, month='mar', FFMC=91.7, DMC=33.3, DC=77.5, ISI=9.0, temp=8.3, RH=97, wind=4.0, rain=0.2, area=0.0, month_num=2.0)]"
      ]
     },
     "execution_count": 21,
     "metadata": {},
     "output_type": "execute_result"
    }
   ],
   "source": [
    "new_df.head(4)"
   ]
  },
  {
   "cell_type": "markdown",
   "metadata": {},
   "source": [
    "As you can see, we have created a new column called `'month_num'` that represents the month by a number. Now that we have performed this step, we can use Spark's version of `OneHotEncoder()` - `OneHotEncoderEstimator()`. Let's make sure we have an accurate representation of the months."
   ]
  },
  {
   "cell_type": "code",
   "execution_count": 22,
   "metadata": {},
   "outputs": [
    {
     "data": {
      "text/plain": [
       "[Row(month_num=8.0),\n",
       " Row(month_num=0.0),\n",
       " Row(month_num=7.0),\n",
       " Row(month_num=1.0),\n",
       " Row(month_num=4.0),\n",
       " Row(month_num=11.0),\n",
       " Row(month_num=3.0),\n",
       " Row(month_num=2.0),\n",
       " Row(month_num=10.0),\n",
       " Row(month_num=6.0),\n",
       " Row(month_num=5.0),\n",
       " Row(month_num=9.0)]"
      ]
     },
     "execution_count": 22,
     "metadata": {},
     "output_type": "execute_result"
    }
   ],
   "source": [
    "new_df.select('month_num').distinct().collect()"
   ]
  },
  {
   "cell_type": "code",
   "execution_count": 23,
   "metadata": {},
   "outputs": [
    {
     "data": {
      "text/plain": [
       "Row(X=7, Y=5, month='mar', FFMC=86.2, DMC=26.2, DC=94.3, ISI=5.1, temp=8.2, RH=51, wind=6.7, rain=0.0, area=0.0, month_num=2.0, month_vec=SparseVector(11, {2: 1.0}))"
      ]
     },
     "execution_count": 23,
     "metadata": {},
     "output_type": "execute_result"
    }
   ],
   "source": [
    "## fitting and transforming the OneHotEncoderEstimator\n",
    "ohe = feature.OneHotEncoderEstimator(inputCols=['month_num'], outputCols=['month_vec'], dropLast=True)\n",
    "one_hot_encoded = ohe.fit(new_df).transform(new_df)\n",
    "one_hot_encoded.head()"
   ]
  },
  {
   "cell_type": "markdown",
   "metadata": {},
   "source": [
    "Great, we now have a OneHotEncoded sparse vector in the `'month_vec'` column! Because Spark is optimized for big data, sparse vectors are used rather than entirely new columns for dummy variables because it is more space efficient. You can see in this first row of the DataFrame:  \n",
    "\n",
    "`month_vec=SparseVector(11, {2: 1.0})` this indicates that we have a sparse vector of size 11 (because of the parameter `dropLast = True` in `OneHotEncoderEstimator()`) and this particular data point is the 2nd index of our month labels (march, based off the labels in the `model` StringEstimator transformer).  \n",
    "\n",
    "The final requirement for all machine learning models in PySpark is to put all of the features of your model into one sparse vector. This is once again for efficiency sake. Here, we are doing that with the `VectorAssembler()` estimator."
   ]
  },
  {
   "cell_type": "code",
   "execution_count": 24,
   "metadata": {},
   "outputs": [],
   "source": [
    "features = ['X',\n",
    " 'Y',\n",
    " 'FFMC',\n",
    " 'DMC',\n",
    " 'DC',\n",
    " 'ISI',\n",
    " 'temp',\n",
    " 'RH',\n",
    " 'wind',\n",
    " 'rain',\n",
    " 'month_vec']\n",
    "\n",
    "target = 'area'\n",
    "\n",
    "vector = VectorAssembler(inputCols=features, outputCol='features')\n",
    "vectorized_df = vector.transform(one_hot_encoded)"
   ]
  },
  {
   "cell_type": "code",
   "execution_count": 25,
   "metadata": {},
   "outputs": [
    {
     "data": {
      "text/plain": [
       "Row(X=7, Y=5, month='mar', FFMC=86.2, DMC=26.2, DC=94.3, ISI=5.1, temp=8.2, RH=51, wind=6.7, rain=0.0, area=0.0, month_num=2.0, month_vec=SparseVector(11, {2: 1.0}), features=SparseVector(21, {0: 7.0, 1: 5.0, 2: 86.2, 3: 26.2, 4: 94.3, 5: 5.1, 6: 8.2, 7: 51.0, 8: 6.7, 12: 1.0}))"
      ]
     },
     "execution_count": 25,
     "metadata": {},
     "output_type": "execute_result"
    }
   ],
   "source": [
    "vectorized_df.head()"
   ]
  },
  {
   "cell_type": "markdown",
   "metadata": {},
   "source": [
    "Great! We now have our data in a format that seems acceptable for the last step. It's time for us to actually fit our model to data! Let's fit a Random Forest Regression model to our data. Although there are still a bunch of other features in the DataFrame, it doesn't matter for the machine learning model API. All that needs to be specified are the names of the features column and the label column. "
   ]
  },
  {
   "cell_type": "code",
   "execution_count": 26,
   "metadata": {},
   "outputs": [],
   "source": [
    "## instantiating and fitting the model\n",
    "rf_model = RandomForestRegressor(featuresCol='features', \n",
    "                                 labelCol='area', predictionCol='prediction').fit(vectorized_df)"
   ]
  },
  {
   "cell_type": "code",
   "execution_count": 27,
   "metadata": {},
   "outputs": [
    {
     "data": {
      "text/plain": [
       "SparseVector(21, {0: 0.0894, 1: 0.0981, 2: 0.066, 3: 0.0732, 4: 0.1525, 5: 0.0264, 6: 0.1576, 7: 0.1343, 8: 0.143, 10: 0.0011, 11: 0.0516, 12: 0.0, 13: 0.0061, 14: 0.0002, 15: 0.0001, 16: 0.0, 17: 0.0001, 18: 0.0, 20: 0.0002})"
      ]
     },
     "execution_count": 27,
     "metadata": {},
     "output_type": "execute_result"
    }
   ],
   "source": [
    "rf_model.featureImportances"
   ]
  },
  {
   "cell_type": "code",
   "execution_count": 28,
   "metadata": {},
   "outputs": [
    {
     "data": {
      "text/plain": [
       "[Row(area=0.0, prediction=8.374827012979015),\n",
       " Row(area=0.0, prediction=5.790584239815506),\n",
       " Row(area=0.0, prediction=5.834618429004695),\n",
       " Row(area=0.0, prediction=6.623940332224928),\n",
       " Row(area=0.0, prediction=5.244389766556845),\n",
       " Row(area=0.0, prediction=10.924551205110095),\n",
       " Row(area=0.0, prediction=7.360096119037552),\n",
       " Row(area=0.0, prediction=7.495554418724126),\n",
       " Row(area=0.0, prediction=5.857004837163109),\n",
       " Row(area=0.0, prediction=8.258075133494874)]"
      ]
     },
     "execution_count": 28,
     "metadata": {},
     "output_type": "execute_result"
    }
   ],
   "source": [
    "## generating predictions\n",
    "predictions = rf_model.transform(vectorized_df).select('area', 'prediction')\n",
    "predictions.head(10)"
   ]
  },
  {
   "cell_type": "markdown",
   "metadata": {},
   "source": [
    "Now we can evaluate how well the model performed using `RegressionEvaluator`."
   ]
  },
  {
   "cell_type": "code",
   "execution_count": 29,
   "metadata": {},
   "outputs": [],
   "source": [
    "from pyspark.ml.evaluation import RegressionEvaluator\n",
    "evaluator = RegressionEvaluator(predictionCol='prediction', labelCol='area')"
   ]
  },
  {
   "cell_type": "code",
   "execution_count": 30,
   "metadata": {},
   "outputs": [
    {
     "data": {
      "text/plain": [
       "0.7524497441484854"
      ]
     },
     "execution_count": 30,
     "metadata": {},
     "output_type": "execute_result"
    }
   ],
   "source": [
    "## evaluating r^2\n",
    "evaluator.evaluate(predictions,{evaluator.metricName: 'r2'})"
   ]
  },
  {
   "cell_type": "code",
   "execution_count": 31,
   "metadata": {},
   "outputs": [
    {
     "data": {
      "text/plain": [
       "13.317438247965404"
      ]
     },
     "execution_count": 31,
     "metadata": {},
     "output_type": "execute_result"
    }
   ],
   "source": [
    "## evaluating mean absolute error\n",
    "evaluator.evaluate(predictions,{evaluator.metricName: 'mae'})"
   ]
  },
  {
   "cell_type": "markdown",
   "metadata": {},
   "source": [
    "## Putting it all in a Pipeline\n",
    "\n",
    "We just performed a whole lot of transformations to our data. Let's take a look at all the estimators we used to create this model:\n",
    "\n",
    "* `StringIndexer()` \n",
    "* `OneHotEnconderEstimator()` \n",
    "* `VectorAssembler()` \n",
    "* `RandomForestRegressor()` \n",
    "\n",
    "Once we've fit our model in the Pipeline, we're then going to want to evaluate it to determine how well it performs. We can do this with:\n",
    "\n",
    "* `RegressionEvaluator()` \n",
    "\n",
    "We can streamline all of these transformations to make it much more efficient by chaining them together in a pipeline. The Pipeline object expects a list of the estimators prior set to the parameter `stages`."
   ]
  },
  {
   "cell_type": "code",
   "execution_count": 32,
   "metadata": {},
   "outputs": [],
   "source": [
    "# importing relevant libraries\n",
    "from pyspark.ml.tuning import ParamGridBuilder, TrainValidationSplit, CrossValidator\n",
    "from pyspark.ml import Pipeline"
   ]
  },
  {
   "cell_type": "code",
   "execution_count": 33,
   "metadata": {},
   "outputs": [],
   "source": [
    "## instantiating all necessary estimator objects\n",
    "\n",
    "string_indexer = StringIndexer(inputCol='month', outputCol='month_num', handleInvalid='keep')\n",
    "one_hot_encoder = OneHotEncoderEstimator(inputCols=['month_num'], outputCols=['month_vec'], dropLast=True)\n",
    "vector_assember = VectorAssembler(inputCols=features, outputCol='features')\n",
    "random_forest = RandomForestRegressor(featuresCol='features', labelCol='area')\n",
    "stages = [string_indexer, one_hot_encoder, vector_assember, random_forest]\n",
    "\n",
    "# instantiating the pipeline with all them estimator objects\n",
    "pipeline = Pipeline(stages=stages)"
   ]
  },
  {
   "cell_type": "markdown",
   "metadata": {},
   "source": [
    "### Cross-validation \n",
    "\n",
    "You might have missed a critical step in the random forest regression above; we did not cross validate or perform a train/test split! Now we're going to fix that by performing cross-validation and also testing out multiple different combinations of parameters in PySpark's `GridSearch()` equivalent. To begin with, we will create a parameter grid that contains the different parameters we want to use in our model."
   ]
  },
  {
   "cell_type": "code",
   "execution_count": 38,
   "metadata": {},
   "outputs": [],
   "source": [
    "# creating parameter grid\n",
    "\n",
    "params = (ParamGridBuilder()\n",
    ".addGrid(random_forest.maxDepth, [5, 10, 15]) \n",
    ".addGrid(random_forest.numTrees, [20 ,50, 100])\n",
    ".build())"
   ]
  },
  {
   "cell_type": "markdown",
   "metadata": {},
   "source": [
    "Let's take a look at the params variable we just built."
   ]
  },
  {
   "cell_type": "code",
   "execution_count": 39,
   "metadata": {},
   "outputs": [
    {
     "name": "stdout",
     "output_type": "stream",
     "text": [
      "total combinations of parameters:  9\n"
     ]
    },
    {
     "data": {
      "text/plain": [
       "{Param(parent='RandomForestRegressor_0148d65d2214', name='maxDepth', doc='Maximum depth of the tree. (>= 0) E.g., depth 0 means 1 leaf node; depth 1 means 1 internal node + 2 leaf nodes.'): 5,\n",
       " Param(parent='RandomForestRegressor_0148d65d2214', name='numTrees', doc='Number of trees to train (>= 1).'): 20}"
      ]
     },
     "execution_count": 39,
     "metadata": {},
     "output_type": "execute_result"
    }
   ],
   "source": [
    "print('total combinations of parameters: ', len(params))\n",
    "\n",
    "params[0]"
   ]
  },
  {
   "cell_type": "markdown",
   "metadata": {},
   "source": [
    "Now it's time to combine all the steps we've created to work in a single line of code with the `CrossValidator()` estimator."
   ]
  },
  {
   "cell_type": "code",
   "execution_count": 40,
   "metadata": {},
   "outputs": [],
   "source": [
    "## instantiating the evaluator by which we will measure our model's performance\n",
    "reg_evaluator = RegressionEvaluator(predictionCol='prediction', labelCol='area', metricName = 'mae')\n",
    "\n",
    "## instantiating crossvalidator estimator\n",
    "cv = CrossValidator(estimator=pipeline, estimatorParamMaps=params, evaluator=reg_evaluator, parallelism=4)"
   ]
  },
  {
   "cell_type": "code",
   "execution_count": 41,
   "metadata": {},
   "outputs": [],
   "source": [
    "## fitting crossvalidator\n",
    "cross_validated_model = cv.fit(fire_df)"
   ]
  },
  {
   "cell_type": "markdown",
   "metadata": {},
   "source": [
    "Now, let's see how well the model performed! Let's take a look at the average performance for each one of our 9 models. It looks like the optimal performance is an MAE around 23. Note that this is worse than our original model, but that's because our original model had substantial data leakage. We didn't do a train-test split!"
   ]
  },
  {
   "cell_type": "code",
   "execution_count": 42,
   "metadata": {
    "scrolled": true
   },
   "outputs": [
    {
     "data": {
      "text/plain": [
       "[22.284567219026748,\n",
       " 20.561026449016637,\n",
       " 20.059024860031496,\n",
       " 23.29667371936138,\n",
       " 21.176512483842227,\n",
       " 20.63422003495463,\n",
       " 23.332915712299567,\n",
       " 21.23900672780535,\n",
       " 20.672631527968704]"
      ]
     },
     "execution_count": 42,
     "metadata": {},
     "output_type": "execute_result"
    }
   ],
   "source": [
    "cross_validated_model.avgMetrics"
   ]
  },
  {
   "cell_type": "markdown",
   "metadata": {},
   "source": [
    "Now, let's take a look at the optimal parameters of our best performing model. The `cross_validated_model` variable is now saved as the best performing model from the grid search just performed. Let's look to see how well the predictions performed. As you can see, this dataset has a large number of areas of \"0.0\" burned. Perhaps, it would be better to investigate this problem as a classification task."
   ]
  },
  {
   "cell_type": "code",
   "execution_count": 43,
   "metadata": {},
   "outputs": [
    {
     "name": "stdout",
     "output_type": "stream",
     "text": [
      "+------------------+-------+\n",
      "|        prediction|   area|\n",
      "+------------------+-------+\n",
      "| 5.841102497868203|    0.0|\n",
      "|6.1012003245749735|    0.0|\n",
      "| 5.734417536658425|    0.0|\n",
      "| 6.789874043337056|    0.0|\n",
      "| 6.413902309883485|    0.0|\n",
      "| 8.427972469241894|    0.0|\n",
      "| 13.51461970452278|    0.0|\n",
      "|13.381498993718196|    0.0|\n",
      "|11.976341846834295|    0.0|\n",
      "| 7.314634613622737|    0.0|\n",
      "| 7.848598033840019|    0.0|\n",
      "|  7.90235778063477|    0.0|\n",
      "| 5.152790659059568|    0.0|\n",
      "|  10.1765496262897|    0.0|\n",
      "| 56.83508065719384|    0.0|\n",
      "| 7.825202775096991|    0.0|\n",
      "| 5.617440228970931|    0.0|\n",
      "| 7.081458476657623|    0.0|\n",
      "|5.0247926084942875|    0.0|\n",
      "| 5.140929167440208|    0.0|\n",
      "| 12.06800327613565|    0.0|\n",
      "|  4.87943789257942|    0.0|\n",
      "| 6.382162143375318|    0.0|\n",
      "| 8.773237368366376|    0.0|\n",
      "| 7.198721774539471|    0.0|\n",
      "| 5.826170716660483|    0.0|\n",
      "| 7.615960309693597|    0.0|\n",
      "|13.633175064066078|    0.0|\n",
      "|10.023309698975703|    0.0|\n",
      "|11.594510419191186|    0.0|\n",
      "|17.342123091658745|    0.0|\n",
      "| 5.870312472552485|    0.0|\n",
      "| 7.630123488789931|    0.0|\n",
      "| 5.538039023124502|    0.0|\n",
      "| 5.459188891988553|    0.0|\n",
      "| 5.993885175213998|    0.0|\n",
      "| 6.560968765310065|    0.0|\n",
      "| 6.458076458993231|    0.0|\n",
      "| 6.286518859322402|    0.0|\n",
      "| 4.342624825357381|    0.0|\n",
      "|14.563330362191255|    0.0|\n",
      "| 4.270808541551144|    0.0|\n",
      "| 5.195972428694274|    0.0|\n",
      "| 5.964737988004426|    0.0|\n",
      "| 5.512183660612965|    0.0|\n",
      "| 87.89130131232963|    0.0|\n",
      "| 6.583186362041902|    0.0|\n",
      "|4.8522396593093156|    0.0|\n",
      "| 4.985056649369127|    0.0|\n",
      "| 5.143430309867506|    0.0|\n",
      "| 10.40286290440463|    0.0|\n",
      "| 5.755474735757394|    0.0|\n",
      "| 4.484284242279739|    0.0|\n",
      "| 4.484284242279739|    0.0|\n",
      "| 4.656534183535703|    0.0|\n",
      "|10.041381791163177|    0.0|\n",
      "|  5.47873309290439|    0.0|\n",
      "| 7.708833672323534|    0.0|\n",
      "| 6.601988543333274|    0.0|\n",
      "|6.8552702206508505|    0.0|\n",
      "| 3.409025850744284|    0.0|\n",
      "| 4.121930405372091|    0.0|\n",
      "| 9.129988039384973|    0.0|\n",
      "| 4.038351004727699|    0.0|\n",
      "| 4.334133323359373|    0.0|\n",
      "| 6.550882474195198|    0.0|\n",
      "| 9.656800520616969|    0.0|\n",
      "|10.948955311339923|    0.0|\n",
      "| 11.17027129674405|    0.0|\n",
      "| 6.551221638458694|    0.0|\n",
      "| 5.308883545495762|    0.0|\n",
      "|6.1375811801944655|    0.0|\n",
      "| 5.063326245226373|    0.0|\n",
      "| 4.583811766455885|    0.0|\n",
      "| 8.070441634469791|    0.0|\n",
      "| 6.902067570058121|    0.0|\n",
      "| 6.300383946322649|    0.0|\n",
      "|  5.57320562357097|    0.0|\n",
      "| 5.078465731274814|    0.0|\n",
      "| 19.43784253972707|    0.0|\n",
      "|10.627287709594262|    0.0|\n",
      "|10.779211907505951|    0.0|\n",
      "| 6.494077437893278|    0.0|\n",
      "| 7.849185582563955|    0.0|\n",
      "| 4.925868280757296|    0.0|\n",
      "|21.539811324703663|    0.0|\n",
      "|10.075125115444964|    0.0|\n",
      "|18.609362415371173|    0.0|\n",
      "|14.736320735220673|    0.0|\n",
      "| 5.790503946567733|    0.0|\n",
      "| 4.909790011539091|    0.0|\n",
      "| 5.489442636972436|    0.0|\n",
      "|17.406489701411278|    0.0|\n",
      "|  20.8185519009561|    0.0|\n",
      "| 7.456900676699792|    0.0|\n",
      "|  5.68135228076776|    0.0|\n",
      "| 5.078493779195784|    0.0|\n",
      "| 4.466918005812298|    0.0|\n",
      "|5.3236363051047455|    0.0|\n",
      "| 6.267934361364065|    0.0|\n",
      "| 6.267934361364065|    0.0|\n",
      "| 7.149962441013246|    0.0|\n",
      "| 5.058084233664053|    0.0|\n",
      "|53.615667078255946|    0.0|\n",
      "|4.8596341917775705|    0.0|\n",
      "| 4.810633822517838|    0.0|\n",
      "| 4.929904483403463|    0.0|\n",
      "|4.6874666453101455|    0.0|\n",
      "| 5.889469662940852|    0.0|\n",
      "| 5.472276431861456|    0.0|\n",
      "|4.6487730418143975|    0.0|\n",
      "| 4.563887244494195|    0.0|\n",
      "| 6.026816042214955|    0.0|\n",
      "|   4.9425223868269|    0.0|\n",
      "|4.9215459376979025|    0.0|\n",
      "| 4.992671521166379|    0.0|\n",
      "| 4.365820725146219|    0.0|\n",
      "| 5.183208738361722|    0.0|\n",
      "| 4.210940403538375|    0.0|\n",
      "| 8.400597020751691|    0.0|\n",
      "|4.6661063791987605|    0.0|\n",
      "|4.3992306802588805|    0.0|\n",
      "| 7.673200323968129|    0.0|\n",
      "| 5.850230874894471|    0.0|\n",
      "| 5.851355305760794|    0.0|\n",
      "| 6.516059670217378|    0.0|\n",
      "| 4.299983222666604|    0.0|\n",
      "|  9.21165427076747|    0.0|\n",
      "| 6.596745479627325|    0.0|\n",
      "| 8.014507198348705|    0.0|\n",
      "| 5.079059271522508|    0.0|\n",
      "| 4.234818370973667|    0.0|\n",
      "|  4.39659631239639|    0.0|\n",
      "| 5.533094759869065|    0.0|\n",
      "|3.8506203244530663|    0.0|\n",
      "|5.9663273572813225|    0.0|\n",
      "| 8.293205142598637|    0.0|\n",
      "| 6.541497678535889|    0.0|\n",
      "|18.406166763800176|   0.36|\n",
      "|14.333996407939173|   0.43|\n",
      "|13.452600344071424|   0.47|\n",
      "| 4.337212750814168|   0.55|\n",
      "| 22.39244345235322|   0.61|\n",
      "| 5.711059223183652|   0.71|\n",
      "| 4.488121012410949|   0.77|\n",
      "| 44.87651699114299|    0.9|\n",
      "|4.8191476020936825|   0.95|\n",
      "|15.066118620034104|   0.96|\n",
      "| 6.197663110190989|   1.07|\n",
      "|32.140791273786604|   1.12|\n",
      "|16.857828930471275|   1.19|\n",
      "| 16.71079564672689|   1.36|\n",
      "| 7.257405873569704|   1.43|\n",
      "| 5.950359283188643|   1.46|\n",
      "| 38.87066158061531|   1.46|\n",
      "| 4.623671420680043|   1.56|\n",
      "|10.030561142120375|   1.61|\n",
      "| 7.855863057087814|   1.63|\n",
      "| 4.067497329711896|   1.64|\n",
      "| 7.615960309693597|   1.69|\n",
      "| 5.301440240504707|   1.75|\n",
      "| 6.083624248612199|    1.9|\n",
      "| 7.219103869498111|   1.94|\n",
      "| 42.87640152829385|   1.95|\n",
      "| 7.247729036523826|   2.01|\n",
      "| 5.315931176711924|   2.14|\n",
      "| 4.155347984767337|   2.29|\n",
      "| 5.924814317727169|   2.51|\n",
      "|11.269963160643945|   2.53|\n",
      "|17.811131063892947|   2.55|\n",
      "| 8.358237077111248|   2.57|\n",
      "|6.9896876614018595|   2.69|\n",
      "| 8.406338043854323|   2.74|\n",
      "| 9.003713977117812|   3.07|\n",
      "| 4.535044551737133|    3.5|\n",
      "|  4.21373024432175|   4.53|\n",
      "| 5.761425490902577|   4.61|\n",
      "| 4.989287601159997|   4.69|\n",
      "| 5.394814380711666|   4.88|\n",
      "|12.184976824754518|   5.23|\n",
      "|10.338866316898695|   5.33|\n",
      "| 8.040827076136628|   5.44|\n",
      "| 5.023249696726658|   6.38|\n",
      "| 9.444471298345237|   6.83|\n",
      "|11.817951616372143|   6.96|\n",
      "|  8.05464283070349|   7.04|\n",
      "|12.183943758931468|   7.19|\n",
      "|12.415193129661583|    7.3|\n",
      "| 4.694253601089204|    7.4|\n",
      "|5.8743201337924935|   8.24|\n",
      "| 6.667705626328158|   8.31|\n",
      "| 6.460463744284523|   8.68|\n",
      "| 5.456083389262923|   8.71|\n",
      "| 13.85515236022221|   9.41|\n",
      "| 5.456083389262923|  10.01|\n",
      "| 5.742826410261891|  10.02|\n",
      "| 5.761425490902577|  10.93|\n",
      "|12.479959287619586|  11.06|\n",
      "| 7.887225569106912|  11.24|\n",
      "|7.8766562754003004|  11.32|\n",
      "| 13.07612906952302|  11.53|\n",
      "| 5.144756754322154|   12.1|\n",
      "|5.9716149473648725|  13.05|\n",
      "|10.617226270943265|   13.7|\n",
      "| 5.203814072017541|  13.99|\n",
      "| 9.221205006314399|  14.57|\n",
      "| 7.260299710589099|  15.45|\n",
      "|13.670392340009569|   17.2|\n",
      "|24.784935641966143|  19.23|\n",
      "|10.828816498133724|  23.41|\n",
      "|7.5550497296063215|  24.23|\n",
      "|10.774487104493055|   26.0|\n",
      "| 7.329765262985235|  26.13|\n",
      "|6.5962565122865024|  27.35|\n",
      "| 6.152791909988021|  28.66|\n",
      "| 6.152791909988021|  28.66|\n",
      "| 8.603613646952432|  29.48|\n",
      "| 7.157739424022987|  30.32|\n",
      "| 14.37239750273275|  31.72|\n",
      "| 7.079429113350259|  31.86|\n",
      "|  8.74536822319763|  32.07|\n",
      "|11.187651022603964|  35.88|\n",
      "| 5.266945989700524|  36.85|\n",
      "| 24.83318680871051|  37.02|\n",
      "| 7.190917413921365|  37.71|\n",
      "|13.082197374421236|  48.55|\n",
      "| 11.87005313370332|  49.37|\n",
      "| 17.99669153366328|   58.3|\n",
      "| 48.46421196328568|   64.1|\n",
      "|20.524587421908038|   71.3|\n",
      "|25.930700369362842|  88.49|\n",
      "| 62.68720290964515|  95.18|\n",
      "| 13.97782803588938| 103.39|\n",
      "| 42.57927510941278| 105.66|\n",
      "|109.15822925085368| 154.88|\n",
      "| 50.06071725984984| 196.48|\n",
      "| 97.55944954173903| 200.94|\n",
      "|  67.5538204096879| 212.88|\n",
      "| 635.7347472147808|1090.84|\n",
      "| 5.496613296260502|    0.0|\n",
      "| 5.129584245981191|    0.0|\n",
      "| 7.870909435238789|    0.0|\n",
      "| 5.505607664008809|  10.13|\n",
      "| 9.631503964978398|    0.0|\n",
      "| 6.681706071528018|   2.87|\n",
      "| 6.730952650701118|   0.76|\n",
      "| 7.379130238146044|   0.09|\n",
      "|4.6959975663522755|   0.75|\n",
      "| 7.413578061684785|    0.0|\n",
      "|6.2964562604873375|   2.47|\n",
      "|16.986184452444228|   0.68|\n",
      "| 5.464189972766382|   0.24|\n",
      "|5.1122180254916705|   0.21|\n",
      "|  6.15911958549961|   1.52|\n",
      "| 8.170541350106578|  10.34|\n",
      "| 9.118359801044845|    0.0|\n",
      "|15.513906485522925|   8.02|\n",
      "|  5.04458695490748|   0.68|\n",
      "| 6.296478589774807|    0.0|\n",
      "| 7.514107678677074|   1.38|\n",
      "| 5.830762794192363|   8.85|\n",
      "| 4.385428417567508|    3.3|\n",
      "|4.8418188592715525|   4.25|\n",
      "| 8.573174174635566|   1.56|\n",
      "| 5.985711754581232|   6.54|\n",
      "| 6.475486628119046|   0.79|\n",
      "|6.6279808295793226|   0.17|\n",
      "| 16.74219382360476|    0.0|\n",
      "| 4.617624770544975|    0.0|\n",
      "| 5.659298429537568|    4.4|\n",
      "| 5.823923179392462|   0.52|\n",
      "|10.276267711901392|   9.27|\n",
      "|5.2965114170007475|   3.09|\n",
      "| 9.716195397303707|   8.98|\n",
      "| 9.743012963168656|  11.19|\n",
      "| 6.656514196467364|   5.38|\n",
      "|11.364785326462858|  17.85|\n",
      "|10.370894978375574|  10.73|\n",
      "|11.364785326462858|  22.03|\n",
      "|11.364785326462858|   9.77|\n",
      "| 6.652653431306598|   9.27|\n",
      "|13.469950609950786|  24.77|\n",
      "| 5.507969909195517|    0.0|\n",
      "| 4.651737623246421|    1.1|\n",
      "|  7.48971155235335|  24.24|\n",
      "| 6.143940103536035|    0.0|\n",
      "|12.181060270972042|    0.0|\n",
      "|  6.47704631104067|    0.0|\n",
      "| 5.679856291041941|    0.0|\n",
      "| 6.677798528630958|    0.0|\n",
      "|  5.85753030185783|    0.0|\n",
      "| 53.24898094270027|    8.0|\n",
      "| 8.762169141667206|   2.64|\n",
      "| 44.37252680271767|  86.45|\n",
      "| 8.992286328394625|   6.57|\n",
      "|  9.56446360634055|    0.0|\n",
      "| 4.811092164983703|    0.9|\n",
      "|5.8529258676430915|    0.0|\n",
      "|19.142555531263934|    0.0|\n",
      "| 4.988277984531341|    0.0|\n",
      "+------------------+-------+\n",
      "only showing top 300 rows\n",
      "\n"
     ]
    }
   ],
   "source": [
    "predictions = cross_validated_model.transform(spark_df)\n",
    "predictions.select('prediction', 'area').show(300)"
   ]
  },
  {
   "cell_type": "markdown",
   "metadata": {},
   "source": [
    "Now let's go ahead and take a look at the feature importances of our random forest model. In order to do this, we need to unroll our pipeline to access the random forest model. Let's start by first checking out the `.bestModel` attribute of our `cross_validated_model`. "
   ]
  },
  {
   "cell_type": "code",
   "execution_count": 44,
   "metadata": {
    "slideshow": {
     "slide_type": "slide"
    }
   },
   "outputs": [
    {
     "data": {
      "text/plain": [
       "pyspark.ml.pipeline.PipelineModel"
      ]
     },
     "execution_count": 44,
     "metadata": {},
     "output_type": "execute_result"
    }
   ],
   "source": [
    "type(cross_validated_model.bestModel)"
   ]
  },
  {
   "cell_type": "markdown",
   "metadata": {},
   "source": [
    "`ml` is treating the entire pipeline as the best performing model, so we need to go deeper into the pipeline to access the random forest model within it. Previously, we put the random forest model as the final \"stage\" in the stages variable list. Let's look at the `.stages` attribute of the `.bestModel`."
   ]
  },
  {
   "cell_type": "code",
   "execution_count": 45,
   "metadata": {},
   "outputs": [
    {
     "data": {
      "text/plain": [
       "[StringIndexer_38977f9b026e,\n",
       " OneHotEncoderEstimator_7aa47cb72157,\n",
       " VectorAssembler_0aee9c067bd6,\n",
       " RandomForestRegressionModel (uid=RandomForestRegressor_0148d65d2214) with 100 trees]"
      ]
     },
     "execution_count": 45,
     "metadata": {},
     "output_type": "execute_result"
    }
   ],
   "source": [
    "cross_validated_model.bestModel.stages"
   ]
  },
  {
   "cell_type": "markdown",
   "metadata": {},
   "source": [
    "Perfect! There's the RandomForestRegressionModel, represented by the last item in the stages list. Now, we should be able to access all the attributes of the random forest regressor."
   ]
  },
  {
   "cell_type": "code",
   "execution_count": 46,
   "metadata": {},
   "outputs": [],
   "source": [
    "optimal_rf_model = cross_validated_model.bestModel.stages[3]"
   ]
  },
  {
   "cell_type": "code",
   "execution_count": 47,
   "metadata": {},
   "outputs": [
    {
     "data": {
      "text/plain": [
       "SparseVector(22, {0: 0.0923, 1: 0.0791, 2: 0.1288, 3: 0.1088, 4: 0.0821, 5: 0.0851, 6: 0.1656, 7: 0.0952, 8: 0.1154, 9: 0.0044, 10: 0.0145, 11: 0.0217, 12: 0.0, 13: 0.0055, 14: 0.0001, 15: 0.0003, 16: 0.0002, 17: 0.0003, 18: 0.0002, 20: 0.0004})"
      ]
     },
     "execution_count": 47,
     "metadata": {},
     "output_type": "execute_result"
    }
   ],
   "source": [
    "optimal_rf_model.featureImportances"
   ]
  },
  {
   "cell_type": "code",
   "execution_count": 48,
   "metadata": {},
   "outputs": [
    {
     "data": {
      "text/plain": [
       "100"
      ]
     },
     "execution_count": 48,
     "metadata": {},
     "output_type": "execute_result"
    }
   ],
   "source": [
    "optimal_rf_model.getNumTrees"
   ]
  },
  {
   "cell_type": "markdown",
   "metadata": {},
   "source": [
    "## Summary\n",
    "\n",
    "In this lesson, you learned about PySpark's DataFrames, machine learning models, and pipelines. With the use of a pipeline, you can train a huge number of models simultaneously, saving you a substantial amount of time and effort. Up next, you will have a chance to build a PySpark machine learning pipeline of your own with a classification problem!"
   ]
  }
 ],
 "metadata": {
  "kernelspec": {
   "display_name": "Python 3",
   "language": "python",
   "name": "python3"
  },
  "language_info": {
   "codemirror_mode": {
    "name": "ipython",
    "version": 3
   },
   "file_extension": ".py",
   "mimetype": "text/x-python",
   "name": "python",
   "nbconvert_exporter": "python",
   "pygments_lexer": "ipython3",
   "version": "3.7.3"
  }
 },
 "nbformat": 4,
 "nbformat_minor": 2
}
